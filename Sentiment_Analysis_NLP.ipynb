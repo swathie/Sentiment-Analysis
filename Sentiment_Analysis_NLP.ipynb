{
  "nbformat": 4,
  "nbformat_minor": 0,
  "metadata": {
    "colab": {
      "provenance": [],
      "collapsed_sections": [
        "1FIFSeAcIbVZ",
        "HuoNRgGbMoSv",
        "vRaus4hYN-qs",
        "PhK-Bz8vOh7F",
        "YYxAQEHwPBQw",
        "NxEgfhATPb3S"
      ],
      "toc_visible": true,
      "include_colab_link": true
    },
    "kernelspec": {
      "name": "python3",
      "display_name": "Python 3"
    },
    "language_info": {
      "name": "python"
    },
    "accelerator": "GPU"
  },
  "cells": [
    {
      "cell_type": "markdown",
      "metadata": {
        "id": "view-in-github",
        "colab_type": "text"
      },
      "source": [
        "<a href=\"https://colab.research.google.com/github/swathie/Sentiment-Analysis/blob/main/Sentiment_Analysis_NLP.ipynb\" target=\"_parent\"><img src=\"https://colab.research.google.com/assets/colab-badge.svg\" alt=\"Open In Colab\"/></a>"
      ]
    },
    {
      "cell_type": "code",
      "source": [
        "# Import PyDrive and associated libraries\n",
        "from pydrive.auth import GoogleAuth\n",
        "from pydrive.drive import GoogleDrive\n",
        "from google.colab import auth\n",
        "from oauth2client.client import GoogleCredentials\n",
        "\n",
        "# Authenticate and create the PyDrive client\n",
        "auth.authenticate_user()\n",
        "gauth = GoogleAuth()\n",
        "gauth.credentials = GoogleCredentials.get_application_default()\n",
        "drive = GoogleDrive(gauth)\n",
        "\n",
        "file_id = '1XlHeLAqTpkpuZWwtmJ1hoodqHGR112JB' \n",
        "downloaded = drive.CreateFile({'id': file_id})\n",
        "\n",
        "# Save file in Colab memory\n",
        "downloaded.GetContentFile('tweet_data.csv')"
      ],
      "metadata": {
        "id": "hfnc6RX9lexy"
      },
      "execution_count": null,
      "outputs": []
    },
    {
      "cell_type": "code",
      "source": [],
      "metadata": {
        "id": "eC-WeUlRodPp"
      },
      "execution_count": null,
      "outputs": []
    },
    {
      "cell_type": "code",
      "source": [
        "pip install contractions\n"
      ],
      "metadata": {
        "colab": {
          "base_uri": "https://localhost:8080/"
        },
        "id": "N2n59gkdh0J-",
        "outputId": "a67917d8-7de7-48e0-9933-bcc4654ab9cc"
      },
      "execution_count": null,
      "outputs": [
        {
          "output_type": "stream",
          "name": "stdout",
          "text": [
            "Requirement already satisfied: contractions in /usr/local/lib/python3.7/dist-packages (0.1.72)\n",
            "Requirement already satisfied: textsearch>=0.0.21 in /usr/local/lib/python3.7/dist-packages (from contractions) (0.0.21)\n",
            "Requirement already satisfied: anyascii in /usr/local/lib/python3.7/dist-packages (from textsearch>=0.0.21->contractions) (0.3.1)\n",
            "Requirement already satisfied: pyahocorasick in /usr/local/lib/python3.7/dist-packages (from textsearch>=0.0.21->contractions) (1.4.4)\n"
          ]
        }
      ]
    },
    {
      "cell_type": "code",
      "source": [
        "pip install contractions"
      ],
      "metadata": {
        "colab": {
          "base_uri": "https://localhost:8080/"
        },
        "id": "8s20qNJQrl3g",
        "outputId": "b3bc75ed-3b6a-46a0-b8a4-879f4d7a6272"
      },
      "execution_count": null,
      "outputs": [
        {
          "output_type": "stream",
          "name": "stdout",
          "text": [
            "Requirement already satisfied: contractions in /usr/local/lib/python3.7/dist-packages (0.1.72)\n",
            "Requirement already satisfied: textsearch>=0.0.21 in /usr/local/lib/python3.7/dist-packages (from contractions) (0.0.21)\n",
            "Requirement already satisfied: pyahocorasick in /usr/local/lib/python3.7/dist-packages (from textsearch>=0.0.21->contractions) (1.4.4)\n",
            "Requirement already satisfied: anyascii in /usr/local/lib/python3.7/dist-packages (from textsearch>=0.0.21->contractions) (0.3.1)\n"
          ]
        }
      ]
    },
    {
      "cell_type": "code",
      "source": [
        "pip install nltk"
      ],
      "metadata": {
        "colab": {
          "base_uri": "https://localhost:8080/"
        },
        "outputId": "0ad65953-1c0d-407f-ed02-efa9f1c6d46a",
        "id": "83VrLpGdl9J4"
      },
      "execution_count": null,
      "outputs": [
        {
          "output_type": "stream",
          "name": "stdout",
          "text": [
            "Requirement already satisfied: nltk in /usr/local/lib/python3.7/dist-packages (3.2.5)\n",
            "Requirement already satisfied: six in /usr/local/lib/python3.7/dist-packages (from nltk) (1.15.0)\n"
          ]
        }
      ]
    },
    {
      "cell_type": "code",
      "source": [
        "pip install emoji --upgrade"
      ],
      "metadata": {
        "colab": {
          "base_uri": "https://localhost:8080/"
        },
        "id": "uKMG634WmIND",
        "outputId": "fbaddeb6-e94f-48a3-f555-c4db0c1c0c2c"
      },
      "execution_count": null,
      "outputs": [
        {
          "output_type": "stream",
          "name": "stdout",
          "text": [
            "Requirement already satisfied: emoji in /usr/local/lib/python3.7/dist-packages (1.7.0)\n"
          ]
        }
      ]
    },
    {
      "cell_type": "code",
      "source": [
        "pip install transformers"
      ],
      "metadata": {
        "colab": {
          "base_uri": "https://localhost:8080/"
        },
        "id": "1lYoLd6A4VyC",
        "outputId": "5cd64f88-5edc-41f8-a6b1-c67f239b0688"
      },
      "execution_count": null,
      "outputs": [
        {
          "output_type": "stream",
          "name": "stdout",
          "text": [
            "Requirement already satisfied: transformers in /usr/local/lib/python3.7/dist-packages (4.18.0)\n",
            "Requirement already satisfied: numpy>=1.17 in /usr/local/lib/python3.7/dist-packages (from transformers) (1.21.6)\n",
            "Requirement already satisfied: filelock in /usr/local/lib/python3.7/dist-packages (from transformers) (3.6.0)\n",
            "Requirement already satisfied: requests in /usr/local/lib/python3.7/dist-packages (from transformers) (2.23.0)\n",
            "Requirement already satisfied: regex!=2019.12.17 in /usr/local/lib/python3.7/dist-packages (from transformers) (2019.12.20)\n",
            "Requirement already satisfied: importlib-metadata in /usr/local/lib/python3.7/dist-packages (from transformers) (4.11.3)\n",
            "Requirement already satisfied: huggingface-hub<1.0,>=0.1.0 in /usr/local/lib/python3.7/dist-packages (from transformers) (0.5.1)\n",
            "Requirement already satisfied: sacremoses in /usr/local/lib/python3.7/dist-packages (from transformers) (0.0.49)\n",
            "Requirement already satisfied: tokenizers!=0.11.3,<0.13,>=0.11.1 in /usr/local/lib/python3.7/dist-packages (from transformers) (0.12.1)\n",
            "Requirement already satisfied: pyyaml>=5.1 in /usr/local/lib/python3.7/dist-packages (from transformers) (6.0)\n",
            "Requirement already satisfied: tqdm>=4.27 in /usr/local/lib/python3.7/dist-packages (from transformers) (4.64.0)\n",
            "Requirement already satisfied: packaging>=20.0 in /usr/local/lib/python3.7/dist-packages (from transformers) (21.3)\n",
            "Requirement already satisfied: typing-extensions>=3.7.4.3 in /usr/local/lib/python3.7/dist-packages (from huggingface-hub<1.0,>=0.1.0->transformers) (4.2.0)\n",
            "Requirement already satisfied: pyparsing!=3.0.5,>=2.0.2 in /usr/local/lib/python3.7/dist-packages (from packaging>=20.0->transformers) (3.0.8)\n",
            "Requirement already satisfied: zipp>=0.5 in /usr/local/lib/python3.7/dist-packages (from importlib-metadata->transformers) (3.8.0)\n",
            "Requirement already satisfied: idna<3,>=2.5 in /usr/local/lib/python3.7/dist-packages (from requests->transformers) (2.10)\n",
            "Requirement already satisfied: certifi>=2017.4.17 in /usr/local/lib/python3.7/dist-packages (from requests->transformers) (2021.10.8)\n",
            "Requirement already satisfied: chardet<4,>=3.0.2 in /usr/local/lib/python3.7/dist-packages (from requests->transformers) (3.0.4)\n",
            "Requirement already satisfied: urllib3!=1.25.0,!=1.25.1,<1.26,>=1.21.1 in /usr/local/lib/python3.7/dist-packages (from requests->transformers) (1.24.3)\n",
            "Requirement already satisfied: six in /usr/local/lib/python3.7/dist-packages (from sacremoses->transformers) (1.15.0)\n",
            "Requirement already satisfied: click in /usr/local/lib/python3.7/dist-packages (from sacremoses->transformers) (7.1.2)\n",
            "Requirement already satisfied: joblib in /usr/local/lib/python3.7/dist-packages (from sacremoses->transformers) (1.1.0)\n"
          ]
        }
      ]
    },
    {
      "cell_type": "markdown",
      "source": [
        "#### imports\n"
      ],
      "metadata": {
        "id": "1FIFSeAcIbVZ"
      }
    },
    {
      "cell_type": "code",
      "execution_count": null,
      "metadata": {
        "colab": {
          "base_uri": "https://localhost:8080/"
        },
        "id": "b2I6gA0W3ECx",
        "outputId": "5da0aae8-8b65-4089-8a47-6845a53fb39e"
      },
      "outputs": [
        {
          "output_type": "stream",
          "name": "stdout",
          "text": [
            "[nltk_data] Downloading package punkt to /root/nltk_data...\n",
            "[nltk_data]   Package punkt is already up-to-date!\n",
            "[nltk_data] Downloading package stopwords to /root/nltk_data...\n",
            "[nltk_data]   Package stopwords is already up-to-date!\n"
          ]
        }
      ],
      "source": [
        "import re\n",
        "import emoji\n",
        "\n",
        "import nltk\n",
        "from nltk.tokenize import word_tokenize\n",
        "nltk.download('punkt')\n",
        "\n",
        "from nltk.corpus import stopwords\n",
        "nltk.download('stopwords')\n",
        "\n",
        "from nltk.stem import PorterStemmer\n",
        "from nltk.stem import LancasterStemmer\n",
        "from nltk.stem.snowball import SnowballStemmer\n",
        "\n",
        "import contractions\n",
        "\n",
        "import pandas as pd\n",
        "import numpy as np\n",
        "import matplotlib.pyplot as plt\n",
        "\n",
        "import string\n"
      ]
    },
    {
      "cell_type": "code",
      "source": [
        "# read dataframe stored in Google Drive in csv format\n",
        "df = pd.read_csv(\"tweet_data.csv\")\n",
        "df.head(10)"
      ],
      "metadata": {
        "colab": {
          "base_uri": "https://localhost:8080/"
        },
        "id": "QdGfN0YBKk4t",
        "outputId": "b272d2a5-0c19-428a-d79d-aaac9d2e357f"
      },
      "execution_count": null,
      "outputs": [
        {
          "output_type": "execute_result",
          "data": {
            "text/plain": [
              "       textID                                         tweet_text sentiment\n",
              "0  1956967666  Layin n bed with a headache  ughhhh...waitin o...  negative\n",
              "1  1956967696                Funeral ceremony...gloomy friday...  negative\n",
              "2  1956967789               wants to hang out with friends SOON!  positive\n",
              "3  1956968477  Re-pinging @ghostridah14: why didn't you go to...  negative\n",
              "4  1956968636               Hmmm. http://www.djhero.com/ is down  negative\n",
              "5  1956969035            @charviray Charlene my love. I miss you  negative\n",
              "6  1956969172         @kelcouch I'm sorry  at least it's Friday?  negative\n",
              "7  1956969531                            Choked on her retainers  negative\n",
              "8  1956970047  Ugh! I have to beat this stupid song to get to...  negative\n",
              "9  1956970424  @BrodyJenner if u watch the hills in london u ...  negative"
            ],
            "text/html": [
              "\n",
              "  <div id=\"df-21950c83-357d-4ea5-9958-333b7f0c0853\">\n",
              "    <div class=\"colab-df-container\">\n",
              "      <div>\n",
              "<style scoped>\n",
              "    .dataframe tbody tr th:only-of-type {\n",
              "        vertical-align: middle;\n",
              "    }\n",
              "\n",
              "    .dataframe tbody tr th {\n",
              "        vertical-align: top;\n",
              "    }\n",
              "\n",
              "    .dataframe thead th {\n",
              "        text-align: right;\n",
              "    }\n",
              "</style>\n",
              "<table border=\"1\" class=\"dataframe\">\n",
              "  <thead>\n",
              "    <tr style=\"text-align: right;\">\n",
              "      <th></th>\n",
              "      <th>textID</th>\n",
              "      <th>tweet_text</th>\n",
              "      <th>sentiment</th>\n",
              "    </tr>\n",
              "  </thead>\n",
              "  <tbody>\n",
              "    <tr>\n",
              "      <th>0</th>\n",
              "      <td>1956967666</td>\n",
              "      <td>Layin n bed with a headache  ughhhh...waitin o...</td>\n",
              "      <td>negative</td>\n",
              "    </tr>\n",
              "    <tr>\n",
              "      <th>1</th>\n",
              "      <td>1956967696</td>\n",
              "      <td>Funeral ceremony...gloomy friday...</td>\n",
              "      <td>negative</td>\n",
              "    </tr>\n",
              "    <tr>\n",
              "      <th>2</th>\n",
              "      <td>1956967789</td>\n",
              "      <td>wants to hang out with friends SOON!</td>\n",
              "      <td>positive</td>\n",
              "    </tr>\n",
              "    <tr>\n",
              "      <th>3</th>\n",
              "      <td>1956968477</td>\n",
              "      <td>Re-pinging @ghostridah14: why didn't you go to...</td>\n",
              "      <td>negative</td>\n",
              "    </tr>\n",
              "    <tr>\n",
              "      <th>4</th>\n",
              "      <td>1956968636</td>\n",
              "      <td>Hmmm. http://www.djhero.com/ is down</td>\n",
              "      <td>negative</td>\n",
              "    </tr>\n",
              "    <tr>\n",
              "      <th>5</th>\n",
              "      <td>1956969035</td>\n",
              "      <td>@charviray Charlene my love. I miss you</td>\n",
              "      <td>negative</td>\n",
              "    </tr>\n",
              "    <tr>\n",
              "      <th>6</th>\n",
              "      <td>1956969172</td>\n",
              "      <td>@kelcouch I'm sorry  at least it's Friday?</td>\n",
              "      <td>negative</td>\n",
              "    </tr>\n",
              "    <tr>\n",
              "      <th>7</th>\n",
              "      <td>1956969531</td>\n",
              "      <td>Choked on her retainers</td>\n",
              "      <td>negative</td>\n",
              "    </tr>\n",
              "    <tr>\n",
              "      <th>8</th>\n",
              "      <td>1956970047</td>\n",
              "      <td>Ugh! I have to beat this stupid song to get to...</td>\n",
              "      <td>negative</td>\n",
              "    </tr>\n",
              "    <tr>\n",
              "      <th>9</th>\n",
              "      <td>1956970424</td>\n",
              "      <td>@BrodyJenner if u watch the hills in london u ...</td>\n",
              "      <td>negative</td>\n",
              "    </tr>\n",
              "  </tbody>\n",
              "</table>\n",
              "</div>\n",
              "      <button class=\"colab-df-convert\" onclick=\"convertToInteractive('df-21950c83-357d-4ea5-9958-333b7f0c0853')\"\n",
              "              title=\"Convert this dataframe to an interactive table.\"\n",
              "              style=\"display:none;\">\n",
              "        \n",
              "  <svg xmlns=\"http://www.w3.org/2000/svg\" height=\"24px\"viewBox=\"0 0 24 24\"\n",
              "       width=\"24px\">\n",
              "    <path d=\"M0 0h24v24H0V0z\" fill=\"none\"/>\n",
              "    <path d=\"M18.56 5.44l.94 2.06.94-2.06 2.06-.94-2.06-.94-.94-2.06-.94 2.06-2.06.94zm-11 1L8.5 8.5l.94-2.06 2.06-.94-2.06-.94L8.5 2.5l-.94 2.06-2.06.94zm10 10l.94 2.06.94-2.06 2.06-.94-2.06-.94-.94-2.06-.94 2.06-2.06.94z\"/><path d=\"M17.41 7.96l-1.37-1.37c-.4-.4-.92-.59-1.43-.59-.52 0-1.04.2-1.43.59L10.3 9.45l-7.72 7.72c-.78.78-.78 2.05 0 2.83L4 21.41c.39.39.9.59 1.41.59.51 0 1.02-.2 1.41-.59l7.78-7.78 2.81-2.81c.8-.78.8-2.07 0-2.86zM5.41 20L4 18.59l7.72-7.72 1.47 1.35L5.41 20z\"/>\n",
              "  </svg>\n",
              "      </button>\n",
              "      \n",
              "  <style>\n",
              "    .colab-df-container {\n",
              "      display:flex;\n",
              "      flex-wrap:wrap;\n",
              "      gap: 12px;\n",
              "    }\n",
              "\n",
              "    .colab-df-convert {\n",
              "      background-color: #E8F0FE;\n",
              "      border: none;\n",
              "      border-radius: 50%;\n",
              "      cursor: pointer;\n",
              "      display: none;\n",
              "      fill: #1967D2;\n",
              "      height: 32px;\n",
              "      padding: 0 0 0 0;\n",
              "      width: 32px;\n",
              "    }\n",
              "\n",
              "    .colab-df-convert:hover {\n",
              "      background-color: #E2EBFA;\n",
              "      box-shadow: 0px 1px 2px rgba(60, 64, 67, 0.3), 0px 1px 3px 1px rgba(60, 64, 67, 0.15);\n",
              "      fill: #174EA6;\n",
              "    }\n",
              "\n",
              "    [theme=dark] .colab-df-convert {\n",
              "      background-color: #3B4455;\n",
              "      fill: #D2E3FC;\n",
              "    }\n",
              "\n",
              "    [theme=dark] .colab-df-convert:hover {\n",
              "      background-color: #434B5C;\n",
              "      box-shadow: 0px 1px 3px 1px rgba(0, 0, 0, 0.15);\n",
              "      filter: drop-shadow(0px 1px 2px rgba(0, 0, 0, 0.3));\n",
              "      fill: #FFFFFF;\n",
              "    }\n",
              "  </style>\n",
              "\n",
              "      <script>\n",
              "        const buttonEl =\n",
              "          document.querySelector('#df-21950c83-357d-4ea5-9958-333b7f0c0853 button.colab-df-convert');\n",
              "        buttonEl.style.display =\n",
              "          google.colab.kernel.accessAllowed ? 'block' : 'none';\n",
              "\n",
              "        async function convertToInteractive(key) {\n",
              "          const element = document.querySelector('#df-21950c83-357d-4ea5-9958-333b7f0c0853');\n",
              "          const dataTable =\n",
              "            await google.colab.kernel.invokeFunction('convertToInteractive',\n",
              "                                                     [key], {});\n",
              "          if (!dataTable) return;\n",
              "\n",
              "          const docLinkHtml = 'Like what you see? Visit the ' +\n",
              "            '<a target=\"_blank\" href=https://colab.research.google.com/notebooks/data_table.ipynb>data table notebook</a>'\n",
              "            + ' to learn more about interactive tables.';\n",
              "          element.innerHTML = '';\n",
              "          dataTable['output_type'] = 'display_data';\n",
              "          await google.colab.output.renderOutput(dataTable, element);\n",
              "          const docLink = document.createElement('div');\n",
              "          docLink.innerHTML = docLinkHtml;\n",
              "          element.appendChild(docLink);\n",
              "        }\n",
              "      </script>\n",
              "    </div>\n",
              "  </div>\n",
              "  "
            ]
          },
          "metadata": {},
          "execution_count": 8
        }
      ]
    },
    {
      "cell_type": "markdown",
      "source": [
        "<img src='https://drive.google.com/uc?export=view&id=1GYj-wj-so8jQ9-VDz1ayehgVh39Jmd4H' width=650px>\n",
        "\n",
        "# `Section 1` Text Processing\n"
      ],
      "metadata": {
        "id": "F_848Vnbr3Fa"
      }
    },
    {
      "cell_type": "code",
      "source": [
        "#replace occurences of RT with a default value\n",
        "def replace_retweet(tweet, default_replace=\"\"):\n",
        "  tweet = re.sub('RT\\s+', default_replace, tweet)\n",
        "  return tweet\n",
        "\n",
        "# replace @user with a default user tag\n",
        "def replace_user(tweet, default_replace=\"twitteruser\"):\n",
        "  tweet = re.sub('\\B@\\w+', default_replace, tweet)\n",
        "  return tweet\n",
        "\n",
        "# replace emojis with a meaningful text\n",
        "def demojize(tweet):\n",
        "  tweet = emoji.demojize(tweet)\n",
        "  return tweet\n",
        "\n",
        "def replace_url(tweet, default_replace=\"\"):\n",
        "  tweet = re.sub('(http|https):\\/\\/\\S+', default_replace, tweet)\n",
        "  return tweet\n",
        "\n",
        "\n",
        "def replace_hashtag(tweet, default_replace=\"\"):\n",
        "  tweet = re.sub('#+', default_replace, tweet)\n",
        "  return tweet\n",
        "\n",
        "\n",
        "# handle capitalized words\n",
        "def to_lowercase(tweet):\n",
        "  tweet = tweet.lower()\n",
        "  return tweet\n",
        "\n",
        "# for example word loooooook becomes look\n",
        "def word_repetition(tweet):\n",
        "  tweet = re.sub(r'(.)\\1+', r'\\1\\1', tweet)\n",
        "  return tweet\n",
        "\n",
        "# replace punctuations with default value\n",
        "def punct_repetition(tweet, default_replace=\"\"):\n",
        "  tweet = re.sub(r'[\\?\\.\\!]+(?=[\\?\\.\\!])', default_replace, tweet)\n",
        "  return tweet\n",
        "\n",
        "\n",
        "#  replaces contractions with their extended forms by using the contractions package\n",
        "def fix_contractions(tweet):\n",
        "  for k, v in contractions.contractions_dict.items():\n",
        "    tweet = tweet.replace(k, v)\n",
        "  return tweet\n",
        "\n",
        "\n",
        "\n"
      ],
      "metadata": {
        "id": "Xnw5A0NE4RK2"
      },
      "execution_count": null,
      "outputs": []
    },
    {
      "cell_type": "markdown",
      "source": [],
      "metadata": {
        "id": "hYDxOikOrxJK"
      }
    },
    {
      "cell_type": "code",
      "source": [
        "#custom tokenize function\n",
        "def custom_tokenize(tweet,\n",
        "                    keep_punct = False,\n",
        "                    keep_alnum = False,\n",
        "                    keep_stop = False):\n",
        "  \n",
        "  token_list = word_tokenize(tweet)\n",
        "\n",
        "  if not keep_punct:\n",
        "    token_list = [token for token in token_list\n",
        "                  if token not in string.punctuation]\n",
        "\n",
        "  if not keep_alnum:\n",
        "    token_list = [token for token in token_list if token.isalpha()]\n",
        "  \n",
        "  if not keep_stop:\n",
        "    stop_words = set(stopwords.words('english'))\n",
        "    stop_words.discard('not')\n",
        "    token_list = [token for token in token_list if not token in stop_words]\n",
        "\n",
        "  return token_list\n",
        "\n",
        "#takes the list of tokens as input and returns a list of stemmed tokens\n",
        "def stem_tokens(tokens, stemmer):\n",
        "  token_list = []\n",
        "  for token in tokens:\n",
        "    token_list.append(stemmer.stem(token))\n",
        "  return token_list"
      ],
      "metadata": {
        "id": "0gn0tYn3uY-I"
      },
      "execution_count": null,
      "outputs": []
    },
    {
      "cell_type": "code",
      "source": [
        "def process_tweet(tweet, verbose=False):\n",
        "  if verbose: print(\"Initial tweet: {}\".format(tweet))\n",
        "\n",
        "  ## Twitter Features\n",
        "  tweet = replace_retweet(tweet) # replace retweet\n",
        "  tweet = replace_user(tweet, \"\") # replace user tag\n",
        "  tweet = replace_url(tweet) # replace url\n",
        "  tweet = replace_hashtag(tweet) # replace hashtag\n",
        "  if verbose: print(\"Post Twitter processing tweet: {}\".format(tweet))\n",
        "\n",
        "  ## Word Features\n",
        "  tweet = to_lowercase(tweet) # lower case\n",
        "  tweet = fix_contractions(tweet) # replace contractions\n",
        "  tweet = punct_repetition(tweet) # replace punctuation repetition\n",
        "  tweet = word_repetition(tweet) # replace word repetition\n",
        "  tweet = demojize(tweet) # replace emojis\n",
        "  if verbose: print(\"Post Word processing tweet: {}\".format(tweet))\n",
        "\n",
        "  ## Tokenization & Stemming\n",
        "  tokens = custom_tokenize(tweet, keep_alnum=False, keep_stop=False) # tokenize\n",
        "  stemmer = SnowballStemmer(\"english\") # define stemmer\n",
        "  stem = stem_tokens(tokens, stemmer) # stem tokens\n",
        "\n",
        "  return stem"
      ],
      "metadata": {
        "id": "eRfVBZ5H4RZq"
      },
      "execution_count": null,
      "outputs": []
    },
    {
      "cell_type": "code",
      "source": [
        "df[\"tokens\"] = df[\"tweet_text\"].apply(process_tweet)\n",
        "df[\"tweet_sentiment\"] = df[\"sentiment\"].apply(lambda i: 1\n",
        "                                              if i == \"positive\" else 0)\n",
        "\n",
        "# representing data frames in two lists: one for the tweet tokens (X) and one for the tweet sentiment (y)\n",
        "\n",
        "X = df[\"tokens\"].tolist()\n",
        "y = df[\"tweet_sentiment\"].tolist()\n",
        "\n",
        "df.head(10)"
      ],
      "metadata": {
        "id": "14FdIXDRo2gU",
        "colab": {
          "base_uri": "https://localhost:8080/",
          "height": 363
        },
        "outputId": "2c38a88c-e14b-43f0-c871-c1a94781351d"
      },
      "execution_count": null,
      "outputs": [
        {
          "output_type": "execute_result",
          "data": {
            "text/plain": [
              "       textID                                         tweet_text sentiment  \\\n",
              "0  1956967666  Layin n bed with a headache  ughhhh...waitin o...  negative   \n",
              "1  1956967696                Funeral ceremony...gloomy friday...  negative   \n",
              "2  1956967789               wants to hang out with friends SOON!  positive   \n",
              "3  1956968477  Re-pinging @ghostridah14: why didn't you go to...  negative   \n",
              "4  1956968636               Hmmm. http://www.djhero.com/ is down  negative   \n",
              "5  1956969035            @charviray Charlene my love. I miss you  negative   \n",
              "6  1956969172         @kelcouch I'm sorry  at least it's Friday?  negative   \n",
              "7  1956969531                            Choked on her retainers  negative   \n",
              "8  1956970047  Ugh! I have to beat this stupid song to get to...  negative   \n",
              "9  1956970424  @BrodyJenner if u watch the hills in london u ...  negative   \n",
              "\n",
              "                                              tokens  tweet_sentiment  \n",
              "0                     [layin, n, bed, headach, call]                0  \n",
              "1                                    [funer, friday]                0  \n",
              "2                         [want, hang, friend, soon]                1  \n",
              "3         [not, go, prom, bc, bf, not, like, friend]                0  \n",
              "4                                              [hmm]                0  \n",
              "5                              [charlen, love, miss]                0  \n",
              "6                             [sorri, least, friday]                0  \n",
              "7                                    [choke, retain]                0  \n",
              "8         [ugh, beat, stupid, song, get, next, rude]                0  \n",
              "9  [u, watch, hill, london, u, realis, tourtur, w...                0  "
            ],
            "text/html": [
              "\n",
              "  <div id=\"df-13ae35e6-749c-4dc4-b53b-0dd95048a05e\">\n",
              "    <div class=\"colab-df-container\">\n",
              "      <div>\n",
              "<style scoped>\n",
              "    .dataframe tbody tr th:only-of-type {\n",
              "        vertical-align: middle;\n",
              "    }\n",
              "\n",
              "    .dataframe tbody tr th {\n",
              "        vertical-align: top;\n",
              "    }\n",
              "\n",
              "    .dataframe thead th {\n",
              "        text-align: right;\n",
              "    }\n",
              "</style>\n",
              "<table border=\"1\" class=\"dataframe\">\n",
              "  <thead>\n",
              "    <tr style=\"text-align: right;\">\n",
              "      <th></th>\n",
              "      <th>textID</th>\n",
              "      <th>tweet_text</th>\n",
              "      <th>sentiment</th>\n",
              "      <th>tokens</th>\n",
              "      <th>tweet_sentiment</th>\n",
              "    </tr>\n",
              "  </thead>\n",
              "  <tbody>\n",
              "    <tr>\n",
              "      <th>0</th>\n",
              "      <td>1956967666</td>\n",
              "      <td>Layin n bed with a headache  ughhhh...waitin o...</td>\n",
              "      <td>negative</td>\n",
              "      <td>[layin, n, bed, headach, call]</td>\n",
              "      <td>0</td>\n",
              "    </tr>\n",
              "    <tr>\n",
              "      <th>1</th>\n",
              "      <td>1956967696</td>\n",
              "      <td>Funeral ceremony...gloomy friday...</td>\n",
              "      <td>negative</td>\n",
              "      <td>[funer, friday]</td>\n",
              "      <td>0</td>\n",
              "    </tr>\n",
              "    <tr>\n",
              "      <th>2</th>\n",
              "      <td>1956967789</td>\n",
              "      <td>wants to hang out with friends SOON!</td>\n",
              "      <td>positive</td>\n",
              "      <td>[want, hang, friend, soon]</td>\n",
              "      <td>1</td>\n",
              "    </tr>\n",
              "    <tr>\n",
              "      <th>3</th>\n",
              "      <td>1956968477</td>\n",
              "      <td>Re-pinging @ghostridah14: why didn't you go to...</td>\n",
              "      <td>negative</td>\n",
              "      <td>[not, go, prom, bc, bf, not, like, friend]</td>\n",
              "      <td>0</td>\n",
              "    </tr>\n",
              "    <tr>\n",
              "      <th>4</th>\n",
              "      <td>1956968636</td>\n",
              "      <td>Hmmm. http://www.djhero.com/ is down</td>\n",
              "      <td>negative</td>\n",
              "      <td>[hmm]</td>\n",
              "      <td>0</td>\n",
              "    </tr>\n",
              "    <tr>\n",
              "      <th>5</th>\n",
              "      <td>1956969035</td>\n",
              "      <td>@charviray Charlene my love. I miss you</td>\n",
              "      <td>negative</td>\n",
              "      <td>[charlen, love, miss]</td>\n",
              "      <td>0</td>\n",
              "    </tr>\n",
              "    <tr>\n",
              "      <th>6</th>\n",
              "      <td>1956969172</td>\n",
              "      <td>@kelcouch I'm sorry  at least it's Friday?</td>\n",
              "      <td>negative</td>\n",
              "      <td>[sorri, least, friday]</td>\n",
              "      <td>0</td>\n",
              "    </tr>\n",
              "    <tr>\n",
              "      <th>7</th>\n",
              "      <td>1956969531</td>\n",
              "      <td>Choked on her retainers</td>\n",
              "      <td>negative</td>\n",
              "      <td>[choke, retain]</td>\n",
              "      <td>0</td>\n",
              "    </tr>\n",
              "    <tr>\n",
              "      <th>8</th>\n",
              "      <td>1956970047</td>\n",
              "      <td>Ugh! I have to beat this stupid song to get to...</td>\n",
              "      <td>negative</td>\n",
              "      <td>[ugh, beat, stupid, song, get, next, rude]</td>\n",
              "      <td>0</td>\n",
              "    </tr>\n",
              "    <tr>\n",
              "      <th>9</th>\n",
              "      <td>1956970424</td>\n",
              "      <td>@BrodyJenner if u watch the hills in london u ...</td>\n",
              "      <td>negative</td>\n",
              "      <td>[u, watch, hill, london, u, realis, tourtur, w...</td>\n",
              "      <td>0</td>\n",
              "    </tr>\n",
              "  </tbody>\n",
              "</table>\n",
              "</div>\n",
              "      <button class=\"colab-df-convert\" onclick=\"convertToInteractive('df-13ae35e6-749c-4dc4-b53b-0dd95048a05e')\"\n",
              "              title=\"Convert this dataframe to an interactive table.\"\n",
              "              style=\"display:none;\">\n",
              "        \n",
              "  <svg xmlns=\"http://www.w3.org/2000/svg\" height=\"24px\"viewBox=\"0 0 24 24\"\n",
              "       width=\"24px\">\n",
              "    <path d=\"M0 0h24v24H0V0z\" fill=\"none\"/>\n",
              "    <path d=\"M18.56 5.44l.94 2.06.94-2.06 2.06-.94-2.06-.94-.94-2.06-.94 2.06-2.06.94zm-11 1L8.5 8.5l.94-2.06 2.06-.94-2.06-.94L8.5 2.5l-.94 2.06-2.06.94zm10 10l.94 2.06.94-2.06 2.06-.94-2.06-.94-.94-2.06-.94 2.06-2.06.94z\"/><path d=\"M17.41 7.96l-1.37-1.37c-.4-.4-.92-.59-1.43-.59-.52 0-1.04.2-1.43.59L10.3 9.45l-7.72 7.72c-.78.78-.78 2.05 0 2.83L4 21.41c.39.39.9.59 1.41.59.51 0 1.02-.2 1.41-.59l7.78-7.78 2.81-2.81c.8-.78.8-2.07 0-2.86zM5.41 20L4 18.59l7.72-7.72 1.47 1.35L5.41 20z\"/>\n",
              "  </svg>\n",
              "      </button>\n",
              "      \n",
              "  <style>\n",
              "    .colab-df-container {\n",
              "      display:flex;\n",
              "      flex-wrap:wrap;\n",
              "      gap: 12px;\n",
              "    }\n",
              "\n",
              "    .colab-df-convert {\n",
              "      background-color: #E8F0FE;\n",
              "      border: none;\n",
              "      border-radius: 50%;\n",
              "      cursor: pointer;\n",
              "      display: none;\n",
              "      fill: #1967D2;\n",
              "      height: 32px;\n",
              "      padding: 0 0 0 0;\n",
              "      width: 32px;\n",
              "    }\n",
              "\n",
              "    .colab-df-convert:hover {\n",
              "      background-color: #E2EBFA;\n",
              "      box-shadow: 0px 1px 2px rgba(60, 64, 67, 0.3), 0px 1px 3px 1px rgba(60, 64, 67, 0.15);\n",
              "      fill: #174EA6;\n",
              "    }\n",
              "\n",
              "    [theme=dark] .colab-df-convert {\n",
              "      background-color: #3B4455;\n",
              "      fill: #D2E3FC;\n",
              "    }\n",
              "\n",
              "    [theme=dark] .colab-df-convert:hover {\n",
              "      background-color: #434B5C;\n",
              "      box-shadow: 0px 1px 3px 1px rgba(0, 0, 0, 0.15);\n",
              "      filter: drop-shadow(0px 1px 2px rgba(0, 0, 0, 0.3));\n",
              "      fill: #FFFFFF;\n",
              "    }\n",
              "  </style>\n",
              "\n",
              "      <script>\n",
              "        const buttonEl =\n",
              "          document.querySelector('#df-13ae35e6-749c-4dc4-b53b-0dd95048a05e button.colab-df-convert');\n",
              "        buttonEl.style.display =\n",
              "          google.colab.kernel.accessAllowed ? 'block' : 'none';\n",
              "\n",
              "        async function convertToInteractive(key) {\n",
              "          const element = document.querySelector('#df-13ae35e6-749c-4dc4-b53b-0dd95048a05e');\n",
              "          const dataTable =\n",
              "            await google.colab.kernel.invokeFunction('convertToInteractive',\n",
              "                                                     [key], {});\n",
              "          if (!dataTable) return;\n",
              "\n",
              "          const docLinkHtml = 'Like what you see? Visit the ' +\n",
              "            '<a target=\"_blank\" href=https://colab.research.google.com/notebooks/data_table.ipynb>data table notebook</a>'\n",
              "            + ' to learn more about interactive tables.';\n",
              "          element.innerHTML = '';\n",
              "          dataTable['output_type'] = 'display_data';\n",
              "          await google.colab.output.renderOutput(dataTable, element);\n",
              "          const docLink = document.createElement('div');\n",
              "          docLink.innerHTML = docLinkHtml;\n",
              "          element.appendChild(docLink);\n",
              "        }\n",
              "      </script>\n",
              "    </div>\n",
              "  </div>\n",
              "  "
            ]
          },
          "metadata": {},
          "execution_count": 12
        }
      ]
    },
    {
      "cell_type": "markdown",
      "source": [
        "#### lemmatization and stemming comparison"
      ],
      "metadata": {
        "id": "HuoNRgGbMoSv"
      }
    },
    {
      "cell_type": "code",
      "source": [
        "from nltk.stem import WordNetLemmatizer\n",
        "from nltk.corpus import wordnet\n",
        "nltk.download('wordnet')"
      ],
      "metadata": {
        "colab": {
          "base_uri": "https://localhost:8080/"
        },
        "id": "rlLqe0ajMrj3",
        "outputId": "619d9208-0cc9-4d58-a92d-13a0238be895"
      },
      "execution_count": null,
      "outputs": [
        {
          "output_type": "stream",
          "name": "stdout",
          "text": [
            "[nltk_data] Downloading package wordnet to /root/nltk_data...\n",
            "[nltk_data]   Package wordnet is already up-to-date!\n"
          ]
        },
        {
          "output_type": "execute_result",
          "data": {
            "text/plain": [
              "True"
            ]
          },
          "metadata": {},
          "execution_count": 13
        }
      ]
    },
    {
      "cell_type": "code",
      "source": [
        "tokens = [\"international\", \"companies\", \"had\", \"interns\"]\n",
        "\n",
        "#stemming  \n",
        "stemmer_snow = SnowballStemmer(\"english\") # define stemmer\n",
        "\n",
        "#lemmatization\n",
        "word_pos = {\"international\": wordnet.ADJ, \n",
        "             \"companies\": wordnet.NOUN, \n",
        "             \"had\": wordnet.VERB, \n",
        "             \"interns\": wordnet.NOUN\n",
        "             }\n",
        "\n",
        "lemmatizer = WordNetLemmatizer()\n",
        "\n",
        "def lemmatize_tokens(tokens, word_type, lemmatizer):\n",
        "  token_list = []\n",
        "  for token in tokens:\n",
        "    token_list.append(lemmatizer.lemmatize(token, word_type[token]))\n",
        "  return token_list"
      ],
      "metadata": {
        "id": "36pEhZPqNDED"
      },
      "execution_count": null,
      "outputs": []
    },
    {
      "cell_type": "code",
      "source": [
        "print(\"Tweet lemma: {}\".format(\n",
        "    lemmatize_tokens(tokens, word_pos, lemmatizer)))"
      ],
      "metadata": {
        "colab": {
          "base_uri": "https://localhost:8080/"
        },
        "id": "HCdFFw4ONQDv",
        "outputId": "f07f1c0a-c3a6-465a-b73d-c583b766a39f"
      },
      "execution_count": null,
      "outputs": [
        {
          "output_type": "stream",
          "name": "stdout",
          "text": [
            "Tweet lemma: ['international', 'company', 'have', 'intern']\n"
          ]
        }
      ]
    },
    {
      "cell_type": "code",
      "source": [
        "print(\"Snowball stems: {}\".format(stem_tokens(tokens, stemmer_snow)))"
      ],
      "metadata": {
        "colab": {
          "base_uri": "https://localhost:8080/"
        },
        "id": "fXPJju1_N9lU",
        "outputId": "9859d0aa-3740-488a-de67-48b6aa4baf61"
      },
      "execution_count": null,
      "outputs": [
        {
          "output_type": "stream",
          "name": "stdout",
          "text": [
            "Snowball stems: ['intern', 'compani', 'had', 'intern']\n"
          ]
        }
      ]
    },
    {
      "cell_type": "markdown",
      "source": [
        "<img src='https://drive.google.com/uc?export=view&id=1GYj-wj-so8jQ9-VDz1ayehgVh39Jmd4H' width=650px>\n",
        "\n",
        "# `Section 2` Vectorization"
      ],
      "metadata": {
        "id": "-znzhE1pr92y"
      }
    },
    {
      "cell_type": "markdown",
      "source": [
        "#### Bag of words\n"
      ],
      "metadata": {
        "id": "JwFhSzSYNkPd"
      }
    },
    {
      "cell_type": "code",
      "source": [
        "from sklearn.feature_extraction.text import CountVectorizer"
      ],
      "metadata": {
        "id": "CXjiYOwqMtYZ"
      },
      "execution_count": null,
      "outputs": []
    },
    {
      "cell_type": "code",
      "source": [
        "#build the Bag-of-Words vectorizer with the corpus\n",
        "def fit_cv(tweet_corpus):\n",
        "  cv_vect = CountVectorizer(tokenizer=lambda x: x,\n",
        "                            preprocessor=lambda x: x)\n",
        "  cv_vect.fit(tweet_corpus)\n",
        "  return cv_vect"
      ],
      "metadata": {
        "id": "ndMMEE9cNoTI"
      },
      "execution_count": null,
      "outputs": []
    },
    {
      "cell_type": "code",
      "source": [
        "# example\n",
        "\n",
        "corpus = [[\"love\", \"nlp\"],\n",
        "          [\"miss\", \"you\"],\n",
        "          [\"hate\", \"hate\", \"hate\", \"love\"],\n",
        "          [\"happy\", \"love\", \"hate\"],\n",
        "          [\"i\", \"lost\", \"my\", \"bag\"],\n",
        "          [\"i\", \"am\", \"so\", \"sad\"]]\n",
        "\n",
        "cv_vect = fit_cv(corpus)\n",
        "\n",
        "# get features\n",
        "ft = cv_vect.get_feature_names()\n",
        "\n",
        "#convert corpus to matrix \n",
        "cv_mtx = cv_vect.transform(corpus)\n",
        "\n"
      ],
      "metadata": {
        "colab": {
          "base_uri": "https://localhost:8080/"
        },
        "id": "t08tt5mscOYT",
        "outputId": "b6ed63fc-f7af-4fc7-bdb7-60d585ae8433"
      },
      "execution_count": null,
      "outputs": [
        {
          "output_type": "stream",
          "name": "stderr",
          "text": [
            "/usr/local/lib/python3.7/dist-packages/sklearn/feature_extraction/text.py:517: UserWarning: The parameter 'token_pattern' will not be used since 'tokenizer' is not None'\n",
            "  \"The parameter 'token_pattern' will not be used\"\n",
            "/usr/local/lib/python3.7/dist-packages/sklearn/utils/deprecation.py:87: FutureWarning: Function get_feature_names is deprecated; get_feature_names is deprecated in 1.0 and will be removed in 1.2. Please use get_feature_names_out instead.\n",
            "  warnings.warn(msg, category=FutureWarning)\n"
          ]
        }
      ]
    },
    {
      "cell_type": "code",
      "source": [
        "cv_vect.get_feature_names()"
      ],
      "metadata": {
        "colab": {
          "base_uri": "https://localhost:8080/"
        },
        "id": "xg9RUckCdZBV",
        "outputId": "9ceea46c-9cc4-4bd3-b090-7db2e97e903f"
      },
      "execution_count": null,
      "outputs": [
        {
          "output_type": "stream",
          "name": "stderr",
          "text": [
            "/usr/local/lib/python3.7/dist-packages/sklearn/utils/deprecation.py:87: FutureWarning: Function get_feature_names is deprecated; get_feature_names is deprecated in 1.0 and will be removed in 1.2. Please use get_feature_names_out instead.\n",
            "  warnings.warn(msg, category=FutureWarning)\n"
          ]
        },
        {
          "output_type": "execute_result",
          "data": {
            "text/plain": [
              "['am',\n",
              " 'computer',\n",
              " 'happy',\n",
              " 'hate',\n",
              " 'i',\n",
              " 'lost',\n",
              " 'love',\n",
              " 'miss',\n",
              " 'my',\n",
              " 'nlp',\n",
              " 'sad',\n",
              " 'so',\n",
              " 'you']"
            ]
          },
          "metadata": {},
          "execution_count": 83
        }
      ]
    },
    {
      "cell_type": "code",
      "source": [
        "#transform new tweet using count vectorizer\n",
        "new_tweet = [[\"lost\", \"lost\", \"miss\", \"miss\"]]\n",
        "cv_vect.transform(new_tweet).toarray()"
      ],
      "metadata": {
        "colab": {
          "base_uri": "https://localhost:8080/"
        },
        "id": "zDWVEL8Qcztw",
        "outputId": "45bbfe1f-4d08-4af2-876c-8293ded31001"
      },
      "execution_count": null,
      "outputs": [
        {
          "output_type": "execute_result",
          "data": {
            "text/plain": [
              "array([[0, 0, 0, 0, 0, 2, 0, 2, 0, 0, 0, 0, 0]])"
            ]
          },
          "metadata": {},
          "execution_count": 80
        }
      ]
    },
    {
      "cell_type": "code",
      "source": [
        "unknown_tweet = [[\"John\", \"drives\", \"cars\"]]\n",
        "cv_vect.transform(unknown_tweet).toarray()"
      ],
      "metadata": {
        "colab": {
          "base_uri": "https://localhost:8080/"
        },
        "id": "kAmqNcX7dBDR",
        "outputId": "cc9ef39b-cc94-479c-ee57-044f56d62756"
      },
      "execution_count": null,
      "outputs": [
        {
          "output_type": "execute_result",
          "data": {
            "text/plain": [
              "array([[0, 0, 0, 0, 0, 0, 0, 0, 0, 0, 0, 0, 0]])"
            ]
          },
          "metadata": {},
          "execution_count": 81
        }
      ]
    },
    {
      "cell_type": "markdown",
      "source": [
        "#### Postive/ Negative frequencies"
      ],
      "metadata": {
        "id": "MlbilVzf4fjE"
      }
    },
    {
      "cell_type": "code",
      "source": [
        "#  build a dictionnary with the word and sentiment as index and the count of occurence(freq) as value\n",
        "def build_freqs(tweet_list, sentiment_list):\n",
        "  freqs = {}\n",
        "  #looping through each tweet and sentiment\n",
        "  for tweet, sentiment in zip(tweet_list, sentiment_list):\n",
        "    for word in tweet:\n",
        "      # creating a tuple with word and sentiment\n",
        "      pair = (word, sentiment)\n",
        "      # check if the word already exists in the freqs, if it does increment by 1, else add it to the freqs\n",
        "      if pair in freqs:\n",
        "        freqs[pair] += 1\n",
        "      else:\n",
        "        freqs[pair] = 1\n",
        "  return freqs\n",
        "\n",
        "\n",
        "# convert tweets to a 2-d array by using the frequency dictionnary\n",
        "def tweet_to_freq(tweet, freqs):\n",
        "  x = np.zeros((2,))\n",
        "  for word in tweet:\n",
        "    # check if the word is associated to +ve sentiment in the dictionary, get the freq and add it to the 1st dimension of the array  \n",
        "    if (word, 1) in freqs:\n",
        "      x[0] += freqs[(word, 1)]\n",
        "   # if the word is associated to -ve sentiment, add the frequency to the 2nd dimension of our array \n",
        "    if (word, 0) in freqs:\n",
        "      x[1] += freqs[(word, 0)]\n",
        "  return x"
      ],
      "metadata": {
        "id": "920EidAz6IT2"
      },
      "execution_count": null,
      "outputs": []
    },
    {
      "cell_type": "code",
      "source": [
        "# example for pos/neg freqs\n",
        "freqs_all = build_freqs(X_train, y_train)\n",
        "print (tweet_to_freq(['I','love','nlp'], freqs_all))"
      ],
      "metadata": {
        "colab": {
          "base_uri": "https://localhost:8080/"
        },
        "id": "SKPAd4fnXKHi",
        "outputId": "d1105a86-e466-4773-ac21-daa8122eb9f9"
      },
      "execution_count": null,
      "outputs": [
        {
          "output_type": "stream",
          "name": "stdout",
          "text": [
            "[1111.   55.]\n"
          ]
        }
      ]
    },
    {
      "cell_type": "markdown",
      "source": [
        "#### TF-IDF"
      ],
      "metadata": {
        "id": "vRaus4hYN-qs"
      }
    },
    {
      "cell_type": "code",
      "source": [
        "from sklearn.feature_extraction.text import TfidfVectorizer"
      ],
      "metadata": {
        "id": "XMcamcb7OA07"
      },
      "execution_count": null,
      "outputs": []
    },
    {
      "cell_type": "code",
      "source": [
        "#build the TF-IDF vectorizer with the corpus\n",
        "def fit_tfidf(tweet_corpus):\n",
        "  tf_vect = TfidfVectorizer(preprocessor=lambda x: x,\n",
        "                            tokenizer=lambda x: x)\n",
        "  tf_vect.fit(tweet_corpus)\n",
        "  return tf_vect"
      ],
      "metadata": {
        "id": "LuqlyjkJOCKg"
      },
      "execution_count": null,
      "outputs": []
    },
    {
      "cell_type": "markdown",
      "source": [
        "<img src='https://drive.google.com/uc?export=view&id=1GYj-wj-so8jQ9-VDz1ayehgVh39Jmd4H' width=650px>\n",
        "\n",
        "# `Section 3` Sentiment Model"
      ],
      "metadata": {
        "id": "2gQhU6O-sS8e"
      }
    },
    {
      "cell_type": "code",
      "source": [
        "import seaborn as sn\n",
        "\n",
        "# plot the confusion matrix for the different models \n",
        "def plot_confusion(cm):\n",
        "  plt.figure(figsize = (5,5))\n",
        "  sn.heatmap(cm, annot=True, cmap=\"Blues\", fmt='.0f')\n",
        "  plt.xlabel(\"Prediction\")\n",
        "  plt.ylabel(\"True value\")\n",
        "  plt.title(\"Confusion Matrix\")\n",
        "  return sn"
      ],
      "metadata": {
        "id": "V9ikdCBnOFBq"
      },
      "execution_count": null,
      "outputs": []
    },
    {
      "cell_type": "markdown",
      "source": [
        "#### Split data into train and test"
      ],
      "metadata": {
        "id": "PhK-Bz8vOh7F"
      }
    },
    {
      "cell_type": "code",
      "source": [
        "from sklearn.model_selection import train_test_split\n",
        "# split arrays of X and y into training and testing variables\n",
        "X_train, X_test, y_train, y_test = train_test_split(X, y,\n",
        "                                                    random_state=0,\n",
        "                                                    train_size=0.80)"
      ],
      "metadata": {
        "id": "ULcM7PmKOcKU"
      },
      "execution_count": null,
      "outputs": []
    },
    {
      "cell_type": "markdown",
      "source": [
        "#### Logistic Regression"
      ],
      "metadata": {
        "id": "YYxAQEHwPBQw"
      }
    },
    {
      "cell_type": "code",
      "source": [
        "from sklearn.linear_model import LogisticRegression\n",
        "\n",
        "# fit a Logistic Regression model on X and y training data\n",
        "def fit_lr(X_train, y_train):\n",
        "  model = LogisticRegression()\n",
        "  model.fit(X_train, y_train)\n",
        "  return model"
      ],
      "metadata": {
        "id": "Q6Me4zAgOpu-"
      },
      "execution_count": null,
      "outputs": []
    },
    {
      "cell_type": "markdown",
      "source": [
        "#### Model fitting for BoW"
      ],
      "metadata": {
        "id": "513RcpX6POxK"
      }
    },
    {
      "cell_type": "code",
      "source": [
        "cv = fit_cv(X_train)\n",
        "\n",
        "#converting the vectorizer cv to a matrix\n",
        "X_train_cv = cv.transform(X_train)\n",
        "X_test_cv = cv.transform(X_test)\n",
        "\n",
        "# Fit the Logistic Regression model on training data by using the fit_lr function\n",
        "model_lr_cv = fit_lr(X_train_cv, y_train)\n",
        "\n",
        "#shape of the matrix is (#no. of tweets, #no of features in the tweet corpus)\n",
        "X_train_cv.shape\n",
        "#len(cv.get_feature_names())"
      ],
      "metadata": {
        "colab": {
          "base_uri": "https://localhost:8080/"
        },
        "id": "IMB1bD_XPIQB",
        "outputId": "9f1e8d44-c19f-4dd6-d3c8-530cbe19e69b"
      },
      "execution_count": null,
      "outputs": [
        {
          "output_type": "stream",
          "name": "stderr",
          "text": [
            "/usr/local/lib/python3.7/dist-packages/sklearn/feature_extraction/text.py:517: UserWarning: The parameter 'token_pattern' will not be used since 'tokenizer' is not None'\n",
            "  \"The parameter 'token_pattern' will not be used\"\n"
          ]
        },
        {
          "output_type": "execute_result",
          "data": {
            "text/plain": [
              "array([0, 0, 0, ..., 0, 0, 0])"
            ]
          },
          "metadata": {},
          "execution_count": 78
        }
      ]
    },
    {
      "cell_type": "markdown",
      "source": [
        "#### Model fitting for Pos/Neg frequencies\n"
      ],
      "metadata": {
        "id": "4QET0U-X6nJ0"
      }
    },
    {
      "cell_type": "code",
      "source": [
        "#Use the build_freqs function on training data to create a frequency dictionnary\n",
        "#Use the frequency dictionnary together with the tweet_to_freq function to convert X_train and X_test data to 2-d vectors\n",
        "\n",
        "freqs = build_freqs(X_train, y_train)\n",
        "print(freqs)\n",
        "X_train_pn = [tweet_to_freq(tweet, freqs) for tweet in X_train]\n",
        "X_test_pn = [tweet_to_freq(tweet, freqs) for tweet in X_test]\n",
        "\n",
        "# Fit the Logistic Regression model on training data by using the fit_lr function\n",
        "model_lr_pn = fit_lr(X_train_pn, y_train)"
      ],
      "metadata": {
        "colab": {
          "base_uri": "https://localhost:8080/"
        },
        "id": "wlNvH80J6lnr",
        "outputId": "228a3827-4a65-454e-c672-5c2cd52d572d"
      },
      "execution_count": null,
      "outputs": [
        {
          "output_type": "stream",
          "name": "stdout",
          "text": [
            "{('vcenter', 0): 1, ('screw', 0): 16, ('today', 0): 306, ('specif', 0): 4, ('mssql', 0): 1, ('server', 0): 10, ('connect', 0): 8, ('realli', 1): 275, ('good', 1): 1017, ('mood', 1): 22, ('absolut', 1): 27, ('reason', 1): 17, ('tee', 1): 1, ('im', 0): 332, ('sadd', 0): 5, ('sancha', 0): 1, ('june', 0): 15, ('fail', 0): 93, ('go', 0): 789, ('chini', 0): 1, ('chillin', 1): 20, ('follow', 1): 168, ('cool', 1): 164, ('peopl', 1): 87, ('omg', 1): 45, ('beckki', 1): 1, ('love', 1): 1111, ('rootin', 1): 1, ('how', 1): 1, ('thing', 1): 137, ('go', 1): 598, ('saw', 1): 68, ('statthement', 1): 2, ('mayb', 1): 42, ('receiv', 1): 6, ('unholi', 1): 1, ('aiden', 1): 2, ('fan', 1): 58, ('packag', 1): 3, ('yaay', 1): 10, ('not', 0): 1850, ('eat', 0): 62, ('lunch', 0): 28, ('wife', 0): 9, ('like', 0): 448, ('want', 0): 377, ('appar', 0): 17, ('get', 0): 536, ('anymor', 0): 52, ('sad', 0): 402, ('look', 1): 267, ('cute', 1): 101, ('omg', 0): 80, ('u', 0): 202, ('nasti', 0): 8, ('school', 0): 100, ('guy', 0): 76, ('talk', 0): 74, ('girl', 0): 72, ('cant', 0): 123, ('stand', 0): 14, ('ppl', 0): 23, ('ok', 0): 46, ('crowdsourc', 0): 1, ('pm', 0): 6, ('let', 0): 84, ('us', 0): 52, ('bowman', 0): 1, ('strategicclock', 0): 1, ('first', 0): 59, ('break', 0): 44, ('aargh', 0): 3, ('tire', 0): 161, ('felt', 0): 16, ('one', 0): 262, ('tooth', 0): 8, ('without', 0): 58, ('brace', 0): 2, ('bracket', 0): 1, ('got', 0): 325, ('soo', 0): 102, ('hype', 0): 1, ('hot', 0): 68, ('room', 0): 29, ('swim', 0): 5, ('glad', 1): 120, ('vent', 1): 2, ('thank', 1): 789, ('bestfriend', 1): 2, ('victori', 0): 2, ('bulldog', 0): 1, ('celebr', 0): 4, ('white', 0): 14, ('chocol', 0): 10, ('cheesecak', 0): 5, ('nom', 0): 3, ('whatta', 0): 1, ('fattyy', 0): 1, ('bummer', 0): 23, ('hope', 0): 64, ('continu', 0): 5, ('long', 0): 80, ('peep', 0): 9, ('rthemix', 0): 3, ('quot', 0): 275, ('wu', 0): 2, ('dynasti', 0): 2, ('tape', 0): 2, ('delay', 0): 17, ('give', 0): 40, ('idea', 0): 25, ('could', 0): 132, ('hang', 0): 20, ('feel', 0): 424, ('less', 0): 19, ('apathet', 0): 2, ('welcom', 1): 92, ('rest', 1): 37, ('well', 1): 231, ('realli', 0): 302, ('bad', 0): 288, ('goofin', 0): 1, ('know', 0): 250, ('meet', 0): 28, ('dang', 0): 23, ('sorri', 0): 321, ('amp', 0): 187, ('big', 0): 56, ('mouth', 0): 14, ('that', 0): 38, ('yet', 0): 51, ('wait', 0): 86, ('year', 0): 74, ('grr', 0): 26, ('sound', 0): 34, ('fun', 0): 55, ('someon', 0): 52, ('come', 0): 136, ('take', 0): 97, ('pictur', 0): 25, ('probabl', 0): 41, ('chilli', 0): 4, ('yeah', 0): 95, ('realiz', 0): 17, ('till', 0): 36, ('motorcycl', 0): 1, ('sale', 0): 13, ('road', 0): 11, ('mind', 0): 31, ('would', 0): 123, ('stupid', 0): 97, ('summer', 0): 44, ('month', 0): 41, ('away', 0): 74, ('wonder', 1): 84, ('wtf', 0): 37, ('think', 0): 251, ('confus', 0): 16, ('believ', 0): 51, ('mani', 0): 41, ('heart', 0): 34, ('whyy', 0): 3, ('make', 0): 212, ('stop', 0): 66, ('merm', 0): 1, ('tonight', 0): 116, ('miss', 0): 597, ('taylor', 0): 5, ('crazi', 0): 33, ('back', 0): 211, ('upset', 0): 36, ('left', 0): 71, ('phone', 0): 88, ('home', 0): 186, ('make', 1): 202, ('nice', 1): 305, ('cup', 1): 11, ('tea', 1): 18, ('pop', 1): 7, ('posit', 1): 16, ('kid', 0): 49, ('sent', 0): 15, ('msg', 0): 3, ('yt', 0): 1, ('relax', 1): 44, ('hope', 1): 455, ('get', 1): 408, ('put', 1): 49, ('feet', 1): 8, ('tomorrow', 1): 147, ('enjoy', 1): 159, ('day', 1): 1228, ('actual', 1): 53, ('drove', 1): 6, ('today', 1): 311, ('incid', 1): 1, ('report', 1): 9, ('quot', 1): 409, ('ice', 1): 24, ('cube', 1): 2, ('hear', 1): 61, ('song', 1): 101, ('brighten', 1): 3, ('someon', 1): 46, ('alway', 1): 75, ('grin', 1): 4, ('afraid', 0): 22, ('much', 0): 209, ('true', 0): 15, ('difficulti', 0): 3, ('design', 0): 6, ('may', 0): 45, ('cri', 0): 110, ('soon', 0): 43, ('idmfin', 0): 1, ('youtub', 1): 28, ('awesom', 1): 259, ('qualiti', 1): 6, ('chang', 0): 38, ('assign', 0): 6, ('due', 0): 31, ('tomorrow', 0): 113, ('havent', 0): 9, ('start', 0): 92, ('concentr', 0): 3, ('argh', 0): 14, ('atthempt', 0): 10, ('sleep', 0): 152, ('puppi', 0): 14, ('sick', 0): 191, ('alreadi', 0): 100, ('star', 1): 108, ('trek', 1): 42, ('soo', 1): 110, ('spock', 1): 4, ('kirk', 1): 4, ('hillari', 1): 1, ('im', 1): 161, ('see', 1): 285, ('soon', 1): 109, ('oh', 1): 189, ('slam', 0): 5, ('spam', 0): 12, ('follow', 0): 68, ('attract', 0): 2, ('life', 0): 91, ('peopl', 0): 132, ('interest', 1): 57, ('say', 1): 137, ('least', 1): 35, ('overal', 1): 3, ('head', 1): 55, ('cnt', 1): 3, ('sure', 1): 92, ('save', 1): 25, ('kind', 1): 60, ('excit', 1): 122, ('school', 1): 84, ('dont', 1): 56, ('know', 1): 240, ('that', 1): 50, ('great', 1): 425, ('babe', 1): 29, ('congrat', 1): 35, ('adriana', 1): 1, ('taxi', 0): 3, ('q', 0): 4, ('pelangi', 0): 1, ('super', 0): 26, ('loong', 0): 4, ('headach', 0): 76, ('transit', 0): 1, ('ahh', 1): 44, ('got', 1): 310, ('stitch', 1): 3, ('serious', 1): 16, ('cant', 1): 53, ('wait', 1): 156, ('beach', 1): 21, ('summer', 1): 39, ('hurri', 1): 2, ('consid', 0): 7, ('lucki', 0): 8, ('rain', 0): 72, ('age', 0): 17, ('depress', 0): 41, ('like', 1): 442, ('idea', 1): 40, ('read', 1): 66, ('book', 1): 48, ('sunshin', 1): 14, ('goona', 1): 1, ('goin', 0): 14, ('hun', 0): 11, ('worri', 0): 27, ('need', 1): 142, ('yummi', 1): 27, ('breakfast', 1): 35, ('shift', 1): 4, ('morn', 1): 272, ('everyon', 1): 129, ('think', 1): 217, ('tweet', 1): 100, ('friend', 1): 152, ('work', 1): 304, ('technolog', 1): 4, ('waz', 1): 1, ('dude', 1): 30, ('bachelor', 1): 1, ('point', 1): 20, ('not', 1): 843, ('worri', 1): 35, ('suspect', 0): 3, ('fault', 0): 14, ('lame', 0): 25, ('happi', 1): 796, ('keve', 1): 1, ('earli', 1): 48, ('mother', 1): 622, ('let', 1): 64, ('us', 1): 98, ('quiet', 1): 14, ('night', 1): 290, ('sleep', 1): 111, ('u', 1): 296, ('rlli', 0): 1, ('dead', 0): 36, ('descans', 0): 1, ('paz', 0): 1, ('luto', 0): 1, ('rip', 0): 19, ('drive', 1): 27, ('care', 1): 34, ('blackberri', 1): 6, ('want', 1): 232, ('scream', 1): 13, ('new', 1): 261, ('cd', 1): 16, ('shred', 1): 1, ('special', 1): 34, ('k', 1): 4, ('challeng', 1): 6, ('feel', 1): 202, ('fantast', 1): 36, ('though', 1): 137, ('amaz', 1): 167, ('dan', 0): 4, ('public', 0): 13, ('transport', 0): 3, ('decid', 0): 16, ('everyth', 0): 30, ('north', 0): 8, ('london', 0): 10, ('utter', 0): 5, ('crap', 0): 40, ('southern', 0): 4, ('train', 0): 19, ('alright', 0): 2, ('final', 1): 109, ('done', 1): 74, ('jealous', 0): 29, ('abl', 0): 29, ('see', 0): 183, ('conan', 0): 2, ('damn', 0): 102, ('listen', 1): 65, ('myspac', 1): 9, ('busi', 1): 35, ('week', 1): 135, ('tedious', 1): 1, ('saturday', 1): 34, ('bike', 0): 11, ('put', 0): 40, ('known', 0): 7, ('total', 0): 52, ('sometim', 0): 27, ('twitter', 0): 114, ('outsid', 0): 31, ('congratul', 1): 23, ('shirt', 1): 13, ('btw', 1): 44, ('seen', 0): 22, ('muffin', 0): 2, ('two', 0): 39, ('whole', 0): 38, ('day', 0): 355, ('hell', 0): 47, ('bed', 0): 89, ('time', 0): 234, ('cara', 0): 1, ('nighti', 0): 2, ('night', 0): 135, ('world', 0): 29, ('aw', 0): 42, ('man', 0): 73, ('logic', 0): 3, ('reason', 0): 33, ('promis', 0): 5, ('studi', 0): 24, ('order', 0): 15, ('tutor', 0): 1, ('new', 0): 132, ('student', 0): 3, ('keri', 1): 1, ('slow', 1): 5, ('danc', 1): 26, ('rockin', 1): 3, ('shit', 1): 7, ('playlist', 1): 2, ('right', 1): 104, ('pure', 1): 3, ('panti', 1): 2, ('dropper', 1): 1, ('poor', 0): 103, ('eek', 0): 2, ('lol', 0): 142, ('tri', 0): 154, ('excit', 0): 14, ('offici', 1): 10, ('one', 1): 282, ('hahahaha', 0): 6, ('friend', 0): 119, ('sinc', 0): 48, ('sunday', 0): 21, ('woman', 0): 5, ('transfer', 0): 5, ('impress', 0): 13, ('onto', 0): 6, ('ththemselv', 0): 3, ('weak', 0): 5, ('misspel', 0): 1, ('twice', 0): 10, ('notgiv', 0): 1, ('run', 0): 46, ('old', 0): 58, ('yeah', 1): 99, ('basic', 1): 7, ('aww', 1): 116, ('bless', 1): 54, ('phone', 1): 34, ('okayi', 1): 2, ('x', 1): 70, ('call', 0): 84, ('earlier', 0): 15, ('hurt', 0): 193, ('dark', 1): 10, ('berri', 1): 4, ('mocha', 1): 2, ('frapp', 1): 1, ('heaven', 1): 11, ('tri', 1): 106, ('pass', 1): 12, ('backk', 0): 1, ('hungri', 0): 32, ('ate', 0): 14, ('minut', 0): 29, ('flannel', 0): 1, ('hobbit', 0): 1, ('shoe', 0): 10, ('wet', 0): 9, ('pls', 0): 5, ('mcdonald', 0): 3, ('chicken', 0): 12, ('nugget', 0): 5, ('thembarras', 0): 2, ('drope', 0): 1, ('soda', 0): 2, ('haha', 0): 72, ('fell', 0): 26, ('tray', 0): 2, ('teh', 0): 2, ('part', 0): 19, ('hes', 0): 5, ('liek', 0): 1, ('soori', 0): 1, ('total', 1): 42, ('agre', 1): 31, ('good', 0): 193, ('mood', 0): 17, ('rain', 1): 59, ('cat', 1): 17, ('dog', 1): 30, ('mysor', 1): 1, ('jay', 0): 7, ('leno', 0): 8, ('que', 0): 2, ('ththem', 0): 99, ('kind', 0): 68, ('turn', 0): 38, ('buy', 0): 38, ('dig', 0): 2, ('deeper', 0): 1, ('hole', 0): 7, ('etc', 0): 14, ('came', 0): 25, ('suck', 0): 231, ('iya', 0): 1, ('nyokap', 0): 1, ('gue', 0): 2, ('pernah', 0): 1, ('berkata', 0): 1, ('dthemikian', 0): 1, ('hard', 0): 98, ('share', 0): 9, ('yep', 1): 17, ('even', 1): 101, ('whatev', 1): 15, ('xd', 1): 26, ('goodmorn', 1): 13, ('twitter', 1): 161, ('bug', 1): 9, ('monday', 1): 84, ('mark', 1): 6, ('first', 1): 80, ('fulltim', 1): 1, ('job', 1): 51, ('time', 1): 302, ('readi', 1): 57, ('believ', 1): 42, ('gorgeous', 1): 20, ('weather', 1): 50, ('amp', 1): 259, ('spend', 1): 28, ('lose', 0): 28, ('taiwanes', 0): 1, ('drama', 0): 5, ('xd', 0): 11, ('chun', 0): 1, ('ee', 0): 2, ('noo', 1): 3, ('guy', 1): 118, ('better', 1): 196, ('work', 0): 444, ('money', 0): 54, ('trip', 0): 23, ('lone', 0): 28, ('weekend', 0): 89, ('ahead', 0): 3, ('seen', 1): 37, ('game', 1): 38, ('websit', 1): 14, ('msn', 1): 5, ('mom', 1): 255, ('shout', 1): 6, ('ya', 1): 82, ('jehovah', 1): 1, ('wit', 1): 7, ('googl', 1): 16, ('wave', 1): 6, ('dthemo', 1): 3, ('lot', 1): 85, ('fun', 1): 304, ('would', 1): 228, ('test', 1): 20, ('woke', 0): 29, ('late', 0): 63, ('done', 0): 54, ('yoo', 0): 2, ('myy', 0): 3, ('bust', 0): 7, ('shoot', 0): 12, ('ugh', 0): 126, ('hedach', 0): 1, ('cheap', 0): 6, ('fuck', 0): 98, ('shit', 0): 79, ('still', 0): 229, ('class', 0): 47, ('roll', 0): 9, ('actual', 0): 37, ('mine', 0): 32, ('wors', 0): 37, ('ft', 0): 1, ('math', 0): 12, ('eww', 0): 8, ('poop', 0): 8, ('shirt', 0): 11, ('insan', 0): 8, ('crack', 0): 9, ('screen', 0): 14, ('iphon', 0): 18, ('daang', 0): 2, ('wolverin', 1): 11, ('beauti', 1): 85, ('also', 1): 59, ('person', 1): 24, ('swim', 1): 11, ('freez', 1): 1, ('water', 1): 15, ('kali', 1): 1, ('lunch', 1): 29, ('pay', 1): 14, ('download', 1): 17, ('music', 1): 60, ('hour', 1): 71, ('happen', 1): 37, ('ooh', 0): 11, ('might', 0): 31, ('saturday', 0): 29, ('exam', 0): 35, ('monday', 0): 36, ('aw', 1): 21, ('thas', 1): 2, ('jus', 1): 9, ('buckfast', 0): 1, ('brain', 0): 11, ('went', 0): 50, ('blank', 0): 2, ('wow', 1): 91, ('christa', 1): 1, ('incred', 1): 16, ('sweet', 1): 87, ('sec', 1): 4, ('check', 1): 55, ('app', 1): 16, ('merch', 1): 3, ('asst', 1): 1, ('rule', 1): 3, ('lol', 1): 294, ('found', 1): 37, ('kitti', 1): 8, ('pregnant', 1): 2, ('adopt', 1): 5, ('instead', 1): 20, ('bradi', 1): 3, ('perth', 1): 1, ('ad', 1): 28, ('top', 1): 28, ('page', 1): 12, ('xx', 1): 71, ('thx', 1): 28, ('affect', 0): 3, ('languag', 0): 2, ('jvm', 0): 1, ('rane', 0): 1, ('notifi', 0): 1, ('podcast', 0): 1, ('accept', 0): 6, ('itun', 0): 7, ('cours', 0): 10, ('format', 0): 1, ('fix', 0): 20, ('never', 0): 103, ('made', 0): 51, ('gym', 0): 14, ('blowout', 0): 1, ('san', 0): 9, ('thong', 0): 1, ('wear', 0): 22, ('compani', 0): 12, ('phew', 0): 3, ('workout', 0): 2, ('damn', 1): 18, ('blast', 1): 18, ('lmhr', 1): 1, ('sam', 1): 9, ('run', 1): 42, ('could', 1): 157, ('join', 1): 28, ('next', 1): 95, ('bbq', 0): 3, ('sunburn', 0): 15, ('leg', 0): 23, ('well', 0): 151, ('sore', 0): 43, ('greg', 1): 5, ('back', 1): 210, ('nascar', 1): 1, ('ultra', 1): 2, ('take', 1): 104, ('almost', 0): 40, ('lost', 0): 105, ('silli', 0): 12, ('indi', 0): 1, ('much', 1): 225, ('fanmail', 1): 1, ('talk', 1): 65, ('anytim', 1): 6, ('piss', 0): 30, ('guess', 0): 52, ('beer', 0): 7, ('rthemot', 0): 4, ('move', 0): 61, ('channel', 0): 3, ('twat', 0): 1, ('yo', 0): 5, ('final', 0): 51, ('around', 0): 31, ('second', 0): 13, ('week', 0): 121, ('fall', 0): 30, ('asleep', 0): 24, ('thanx', 1): 15, ('bday', 1): 22, ('wish', 1): 286, ('ray', 1): 4, ('ughh', 0): 15, ('tummi', 0): 29, ('ach', 0): 21, ('miss', 1): 65, ('fizzi', 1): 1, ('duck', 1): 4, ('hive', 1): 2, ('mind', 1): 24, ('say', 0): 109, ('past', 0): 19, ('play', 0): 69, ('spade', 0): 1, ('drinkin', 0): 1, ('chillin', 0): 5, ('babi', 0): 38, ('thought', 1): 54, ('smile', 1): 39, ('caught', 1): 6, ('radio', 1): 16, ('big', 1): 62, ('daft', 1): 2, ('face', 1): 25, ('starv', 0): 7, ('dream', 0): 24, ('last', 0): 155, ('sing', 0): 15, ('avid', 0): 1, ('croon', 0): 1, ('becoz', 0): 1, ('sprain', 0): 4, ('nta', 0): 1, ('ble', 0): 1, ('proper', 0): 9, ('wrkout', 0): 1, ('shud', 0): 4, ('dis', 0): 4, ('hapen', 0): 1, ('wen', 0): 2, ('satrt', 0): 1, ('diet', 0): 7, ('wish', 0): 119, ('oh', 0): 208, ('nintendo', 0): 3, ('mario', 0): 1, ('game', 0): 48, ('bag', 0): 11, ('search', 0): 7, ('simpl', 1): 8, ('hilari', 1): 25, ('found', 0): 46, ('mj', 0): 2, ('mous', 0): 5, ('flat', 0): 4, ('djs', 0): 1, ('none', 0): 12, ('size', 0): 5, ('singer', 1): 5, ('aww', 0): 77, ('precious', 0): 1, ('leav', 1): 33, ('need', 0): 167, ('also', 0): 49, ('dentist', 0): 13, ('fill', 0): 8, ('st', 0): 2, ('helen', 0): 2, ('mri', 0): 2, ('scan', 0): 1, ('arrgghhgguuiisshh', 0): 1, ('modern', 0): 2, ('assignth', 0): 1, ('burma', 0): 1, ('cuba', 0): 1, ('eep', 0): 3, ('help', 0): 72, ('last', 1): 157, ('hard', 1): 28, ('coffe', 1): 46, ('wont', 1): 6, ('il', 1): 2, ('hear', 0): 72, ('full', 0): 22, ('album', 0): 12, ('preview', 0): 4, ('webcast', 0): 1, ('jonasnewsong', 0): 2, ('wayi', 0): 6, ('pacquiao', 1): 2, ('fight', 1): 15, ('home', 1): 171, ('wif', 1): 3, ('fam', 1): 8, ('melissa', 1): 1, ('sat', 1): 15, ('mission', 1): 3, ('ikea', 1): 4, ('srsli', 1): 2, ('differ', 1): 20, ('freeway', 1): 2, ('ge', 1): 1, ('burbank', 1): 2, ('yippe', 1): 5, ('jackson', 1): 2, ('tyler', 1): 3, ('morri', 1): 2, ('never', 1): 58, ('forgotten', 1): 2, ('nanaimo', 0): 1, ('son', 0): 13, ('even', 0): 132, ('cruis', 1): 3, ('vacat', 1): 6, ('bother', 0): 10, ('mess', 0): 35, ('metabol', 0): 1, ('drink', 0): 28, ('lot', 0): 57, ('water', 0): 19, ('pretend', 0): 1, ('differ', 0): 9, ('food', 0): 38, ('mm', 0): 6, ('grape', 0): 2, ('figur', 0): 22, ('person', 0): 27, ('download', 0): 7, ('wordpress', 0): 1, ('blog', 0): 16, ('easi', 0): 8, ('suggest', 0): 5, ('sleepi', 0): 15, ('cafe', 0): 2, ('managth', 0): 1, ('end', 0): 51, ('noth', 0): 73, ('number', 0): 11, ('arti', 0): 1, ('littl', 0): 82, ('head', 0): 86, ('find', 0): 93, ('discrep', 0): 1, ('christian', 0): 7, ('lacroix', 0): 4, ('client', 0): 6, ('gone', 0): 55, ('higher', 1): 3, ('mt', 1): 1, ('everest', 1): 1, ('retak', 0): 1, ('softbal', 0): 2, ('photo', 0): 27, ('patrick', 0): 3, ('studio', 0): 8, ('piec', 0): 10, ('chore', 0): 2, ('friday', 0): 66, ('huh', 0): 5, ('roc', 1): 1, ('imi', 1): 1, ('buu', 1): 1, ('pick', 0): 23, ('luna', 0): 2, ('vet', 0): 5, ('look', 0): 144, ('lash', 0): 1, ('tear', 0): 8, ('trail', 0): 1, ('bebe', 0): 3, ('wrote', 0): 6, ('info', 0): 7, ('sososo', 0): 1, ('boredd', 1): 1, ('shes', 1): 11, ('thing', 0): 135, ('hate', 0): 279, ('tweetdeck', 0): 8, ('reali', 0): 5, ('start', 1): 96, ('watch', 1): 215, ('rock', 1): 61, ('borrow', 1): 2, ('season', 1): 17, ('dad', 1): 38, ('god', 0): 42, ('stress', 0): 34, ('finish', 0): 43, ('bedd', 0): 1, ('voic', 0): 11, ('noo', 0): 40, ('swoob', 0): 1, ('swass', 0): 1, ('air', 0): 12, ('pack', 0): 21, ('blech', 0): 2, ('spice', 1): 4, ('girl', 1): 97, ('sing', 1): 30, ('along', 1): 18, ('w', 1): 9, ('contact', 0): 6, ('parent', 0): 18, ('gt', 0): 38, ('throat', 0): 31, ('infect', 0): 10, ('strong', 0): 4, ('tast', 0): 8, ('blood', 0): 12, ('skip', 1): 3, ('way', 1): 115, ('often', 1): 5, ('rather', 1): 12, ('proud', 1): 26, ('best', 1): 202, ('weekend', 1): 151, ('ever', 1): 87, ('genius', 1): 5, ('bret', 1): 1, ('lov', 1): 3, ('cancel', 1): 6, ('concert', 1): 26, ('franc', 1): 4, ('men', 1): 14, ('caus', 0): 54, ('pc', 0): 9, ('thought', 0): 72, ('bra', 0): 2, ('strap', 0): 2, ('del', 1): 3, ('korea', 1): 5, ('suffer', 0): 14, ('anoth', 0): 70, ('ep', 0): 2, ('camera', 0): 14, ('haha', 1): 213, ('complet', 1): 34, ('stung', 0): 2, ('bee', 0): 7, ('altern', 1): 1, ('name', 1): 43, ('bacon', 1): 3, ('mari', 1): 5, ('bloodi', 1): 3, ('piggi', 1): 2, ('give', 1): 62, ('boyfriend', 1): 9, ('credit', 1): 4, ('georg', 1): 2, ('someth', 1): 58, ('word', 1): 30, ('otherwis', 1): 3, ('jiberish', 1): 1, ('junk', 1): 3, ('joy', 1): 18, ('war', 1): 64, ('celebr', 1): 32, ('famili', 1): 65, ('ok', 1): 66, ('round', 1): 10, ('famof', 1): 1, ('ahh', 0): 41, ('right', 0): 132, ('dvd', 0): 8, ('broke', 0): 48, ('exercis', 1): 3, ('sunday', 1): 56, ('stop', 1): 32, ('wheel', 1): 2, ('karma', 1): 3, ('transform', 1): 1, ('negat', 1): 2, ('life', 1): 75, ('wonder', 0): 34, ('hay', 0): 3, ('cours', 1): 20, ('favorit', 1): 40, ('album', 1): 26, ('messag', 1): 14, ('ththem', 1): 132, ('repli', 1): 25, ('link', 1): 18, ('open', 1): 25, ('connect', 1): 7, ('curious', 1): 9, ('ur', 1): 103, ('greet', 1): 10, ('everyon', 0): 52, ('makin', 0): 5, ('wast', 0): 18, ('space', 0): 8, ('went', 1): 56, ('shop', 1): 43, ('learn', 1): 28, ('toefl', 1): 1, ('kelil', 1): 1, ('tthempl', 1): 1, ('cultur', 1): 6, ('thailand', 1): 3, ('appl', 1): 14, ('asid', 1): 1, ('recommend', 1): 14, ('real', 1): 26, ('experi', 1): 12, ('iphon', 1): 25, ('seek', 1): 2, ('uh', 0): 4, ('jus', 0): 12, ('sunset', 0): 1, ('blvd', 0): 1, ('cuzin', 0): 1, ('kill', 0): 60, ('movin', 0): 1, ('sittin', 0): 5, ('havent', 1): 12, ('present', 1): 35, ('yet', 1): 58, ('print', 1): 11, ('amazon', 1): 9, ('gift', 1): 27, ('card', 1): 28, ('abi', 0): 1, ('watch', 0): 127, ('krystl', 0): 1, ('alexi', 0): 2, ('catfight', 0): 1, ('youtub', 0): 8, ('half', 0): 33, ('bulki', 0): 1, ('gear', 0): 2, ('slim', 0): 2, ('light', 0): 7, ('ssd', 0): 2, ('perform', 0): 5, ('unreal', 0): 1, ('cure', 1): 3, ('hospitol', 0): 1, ('pull', 0): 10, ('golf', 0): 5, ('tourni', 0): 1, ('place', 0): 42, ('someth', 0): 60, ('grass', 0): 2, ('fed', 0): 5, ('beef', 0): 1, ('burger', 0): 1, ('saute', 0): 1, ('mushroom', 0): 1, ('cheddar', 0): 2, ('wheat', 0): 1, ('bun', 0): 1, ('along', 0): 11, ('salad', 0): 1, ('yum', 0): 1, ('kim', 0): 1, ('quick', 1): 13, ('yes', 1): 100, ('cowbel', 1): 1, ('suckd', 0): 1, ('close', 0): 34, ('nite', 0): 11, ('dollar', 0): 7, ('pocked', 0): 1, ('job', 0): 56, ('hiccup', 0): 2, ('year', 1): 79, ('ago', 1): 18, ('brother', 1): 32, ('bruce', 1): 1, ('walk', 1): 23, ('sidewalk', 1): 1, ('sanibel', 1): 1, ('use', 1): 76, ('live', 1): 84, ('pine', 1): 2, ('place', 1): 29, ('fricken', 0): 1, ('internet', 0): 44, ('colleg', 0): 12, ('babi', 1): 65, ('everyth', 1): 37, ('share', 1): 32, ('kim', 1): 3, ('portfolio', 1): 5, ('kaar', 1): 1, ('dane', 1): 2, ('honor', 1): 7, ('jean', 0): 4, ('couldnt', 0): 13, ('hip', 0): 3, ('drop', 1): 9, ('lil', 1): 23, ('cuz', 1): 15, ('bus', 1): 7, ('bed', 1): 102, ('relaxin', 1): 4, ('hour', 0): 107, ('migrain', 0): 9, ('wrong', 0): 59, ('hair', 0): 45, ('cut', 0): 29, ('eagl', 1): 5, ('omginorit', 0): 1, ('fanci', 0): 4, ('tophat', 0): 1, ('grow', 0): 7, ('handlebar', 0): 1, ('moustach', 0): 1, ('shower', 1): 17, ('refresh', 1): 3, ('long', 1): 74, ('fair', 1): 9, ('mayb', 0): 40, ('mthemori', 0): 5, ('bore', 0): 148, ('goodby', 1): 10, ('help', 1): 65, ('fit', 1): 9, ('team', 1): 11, ('verita', 1): 1, ('hi', 1): 76, ('small', 1): 7, ('children', 1): 11, ('break', 1): 25, ('tear', 1): 11, ('fit', 0): 13, ('hal', 0): 1, ('name', 0): 17, ('danni', 0): 2, ('beauti', 0): 7, ('curl', 0): 2, ('wick', 1): 3, ('butterfli', 1): 4, ('stori', 1): 8, ('taylor', 1): 17, ('swift', 1): 7, ('sunni', 1): 18, ('man', 1): 63, ('guess', 1): 42, ('true', 1): 34, ('mad', 0): 31, ('main', 0): 2, ('ef', 0): 9, ('fli', 0): 10, ('florida', 0): 6, ('pack', 1): 13, ('past', 1): 13, ('sentiment', 1): 1, ('vanilla', 1): 4, ('cake', 1): 20, ('real', 0): 32, ('grace', 1): 3, ('god', 1): 68, ('somehow', 1): 6, ('rthemot', 1): 3, ('control', 1): 2, ('broc', 0): 1, ('cab', 0): 3, ('bean', 0): 3, ('insecticid', 0): 1, ('soap', 0): 1, ('rid', 0): 5, ('pest', 0): 1, ('chthemic', 0): 1, ('hey', 0): 36, ('allergi', 0): 10, ('kick', 0): 15, ('random', 0): 9, ('hmph', 0): 7, ('hahah', 1): 16, ('hi', 0): 28, ('yes', 0): 42, ('absolut', 0): 11, ('terribl', 0): 23, ('earth', 0): 3, ('tune', 0): 5, ('ear', 0): 12, ('afternoon', 1): 25, ('germani', 1): 16, ('anyon', 0): 46, ('awak', 0): 25, ('die', 0): 69, ('walk', 0): 27, ('downtown', 0): 5, ('mysteri', 0): 3, ('cat', 0): 30, ('solv', 0): 1, ('hid', 0): 2, ('basthement', 0): 2, ('near', 0): 17, ('hahaha', 1): 51, ('reinforc', 1): 1, ('skate', 1): 3, ('rthemthemb', 1): 26, ('r', 1): 27, ('gluten', 1): 1, ('intol', 1): 1, ('thankyou', 1): 10, ('zzi', 0): 1, ('offic', 0): 38, ('alon', 0): 33, ('bay', 0): 6, ('becom', 0): 18, ('bigger', 0): 3, ('pain', 0): 61, ('clear', 0): 4, ('whip', 0): 2, ('idiot', 0): 12, ('crash', 0): 12, ('small', 0): 13, ('dent', 0): 1, ('set', 0): 21, ('pedal', 0): 1, ('knee', 0): 15, ('nando', 0): 1, ('topshop', 0): 1, ('rule', 0): 9, ('devast', 0): 6, ('show', 0): 79, ('bail', 0): 3, ('call', 1): 55, ('anymor', 1): 12, ('ross', 1): 3, ('town', 1): 15, ('might', 1): 48, ('show', 1): 131, ('coupl', 0): 12, ('sun', 0): 39, ('burn', 0): 24, ('uncomfort', 0): 2, ('ke', 1): 2, ('paar', 1): 1, ('shaayad', 1): 1, ('supernatur', 1): 5, ('tonight', 1): 150, ('dean', 1): 1, ('breath', 1): 2, ('lt', 1): 154, ('movi', 1): 118, ('unnecessari', 1): 1, ('brief', 1): 2, ('underwear', 1): 2, ('scene', 1): 7, ('pun', 1): 1, ('intend', 1): 1, ('besid', 1): 4, ('startrek', 1): 1, ('husband', 1): 5, ('made', 1): 90, ('chivalri', 1): 2, ('dead', 1): 8, ('aspir', 0): 2, ('supervisor', 0): 1, ('pay', 0): 20, ('swiss', 1): 1, ('tobleron', 1): 1, ('come', 1): 177, ('meet', 1): 64, ('fabul', 1): 16, ('rita', 1): 2, ('chichest', 1): 1, ('lena', 0): 1, ('gunna', 0): 4, ('spend', 0): 21, ('fam', 0): 9, ('pub', 0): 2, ('boo', 0): 51, ('token', 0): 1, ('profil', 1): 11, ('pictur', 1): 42, ('interview', 0): 7, ('ny', 0): 7, ('forgot', 0): 39, ('blogtalk', 0): 1, ('radio', 0): 11, ('fast', 1): 17, ('furious', 1): 2, ('excel', 1): 18, ('andi', 1): 4, ('everi', 0): 24, ('pair', 0): 4, ('nowaday', 0): 2, ('tight', 0): 2, ('mah', 0): 2, ('butt', 0): 9, ('gettin', 0): 7, ('tweepl', 1): 4, ('blew', 0): 4, ('shred', 0): 1, ('herr', 0): 1, ('dude', 0): 34, ('pooch', 0): 2, ('bc', 0): 9, ('theater', 1): 3, ('worth', 1): 27, ('mariah', 1): 2, ('hater', 1): 1, ('grate', 1): 4, ('heyheyheyheyehyeyi', 0): 1, ('tokio', 0): 2, ('hotel', 0): 7, ('tshirt', 0): 2, ('friad', 0): 1, ('shame', 0): 26, ('hd', 1): 3, ('video', 1): 51, ('pog', 0): 1, ('sorri', 1): 20, ('typo', 1): 1, ('ps', 1): 10, ('said', 1): 39, ('sucha', 1): 1, ('ground', 0): 4, ('til', 0): 26, ('plan', 0): 37, ('annoy', 0): 30, ('hmm', 1): 14, ('vpn', 1): 2, ('fine', 1): 32, ('wakey', 1): 2, ('lthemon', 1): 3, ('shakeyi', 1): 1, ('goin', 1): 12, ('schoolioo', 1): 1, ('ugh', 1): 11, ('jonaswebcast', 1): 1, ('deep', 0): 6, ('fri', 0): 9, ('drumstick', 0): 1, ('teeth', 0): 10, ('n', 1): 47, ('blk', 1): 1, ('wishin', 1): 3, ('mum', 1): 58, ('juli', 0): 12, ('pleas', 1): 85, ('wife', 1): 9, ('evelyn', 1): 1, ('tell', 1): 57, ('spoil', 1): 2, ('serious', 0): 45, ('dont', 0): 119, ('stinkin', 1): 1, ('ador', 1): 13, ('studio', 1): 6, ('forward', 1): 60, ('build', 0): 7, ('bloodi', 0): 12, ('boil', 0): 2, ('lmao', 1): 25, ('queen', 1): 7, ('fear', 0): 4, ('crept', 0): 1, ('dismiss', 0): 1, ('coz', 0): 8, ('unfortun', 0): 35, ('noy', 0): 1, ('teach', 1): 11, ('chines', 1): 23, ('lesson', 1): 18, ('pls', 1): 4, ('free', 1): 59, ('birthday', 0): 16, ('beliv', 0): 3, ('yous', 0): 1, ('best', 0): 32, ('present', 0): 5, ('everr', 0): 3, ('lt', 0): 61, ('saucepan', 1): 1, ('full', 1): 24, ('cooker', 1): 2, ('heat', 1): 3, ('style', 1): 7, ('scrabbl', 1): 1, ('huge', 0): 14, ('asprin', 0): 1, ('ow', 0): 8, ('shitt', 0): 2, ('drunk', 0): 15, ('ihav', 0): 1, ('portsmouth', 0): 2, ('sumfink', 0): 1, ('oww', 0): 4, ('blush', 1): 3, ('panic', 0): 2, ('read', 0): 41, ('orbitron', 0): 1, ('els', 0): 30, ('biig', 0): 2, ('illustr', 1): 1, ('cousin', 1): 12, ('littl', 1): 76, ('hannah', 1): 9, ('montana', 1): 7, ('sephora', 0): 1, ('fair', 0): 38, ('mortal', 1): 1, ('combat', 1): 1, ('came', 1): 33, ('citi', 1): 22, ('rooftop', 1): 2, ('parti', 1): 61, ('yorker', 1): 1, ('bldg', 1): 1, ('still', 1): 147, ('pretti', 1): 101, ('windi', 1): 3, ('sign', 1): 17, ('hubbi', 1): 8, ('goodnight', 1): 67, ('wath', 1): 1, ('dollhous', 1): 4, ('hulu', 1): 2, ('eat', 1): 54, ('el', 1): 4, ('taquito', 1): 1, ('beer', 1): 16, ('promot', 1): 3, ('indi', 1): 5, ('design', 1): 12, ('benefit', 1): 2, ('moi', 1): 1, ('car', 0): 69, ('ha', 0): 19, ('sold', 0): 13, ('coukd', 0): 1, ('send', 0): 20, ('flair', 0): 1, ('sam', 0): 9, ('houston', 0): 2, ('enough', 0): 39, ('overcom', 0): 2, ('challang', 0): 1, ('photographi', 0): 3, ('dentist', 1): 4, ('bask', 1): 1, ('sun', 1): 40, ('church', 1): 14, ('east', 1): 2, ('noko', 1): 1, ('provok', 1): 1, ('kill', 1): 9, ('way', 0): 98, ('express', 0): 2, ('char', 0): 3, ('disspoint', 0): 1, ('advertis', 0): 2, ('lifehack', 0): 1, ('mac', 0): 14, ('articl', 0): 4, ('loveu', 1): 1, ('keep', 1): 73, ('studi', 1): 26, ('cya', 1): 2, ('lazzi', 0): 2, ('bank', 0): 14, ('holiday', 0): 16, ('nicol', 0): 4, ('direct', 0): 9, ('msged', 0): 1, ('nathan', 0): 2, ('bccg', 0): 1, ('visit', 0): 12, ('afternoon', 0): 7, ('metal', 1): 5, ('gear', 1): 6, ('solid', 1): 3, ('valkyria', 1): 1, ('chronicl', 1): 1, ('join', 0): 9, ('chat', 0): 10, ('site', 0): 23, ('sign', 0): 14, ('brows', 1): 1, ('digit', 1): 1, ('art', 1): 11, ('tutori', 1): 4, ('hen', 1): 1, ('site', 1): 24, ('knowledg', 1): 3, ('skill', 1): 5, ('fri', 1): 6, ('oreo', 1): 3, ('downtown', 1): 3, ('vega', 1): 7, ('park', 1): 17, ('everr', 1): 3, ('mommi', 1): 72, ('effin', 0): 4, ('updat', 0): 17, ('wifi', 0): 5, ('sg', 0): 1, ('mall', 0): 5, ('idk', 0): 22, ('dada', 0): 1, ('craigi', 0): 1, ('evid', 1): 3, ('convict', 1): 1, ('everi', 1): 32, ('pb', 1): 3, ('banana', 1): 4, ('sandwich', 1): 6, ('fav', 1): 18, ('mine', 1): 41, ('better', 0): 56, ('thank', 0): 20, ('tweetstat', 0): 1, ('confirm', 0): 4, ('keep', 0): 65, ('ram', 0): 3, ('use', 0): 68, ('host', 0): 7, ('virtual', 0): 4, ('machin', 0): 8, ('love', 0): 55, ('ruxburi', 0): 1, ('twitterworld', 1): 1, ('later', 1): 49, ('j', 1): 1, ('sushi', 1): 7, ('mani', 1): 50, ('shatter', 1): 3, ('jim', 1): 3, ('wee', 1): 6, ('internet', 1): 8, ('clean', 1): 33, ('hair', 1): 33, ('mthemori', 1): 11, ('almost', 1): 34, ('favourit', 1): 16, ('figur', 1): 14, ('fab', 1): 16, ('wed', 1): 14, ('yesterday', 1): 55, ('sore', 1): 7, ('must', 1): 33, ('v', 1): 6, ('wake', 1): 19, ('forth', 0): 1, ('constant', 0): 4, ('ya', 0): 21, ('kno', 0): 11, ('workin', 0): 6, ('havin', 0): 6, ('sleepin', 0): 2, ('schedul', 0): 6, ('must', 0): 40, ('repli', 0): 23, ('old', 1): 62, ('bunch', 1): 3, ('mail', 1): 7, ('mama', 1): 21, ('birthday', 1): 88, ('jesus', 0): 4, ('christ', 0): 4, ('meadowhal', 0): 2, ('con', 0): 5, ('hit', 1): 22, ('hay', 1): 2, ('slight', 0): 11, ('bgt', 0): 22, ('marri', 1): 9, ('drink', 1): 33, ('wud', 1): 1, ('yay', 1): 127, ('three', 1): 18, ('wide', 1): 4, ('world', 1): 88, ('fishi', 1): 1, ('mate', 1): 12, ('mr', 1): 5, ('piggl', 1): 1, ('mean', 1): 40, ('pickl', 1): 1, ('rat', 0): 5, ('creativ', 0): 2, ('vadof', 0): 1, ('stock', 0): 2, ('hey', 1): 104, ('weirdo', 1): 1, ('jk', 1): 5, ('recent', 1): 3, ('opportun', 1): 2, ('gettng', 1): 1, ('anybodi', 0): 7, ('hayle', 0): 1, ('care', 0): 21, ('deserv', 1): 18, ('sister', 0): 18, ('douchebag', 0): 2, ('offic', 1): 20, ('may', 1): 96, ('probabl', 1): 24, ('anyway', 1): 30, ('away', 1): 39, ('huh', 1): 5, ('sip', 1): 2, ('shh', 1): 2, ('luck', 1): 78, ('tam', 1): 1, ('robert', 1): 3, ('text', 1): 18, ('tabl', 1): 4, ('slept', 1): 7, ('dinof', 1): 1, ('wasstraat', 1): 1, ('nic', 1): 1, ('heard', 1): 21, ('pcd', 1): 1, ('perform', 1): 17, ('jakarta', 1): 1, ('visit', 1): 20, ('bali', 1): 1, ('lime', 1): 2, ('deal', 1): 7, ('sound', 1): 100, ('daddi', 0): 6, ('mommi', 0): 11, ('boy', 0): 28, ('throw', 0): 10, ('rock', 0): 8, ('anim', 1): 9, ('haahaa', 1): 1, ('jellybeaniess', 1): 1, ('bytheway', 1): 1, ('tv', 1): 26, ('cellphon', 0): 3, ('commerci', 0): 2, ('judday', 1): 5, ('vote', 0): 19, ('frustrad', 0): 2, ('hash', 1): 1, ('around', 1): 48, ('waterley', 1): 1, ('bottom', 1): 4, ('villag', 1): 3, ('quiz', 1): 2, ('mistress', 1): 1, ('porto', 1): 1, ('htb', 1): 1, ('la', 1): 20, ('smartphon', 1): 1, ('irc', 1): 2, ('cousin', 0): 9, ('dirt', 1): 1, ('track', 1): 17, ('info', 1): 5, ('mile', 1): 8, ('natali', 0): 1, ('holli', 0): 12, ('mean', 0): 70, ('begun', 1): 1, ('jail', 1): 1, ('sentenc', 1): 4, ('arkansa', 1): 1, ('hahahahahaha', 1): 2, ('staff', 1): 2, ('easiest', 1): 1, ('moment', 0): 23, ('realiti', 0): 5, ('gmail', 1): 5, ('visual', 1): 2, ('asthet', 1): 1, ('danni', 1): 7, ('dyer', 1): 1, ('sunshin', 0): 9, ('till', 1): 28, ('tmw', 1): 1, ('comcast', 1): 1, ('didnt', 1): 17, ('las', 0): 4, ('vega', 0): 10, ('airport', 0): 8, ('stuck', 0): 51, ('plane', 0): 9, ('tarmac', 0): 2, ('lax', 0): 1, ('grove', 1): 1, ('hell', 1): 15, ('suck', 1): 8, ('drew', 0): 3, ('song', 0): 32, ('thoma', 0): 5, ('jane', 1): 1, ('austen', 1): 1, ('pride', 1): 4, ('prejudic', 1): 2, ('themma', 1): 2, ('northang', 1): 1, ('abbey', 1): 1, ('loner', 0): 3, ('suckss', 0): 5, ('onlin', 0): 25, ('gossip', 0): 5, ('horribl', 0): 37, ('transpir', 0): 1, ('arrgh', 0): 2, ('shoe', 1): 12, ('bc', 1): 3, ('tommorow', 1): 3, ('cold', 1): 28, ('viper', 1): 1, ('room', 1): 24, ('attend', 1): 3, ('support', 1): 16, ('yall', 1): 9, ('left', 1): 32, ('ipod', 1): 11, ('car', 1): 28, ('warm', 1): 21, ('rosthemari', 1): 1, ('drunk', 1): 16, ('tgif', 0): 5, ('weather', 0): 50, ('weird', 0): 38, ('mom', 0): 44, ('cook', 0): 14, ('nutrit', 0): 1, ('unladylik', 0): 1, ('gas', 0): 9, ('lend', 0): 2, ('cold', 0): 51, ('aeroplan', 1): 1, ('plato', 1): 2, ('wkp', 1): 1, ('wellington', 1): 3, ('monet', 1): 1, ('exhibit', 1): 1, ('casual', 1): 1, ('bump', 1): 3, ('wayn', 1): 1, ('hotel', 1): 3, ('lobbi', 1): 1, ('mega', 1): 1, ('charg', 0): 8, ('cell', 0): 6, ('slack', 1): 2, ('earn', 1): 2, ('c', 1): 18, ('els', 1): 21, ('b', 1): 23, ('esh', 1): 1, ('said', 0): 47, ('bellion', 0): 1, ('air', 1): 9, ('suppli', 1): 1, ('greastest', 1): 1, ('ship', 0): 5, ('handl', 0): 8, ('expens', 0): 15, ('entir', 0): 13, ('background', 1): 7, ('photoshop', 1): 3, ('revit', 1): 1, ('plot', 1): 1, ('line', 1): 12, ('revert', 1): 1, ('clich', 1): 1, ('net', 0): 7, ('issu', 0): 13, ('wed', 0): 15, ('broadcast', 0): 3, ('tho', 0): 20, ('anththem', 0): 1, ('mix', 0): 9, ('women', 1): 6, ('next', 0): 71, ('wake', 0): 33, ('return', 0): 19, ('stomach', 0): 31, ('okay', 0): 19, ('write', 0): 29, ('illeg', 0): 3, ('instal', 1): 3, ('ubuntu', 1): 3, ('lap', 1): 2, ('window', 1): 14, ('featur', 1): 7, ('sigh', 0): 15, ('eff', 1): 1, ('log', 0): 7, ('link', 0): 13, ('respons', 1): 3, ('firefox', 1): 1, ('dow', 1): 1, ('futur', 1): 12, ('trade', 1): 4, ('far', 1): 39, ('surviv', 1): 6, ('freshman', 1): 1, ('sophomor', 1): 1, ('norfolk', 1): 1, ('appreci', 1): 35, ('reson', 1): 1, ('dm', 0): 9, ('bud', 1): 5, ('kudo', 1): 4, ('hardcor', 1): 3, ('gym', 1): 11, ('train', 1): 10, ('lifechang', 1): 1, ('bf', 0): 7, ('citi', 0): 13, ('current', 0): 11, ('live', 0): 58, ('far', 0): 29, ('street', 0): 5, ('dj', 1): 4, ('partypeopl', 1): 1, ('cc', 1): 2, ('kick', 1): 12, ('june', 1): 20, ('behind', 1): 11, ('lmfao', 1): 4, ('goddamit', 0): 1, ('guh', 0): 1, ('apostro', 0): 1, ('librari', 0): 10, ('ladi', 0): 8, ('j', 0): 4, ('psst', 1): 1, ('blog', 1): 27, ('comment', 1): 14, ('likey', 1): 1, ('organ', 0): 4, ('chthemistri', 0): 2, ('ah', 0): 18, ('broadway', 0): 1, ('pizza', 0): 15, ('feelin', 0): 14, ('ill', 0): 34, ('sigh', 1): 8, ('sac', 1): 1, ('miami', 1): 3, ('central', 1): 1, ('valley', 1): 1, ('luggag', 0): 2, ('check', 0): 28, ('select', 0): 4, ('travel', 0): 10, ('releas', 1): 7, ('fatti', 1): 1, ('facespac', 1): 1, ('roomi', 1): 3, ('fake', 1): 5, ('tan', 1): 8, ('orang', 1): 3, ('colour', 1): 3, ('voter', 0): 2, ('paint', 0): 6, ('peel', 0): 6, ('skin', 0): 8, ('squeaki', 1): 1, ('son', 1): 17, ('potter', 1): 2, ('categori', 1): 2, ('hehe', 1): 36, ('taekwando', 0): 1, ('visteon', 1): 1, ('belfast', 1): 1, ('salari', 1): 1, ('paid', 1): 2, ('stand', 1): 8, ('dye', 0): 6, ('black', 0): 11, ('scari', 0): 17, ('post', 0): 34, ('pic', 0): 36, ('ur', 0): 41, ('verdict', 0): 1, ('page', 0): 15, ('goe', 0): 19, ('chanc', 0): 21, ('relax', 0): 7, ('fact', 1): 10, ('bank', 1): 39, ('holiday', 1): 53, ('stay', 1): 32, ('ladi', 1): 39, ('bottl', 1): 11, ('reisl', 1): 1, ('hill', 0): 5, ('realis', 0): 4, ('tourtur', 0): 1, ('itonlinelol', 0): 1, ('gut', 0): 24, ('ticket', 0): 24, ('pink', 0): 8, ('clever', 1): 4, ('forgiv', 0): 6, ('pleass', 0): 1, ('alter', 0): 1, ('appolog', 0): 1, ('morn', 0): 70, ('offici', 0): 19, ('reveng', 0): 2, ('dish', 0): 7, ('serv', 0): 2, ('plant', 1): 9, ('farm', 1): 1, ('popcorn', 1): 2, ('goat', 1): 3, ('katnip', 1): 1, ('saddl', 1): 1, ('tt', 1): 2, ('sister', 1): 22, ('didnt', 0): 36, ('edit', 0): 12, ('db', 0): 2, ('balanc', 1): 2, ('whhyy', 0): 1, ('subject', 0): 5, ('histori', 0): 11, ('laandan', 0): 1, ('giant', 0): 8, ('purpl', 0): 1, ('bow', 0): 2, ('gold', 0): 1, ('wing', 0): 6, ('necklac', 0): 3, ('td', 0): 3, ('shini', 1): 6, ('truli', 1): 7, ('prais', 1): 3, ('greatest', 1): 12, ('text', 0): 28, ('dog', 0): 51, ('abandon', 0): 5, ('town', 0): 11, ('origin', 1): 5, ('acc', 1): 2, ('delet', 1): 2, ('bad', 1): 37, ('search', 1): 5, ('ryan', 1): 9, ('carera', 1): 1, ('josh', 1): 3, ('kelley', 1): 2, ('english', 0): 14, ('broken', 0): 37, ('ofcours', 1): 1, ('fightin', 1): 1, ('aight', 1): 2, ('but', 1): 1, ('theyu', 1): 1, ('held', 1): 2, ('readi', 0): 44, ('except', 0): 9, ('arm', 0): 18, ('saw', 0): 36, ('chi', 0): 1, ('cool', 0): 19, ('beagl', 0): 1, ('music', 0): 32, ('side', 0): 11, ('finger', 0): 32, ('blister', 0): 5, ('ohh', 1): 22, ('barcalona', 1): 1, ('ruin', 1): 2, ('bgt', 1): 8, ('suitabl', 1): 1, ('moment', 1): 30, ('tweetheart', 1): 1, ('travel', 1): 14, ('state', 1): 6, ('inspir', 1): 21, ('write', 1): 39, ('consult', 1): 1, ('offer', 1): 13, ('comp', 0): 9, ('slo', 0): 2, ('w', 0): 7, ('practic', 0): 5, ('trumpet', 0): 3, ('vocal', 0): 3, ('gland', 0): 2, ('neck', 0): 12, ('guitar', 0): 7, ('bore', 1): 4, ('redd', 1): 1, ('convers', 1): 8, ('alreadi', 1): 53, ('roast', 1): 8, ('turn', 1): 24, ('parent', 1): 12, ('rent', 1): 5, ('hummer', 1): 2, ('limo', 1): 1, ('doesnt', 0): 20, ('mount', 1): 1, ('dish', 1): 8, ('conquer', 1): 3, ('land', 1): 6, ('bout', 0): 18, ('knock', 0): 1, ('lil', 0): 12, ('peac', 0): 9, ('madam', 1): 2, ('lucki', 1): 45, ('coz', 1): 7, ('meant', 1): 5, ('perfect', 1): 45, ('sir', 1): 7, ('hand', 0): 28, ('blackberri', 0): 11, ('falkland', 0): 1, ('mtbcut', 0): 1, ('joint', 1): 3, ('crazi', 1): 26, ('trax', 1): 1, ('rear', 1): 1, ('end', 1): 48, ('hes', 1): 8, ('definit', 1): 28, ('host', 1): 12, ('whilst', 1): 2, ('awwh', 0): 3, ('traffic', 0): 22, ('what', 1): 14, ('raini', 1): 15, ('understand', 0): 14, ('motiv', 0): 3, ('guilt', 0): 7, ('thnx', 1): 9, ('mourn', 0): 4, ('adobo', 0): 1, ('fellow', 1): 6, ('treki', 1): 1, ('garag', 0): 5, ('anytim', 0): 3, ('heard', 0): 20, ('gearbox', 0): 1, ('problthem', 0): 57, ('open', 0): 31, ('writer', 0): 1, ('word', 0): 18, ('document', 0): 3, ('correct', 0): 2, ('attitud', 1): 2, ('non', 0): 1, ('minniapoli', 0): 1, ('newport', 0): 1, ('diego', 0): 6, ('dinner', 1): 57, ('jiuliani', 1): 1, ('yum', 1): 32, ('hang', 1): 33, ('besti', 1): 7, ('patienc', 1): 3, ('reward', 1): 2, ('anyth', 1): 37, ('forc', 0): 8, ('movi', 0): 53, ('book', 0): 32, ('report', 0): 4, ('lazi', 0): 16, ('dammit', 0): 17, ('pass', 0): 24, ('fuckingtast', 0): 1, ('human', 1): 5, ('societi', 1): 2, ('find', 1): 50, ('cam', 1): 4, ('plus', 1): 14, ('sa', 1): 2, ('commin', 1): 1, ('weigh', 0): 2, ('highest', 0): 1, ('weight', 0): 5, ('ever', 0): 59, ('pleas', 0): 62, ('hs', 1): 1, ('bahaha', 1): 7, ('kung', 1): 1, ('fu', 1): 1, ('panda', 1): 3, ('annual', 1): 1, ('acadthemi', 1): 2, ('award', 1): 7, ('trigger', 0): 1, ('definit', 0): 17, ('ask', 0): 28, ('shitti', 0): 5, ('reflect', 0): 1, ('wizz', 0): 1, ('pant', 0): 4, ('stuf', 0): 3, ('breath', 0): 13, ('exact', 1): 11, ('woke', 1): 19, ('nap', 1): 9, ('index', 1): 1, ('unload', 1): 2, ('yeahh', 0): 4, ('owen', 0): 1, ('though', 0): 88, ('respect', 0): 2, ('episod', 0): 7, ('record', 0): 11, ('cont', 1): 2, ('told', 1): 14, ('bean', 1): 2, ('toast', 1): 5, ('play', 1): 85, ('puppi', 1): 9, ('alway', 0): 68, ('forget', 0): 21, ('anyth', 0): 43, ('tennesse', 0): 3, ('doctor', 0): 12, ('sufka', 0): 1, ('fever', 0): 21, ('miley', 0): 8, ('notic', 0): 12, ('yogurt', 1): 3, ('mona', 1): 1, ('fone', 1): 1, ('yoplait', 1): 1, ('lookin', 1): 7, ('hrs', 1): 4, ('tmorrow', 1): 1, ('rehears', 1): 2, ('gnight', 1): 2, ('macbook', 0): 10, ('switch', 0): 4, ('fine', 0): 9, ('patron', 0): 2, ('finish', 1): 58, ('giraff', 1): 1, ('super', 1): 36, ('flip', 0): 2, ('doc', 0): 11, ('dear', 0): 16, ('worst', 0): 39, ('bit', 0): 60, ('highlight', 0): 2, ('soprano', 0): 1, ('cream', 1): 18, ('bomb', 1): 5, ('suppos', 1): 11, ('philli', 1): 2, ('trust', 1): 5, ('sky', 1): 5, ('anyon', 1): 22, ('dmore', 1): 1, ('afaik', 0): 1, ('crocco', 0): 1, ('longer', 0): 19, ('avail', 0): 6, ('salsa', 0): 1, ('ienjoy', 0): 1, ('neat', 1): 4, ('noth', 1): 35, ('flash', 1): 4, ('selena', 0): 3, ('gal', 0): 1, ('ghibli', 1): 1, ('ponyo', 1): 1, ('sethem', 1): 36, ('august', 1): 5, ('road', 1): 6, ('success', 1): 16, ('month', 1): 42, ('broken', 1): 6, ('airco', 1): 1, ('bot', 1): 2, ('wick', 0): 7, ('tuner', 0): 1, ('card', 0): 15, ('arriv', 0): 10, ('although', 0): 7, ('sure', 0): 64, ('fa', 0): 1, ('cup', 0): 6, ('appl', 0): 7, ('rotten', 0): 3, ('center', 0): 7, ('luck', 0): 15, ('boston', 0): 3, ('test', 0): 19, ('thempti', 0): 11, ('insid', 0): 10, ('lolz', 1): 4, ('pj', 1): 4, ('box', 1): 4, ('helsinki', 1): 1, ('group', 1): 11, ('nyc', 1): 4, ('mee', 0): 6, ('liam', 0): 1, ('peed', 0): 2, ('potti', 0): 1, ('hahahaha', 1): 9, ('wild', 1): 7, ('ride', 1): 23, ('state', 0): 11, ('tour', 0): 14, ('hello', 0): 15, ('sunni', 0): 16, ('fuzzi', 0): 1, ('coffe', 0): 23, ('brew', 0): 5, ('holi', 1): 4, ('dexter', 1): 1, ('lost', 1): 12, ('kitten', 1): 4, ('gettin', 1): 7, ('chunki', 1): 1, ('butt', 1): 3, ('sinc', 1): 38, ('qld', 1): 2, ('marley', 1): 2, ('twilight', 1): 15, ('nose', 0): 16, ('coupl', 1): 18, ('fortun', 1): 2, ('thick', 1): 1, ('accident', 0): 8, ('click', 0): 6, ('skill', 0): 4, ('bio', 0): 6, ('yay', 0): 16, ('honor', 0): 1, ('suckk', 0): 2, ('quiet', 0): 4, ('bunni', 0): 8, ('age', 1): 11, ('plan', 1): 38, ('wear', 1): 20, ('whataburg', 0): 1, ('locat', 0): 1, ('talli', 0): 1, ('harsh', 0): 2, ('lay', 0): 14, ('comfort', 0): 4, ('posit', 0): 3, ('leav', 0): 69, ('forev', 0): 17, ('nauseous', 0): 4, ('yogurt', 0): 1, ('delici', 1): 18, ('lay', 1): 11, ('patio', 1): 2, ('tom', 1): 13, ('san', 1): 6, ('pool', 1): 10, ('burger', 1): 5, ('heck', 0): 4, ('gave', 1): 28, ('bike', 1): 9, ('thorough', 1): 1, ('wash', 1): 9, ('degreas', 1): 1, ('greas', 1): 2, ('hero', 1): 9, ('status', 1): 7, ('sock', 1): 5, ('ms', 1): 3, ('mccain', 1): 1, ('aaww', 1): 1, ('jame', 1): 7, ('kiss', 1): 19, ('venezuela', 1): 1, ('everybodi', 1): 23, ('surpris', 1): 30, ('til', 1): 18, ('tho', 1): 35, ('themploye', 1): 1, ('orient', 1): 1, ('serco', 1): 1, ('yayi', 1): 7, ('prom', 1): 13, ('ha', 1): 40, ('chai', 1): 3, ('pokthemon', 1): 1, ('ym', 0): 1, ('meebo', 0): 1, ('ebuddi', 0): 1, ('fckeditor', 0): 1, ('plain', 0): 6, ('brecki', 1): 1, ('hot', 1): 37, ('cuppa', 1): 2, ('milk', 1): 8, ('fortifi', 1): 1, ('monin', 1): 1, ('irish', 1): 3, ('syrup', 1): 3, ('bliss', 1): 3, ('vet', 1): 2, ('biz', 1): 1, ('happi', 0): 44, ('mum', 0): 25, ('doubt', 1): 6, ('darlin', 1): 2, ('boy', 1): 37, ('worthi', 1): 1, ('whenev', 0): 8, ('nine', 1): 4, ('annivarsari', 1): 1, ('hanson', 1): 1, ('second', 1): 18, ('lovin', 1): 7, ('shaven', 1): 1, ('flower', 1): 19, ('young', 1): 13, ('rthemind', 1): 16, ('strang', 1): 3, ('late', 1): 34, ('set', 1): 23, ('edg', 1): 3, ('smudg', 1): 1, ('hous', 1): 65, ('anoth', 1): 64, ('lectur', 1): 2, ('gob', 1): 1, ('smack', 1): 2, ('scott', 1): 2, ('tweetdeck', 1): 7, ('languish', 1): 1, ('api', 1): 1, ('angri', 0): 10, ('somebodi', 0): 9, ('campus', 1): 2, ('cuter', 1): 2, ('gone', 1): 27, ('minor', 1): 3, ('soap', 1): 3, ('marathon', 1): 4, ('photo', 1): 39, ('edit', 1): 7, ('inn', 1): 2, ('lake', 1): 9, ('food', 1): 41, ('adventur', 0): 3, ('awessome', 1): 1, ('cut', 1): 13, ('hurr', 1): 1, ('massag', 1): 5, ('orr', 1): 1, ('alki', 1): 1, ('foodtour', 1): 1, ('yeaah', 1): 4, ('pray', 1): 13, ('bare', 1): 4, ('awak', 1): 17, ('racer', 1): 2, ('sweeti', 1): 18, ('happier', 1): 6, ('beyond', 0): 7, ('belief', 0): 1, ('nap', 0): 18, ('urg', 1): 1, ('mcfli', 1): 10, ('l', 1): 13, ('obama', 0): 1, ('cover', 0): 17, ('apolog', 0): 5, ('fox', 0): 2, ('dnt', 1): 6, ('regret', 1): 5, ('tyga', 1): 1, ('random', 1): 7, ('deleon', 1): 1, ('tifanni', 1): 1, ('blew', 1): 1, ('bb', 1): 3, ('lose', 1): 7, ('metro', 1): 2, ('ouch', 0): 26, ('achi', 0): 3, ('robin', 0): 3, ('washington', 0): 1, ('park', 0): 25, ('outsid', 1): 35, ('rusti', 1): 2, ('awh', 1): 4, ('upload', 1): 23, ('latest', 1): 7, ('chap', 1): 1, ('happyslip', 1): 1, ('vid', 1): 12, ('crochet', 1): 3, ('onlin', 1): 14, ('lefti', 1): 1, ('aahh', 0): 3, ('funer', 0): 8, ('chicago', 0): 3, ('followfriday', 0): 4, ('easi', 1): 16, ('dad', 0): 27, ('tomoz', 0): 1, ('plus', 0): 14, ('score', 0): 2, ('bludg', 0): 1, ('episod', 1): 30, ('cri', 1): 14, ('ipod', 0): 15, ('taken', 0): 12, ('truli', 0): 6, ('companion', 0): 1, ('ness', 1): 1, ('beetl', 1): 1, ('bring', 1): 24, ('zilch', 1): 1, ('bar', 1): 10, ('peep', 1): 10, ('appear', 1): 4, ('funni', 1): 83, ('dayi', 0): 2, ('quit', 1): 40, ('feedback', 1): 5, ('excus', 0): 6, ('mm', 1): 22, ('chocol', 1): 28, ('pancak', 1): 7, ('herhsey', 1): 1, ('recover', 0): 1, ('boot', 0): 7, ('busi', 0): 34, ('hous', 0): 71, ('sell', 0): 8, ('regret', 0): 9, ('audit', 0): 3, ('sethem', 0): 52, ('neighbor', 0): 6, ('chill', 1): 21, ('seri', 1): 10, ('hill', 1): 11, ('uk', 1): 14, ('yup', 0): 4, ('loss', 0): 12, ('hangin', 0): 3, ('tlkin', 0): 1, ('grandpar', 0): 4, ('awsom', 1): 9, ('togeth', 1): 24, ('facebook', 0): 28, ('load', 0): 22, ('hulu', 0): 7, ('desktop', 0): 3, ('window', 0): 20, ('media', 0): 3, ('extend', 0): 2, ('johnni', 1): 2, ('deep', 1): 5, ('public', 1): 5, ('enthemi', 1): 4, ('catch', 1): 18, ('film', 1): 22, ('hk', 1): 3, ('rather', 0): 11, ('twittervers', 1): 6, ('entertain', 1): 12, ('bankrol', 1): 1, ('bit', 1): 31, ('whine', 1): 1, ('beat', 1): 10, ('flu', 0): 21, ('friday', 1): 49, ('wat', 0): 17, ('stratus', 1): 1, ('bye', 1): 15, ('high', 1): 15, ('fb', 1): 16, ('jt', 1): 2, ('ill', 1): 18, ('ethan', 0): 1, ('aunt', 1): 4, ('hairss', 1): 1, ('imma', 0): 6, ('bro', 1): 12, ('activ', 1): 4, ('bang', 0): 8, ('elbow', 0): 1, ('bleed', 0): 6, ('owwie', 0): 1, ('bet', 1): 12, ('trip', 1): 26, ('possibl', 0): 9, ('phobia', 0): 3, ('list', 0): 16, ('charg', 1): 5, ('canada', 0): 5, ('allow', 0): 9, ('cross', 0): 10, ('border', 0): 3, ('jona', 1): 23, ('franki', 1): 2, ('cautious', 1): 2, ('pump', 1): 4, ('version', 1): 12, ('interact', 1): 1, ('ticket', 1): 20, ('planner', 1): 1, ('launch', 1): 5, ('asap', 1): 6, ('everyday', 1): 6, ('singl', 1): 16, ('goe', 1): 20, ('fuck', 1): 20, ('sadder', 0): 2, ('folk', 0): 4, ('somewher', 1): 7, ('news', 1): 16, ('tooth', 1): 3, ('outta', 1): 6, ('ankl', 0): 6, ('rthemthemb', 0): 24, ('nation', 1): 4, ('champ', 1): 2, ('pull', 1): 10, ('blue', 1): 9, ('oyster', 1): 1, ('cult', 1): 2, ('jubey', 1): 1, ('snore', 1): 2, ('ooh', 1): 28, ('bow', 1): 1, ('econom', 1): 3, ('wisdom', 1): 6, ('sensei', 1): 1, ('inhabit', 1): 2, ('slept', 0): 14, ('heather', 0): 2, ('later', 0): 37, ('twilight', 0): 1, ('maatt', 1): 1, ('spoken', 1): 2, ('forget', 1): 13, ('bout', 1): 13, ('aussi', 1): 4, ('lool', 1): 2, ('prize', 0): 3, ('whatev', 0): 6, ('anyway', 0): 21, ('bus', 0): 19, ('cos', 0): 10, ('oyster', 0): 1, ('shift', 0): 15, ('orphan', 0): 1, ('lamb', 0): 2, ('local', 0): 10, ('farmer', 0): 1, ('cheat', 0): 4, ('paper', 0): 15, ('clip', 0): 4, ('itali', 0): 2, ('note', 0): 14, ('enough', 1): 18, ('mad', 1): 7, ('max', 1): 2, ('pic', 1): 59, ('kept', 1): 3, ('carri', 1): 10, ('al', 1): 3, ('doesnt', 1): 9, ('paid', 0): 9, ('cheer', 1): 32, ('buttercup', 1): 1, ('heart', 1): 17, ('mend', 1): 1, ('corpor', 0): 1, ('themploy', 0): 1, ('energi', 1): 8, ('brah', 0): 1, ('trusti', 0): 1, ('tie', 0): 4, ('spill', 0): 7, ('band', 0): 4, ('normal', 0): 10, ('inlaw', 1): 3, ('tanna', 1): 1, ('twitteerr', 0): 1, ('babiieshow', 0): 1, ('ive', 0): 16, ('thng', 0): 1, ('charact', 0): 3, ('rare', 0): 4, ('elabor', 0): 1, ('upon', 0): 1, ('woman', 1): 11, ('bought', 0): 8, ('pool', 0): 10, ('instead', 0): 20, ('california', 0): 7, ('vacat', 0): 3, ('dat', 1): 3, ('spent', 0): 10, ('topic', 0): 4, ('invent', 0): 1, ('tweet', 0): 86, ('harrymcflytos', 0): 1, ('kanoa', 1): 1, ('loss', 1): 3, ('dear', 1): 19, ('scifi', 1): 1, ('geek', 1): 6, ('starwar', 1): 1, ('ten', 1): 5, ('command', 1): 2, ('bought', 1): 26, ('tix', 1): 5, ('blood', 1): 1, ('excel', 0): 3, ('sweat', 0): 7, ('forward', 0): 18, ('commi', 1): 1, ('finest', 1): 1, ('blogger', 1): 2, ('block', 1): 13, ('china', 1): 6, ('updat', 1): 30, ('wall', 1): 5, ('knew', 1): 22, ('proud', 0): 3, ('os', 0): 2, ('x', 0): 36, ('lag', 0): 1, ('behind', 0): 11, ('drive', 0): 47, ('nut', 0): 7, ('messag', 0): 23, ('account', 0): 21, ('suspend', 0): 6, ('violat', 0): 1, ('term', 0): 4, ('ding', 1): 1, ('dong', 1): 2, ('breakfastservic', 1): 1, ('marjolein', 1): 1, ('guido', 1): 1, ('dirk', 1): 1, ('hapi', 1): 1, ('father', 1): 6, ('unattract', 0): 1, ('regular', 0): 2, ('glass', 0): 7, ('bodi', 0): 17, ('howev', 1): 10, ('balanc', 0): 3, ('limit', 0): 8, ('high', 0): 24, ('tryin', 0): 2, ('frustrat', 0): 13, ('aarrgh', 0): 1, ('august', 0): 6, ('decent', 0): 3, ('seat', 0): 9, ('recess', 0): 4, ('kristen', 0): 1, ('woo', 1): 33, ('nah', 0): 6, ('suit', 0): 5, ('tthemp', 0): 2, ('degre', 0): 14, ('sit', 0): 43, ('morrn', 1): 2, ('dbar', 1): 1, ('timezz', 1): 1, ('dthemi', 0): 3, ('attend', 0): 6, ('support', 0): 11, ('sb', 0): 1, ('pap', 0): 1, ('plzz', 0): 3, ('ahahahahahaha', 1): 1, ('rni', 0): 1, ('learn', 0): 19, ('rich', 0): 4, ('sugari', 0): 1, ('golden', 0): 3, ('graham', 0): 1, ('bar', 0): 8, ('vend', 0): 1, ('bleck', 0): 1, ('fate', 0): 1, ('straight', 0): 7, ('divx', 0): 1, ('nope', 1): 6, ('within', 1): 4, ('thursday', 1): 11, ('wednesday', 1): 7, ('bright', 1): 12, ('scare', 1): 3, ('scare', 0): 34, ('jip', 0): 2, ('presenc', 0): 1, ('gt', 1): 34, ('mention', 1): 8, ('pleasur', 1): 11, ('favorit', 0): 13, ('quit', 0): 25, ('doin', 1): 8, ('sunbeam', 1): 1, ('count', 1): 7, ('send', 1): 28, ('parti', 0): 25, ('reboot', 1): 1, ('crew', 1): 2, ('tast', 1): 10, ('btw', 0): 11, ('hut', 0): 2, ('face', 0): 32, ('hammer', 0): 1, ('accid', 0): 9, ('obvious', 0): 4, ('jam', 0): 4, ('nau', 1): 1, ('graduat', 1): 13, ('intern', 1): 3, ('least', 0): 28, ('def', 0): 6, ('answer', 0): 14, ('kevin', 1): 3, ('product', 1): 19, ('twas', 1): 4, ('brilliant', 1): 9, ('sneez', 0): 5, ('three', 0): 12, ('quick', 0): 11, ('success', 0): 2, ('four', 0): 7, ('hunt', 1): 4, ('volterra', 1): 1, ('question', 1): 14, ('charact', 1): 9, ('histori', 1): 2, ('unansw', 1): 1, ('watchn', 0): 1, ('n', 0): 44, ('wana', 0): 4, ('wtf', 1): 3, ('trend', 1): 7, ('topic', 1): 8, ('fourth', 1): 9, ('drag', 0): 15, ('yep', 0): 12, ('bet', 0): 10, ('chris', 0): 6, ('letter', 0): 3, ('includ', 1): 9, ('ima', 1): 10, ('laker', 1): 9, ('linda', 0): 2, ('arrest', 0): 2, ('lmao', 0): 20, ('bum', 0): 19, ('braid', 0): 1, ('gambit', 1): 3, ('met', 0): 4, ('trash', 0): 4, ('hhaha', 0): 2, ('mirror', 1): 1, ('kid', 1): 39, ('cabin', 1): 1, ('err', 1): 1, ('two', 1): 55, ('stolen', 0): 3, ('purs', 0): 2, ('tag', 0): 3, ('peanut', 1): 4, ('butter', 1): 5, ('combon', 1): 1, ('deadlin', 1): 1, ('architectur', 1): 2, ('cos', 1): 10, ('stir', 1): 1, ('hatr', 1): 1, ('mighti', 1): 2, ('red', 1): 15, ('scum', 1): 1, ('near', 1): 14, ('grey', 1): 5, ('anatomi', 1): 2, ('stalkerish', 0): 1, ('elev', 0): 1, ('brooki', 0): 1, ('moracca', 0): 1, ('daughter', 0): 8, ('seper', 0): 3, ('anxieti', 0): 6, ('intens', 0): 2, ('sight', 0): 3, ('attack', 0): 12, ('wasnt', 0): 8, ('id', 0): 12, ('straighten', 0): 5, ('pound', 0): 6, ('pricey', 0): 1, ('interview', 1): 15, ('goddamn', 0): 3, ('usual', 1): 12, ('lili', 1): 5, ('cower', 0): 2, ('close', 1): 20, ('librari', 1): 1, ('due', 1): 11, ('ac', 1): 1, ('weve', 1): 1, ('overcom', 1): 2, ('toget', 0): 1, ('goos', 0): 3, ('egg', 0): 4, ('damnit', 0): 7, ('fgs', 0): 1, ('tweekdeckk', 0): 1, ('took', 0): 36, ('antibiot', 0): 1, ('expect', 0): 9, ('happen', 0): 62, ('plagiar', 0): 1, ('exhaust', 0): 15, ('dissapoint', 0): 3, ('tip', 1): 11, ('compani', 1): 7, ('laptop', 1): 15, ('aim', 1): 6, ('solut', 1): 1, ('goddamnit', 0): 1, ('communic', 0): 1, ('okay', 1): 41, ('clean', 0): 23, ('bathroom', 0): 3, ('smell', 0): 7, ('clorox', 0): 1, ('coulda', 1): 3, ('iron', 1): 5, ('cloth', 1): 7, ('grab', 1): 8, ('jottonia', 1): 1, ('news', 0): 32, ('tattoo', 0): 2, ('artist', 0): 2, ('iloveyoutwoo', 1): 1, ('part', 1): 29, ('surrey', 1): 1, ('either', 1): 15, ('nippi', 1): 1, ('nervous', 0): 8, ('comin', 0): 3, ('insomnia', 0): 4, ('newish', 0): 2, ('teacher', 0): 9, ('agre', 0): 10, ('grumpi', 0): 1, ('yesterday', 0): 35, ('skl', 0): 2, ('russian', 0): 1, ('sabido', 0): 1, ('nada', 0): 1, ('de', 0): 7, ('ti', 0): 1, ('xuxu', 1): 1, ('usb', 1): 3, ('charl', 1): 1, ('eye', 0): 36, ('hubbi', 0): 10, ('iraq', 0): 1, ('spoke', 0): 3, ('pop', 0): 11, ('background', 0): 4, ('drop', 0): 13, ('mobil', 0): 11, ('signal', 0): 3, ('garden', 0): 16, ('wine', 0): 8, ('nick', 1): 10, ('tiger', 1): 2, ('costum', 1): 2, ('ahaha', 1): 7, ('backpack', 1): 2, ('laker', 0): 6, ('tmwr', 0): 1, ('ouchh', 0): 1, ('burnt', 0): 15, ('frkn', 0): 1, ('tongu', 0): 9, ('amtarot', 1): 1, ('green', 1): 11, ('dthemand', 1): 2, ('blow', 1): 3, ('sgb', 1): 1, ('mint', 1): 6, ('loung', 1): 5, ('ask', 1): 28, ('yas', 1): 1, ('nuu', 1): 1, ('born', 1): 4, ('yer', 0): 4, ('cock', 0): 1, ('deserv', 0): 6, ('stick', 0): 17, ('cowel', 0): 1, ('produc', 0): 3, ('screw', 1): 4, ('unlimit', 1): 9, ('rington', 1): 10, ('usa', 1): 11, ('mow', 1): 6, ('grass', 1): 2, ('ambien', 0): 1, ('perhap', 0): 3, ('ash', 0): 1, ('catnip', 0): 1, ('plant', 0): 5, ('neverr', 1): 1, ('chiropractor', 0): 2, ('lmaao', 1): 1, ('makino', 1): 1, ('chaya', 1): 1, ('theori', 0): 2, ('strum', 0): 1, ('hum', 0): 1, ('fight', 0): 14, ('mother', 0): 24, ('alright', 1): 13, ('decompress', 1): 1, ('folk', 1): 4, ('hmm', 0): 15, ('mix', 1): 7, ('sli', 1): 1, ('brave', 1): 4, ('alexi', 1): 1, ('whof', 1): 9, ('view', 1): 13, ('countri', 0): 7, ('realis', 1): 6, ('urgh', 0): 7, ('revis', 0): 18, ('snappi', 0): 1, ('fat', 0): 8, ('hire', 0): 5, ('economi', 0): 7, ('bush', 0): 3, ('unless', 1): 4, ('gretel', 1): 1, ('killeen', 1): 1, ('appar', 1): 5, ('eew', 0): 1, ('chees', 0): 10, ('bahah', 1): 1, ('keen', 1): 2, ('sunburnt', 0): 8, ('disappoint', 0): 30, ('rubi', 1): 6, ('metaprogram', 1): 1, ('screencast', 1): 1, ('code', 1): 11, ('practic', 1): 8, ('master', 1): 5, ('horoscop', 1): 1, ('chang', 1): 24, ('ohyeahh', 0): 1, ('heat', 0): 16, ('heyi', 1): 5, ('list', 1): 17, ('nick', 0): 7, ('ciara', 1): 5, ('cycl', 1): 4, ('virtual', 1): 3, ('traffic', 1): 7, ('shine', 1): 12, ('vido', 1): 1, ('regular', 1): 2, ('partner', 1): 3, ('sankar', 1): 1, ('toe', 0): 16, ('stamp', 0): 2, ('hokey', 0): 2, ('cokey', 0): 1, ('brief', 0): 1, ('jame', 0): 3, ('creepi', 0): 3, ('role', 0): 2, ('blatent', 0): 1, ('shove', 0): 1, ('trick', 0): 3, ('xx', 0): 36, ('pee', 0): 4, ('scratch', 0): 8, ('chest', 0): 7, ('lie', 0): 11, ('breast', 0): 1, ('hah', 0): 4, ('grown', 0): 3, ('men', 0): 8, ('discuss', 0): 2, ('children', 0): 7, ('aus', 1): 2, ('zimmermann', 1): 1, ('illionar', 1): 1, ('dhini', 1): 1, ('gail', 1): 2, ('sorronda', 1): 1, ('romanc', 1): 2, ('lisa', 1): 5, ('ho', 1): 2, ('cassett', 1): 1, ('tutu', 1): 1, ('balmain', 1): 1, ('ispir', 1): 1, ('pres', 0): 1, ('situat', 0): 10, ('sucki', 0): 5, ('b', 0): 30, ('automat', 0): 3, ('smthng', 0): 1, ('maggi', 1): 1, ('moo', 1): 4, ('galaxi', 1): 1, ('mc', 1): 1, ('yah', 1): 6, ('sort', 0): 9, ('haavent', 0): 1, ('magic', 0): 8, ('sbarro', 0): 1, ('dinner', 0): 14, ('krispi', 0): 1, ('krtheme', 0): 1, ('dessert', 0): 1, ('healthi', 0): 9, ('nice', 0): 24, ('across', 0): 11, ('pastel', 0): 1, ('recip', 0): 4, ('themail', 0): 32, ('varieti', 1): 1, ('loopt', 0): 1, ('nigga', 0): 4, ('coughin', 0): 1, ('mass', 0): 4, ('exodus', 0): 1, ('cnt', 0): 8, ('view', 0): 5, ('uk', 0): 11, ('block', 0): 20, ('freo', 1): 1, ('arvo', 1): 2, ('hobbi', 1): 1, ('scanton', 1): 1, ('farr', 1): 1, ('elain', 1): 3, ('cartilag', 1): 1, ('pierc', 1): 1, ('blower', 0): 1, ('censor', 0): 1, ('dirteeh', 0): 1, ('swarm', 1): 1, ('roof', 1): 3, ('gabl', 1): 2, ('bait', 1): 1, ('king', 1): 8, ('scienc', 0): 4, ('project', 0): 9, ('track', 0): 2, ('brazil', 1): 9, ('loov', 1): 9, ('rz', 1): 1, ('ther', 0): 1, ('peol', 0): 1, ('suppos', 0): 33, ('partyin', 0): 2, ('skint', 0): 3, ('geoff', 1): 2, ('verizon', 0): 2, ('store', 0): 13, ('awhil', 0): 4, ('aha', 0): 4, ('md', 1): 1, ('ulet', 1): 2, ('degre', 1): 8, ('bs', 1): 1, ('drill', 0): 2, ('sergeant', 0): 1, ('everybodi', 0): 12, ('est', 0): 1, ('rise', 0): 1, ('shine', 0): 6, ('beetch', 0): 1, ('jk', 0): 5, ('whatsoev', 1): 1, ('sober', 1): 2, ('creeper', 0): 2, ('cyberstalk', 0): 1, ('privaci', 0): 2, ('lotr', 1): 1, ('rotk', 1): 1, ('yeess', 0): 1, ('pot', 1): 1, ('psycolog', 1): 1, ('treat', 1): 15, ('recogn', 1): 4, ('leopard', 1): 2, ('tank', 1): 2, ('piss', 1): 3, ('roflmfao', 1): 1, ('grind', 1): 2, ('money', 1): 17, ('wet', 1): 2, ('nashvill', 1): 1, ('gir', 1): 2, ('momma', 1): 25, ('current', 1): 9, ('debt', 0): 1, ('african', 1): 3, ('tele', 1): 2, ('itt', 1): 6, ('starfleet', 0): 2, ('romulin', 0): 1, ('idiotat', 1): 1, ('techyuppi', 1): 1, ('idiot', 1): 2, ('tonsil', 0): 3, ('gpt', 1): 1, ('tp', 1): 2, ('lyric', 1): 2, ('finsih', 1): 1, ('mow', 0): 5, ('lawn', 0): 5, ('beyonc', 1): 3, ('smash', 1): 1, ('matter', 0): 12, ('cleanout', 0): 1, ('rearrang', 0): 1, ('bin', 0): 4, ('bookshelf', 0): 1, ('yaay', 0): 2, ('meal', 1): 8, ('toy', 1): 9, ('six', 0): 8, ('flag', 0): 2, ('ride', 0): 10, ('shoulder', 0): 4, ('raw', 0): 2, ('tweeterama', 1): 1, ('yoga', 1): 4, ('ocd', 1): 1, ('attack', 1): 4, ('america', 1): 9, ('bws', 1): 1, ('scent', 1): 2, ('op', 0): 1, ('queen', 0): 3, ('power', 1): 10, ('storm', 1): 4, ('simpli', 1): 4, ('met', 1): 13, ('ang', 1): 6, ('consid', 1): 5, ('price', 1): 11, ('cloth', 0): 10, ('shop', 0): 25, ('apart', 0): 18, ('msgs', 0): 2, ('homi', 0): 3, ('nobodi', 0): 11, ('comment', 0): 13, ('paig', 1): 1, ('rose', 1): 4, ('jenn', 1): 2, ('adam', 1): 2, ('without', 1): 24, ('child', 1): 5, ('imagin', 1): 9, ('lover', 1): 5, ('poetic', 1): 2, ('choic', 0): 6, ('liquor', 1): 1, ('yus', 1): 1, ('liana', 1): 1, ('corber', 1): 1, ('moreov', 1): 1, ('wiaih', 1): 1, ('humbl', 1): 2, ('decent', 1): 4, ('dome', 0): 1, ('bite', 0): 6, ('soundtrack', 0): 1, ('needless', 0): 2, ('mayjah', 0): 1, ('point', 0): 15, ('dose', 0): 2, ('oprah', 1): 2, ('unfri', 1): 1, ('kfc', 1): 1, ('boba', 1): 1, ('pope', 1): 1, ('dave', 1): 8, ('ben', 1): 10, ('bloom', 1): 2, ('paso', 1): 1, ('buy', 1): 20, ('brick', 1): 2, ('kasa', 0): 1, ('wow', 0): 32, ('argu', 0): 2, ('byron', 0): 1, ('fever', 1): 3, ('jen', 1): 1, ('french', 1): 8, ('fave', 1): 13, ('nail', 1): 7, ('manicurist', 1): 1, ('kati', 0): 2, ('jo', 0): 5, ('stuff', 0): 42, ('swine', 0): 8, ('bronchiti', 0): 3, ('diff', 0): 3, ('stori', 0): 15, ('fact', 0): 16, ('health', 0): 3, ('lack', 0): 9, ('either', 0): 26, ('crawl', 0): 6, ('ball', 0): 13, ('somewher', 0): 4, ('dan', 1): 3, ('theminthem', 1): 2, ('magic', 1): 9, ('laundri', 1): 9, ('hedg', 1): 1, ('japanes', 1): 3, ('kodomo', 1): 1, ('ina', 1): 1, ('facebook', 1): 13, ('clear', 1): 7, ('whole', 1): 24, ('survey', 1): 2, ('q', 1): 2, ('heyi', 0): 3, ('babyy', 0): 3, ('translat', 0): 3, ('googl', 0): 10, ('servic', 0): 9, ('spat', 0): 1, ('suggest', 1): 9, ('veronica', 1): 2, ('secret', 1): 2, ('choic', 1): 7, ('solo', 0): 1, ('noodl', 0): 4, ('twitterif', 1): 3, ('interfac', 1): 1, ('richi', 1): 2, ('lauren', 1): 3, ('engagth', 1): 3, ('sit', 1): 26, ('kaust', 1): 1, ('surround', 1): 4, ('ace', 1): 8, ('usa', 0): 1, ('thru', 0): 8, ('problthem', 1): 17, ('phil', 1): 2, ('await', 0): 3, ('tummi', 1): 1, ('charcoal', 0): 1, ('art', 0): 5, ('umm', 1): 11, ('twin', 1): 8, ('slurpe', 1): 1, ('epic', 1): 7, ('review', 1): 18, ('cowork', 0): 5, ('marc', 0): 2, ('jacob', 0): 1, ('stink', 0): 7, ('file', 0): 10, ('bankruptci', 0): 3, ('shaun', 0): 1, ('p', 0): 8, ('joke', 0): 13, ('aunt', 0): 4, ('hollyoak', 0): 9, ('min', 0): 22, ('mark', 0): 7, ('cost', 0): 12, ('grand', 0): 1, ('namast', 1): 1, ('hooray', 1): 4, ('undaunt', 1): 1, ('wakeup', 1): 2, ('london', 1): 18, ('justifi', 1): 1, ('side', 1): 13, ('ultimatum', 0): 2, ('dress', 0): 12, ('frickin', 0): 2, ('onscreen', 0): 1, ('keyboard', 0): 3, ('bb', 0): 9, ('class', 1): 17, ('twikini', 1): 1, ('oasi', 0): 1, ('ribena', 0): 1, ('toughest', 0): 2, ('decis', 0): 8, ('caus', 1): 25, ('comet', 1): 3, ('xoxo', 1): 16, ('smile', 0): 1, ('nano', 0): 2, ('peek', 1): 3, ('dimpl', 1): 3, ('welliti', 1): 2, ('gay', 1): 5, ('sens', 1): 10, ('sensibl', 1): 3, ('spent', 1): 17, ('allow', 1): 6, ('cybernet', 1): 1, ('expo', 1): 3, ('sf', 1): 3, ('dm', 1): 3, ('rate', 1): 3, ('cash', 1): 2, ('flo', 1): 1, ('bttr', 1): 1, ('previous', 0): 4, ('dayss', 0): 1, ('lead', 1): 6, ('laptop', 0): 16, ('boss', 0): 8, ('skipton', 0): 1, ('margarita', 0): 2, ('momo', 0): 1, ('warn', 1): 2, ('unbreak', 1): 2, ('extrthem', 0): 4, ('gave', 0): 16, ('scroll', 0): 1, ('bold', 0): 1, ('great', 0): 34, ('nois', 0): 4, ('circuit', 0): 1, ('breaker', 0): 1, ('worth', 0): 8, ('nicest', 1): 4, ('patient', 1): 3, ('deplyod', 1): 1, ('overload', 0): 2, ('homework', 0): 15, ('interrupt', 0): 1, ('lubbock', 1): 1, ('strip', 1): 4, ('cud', 1): 1, ('bahrain', 1): 1, ('brb', 1): 1, ('ck', 1): 1, ('juli', 1): 7, ('flollop', 1): 1, ('describ', 1): 1, ('move', 1): 31, ('belli', 1): 3, ('hurrican', 0): 2, ('front', 0): 9, ('line', 0): 14, ('receiv', 0): 5, ('sanctiti', 0): 1, ('convers', 0): 6, ('taint', 0): 1, ('vintag', 0): 1, ('accompani', 0): 1, ('defect', 0): 1, ('yikeyss', 1): 1, ('harmless', 1): 2, ('attent', 1): 4, ('brodi', 1): 3, ('ass', 1): 15, ('australia', 1): 12, ('decthemb', 1): 5, ('hehe', 0): 8, ('qet', 0): 1, ('drankin', 0): 1, ('sonetim', 1): 1, ('jordan', 1): 4, ('contest', 1): 2, ('bejewl', 0): 1, ('higherscor', 0): 1, ('ncp', 0): 1, ('placthement', 0): 3, ('treatment', 0): 2, ('tub', 0): 2, ('yahh', 1): 1, ('bday', 0): 4, ('omgood', 1): 2, ('bam', 1): 1, ('aa', 0): 2, ('winshit', 0): 1, ('stuff', 1): 46, ('result', 1): 8, ('glimps', 1): 2, ('cloud', 1): 4, ('woohoo', 1): 9, ('color', 0): 4, ('sky', 0): 6, ('philli', 0): 4, ('similar', 0): 2, ('experi', 0): 9, ('light', 1): 12, ('afraidiow', 1): 1, ('hug', 1): 33, ('ton', 0): 7, ('mail', 0): 5, ('inbox', 0): 3, ('bea', 1): 3, ('bum', 1): 5, ('ars', 0): 2, ('afford', 0): 14, ('hella', 1): 8, ('stellaa', 1): 1, ('anyhoo', 1): 2, ('msg', 1): 5, ('vma', 0): 1, ('lovato', 0): 1, ('concert', 0): 11, ('pixi', 1): 2, ('number', 1): 11, ('rush', 1): 3, ('festiv', 1): 6, ('sa', 0): 3, ('lyric', 0): 3, ('nebal', 1): 1, ('plc', 1): 1, ('score', 1): 4, ('widget', 1): 2, ('longg', 0): 1, ('girli', 1): 4, ('kingston', 1): 1, ('impress', 1): 12, ('entertain', 0): 4, ('enter', 0): 4, ('diagnosi', 0): 1, ('murder', 0): 4, ('boxset', 0): 1, ('peski', 0): 1, ('amazon', 0): 3, ('deliv', 0): 5, ('zimbabw', 0): 1, ('ten', 0): 2, ('ago', 0): 26, ('shipwreck', 0): 1, ('licens', 0): 5, ('cancel', 0): 30, ('risk', 0): 4, ('extrthem', 1): 6, ('awaken', 1): 1, ('indivib', 1): 1, ('chachi', 0): 2, ('surgeri', 0): 10, ('todayi', 0): 5, ('electrik', 0): 2, ('red', 0): 20, ('richgirl', 0): 1, ('sucker', 0): 2, ('lolli', 1): 1, ('addict', 1): 9, ('flavour', 1): 1, ('harder', 0): 5, ('listen', 0): 35, ('omj', 1): 3, ('pizza', 1): 20, ('girll', 1): 1, ('reduc', 1): 2, ('stress', 1): 5, ('insid', 1): 17, ('kauffman', 1): 1, ('crane', 1): 2, ('creat', 1): 5, ('avoid', 0): 4, ('black', 1): 15, ('suit', 1): 5, ('trade', 0): 3, ('dunno', 0): 10, ('gumbo', 0): 2, ('tommorrow', 0): 1, ('froggi', 0): 2, ('potato', 0): 2, ('farm', 0): 5, ('ellen', 1): 3, ('luggag', 1): 4, ('select', 1): 4, ('pasadena', 1): 1, ('conferm', 1): 1, ('themail', 1): 16, ('posada', 1): 1, ('ab', 1): 1, ('mornin', 1): 7, ('fli', 1): 15, ('white', 1): 12, ('alwa', 1): 1, ('skwl', 0): 1, ('industri', 1): 1, ('repierc', 1): 1, ('ridicul', 0): 7, ('hr', 1): 4, ('monitor', 1): 1, ('bleh', 0): 4, ('unlov', 0): 2, ('ignor', 0): 14, ('juss', 1): 3, ('lavend', 1): 2, ('camera', 1): 11, ('funni', 0): 11, ('profil', 0): 6, ('ass', 0): 26, ('stripe', 1): 1, ('vast', 1): 2, ('mindblow', 1): 1, ('sang', 1): 2, ('awe', 1): 6, ('tell', 0): 38, ('janett', 1): 1, ('band', 1): 24, ('arm', 1): 5, ('debut', 1): 2, ('galleri', 1): 5, ('festiv', 0): 1, ('peolpl', 1): 1, ('what', 0): 13, ('outlook', 0): 4, ('guten', 1): 1, ('told', 0): 24, ('austin', 0): 3, ('vaca', 0): 2, ('subject', 1): 3, ('educ', 1): 2, ('darfur', 1): 1, ('couldnt', 1): 3, ('shoutout', 1): 7, ('essay', 0): 8, ('r', 0): 27, ('thursday', 0): 9, ('nerdiest', 1): 1, ('server', 1): 1, ('chili', 1): 1, ('claratyn', 0): 1, ('hr', 0): 5, ('yea', 1): 22, ('shallow', 1): 1, ('camper', 1): 1, ('gud', 1): 7, ('eve', 1): 2, ('poker', 1): 3, ('swing', 0): 5, ('shut', 0): 15, ('humid', 0): 7, ('freez', 0): 10, ('weed', 1): 1, ('wrong', 1): 8, ('promis', 1): 11, ('yard', 1): 4, ('nervous', 1): 1, ('girlfriend', 0): 4, ('heartbroken', 0): 3, ('rubi', 0): 3, ('win', 0): 9, ('bot', 0): 3, ('dust', 0): 5, ('wore', 0): 1, ('panel', 0): 1, ('glue', 0): 1, ('liberti', 1): 1, ('biggest', 1): 5, ('talker', 1): 1, ('er', 1): 4, ('tweeter', 1): 6, ('gosh', 1): 3, ('hai', 1): 1, ('thar', 1): 1, ('mothersday', 1): 5, ('especi', 1): 20, ('kelli', 1): 6, ('pickler', 1): 1, ('republish', 0): 1, ('feed', 0): 4, ('often', 0): 5, ('higher', 0): 1, ('result', 0): 4, ('blu', 0): 1, ('crush', 0): 6, ('india', 0): 2, ('discount', 1): 1, ('pad', 1): 2, ('research', 1): 4, ('choos', 1): 3, ('hat', 1): 8, ('kettl', 1): 1, ('jani', 1): 2, ('bffs', 1): 2, ('k', 0): 6, ('inner', 0): 1, ('odd', 0): 6, ('mitchel', 0): 4, ('musso', 0): 1, ('dosent', 0): 2, ('polit', 1): 3, ('journey', 1): 7, ('brag', 0): 1, ('belli', 0): 3, ('smh', 0): 11, ('entir', 1): 9, ('canasta', 1): 1, ('homework', 1): 10, ('assum', 1): 3, ('sea', 0): 2, ('focus', 0): 6, ('dumb', 0): 8, ('huffi', 0): 1, ('tweep', 0): 2, ('fkn', 0): 1, ('ugli', 0): 15, ('match', 0): 7, ('unfortunat', 0): 1, ('blast', 0): 2, ('moon', 0): 7, ('mohawk', 0): 2, ('rad', 1): 2, ('pink', 1): 10, ('materi', 1): 2, ('bald', 1): 1, ('lighthous', 1): 1, ('hangout', 1): 3, ('ran', 1): 6, ('discoveri', 1): 3, ('chthem', 0): 6, ('oli', 0): 1, ('ridicul', 1): 2, ('chicago', 1): 7, ('gloomi', 0): 6, ('happeen', 0): 1, ('ro', 0): 1, ('mi', 1): 6, ('madr', 1): 7, ('women', 0): 5, ('capac', 0): 3, ('unholi', 0): 1, ('clash', 0): 1, ('betti', 0): 6, ('season', 0): 18, ('useless', 0): 5, ('crib', 0): 2, ('abt', 0): 7, ('wouldnt', 1): 3, ('tbh', 1): 3, ('silverston', 0): 1, ('sandown', 0): 1, ('oo', 1): 15, ('dunde', 1): 1, ('ton', 1): 4, ('uni', 1): 6, ('eclectr', 1): 1, ('custard', 1): 2, ('factori', 1): 2, ('unreal', 1): 1, ('atmo', 1): 1, ('hit', 0): 36, ('button', 0): 8, ('sheat', 0): 1, ('currenc', 0): 1, ('slightest', 0): 1, ('sadden', 0): 4, ('metal', 0): 6, ('detector', 0): 1, ('brickman', 0): 1, ('chad', 0): 1, ('davey', 0): 1, ('fb', 0): 14, ('ring', 0): 9, ('itch', 0): 2, ('yahyan', 1): 1, ('iaan', 1): 1, ('joke', 1): 12, ('sexiest', 1): 1, ('plain', 1): 3, ('boxer', 1): 2, ('took', 1): 17, ('advic', 1): 9, ('alon', 1): 21, ('samantha', 1): 4, ('hoo', 1): 13, ('accept', 1): 5, ('appolog', 1): 1, ('pasta', 1): 3, ('dress', 1): 15, ('muscl', 0): 5, ('caltrain', 0): 1, ('knew', 0): 9, ('stay', 0): 36, ('unfair', 0): 7, ('hater', 0): 6, ('prob', 1): 8, ('golfer', 1): 1, ('counter', 1): 1, ('benedryl', 1): 1, ('enthusiasm', 1): 1, ('confirm', 1): 1, ('ex', 1): 2, ('spread', 1): 5, ('deck', 1): 2, ('pat', 1): 1, ('carey', 1): 1, ('tis', 0): 2, ('warm', 0): 15, ('um', 0): 9, ('shouldnt', 0): 5, ('mutual', 0): 1, ('admir', 0): 2, ('societi', 0): 2, ('tym', 0): 3, ('hawksmoor', 1): 1, ('steak', 1): 2, ('midg', 0): 1, ('complet', 0): 22, ('punk', 0): 2, ('inde', 0): 4, ('sudden', 1): 1, ('downpour', 1): 1, ('freakish', 1): 1, ('philippin', 1): 9, ('cougar', 0): 1, ('threaten', 0): 3, ('surveil', 0): 1, ('increas', 0): 3, ('slowli', 0): 6, ('realliz', 0): 1, ('everyone', 1): 2, ('hello', 1): 19, ('leavin', 0): 4, ('ima', 0): 6, ('awe', 0): 7, ('command', 0): 1, ('bruis', 0): 8, ('fuckin', 0): 8, ('ice', 0): 16, ('tea', 0): 6, ('stressin', 0): 2, ('h', 1): 3, ('mikado', 0): 1, ('orlando', 0): 4, ('disney', 0): 5, ('somewhat', 0): 4, ('snl', 1): 23, ('overjoy', 1): 1, ('g', 1): 5, ('wach', 1): 1, ('zi', 1): 1, ('gaga', 1): 6, ('eh', 1): 6, ('clip', 1): 5, ('kay', 1): 2, ('heap', 1): 2, ('win', 1): 39, ('olivia', 1): 2, ('anybodi', 1): 5, ('asleep', 1): 14, ('event', 1): 8, ('bartâ', 1): 1, ('ofâ', 1): 1, ('theâ', 1): 1, ('criticalâ', 1): 1, ('american', 1): 11, ('hahhahah', 1): 2, ('consol', 0): 1, ('bmi', 0): 1, ('hahaha', 0): 14, ('obes', 0): 1, ('unhappi', 0): 8, ('mythic', 1): 1, ('brawl', 1): 2, ('order', 1): 9, ('screenshot', 1): 1, ('iowa', 0): 1, ('shout', 0): 2, ('input', 0): 3, ('comput', 0): 33, ('mic', 0): 2, ('jack', 0): 11, ('usb', 0): 4, ('webcam', 0): 3, ('control', 0): 7, ('nanni', 0): 1, ('mere', 0): 1, ('nicki', 0): 1, ('land', 0): 6, ('wont', 0): 33, ('fish', 0): 10, ('ee', 1): 3, ('shall', 0): 9, ('loos', 0): 11, ('gm', 0): 2, ('offset', 0): 1, ('gain', 0): 2, ('tax', 0): 5, ('wise', 0): 3, ('mile', 0): 14, ('approach', 0): 2, ('rough', 0): 3, ('draft', 0): 3, ('plenti', 1): 6, ('doo', 1): 3, ('congrad', 1): 1, ('upcom', 1): 3, ('jump', 1): 6, ('audienc', 1): 2, ('wd', 1): 1, ('tweeti', 1): 5, ('saaf', 1): 1, ('mee', 1): 9, ('friendship', 1): 2, ('hurray', 1): 6, ('pm', 1): 5, ('livebox', 0): 1, ('handwrit', 0): 1, ('isnt', 0): 14, ('myseld', 0): 1, ('lrc', 0): 1, ('rivet', 1): 1, ('toothpick', 1): 1, ('eye', 1): 14, ('cupcak', 1): 5, ('otalia', 1): 1, ('shini', 0): 2, ('rthem', 0): 1, ('expert', 0): 2, ('laugh', 1): 21, ('loudd', 1): 1, ('ahahahahahahahahah', 1): 1, ('fuunni', 1): 1, ('omfg', 1): 2, ('cleveland', 1): 2, ('brill', 1): 1, ('terri', 1): 2, ('christian', 1): 3, ('berocca', 1): 1, ('store', 1): 9, ('dillingen', 1): 1, ('sale', 1): 5, ('stheminar', 1): 1, ('blimey', 0): 1, ('ubc', 0): 1, ('offer', 0): 3, ('slack', 0): 2, ('club', 0): 9, ('themo', 0): 2, ('hahah', 0): 5, ('terri', 0): 2, ('dthemi', 1): 8, ('shape', 0): 3, ('cagebal', 0): 1, ('sofa', 0): 1, ('hue', 1): 1, ('jasmin', 0): 1, ('ala', 0): 4, ('poni', 0): 2, ('row', 0): 5, ('boat', 0): 3, ('fast', 0): 17, ('nno', 0): 1, ('basto', 1): 1, ('mabaho', 1): 1, ('leg', 1): 6, ('hahahha', 1): 2, ('isol', 1): 1, ('followfriday', 1): 14, ('half', 1): 16, ('vision', 1): 2, ('aaoouoouoouu', 1): 1, ('holi', 0): 10, ('cow', 0): 2, ('archi', 0): 4, ('andrew', 0): 3, ('marri', 0): 7, ('veronica', 0): 4, ('eventu', 0): 1, ('grade', 0): 5, ('twitt', 1): 2, ('opera', 0): 1, ('restor', 1): 3, ('itouch', 1): 5, ('yee', 1): 4, ('your', 1): 4, ('kay', 0): 1, ('enjoy', 0): 8, ('sis', 0): 7, ('babyfath', 0): 1, ('jimmi', 0): 2, ('aka', 0): 3, ('gthemstar', 0): 1, ('paracetamol', 0): 1, ('swallow', 0): 2, ('snap', 0): 4, ('wowzer', 0): 1, ('windi', 0): 2, ('heh', 1): 6, ('hun', 1): 17, ('spammer', 0): 5, ('alex', 1): 6, ('twit', 1): 8, ('potugues', 1): 1, ('wednesay', 1): 1, ('irvin', 1): 1, ('improv', 1): 4, ('gotham', 1): 1, ('showcas', 1): 2, ('pour', 0): 6, ('nake', 0): 2, ('xdd', 0): 1, ('muuch', 0): 1, ('packag', 0): 3, ('rthematch', 1): 1, ('return', 1): 9, ('sanzz', 0): 1, ('arch', 1): 1, ('draw', 1): 2, ('mvcc', 1): 1, ('cad', 1): 1, ('parantha', 1): 1, ('whatthefuck', 0): 1, ('depend', 0): 3, ('leigh', 1): 3, ('midnight', 1): 4, ('ny', 1): 7, ('reject', 0): 4, ('mediat', 0): 1, ('program', 0): 6, ('wowsa', 0): 1, ('precis', 1): 2, ('reallyy', 0): 2, ('gahif', 0): 1, ('atleast', 0): 2, ('nerrvous', 0): 1, ('bag', 1): 17, ('squee', 1): 1, ('happiest', 1): 5, ('whthem', 1): 1, ('brought', 1): 7, ('fold', 1): 5, ('clue', 1): 2, ('fiercthemichi', 1): 1, ('jon', 1): 9, ('pork', 1): 1, ('tenderloin', 1): 1, ('rice', 1): 5, ('sauc', 1): 2, ('wine', 1): 15, ('silverlight', 0): 1, ('base', 0): 1, ('problthemat', 0): 1, ('hahaa', 1): 2, ('awesome', 1): 4, ('tweep', 1): 11, ('gmorn', 1): 2, ('giirll', 1): 1, ('street', 1): 7, ('harlthem', 1): 1, ('subscrib', 1): 7, ('taker', 0): 3, ('safe', 1): 22, ('popular', 1): 5, ('level', 1): 6, ('bug', 0): 16, ('havnt', 0): 1, ('spoke', 1): 3, ('racker', 1): 1, ('castl', 1): 1, ('mexican', 1): 2, ('antibiot', 1): 1, ('loll', 1): 4, ('colleg', 1): 8, ('crappi', 0): 15, ('type', 0): 10, ('wheater', 0): 1, ('austria', 0): 1, ('couch', 1): 4, ('toward', 1): 3, ('uti', 1): 1, ('bread', 0): 5, ('forsaken', 0): 1, ('fusion', 0): 4, ('otherwis', 0): 1, ('vista', 0): 4, ('forsur', 1): 1, ('salt', 0): 2, ('pepper', 0): 2, ('chines', 0): 3, ('troubl', 0): 18, ('child', 0): 3, ('pider', 0): 1, ('pade', 0): 1, ('lesson', 0): 5, ('yup', 1): 6, ('splinter', 0): 1, ('heroic', 0): 1, ('save', 0): 21, ('pickl', 0): 1, ('mike', 1): 6, ('produc', 1): 2, ('cf', 1): 1, ('tasti', 1): 4, ('rum', 1): 2, ('earlier', 1): 13, ('yummyy', 1): 1, ('herb', 1): 1, ('although', 1): 7, ('dbl', 0): 1, ('flippin', 0): 2, ('blow', 0): 10, ('bahaha', 0): 3, ('diann', 0): 1, ('danc', 0): 11, ('whew', 1): 6, ('vacuum', 1): 2, ('exact', 0): 11, ('dandi', 0): 2, ('asian', 0): 2, ('callin', 0): 2, ('held', 0): 5, ('knife', 0): 1, ('scum', 0): 1, ('bookstor', 0): 1, ('wowi', 1): 1, ('wooie', 1): 1, ('lasagna', 1): 1, ('pile', 0): 3, ('box', 0): 12, ('tesco', 0): 2, ('blue', 0): 13, ('shopper', 0): 2, ('kitchen', 0): 9, ('access', 0): 8, ('microphon', 0): 1, ('arti', 1): 1, ('hid', 1): 1, ('passport', 1): 1, ('pant', 1): 2, ('sxsw', 1): 1, ('case', 0): 8, ('cenario', 0): 1, ('mask', 0): 5, ('besid', 0): 5, ('themili', 1): 3, ('tara', 0): 1, ('thai', 0): 1, ('pretti', 0): 24, ('mors', 1): 1, ('sometim', 1): 17, ('gaze', 1): 2, ('minut', 1): 24, ('titan', 1): 1, ('trailer', 1): 4, ('buzz', 0): 6, ('complic', 0): 7, ('dvd', 1): 9, ('buddi', 1): 7, ('coach', 0): 3, ('faster', 0): 3, ('alot', 0): 11, ('whos', 0): 1, ('ohh', 0): 23, ('headway', 1): 1, ('begin', 1): 8, ('dial', 1): 1, ('die', 1): 9, ('inabl', 0): 2, ('manag', 0): 9, ('tough', 0): 7, ('market', 0): 5, ('bill', 0): 8, ('miley', 1): 12, ('date', 0): 13, ('script', 0): 2, ('midway', 0): 1, ('pitch', 0): 3, ('catch', 0): 16, ('butthurt', 0): 1, ('storm', 0): 7, ('ditch', 0): 1, ('earli', 0): 32, ('yr', 1): 13, ('agil', 1): 2, ('session', 1): 8, ('schedul', 1): 4, ('garden', 1): 16, ('revis', 1): 7, ('foot', 0): 12, ('decid', 1): 9, ('sew', 1): 2, ('crafti', 1): 1, ('foxi', 1): 1, ('shes', 0): 10, ('irrat', 0): 1, ('lok', 1): 1, ('ef', 1): 3, ('jummi', 1): 1, ('punch', 0): 2, ('ought', 1): 1, ('moiv', 1): 1, ('oblig', 0): 1, ('vampir', 0): 1, ('kept', 0): 4, ('donor', 0): 1, ('honest', 0): 7, ('heal', 0): 4, ('dream', 1): 42, ('consist', 1): 2, ('ravish', 1): 1, ('zachari', 1): 2, ('quinto', 1): 2, ('immedi', 1): 1, ('monument', 1): 1, ('ew', 0): 8, ('maccabe', 1): 1, ('winner', 1): 3, ('sara', 1): 4, ('scariest', 1): 1, ('earth', 1): 11, ('wasabi', 1): 2, ('coat', 1): 4, ('burn', 1): 9, ('licenc', 0): 1, ('oc', 1): 1, ('rachyl', 1): 1, ('itun', 1): 8, ('switch', 1): 2, ('heather', 1): 1, ('pick', 1): 14, ('hooker', 1): 1, ('lmoa', 0): 1, ('eatin', 1): 1, ('yell', 0): 4, ('sworn', 0): 1, ('player', 0): 4, ('e', 0): 6, ('britney', 1): 4, ('solo', 1): 2, ('omar', 0): 1, ('edward', 0): 1, ('fire', 0): 11, ('nyc', 0): 8, ('fix', 1): 16, ('roger', 1): 2, ('carpool', 1): 1, ('alltim', 1): 1, ('vote', 1): 24, ('wisdom', 0): 8, ('trace', 0): 1, ('raini', 0): 8, ('ah', 1): 18, ('defo', 1): 2, ('pint', 1): 2, ('shouldv', 1): 1, ('cur', 1): 1, ('liesboystel', 0): 2, ('sever', 0): 10, ('balconi', 0): 2, ('dragon', 0): 1, ('glow', 0): 1, ('aptism', 1): 1, ('itthem', 0): 7, ('debit', 0): 2, ('tune', 1): 5, ('ichigo', 0): 1, ('ping', 0): 2, ('condit', 0): 4, ('cast', 1): 5, ('hectic', 1): 1, ('boyfriend', 0): 9, ('wander', 1): 3, ('mono', 0): 1, ('feet', 0): 15, ('reflect', 1): 3, ('kostet', 0): 1, ('der', 0): 1, ('fisch', 0): 1, ('mathsteach', 0): 1, ('choos', 0): 7, ('grammar', 0): 2, ('hq', 1): 2, ('lap', 0): 2, ('christma', 1): 3, ('goodi', 1): 4, ('dh', 1): 3, ('cramp', 0): 9, ('chuu', 0): 1, ('dnt', 0): 12, ('knw', 0): 1, ('wot', 0): 2, ('wit', 0): 11, ('wiv', 0): 1, ('rent', 0): 3, ('bein', 0): 7, ('allahpundit', 0): 1, ('noobodi', 0): 1, ('idyl', 1): 1, ('geordiebird', 1): 1, ('maan', 0): 3, ('accumul', 1): 1, ('fanci', 1): 7, ('financ', 1): 2, ('ira', 1): 2, ('chrisett', 1): 1, ('michel', 1): 1, ('epiphani', 1): 1, ('ff', 0): 6, ('sigjean', 0): 1, ('continu', 1): 6, ('bre', 1): 1, ('gari', 1): 2, ('ommegang', 1): 1, ('indulg', 1): 3, ('themot', 0): 6, ('mhs', 0): 1, ('graduat', 0): 21, ('flu', 1): 10, ('syndrom', 1): 1, ('aagh', 0): 1, ('aircon', 0): 1, ('chalet', 1): 1, ('sight', 1): 3, ('similar', 1): 3, ('rthemind', 0): 11, ('kansai', 0): 1, ('scene', 0): 2, ('dizzi', 0): 6, ('lower', 0): 4, ('origin', 0): 4, ('rais', 0): 3, ('truffl', 1): 2, ('hold', 0): 10, ('alma', 0): 1, ('cayogi', 0): 1, ('bz', 0): 1, ('yea', 0): 13, ('cali', 0): 5, ('korn', 1): 1, ('champion', 1): 2, ('nikki', 1): 3, ('soulja', 1): 2, ('tonoght', 1): 1, ('gig', 1): 10, ('shot', 1): 5, ('stone', 0): 4, ('matter', 1): 12, ('post', 1): 38, ('nevermind', 1): 2, ('dollhous', 0): 2, ('scrub', 0): 3, ('grri', 1): 1, ('justic', 1): 1, ('ahd', 1): 1, ('team', 0): 7, ('yu', 0): 5, ('baxx', 0): 1, ('thaa', 0): 1, ('mama', 0): 8, ('shaken', 0): 1, ('strength', 0): 1, ('famili', 0): 30, ('condit', 1): 1, ('alot', 1): 7, ('involv', 1): 9, ('moorn', 1): 1, ('terrif', 1): 1, ('refus', 0): 8, ('la', 0): 11, ('ventana', 0): 1, ('los', 0): 1, ('cielo', 0): 1, ('foundat', 0): 2, ('push', 0): 9, ('bck', 0): 1, ('wks', 0): 2, ('haircut', 0): 2, ('please', 1): 2, ('birthdayi', 1): 2, ('husband', 0): 8, ('hand', 1): 11, ('peac', 1): 12, ('hero', 0): 5, ('metallica', 0): 2, ('cryin', 1): 1, ('laughin', 1): 1, ('enlighten', 1): 1, ('letter', 1): 2, ('lord', 1): 4, ('stormi', 1): 2, ('casablanca', 1): 1, ('steel', 0): 4, ('aint', 0): 15, ('five', 1): 7, ('hotshot', 1): 1, ('luci', 0): 1, ('willen', 1): 1, ('island', 1): 5, ('spring', 1): 8, ('sprung', 1): 1, ('blah', 0): 16, ('jess', 0): 2, ('invit', 0): 9, ('aj', 0): 1, ('badbook', 0): 1, ('understand', 1): 13, ('exist', 0): 7, ('retweet', 1): 7, ('palin', 1): 1, ('postal', 0): 1, ('thingi', 0): 3, ('area', 0): 7, ('self', 0): 10, ('tanner', 0): 1, ('fan', 0): 15, ('thr', 1): 4, ('wknd', 1): 4, ('fox', 1): 2, ('booz', 0): 2, ('schoold', 0): 1, ('goodby', 0): 6, ('mrs', 0): 3, ('collist', 0): 1, ('appt', 0): 3, ('injur', 0): 2, ('sameperson', 1): 1, ('fought', 0): 2, ('claim', 0): 3, ('electron', 0): 2, ('middl', 0): 15, ('poke', 0): 3, ('hamster', 0): 1, ('studyy', 0): 1, ('tom', 0): 6, ('maat', 1): 1, ('pa', 1): 3, ('sleepin', 1): 1, ('sew', 0): 2, ('upload', 0): 17, ('slidebar', 0): 1, ('beach', 0): 13, ('makeup', 0): 3, ('tyra', 0): 2, ('stole', 0): 6, ('warn', 0): 7, ('dangero', 0): 1, ('waa', 0): 5, ('sat', 0): 11, ('urgent', 1): 1, ('request', 1): 4, ('qualiti', 0): 2, ('grown', 1): 4, ('million', 0): 4, ('copi', 0): 9, ('urself', 0): 2, ('lie', 1): 4, ('requir', 1): 1, ('hack', 0): 3, ('bro', 0): 8, ('nope', 0): 10, ('gurl', 0): 2, ('teacher', 1): 7, ('lamest', 1): 1, ('darth', 1): 1, ('vader', 1): 1, ('speakeasi', 1): 1, ('squar', 0): 7, ('crochet', 0): 3, ('poli', 0): 2, ('fibe', 0): 2, ('coralin', 1): 3, ('drs', 0): 2, ('bever', 0): 2, ('commentari', 0): 2, ('unless', 0): 7, ('respond', 0): 9, ('silenc', 1): 3, ('verona', 1): 1, ('jaja', 1): 2, ('enjoyyitverymuch', 1): 1, ('photho', 1): 1, ('dougi', 1): 4, ('answer', 1): 8, ('headphon', 0): 1, ('kaput', 0): 2, ('bose', 0): 2, ('startin', 0): 1, ('uugghh', 0): 1, ('gbw', 1): 1, ('german', 1): 4, ('wall', 0): 5, ('lb', 0): 1, ('dummi', 0): 1, ('yerr', 1): 1, ('same', 1): 1, ('edward', 1): 2, ('thinkk', 1): 1, ('yani', 0): 1, ('fmfl', 1): 1, ('brand', 1): 4, ('troub', 1): 1, ('annoy', 1): 3, ('promo', 1): 1, ('contact', 1): 6, ('colin', 1): 2, ('ipa', 1): 2, ('junior', 1): 4, ('fresh', 1): 9, ('approach', 1): 1, ('expect', 1): 16, ('crash', 1): 5, ('sms', 0): 2, ('courthous', 1): 1, ('umbrella', 1): 1, ('liz', 1): 1, ('shudv', 1): 1, ('hav', 0): 4, ('gud', 0): 1, ('wireless', 0): 6, ('nto', 0): 1, ('alo', 0): 2, ('serena', 1): 1, ('madrid', 1): 2, ('pari', 1): 4, ('arrg', 0): 1, ('twitterati', 1): 1, ('jealous', 1): 1, ('lc', 1): 1, ('whisk', 1): 1, ('fuudge', 0): 1, ('oil', 0): 1, ('oohh', 1): 2, ('sick', 1): 13, ('globe', 1): 2, ('theatr', 1): 9, ('romeo', 1): 2, ('juliet', 1): 1, ('massiv', 0): 8, ('hangov', 0): 8, ('yself', 0): 1, ('ahead', 1): 5, ('pamper', 1): 3, ('sent', 1): 8, ('qi', 0): 2, ('most', 1): 3, ('cheesecak', 1): 1, ('nanna', 1): 1, ('kilkenni', 0): 3, ('comedi', 0): 2, ('rthemedi', 0): 3, ('boredom', 0): 5, ('jayce', 1): 3, ('debat', 1): 1, ('repres', 1): 3, ('tunsia', 1): 1, ('africa', 1): 2, ('citipoint', 0): 1, ('argghh', 0): 2, ('prayer', 0): 5, ('jaron', 0): 1, ('den', 1): 1, ('fell', 1): 6, ('deepli', 0): 2, ('asshol', 0): 5, ('sleepytim', 0): 1, ('sleepi', 1): 11, ('momz', 1): 1, ('mon', 0): 1, ('reschedul', 0): 1, ('jeff', 1): 4, ('forcast', 1): 2, ('count', 0): 7, ('mami', 1): 4, ('bringin', 1): 2, ('sexi', 1): 13, ('omgsh', 0): 1, ('deal', 0): 15, ('rite', 0): 4, ('faceless', 0): 1, ('argg', 0): 1, ('tv', 0): 24, ('avatar', 1): 5, ('lindo', 1): 1, ('nickleback', 1): 1, ('atm', 1): 4, ('stephan', 0): 1, ('costum', 0): 1, ('bring', 0): 10, ('knockin', 1): 1, ('teas', 0): 6, ('mobil', 1): 4, ('loo', 1): 1, ('finger', 1): 6, ('cross', 1): 8, ('contract', 1): 3, ('imma', 1): 7, ('forev', 1): 12, ('ss', 1): 2, ('bake', 1): 8, ('prawn', 1): 1, ('yeh', 1): 3, ('rofl', 1): 8, ('bitch', 0): 21, ('cub', 0): 1, ('gracious', 0): 2, ('wreck', 0): 3, ('soak', 0): 2, ('bone', 0): 4, ('voic', 1): 10, ('dunno', 1): 4, ('omgssh', 1): 1, ('ng', 1): 2, ('bbi', 1): 2, ('smokefre', 1): 1, ('dresser', 0): 3, ('sticki', 0): 3, ('top', 0): 16, ('attach', 0): 2, ('macbook', 1): 5, ('tint', 1): 1, ('grayish', 1): 1, ('desk', 1): 5, ('nerv', 0): 4, ('plastic', 0): 2, ('telescop', 0): 1, ('yesti', 0): 1, ('somebodi', 1): 5, ('bugg', 1): 1, ('nake', 1): 2, ('poster', 1): 4, ('sugar', 1): 5, ('ladmag', 1): 1, ('justwatch', 0): 1, ('jon', 0): 4, ('kate', 0): 8, ('salad', 1): 2, ('spicey', 1): 1, ('buffalo', 1): 2, ('chicken', 1): 7, ('laugh', 0): 10, ('lamb', 1): 2, ('hors', 1): 5, ('clap', 1): 4, ('brand', 0): 6, ('epicent', 0): 1, ('lacey', 0): 2, ('caught', 0): 9, ('sand', 0): 2, ('monsoon', 0): 1, ('thousand', 1): 1, ('joe', 1): 7, ('purdi', 1): 1, ('worki', 0): 1, ('sec', 0): 2, ('trailer', 0): 3, ('roll', 1): 8, ('becom', 1): 12, ('mogul', 1): 1, ('tuesday', 0): 9, ('econom', 0): 1, ('cereal', 1): 3, ('nut', 1): 6, ('avail', 1): 3, ('cs', 1): 1, ('bird', 1): 6, ('chirp', 1): 2, ('fav', 0): 3, ('icant', 0): 3, ('alabama', 0): 2, ('visitin', 0): 2, ('quiz', 0): 7, ('feliza', 0): 1, ('dark', 0): 7, ('knight', 0): 2, ('research', 0): 5, ('autorun', 0): 1, ('board', 0): 3, ('laterz', 1): 2, ('cav', 1): 6, ('lebron', 1): 4, ('newest', 1): 1, ('pts', 1): 1, ('mistak', 0): 11, ('plier', 0): 1, ('shuck', 0): 2, ('kewl', 1): 2, ('contthempl', 1): 2, ('upgrad', 0): 3, ('dread', 0): 8, ('mexico', 1): 2, ('hostag', 1): 1, ('fifth', 1): 2, ('bear', 0): 4, ('beet', 0): 1, ('wasabi', 0): 1, ('vodka', 0): 2, ('ginger', 0): 4, ('ale', 0): 1, ('lime', 0): 2, ('spoilt', 0): 2, ('young', 0): 7, ('flick', 0): 3, ('wee', 0): 6, ('wikileak', 1): 2, ('geht', 1): 1, ('wieder', 1): 1, ('ravit', 1): 1, ('thru', 1): 1, ('social', 1): 12, ('media', 1): 4, ('five', 0): 9, ('medic', 0): 3, ('yess', 1): 9, ('molli', 1): 3, ('chat', 1): 19, ('ekin', 1): 1, ('sayang', 1): 2, ('mak', 1): 2, ('classic', 1): 4, ('chillen', 1): 1, ('geek', 0): 2, ('squad', 0): 1, ('ran', 0): 10, ('lilash', 1): 1, ('insan', 1): 1, ('sudden', 0): 11, ('resum', 0): 2, ('peristalsi', 0): 1, ('event', 0): 10, ('prior', 0): 2, ('journal', 1): 2, ('major', 1): 5, ('ali', 0): 1, ('logi', 1): 4, ('baggin', 1): 1, ('tradit', 1): 4, ('kiya', 1): 1, ('comfi', 1): 8, ('cuddl', 1): 7, ('cover', 1): 8, ('sneez', 1): 1, ('tissu', 1): 2, ('signific', 1): 1, ('increas', 1): 4, ('healthcar', 1): 1, ('tim', 0): 4, ('sweati', 0): 2, ('laid', 0): 5, ('scream', 0): 5, ('bath', 0): 5, ('atm', 0): 6, ('abil', 0): 6, ('asda', 0): 1, ('meal', 0): 4, ('jelous', 0): 1, ('goodd', 1): 2, ('twitti', 1): 1, ('doc', 1): 4, ('hungri', 1): 7, ('strech', 1): 1, ('ear', 1): 5, ('payday', 1): 1, ('ambien', 1): 1, ('klonopin', 1): 1, ('quarter', 1): 1, ('smh', 1): 1, ('wide', 0): 4, ('nightshift', 0): 1, ('routin', 0): 1, ('nashvill', 0): 1, ('nerd', 0): 4, ('bella', 1): 3, ('stoke', 1): 5, ('hospit', 0): 14, ('tampa', 0): 3, ('date', 1): 16, ('cesna', 1): 1, ('nanosecond', 0): 1, ('yew', 1): 1, ('slow', 0): 28, ('disabl', 0): 2, ('sophi', 0): 1, ('perfect', 0): 11, ('imposs', 0): 9, ('trick', 1): 1, ('hoppusday', 1): 4, ('hype', 1): 2, ('orang', 0): 4, ('whew', 0): 3, ('graveyard', 1): 1, ('hoorayi', 1): 1, ('inspir', 0): 4, ('wate', 0): 2, ('prom', 0): 8, ('lool', 0): 3, ('chip', 0): 4, ('ketchup', 0): 1, ('waili', 0): 1, ('bake', 0): 5, ('el', 0): 2, ('capitan', 0): 1, ('rolf', 1): 1, ('snow', 1): 2, ('stuck', 1): 14, ('shock', 0): 9, ('thempow', 0): 1, ('ponytail', 1): 1, ('dreamt', 1): 2, ('shave', 1): 4, ('bigger', 1): 3, ('sampl', 0): 4, ('loud', 0): 4, ('recal', 0): 2, ('bungl', 0): 1, ('clamber', 1): 1, ('concret', 0): 2, ('brittani', 0): 1, ('cooki', 0): 4, ('huge', 1): 14, ('cape', 0): 1, ('lichfield', 1): 1, ('tweetup', 1): 2, ('adult', 1): 4, ('crispi', 1): 1, ('cent', 0): 2, ('especi', 0): 16, ('wmid', 0): 1, ('ambul', 0): 1, ('polic', 0): 6, ('smash', 0): 3, ('roof', 0): 3, ('mandi', 1): 3, ('unfortun', 1): 1, ('tire', 1): 19, ('charbotgreen', 0): 1, ('unusu', 0): 1, ('activ', 0): 6, ('entrepreneur', 1): 1, ('cigarett', 0): 1, ('borin', 0): 2, ('task', 0): 1, ('press', 1): 1, ('key', 0): 12, ('papi', 0): 2, ('swizzi', 0): 1, ('silverstein', 1): 1, ('boo', 1): 12, ('cake', 0): 6, ('depend', 1): 3, ('bond', 1): 3, ('playtim', 1): 1, ('heater', 0): 3, ('law', 0): 6, ('ben', 0): 5, ('addict', 0): 7, ('glee', 0): 1, ('video', 0): 16, ('deed', 1): 2, ('oklahomaa', 0): 1, ('citizen', 0): 3, ('cope', 0): 3, ('tmr', 0): 2, ('shed', 0): 3, ('lazi', 1): 8, ('racism', 0): 3, ('gig', 0): 9, ('blond', 0): 3, ('aand', 1): 1, ('billi', 1): 1, ('rubbish', 0): 5, ('discuss', 1): 6, ('via', 1): 13, ('supermarket', 1): 1, ('knit', 1): 3, ('senior', 0): 9, ('welt', 0): 2, ('thigh', 0): 3, ('morrissey', 0): 1, ('lifelin', 1): 1, ('niight', 1): 2, ('brew', 1): 2, ('musicmonday', 1): 2, ('fray', 1): 1, ('nail', 0): 6, ('porn', 0): 5, ('mention', 0): 11, ('eurovis', 1): 1, ('singl', 0): 6, ('rang', 0): 3, ('diana', 0): 1, ('cd', 0): 4, ('dangit', 0): 3, ('lsu', 0): 1, ('lead', 0): 6, ('intent', 0): 3, ('jinx', 0): 1, ('anyhow', 0): 1, ('afc', 1): 1, ('loney', 0): 1, ('tournament', 1): 2, ('ksn', 1): 1, ('weheyi', 1): 1, ('midi', 1): 1, ('keyboard', 1): 5, ('chock', 0): 2, ('spell', 0): 6, ('grammat', 0): 1, ('error', 0): 10, ('swollen', 0): 9, ('karma', 0): 3, ('strike', 0): 2, ('reyt', 0): 1, ('valentino', 0): 1, ('imagin', 0): 8, ('loser', 0): 8, ('fake', 0): 6, ('alien', 0): 1, ('tinfoil', 0): 1, ('beachbal', 0): 1, ('tbh', 0): 2, ('credit', 0): 8, ('grrsvill', 0): 1, ('whaa', 1): 1, ('option', 1): 2, ('devon', 0): 1, ('cinthema', 0): 4, ('film', 0): 6, ('disgust', 0): 7, ('smoothi', 1): 5, ('baulko', 1): 1, ('anna', 1): 4, ('inde', 1): 18, ('pet', 0): 7, ('tgthr', 0): 1, ('resort', 0): 1, ('jonesi', 0): 1, ('mcdonald', 1): 3, ('hookah', 1): 1, ('abbster', 1): 1, ('scratchi', 0): 3, ('fluid', 0): 2, ('dc', 0): 6, ('numero', 0): 1, ('uno', 0): 1, ('ghost', 1): 5, ('girlfriend', 1): 5, ('bf', 1): 4, ('predict', 1): 5, ('rainforest', 1): 1, ('cafe', 1): 2, ('decthemb', 0): 3, ('flys', 0): 1, ('nigel', 1): 1, ('scratch', 1): 2, ('inexplic', 1): 1, ('afterward', 1): 1, ('bridesmaid', 1): 1, ('bride', 1): 5, ('recept', 1): 2, ('sin', 0): 2, ('doubt', 0): 4, ('awesom', 0): 5, ('roadtrip', 0): 1, ('bounc', 0): 1, ('rush', 0): 2, ('picki', 0): 2, ('onion', 0): 3, ('togeth', 0): 9, ('mose', 0): 1, ('starbuck', 0): 5, ('paradis', 0): 2, ('clair', 1): 2, ('chipmunk', 0): 1, ('fml', 0): 15, ('tanapoli', 1): 1, ('supris', 1): 3, ('soft', 1): 4, ('tks', 1): 1, ('rachel', 1): 5, ('allen', 1): 4, ('justin', 1): 17, ('timberlak', 1): 10, ('greatt', 1): 1, ('victoria', 1): 2, ('dvds', 1): 2, ('ay', 1): 6, ('buti', 1): 2, ('kayo', 1): 1, ('uy', 1): 1, ('cyrus', 1): 5, ('fourteen', 1): 1, ('sex', 1): 5, ('cosmo', 1): 1, ('kamikaz', 1): 1, ('captain', 1): 2, ('meant', 0): 16, ('tiger', 0): 2, ('predict', 0): 1, ('digiqom', 1): 1, ('mthember', 1): 4, ('sof', 1): 1, ('smell', 1): 8, ('cigarett', 1): 3, ('alcohol', 1): 3, ('sunburn', 1): 2, ('guitar', 1): 6, ('metallica', 1): 1, ('beyond', 1): 6, ('ewok', 1): 1, ('sao', 1): 1, ('paulo', 1): 1, ('gyah', 0): 1, ('miser', 0): 13, ('price', 0): 9, ('tsk', 1): 3, ('shame', 1): 1, ('truth', 1): 4, ('dramat', 0): 1, ('inlov', 1): 1, ('nowt', 1): 1, ('pov', 0): 1, ('sao', 0): 1, ('paulo', 0): 1, ('casey', 0): 1, ('piddl', 0): 1, ('carpet', 0): 2, ('prolli', 0): 3, ('freak', 0): 12, ('shake', 0): 4, ('poor', 1): 8, ('abl', 1): 17, ('kateag', 0): 1, ('biglot', 0): 1, ('virgin', 0): 3, ('mari', 0): 5, ('modern', 1): 3, ('doggi', 1): 2, ('rite', 1): 2, ('becuz', 1): 3, ('pxi', 1): 1, ('jam', 1): 9, ('fathom', 1): 1, ('sanctuarysunday', 1): 6, ('sanctuari', 1): 3, ('rygbi', 0): 1, ('lice', 0): 1, ('outbreak', 0): 1, ('reli', 1): 1, ('yer', 1): 5, ('competit', 1): 4, ('enter', 1): 2, ('mende', 0): 1, ('discog', 0): 1, ('disband', 0): 2, ('pair', 1): 3, ('git', 1): 2, ('bright', 0): 1, ('effi', 0): 1, ('despair', 0): 2, ('copyright', 0): 1, ('visual', 0): 1, ('impair', 0): 1, ('approxim', 1): 1, ('reserv', 1): 1, ('euggh', 0): 1, ('erin', 1): 3, ('calor', 0): 1, ('intak', 0): 1, ('chart', 0): 2, ('themerg', 0): 2, ('ac', 0): 5, ('gitwar', 0): 1, ('disappear', 0): 3, ('nitey', 1): 1, ('bummer', 1): 2, ('bonus', 1): 2, ('wale', 1): 3, ('athough', 1): 1, ('grad', 0): 2, ('anywher', 0): 4, ('sri', 1): 3, ('panwa', 1): 1, ('utah', 0): 1, ('chanc', 1): 14, ('bbi', 0): 2, ('soccer', 1): 3, ('tonightt', 1): 1, ('gosh', 0): 14, ('mtv', 0): 4, ('fmll', 0): 1, ('welcom', 0): 1, ('glasgow', 0): 3, ('felix', 0): 1, ('accomplish', 1): 7, ('anxious', 0): 2, ('yucki', 0): 6, ('sissi', 1): 4, ('stavro', 0): 1, ('flatley', 0): 1, ('reckon', 0): 2, ('curs', 0): 8, ('choke', 0): 1, ('retain', 0): 2, ('tescof', 1): 1, ('presid', 1): 3, ('signific', 0): 1, ('code', 0): 8, ('thinkin', 0): 2, ('chain', 0): 4, ('zealand', 1): 5, ('geolog', 0): 1, ('banquet', 0): 1, ('grew', 1): 2, ('fat', 1): 7, ('gss', 1): 1, ('hxc', 1): 1, ('chanel', 1): 1, ('jc', 1): 1, ('pedder', 1): 1, ('ferragamo', 1): 1, ('downturn', 1): 1, ('benefit', 0): 1, ('space', 1): 6, ('push', 1): 4, ('wolverhampton', 1): 1, ('newss', 0): 1, ('kelli', 0): 4, ('clarkson', 0): 2, ('confid', 0): 1, ('anyy', 0): 1, ('prevent', 0): 3, ('itchi', 0): 3, ('distract', 0): 5, ('pinocchiof', 0): 1, ('sushi', 0): 2, ('textin', 0): 1, ('major', 0): 11, ('todaay', 1): 2, ('integr', 1): 2, ('chap', 0): 1, ('yuck', 0): 3, ('anthoni', 0): 4, ('yall', 0): 7, ('layenn', 0): 1, ('uughh', 0): 1, ('dunt', 0): 1, ('pgpm', 1): 2, ('student', 1): 8, ('chihuahua', 1): 1, ('zoey', 1): 1, ('ohlala', 1): 1, ('question', 0): 3, ('low', 0): 9, ('stood', 1): 3, ('da', 1): 13, ('hm', 0): 6, ('medium', 0): 2, ('themmi', 1): 1, ('latin', 1): 1, ('aptitud', 1): 1, ('grad', 1): 5, ('born', 0): 2, ('blame', 0): 11, ('jersey', 1): 1, ('woop', 1): 7, ('alarm', 0): 6, ('immobilis', 0): 2, ('incred', 0): 4, ('neither', 0): 5, ('elop', 1): 1, ('boston', 1): 4, ('legal', 1): 2, ('offens', 1): 1, ('denni', 1): 2, ('riot', 1): 1, ('generous', 1): 2, ('michael', 0): 3, ('soldier', 1): 1, ('picnic', 1): 5, ('bbq', 1): 16, ('iloveyoumore', 1): 1, ('sunlight', 1): 1, ('guilti', 1): 2, ('aahh', 1): 1, ('brera', 0): 1, ('plot', 0): 2, ('twist', 0): 2, ('hella', 0): 5, ('pushin', 0): 1, ('tha', 0): 6, ('saginaki', 1): 1, ('aunti', 0): 4, ('stina', 0): 1, ('dat', 0): 5, ('maui', 0): 3, ('witti', 1): 5, ('mpix', 1): 2, ('shootout', 1): 1, ('gahh', 0): 3, ('himym', 1): 2, ('cyberspac', 1): 1, ('lyndi', 1): 1, ('listenin', 1): 1, ('takin', 1): 4, ('bah', 0): 10, ('fullest', 1): 1, ('finest', 0): 1, ('fulli', 0): 8, ('luke', 1): 1, ('goodluck', 1): 3, ('dread', 1): 2, ('comcast', 0): 2, ('crrazi', 0): 1, ('draw', 0): 8, ('tablet', 0): 2, ('ogberri', 1): 1, ('passtim', 1): 1, ('freaki', 0): 1, ('hyper', 0): 3, ('discrimin', 0): 1, ('fthemal', 0): 3, ('target', 0): 2, ('group', 0): 7, ('truck', 0): 7, ('minstrel', 1): 1, ('petrol', 1): 1, ('station', 1): 3, ('stressfre', 1): 1, ('cheesi', 1): 2, ('inspect', 1): 2, ('woope', 1): 1, ('hahahahahahahaha', 1): 1, ('ive', 1): 12, ('thnks', 1): 2, ('followin', 1): 1, ('heidi', 1): 1, ('klum', 1): 1, ('cyalat', 1): 1, ('prepar', 1): 7, ('swear', 1): 7, ('endless', 0): 2, ('fascin', 0): 1, ('dual', 0): 2, ('engin', 0): 3, ('monitor', 0): 2, ('sustain', 0): 1, ('gen', 0): 1, ('admir', 1): 2, ('satisfact', 1): 1, ('nth', 1): 2, ('jack', 1): 5, ('downer', 1): 1, ('beup', 0): 1, ('beat', 0): 8, ('mang', 1): 2, ('fc', 0): 1, ('mia', 0): 4, ('abuzz', 0): 1, ('tr', 0): 1, ('muy', 0): 2, ('trist', 0): 3, ('crikey', 1): 2, ('cystic', 0): 1, ('lacrim', 0): 1, ('infectect', 0): 1, ('contribut', 1): 3, ('costa', 1): 1, ('businessi', 1): 1, ('baffl', 0): 1, ('shack', 0): 2, ('grew', 0): 2, ('fruit', 1): 2, ('veget', 1): 2, ('juic', 1): 6, ('lam', 1): 2, ('noodl', 1): 4, ('nav', 1): 1, ('string', 1): 3, ('decor', 1): 2, ('banner', 1): 1, ('balloon', 1): 2, ('teflon', 1): 1, ('liver', 1): 1, ('scottish', 1): 2, ('rais', 1): 3, ('whiski', 1): 1, ('octob', 0): 2, ('american', 0): 4, ('exam', 1): 17, ('anotha', 0): 2, ('horseforth', 1): 1, ('hangov', 1): 3, ('proper', 1): 6, ('pressi', 1): 1, ('iloveyopu', 1): 1, ('kayleigh', 1): 1, ('lymz', 1): 1, ('cntt', 1): 1, ('waiit', 1): 1, ('jester', 1): 1, ('overh', 0): 1, ('sand', 1): 2, ('shore', 1): 1, ('brother', 0): 18, ('apper', 0): 1, ('ea', 0): 2, ('sim', 0): 6, ('legit', 0): 2, ('strudel', 0): 1, ('runt', 0): 1, ('undelet', 0): 1, ('dms', 0): 2, ('freakingg', 0): 1, ('looks', 0): 1, ('short', 0): 10, ('sandal', 0): 1, ('yahoo', 0): 1, ('wearther', 0): 1, ('laura', 1): 2, ('arcadia', 1): 1, ('shannon', 1): 3, ('yao', 1): 1, ('jerseyz', 1): 1, ('ealli', 1): 1, ('legit', 1): 2, ('mthemoir', 0): 1, ('ungod', 0): 1, ('davi', 0): 2, ('eve', 0): 1, ('cardio', 1): 1, ('whatcha', 1): 1, ('sickk', 0): 3, ('dippin', 1): 1, ('iz', 1): 1, ('candi', 1): 5, ('ds', 0): 3, ('relay', 0): 1, ('iron', 0): 2, ('chef', 0): 2, ('hindustan', 1): 1, ('dunia', 1): 1, ('mein', 1): 1, ('asay', 1): 1, ('koi', 1): 1, ('fusion', 1): 1, ('nehi', 1): 1, ('milegi', 1): 1, ('asap', 0): 4, ('del', 0): 1, ('brain', 1): 3, ('tamera', 0): 1, ('cw', 0): 1, ('abc', 0): 1, ('appreci', 0): 3, ('testimoni', 0): 1, ('flickr', 0): 3, ('load', 1): 8, ('moon', 1): 12, ('lautner', 1): 1, ('dakota', 1): 1, ('bath', 1): 7, ('spay', 1): 2, ('oy', 0): 2, ('writin', 0): 1, ('cuz', 0): 33, ('followin', 0): 1, ('lik', 0): 1, ('delet', 0): 8, ('strang', 0): 9, ('surreal', 1): 2, ('oil', 1): 4, ('bein', 1): 2, ('mamma', 1): 3, ('race', 1): 7, ('fail', 1): 4, ('steroid', 0): 2, ('effort', 1): 6, ('skin', 1): 1, ('softer', 1): 1, ('screen', 1): 11, ('teriyaki', 1): 1, ('cooki', 1): 9, ('non', 1): 2, ('hurt', 1): 10, ('nin', 0): 1, ('app', 0): 8, ('reznor', 0): 1, ('jailbreak', 0): 1, ('chair', 0): 1, ('analyt', 1): 1, ('safari', 1): 1, ('systthem', 0): 5, ('green', 0): 4, ('midnight', 0): 8, ('penni', 1): 1, ('bk', 0): 3, ('oowwch', 0): 1, ('hurri', 0): 7, ('plaster', 0): 1, ('death', 0): 14, ('rick', 1): 1, ('project', 1): 17, ('tuesday', 1): 8, ('costa', 0): 1, ('mesa', 0): 1, ('island', 0): 4, ('vog', 0): 2, ('ocean', 0): 4, ('siickk', 0): 1, ('dun', 0): 4, ('assumpt', 0): 2, ('regard', 0): 4, ('harlthem', 0): 2, ('acorn', 0): 1, ('glen', 0): 1, ('beck', 0): 2, ('marina', 0): 1, ('sware', 0): 1, ('french', 0): 9, ('ofclock', 0): 1, ('charlen', 0): 1, ('sweet', 0): 8, ('huaa', 0): 2, ('hott', 1): 3, ('fuk', 1): 1, ('tonit', 0): 5, ('kayle', 0): 1, ('fella', 1): 2, ('diesel', 0): 3, ('rice', 0): 2, ('burner', 0): 1, ('xoxo', 0): 5, ('yest', 0): 1, ('paul', 0): 3, ('ph', 1): 3, ('vietnam', 1): 2, ('shot', 0): 9, ('novacain', 0): 1, ('cheek', 0): 4, ('numb', 0): 2, ('short', 1): 19, ('flight', 1): 10, ('geelong', 1): 1, ('waterfront', 1): 1, ('handl', 1): 3, ('exhaust', 1): 3, ('meetup', 1): 1, ('cupcak', 0): 5, ('star', 0): 11, ('trek', 0): 5, ('jane', 0): 2, ('joplin', 0): 1, ('munsay', 0): 1, ('wich', 0): 1, ('bookmark', 1): 2, ('keychain', 1): 1, ('experiment', 1): 1, ('chthemistri', 1): 1, ('speak', 1): 8, ('rachael', 0): 1, ('strong', 1): 7, ('airsoft', 1): 1, ('mill', 1): 1, ('beij', 1): 2, ('mackillop', 0): 1, ('detroit', 0): 2, ('horror', 0): 7, ('roxi', 0): 1, ('classic', 0): 4, ('shortcak', 0): 1, ('shortcakefail', 0): 1, ('partyy', 1): 2, ('hunt', 0): 9, ('eras', 0): 1, ('sri', 0): 6, ('your', 0): 6, ('kawawa', 0): 3, ('more', 1): 2, ('sarrah', 1): 1, ('buger', 1): 1, ('fuckin', 1): 3, ('suncream', 0): 2, ('easili', 1): 2, ('anniversari', 1): 4, ('lappytop', 0): 1, ('baterri', 0): 1, ('tryingtofind', 0): 1, ('movieto', 0): 1, ('goingto', 0): 1, ('hermana', 1): 1, ('testimoni', 1): 1, ('swine', 1): 8, ('health', 1): 3, ('booboo', 0): 2, ('hw', 0): 2, ('jesus', 1): 2, ('heal', 1): 4, ('beta', 0): 3, ('showstop', 0): 1, ('standbi', 0): 2, ('silenc', 0): 1, ('watchign', 0): 1, ('thunder', 0): 11, ('supposedd', 0): 2, ('al', 0): 5, ('doo', 0): 3, ('spaz', 1): 1, ('drawn', 1): 2, ('laka', 1): 1, ('ulan', 1): 1, ('nalang', 1): 1, ('bandana', 1): 1, ('bodi', 1): 10, ('ko', 1): 2, ('lang', 1): 3, ('jail', 0): 3, ('sissi', 0): 1, ('warrant', 0): 1, ('agg', 0): 1, ('outta', 0): 9, ('advertis', 1): 1, ('showin', 0): 1, ('flush', 1): 2, ('foward', 1): 1, ('wise', 1): 3, ('pig', 1): 1, ('robluket', 1): 2, ('usd', 0): 1, ('smoke', 0): 9, ('masterchef', 1): 1, ('perhap', 1): 2, ('assess', 0): 1, ('sting', 0): 1, ('sociolog', 0): 1, ('biolog', 0): 1, ('process', 0): 2, ('front', 1): 5, ('jammi', 1): 1, ('neighbor', 1): 1, ('omgg', 0): 3, ('secret', 0): 5, ('teenag', 0): 7, ('iight', 1): 1, ('recip', 1): 4, ('yett', 0): 1, ('hrmm', 0): 1, ('noe', 0): 7, ('pheasant', 0): 1, ('kaotic', 0): 1, ('jonaswebcast', 0): 1, ('includ', 0): 5, ('restroom', 0): 1, ('cleanup', 0): 1, ('floridia', 1): 1, ('atl', 1): 3, ('constant', 1): 7, ('purpl', 1): 5, ('p', 1): 19, ('seri', 0): 8, ('chaser', 0): 1, ('war', 0): 7, ('compar', 0): 2, ('gh', 1): 1, ('glre', 0): 1, ('dayi', 1): 10, ('hbd', 1): 1, ('uncl', 1): 5, ('lee', 1): 5, ('favor', 1): 3, ('anticip', 1): 2, ('ring', 1): 7, ('iloveyoutoo', 1): 1, ('drama', 1): 5, ('spain', 1): 5, ('mission', 0): 2, ('prove', 0): 4, ('innoc', 0): 1, ('hug', 0): 13, ('extern', 1): 2, ('mous', 1): 1, ('comfort', 1): 5, ('shake', 1): 2, ('unexpect', 1): 4, ('humili', 0): 1, ('twittervers', 0): 1, ('tomato', 1): 4, ('oliv', 1): 3, ('maltes', 1): 1, ('chees', 1): 10, ('qualifi', 0): 2, ('david', 0): 3, ('reutimann', 0): 1, ('leon', 1): 1, ('supa', 1): 1, ('mini', 1): 8, ('thumb', 0): 8, ('knacker', 0): 2, ('wil', 1): 1, ('nite', 1): 23, ('spare', 0): 2, ('cash', 0): 5, ('wii', 0): 4, ('hawaii', 0): 1, ('devic', 0): 3, ('tough', 1): 2, ('swing', 1): 3, ('tammi', 1): 1, ('rehears', 0): 1, ('cinerama', 1): 1, ('coudl', 1): 1, ('seattl', 1): 3, ('starbuk', 1): 1, ('david', 1): 13, ('doown', 1): 1, ('virtu', 1): 1, ('mwean', 0): 1, ('ths', 1): 1, ('comin', 1): 3, ('jazzercis', 1): 1, ('underwood', 1): 1, ('chaperon', 1): 1, ('editor', 1): 2, ('writer', 1): 2, ('justsayin', 1): 1, ('cork', 0): 1, ('aswel', 1): 3, ('sunfay', 1): 1, ('afteral', 1): 1, ('excus', 1): 5, ('lovv', 1): 1, ('ro', 1): 1, ('co', 1): 2, ('shoow', 1): 1, ('etsi', 0): 1, ('discourag', 0): 3, ('th', 1): 3, ('thier', 1): 1, ('macri', 1): 1, ('deli', 1): 1, ('local', 1): 6, ('greek', 1): 2, ('spot', 1): 8, ('trojan', 1): 1, ('nurs', 0): 5, ('bump', 0): 5, ('festivus', 0): 1, ('mud', 0): 2, ('wrestl', 0): 1, ('swear', 0): 9, ('dirt', 0): 1, ('naw', 0): 1, ('shenanigan', 0): 1, ('struggl', 0): 3, ('sunris', 1): 1, ('blvd', 1): 1, ('gaah', 0): 2, ('cap', 0): 1, ('corn', 1): 2, ('pea', 1): 3, ('onion', 1): 3, ('beet', 1): 1, ('michael', 1): 5, ('ish', 1): 4, ('imo', 1): 3, ('unplug', 1): 2, ('ff', 1): 10, ('elijah', 1): 1, ('toaster', 0): 2, ('oven', 0): 1, ('father', 0): 4, ('dubai', 0): 1, ('curri', 1): 5, ('passeng', 0): 1, ('aliv', 0): 4, ('hate', 1): 7, ('owl', 1): 1, ('roommat', 0): 4, ('daughter', 1): 14, ('vibe', 0): 1, ('individu', 0): 1, ('vehicl', 0): 1, ('qfc', 0): 1, ('broad', 0): 1, ('ian', 0): 3, ('camp', 1): 6, ('drumset', 0): 1, ('cough', 0): 9, ('bound', 0): 2, ('cobra', 1): 4, ('starship', 1): 5, ('blancmang', 0): 1, ('pale', 0): 2, ('beg', 0): 1, ('attic', 0): 1, ('britt', 1): 1, ('wci', 0): 1, ('hashtag', 0): 1, ('simpli', 0): 3, ('kathi', 1): 2, ('ayi', 0): 1, ('midday', 1): 1, ('explicit', 1): 1, ('thread', 1): 1, ('financi', 0): 3, ('earn', 0): 2, ('bye', 0): 16, ('ang', 0): 1, ('bare', 0): 18, ('hangin', 1): 4, ('graham', 1): 2, ('josiah', 1): 1, ('other', 1): 8, ('sympathi', 1): 1, ('appoint', 1): 4, ('twist', 1): 2, ('third', 1): 6, ('greedi', 1): 1, ('fledg', 1): 1, ('nv', 1): 1, ('fontstruct', 1): 1, ('dafont', 1): 1, ('expir', 0): 4, ('releas', 0): 4, ('lamesauc', 0): 1, ('irk', 0): 1, ('allianz', 1): 2, ('reject', 1): 3, ('mod', 1): 2, ('level', 0): 3, ('nikon', 1): 1, ('pix', 1): 6, ('south', 0): 6, ('brighton', 0): 1, ('matt', 1): 4, ('wii', 1): 7, ('daddi', 1): 10, ('cur', 0): 1, ('darl', 1): 3, ('thrill', 1): 3, ('persist', 0): 1, ('hah', 1): 4, ('starbuck', 1): 4, ('dedic', 1): 3, ('goshi', 0): 1, ('poland', 0): 1, ('hospit', 1): 6, ('scan', 1): 2, ('shane', 1): 1, ('dawson', 1): 2, ('sappi', 1): 1, ('wilmi', 1): 1, ('cancuk', 1): 1, ('renew', 0): 2, ('warranti', 0): 1, ('doubl', 0): 7, ('woot', 1): 8, ('trouser', 1): 1, ('topshop', 1): 1, ('terrac', 1): 1, ('prospectus', 1): 1, ('amus', 1): 7, ('pangaea', 1): 1, ('killah', 1): 1, ('priest', 1): 2, ('incorpor', 1): 1, ('burnt', 1): 5, ('mouth', 1): 2, ('race', 0): 7, ('aaron', 0): 1, ('wednesday', 0): 8, ('grandma', 0): 8, ('pragu', 1): 1, ('insight', 1): 2, ('ppl', 1): 11, ('aweoms', 1): 1, ('cunt', 0): 3, ('tosser', 0): 1, ('flap', 0): 1, ('shelf', 0): 1, ('ikea', 0): 2, ('damag', 0): 4, ('estim', 0): 1, ('patchouli', 1): 1, ('incens', 1): 1, ('surg', 1): 1, ('among', 1): 1, ('devote', 1): 1, ('hippi', 1): 1, ('therefor', 1): 1, ('michi', 1): 1, ('moma', 1): 1, ('consol', 1): 2, ('hottest', 1): 1, ('gg', 1): 1, ('imho', 1): 1, ('shite', 1): 1, ('tomorow', 1): 2, ('neic', 1): 1, ('suffici', 1): 1, ('readyy', 1): 1, ('summerr', 1): 2, ('babyy', 1): 1, ('develop', 0): 1, ('cush', 0): 1, ('diseas', 0): 1, ('challah', 0): 1, ('proof', 0): 4, ('eatin', 0): 2, ('ceddi', 0): 1, ('benji', 1): 1, ('conveni', 0): 3, ('surviv', 0): 5, ('neighbour', 1): 2, ('fond', 1): 1, ('loud', 1): 5, ('nickelback', 1): 1, ('bandit', 1): 1, ('deadliestcatch', 1): 1, ('tpg', 1): 1, ('ocean', 1): 8, ('crab', 1): 3, ('suspens', 1): 1, ('poo', 0): 6, ('offtop', 0): 1, ('inappropri', 0): 1, ('germin', 0): 1, ('fruit', 0): 6, ('privat', 0): 3, ('session', 0): 5, ('admit', 1): 6, ('fetch', 1): 2, ('weird', 1): 4, ('audit', 1): 4, ('awhil', 1): 4, ('math', 1): 6, ('tassi', 1): 2, ('troubl', 1): 5, ('heater', 1): 1, ('cuban', 1): 1, ('diabet', 0): 1, ('sugar', 0): 7, ('throughout', 0): 1, ('sync', 1): 1, ('mac', 1): 10, ('budget', 0): 6, ('deficit', 0): 1, ('billion', 0): 1, ('fascin', 1): 3, ('paper', 1): 8, ('recal', 1): 1, ('struggl', 1): 1, ('ar', 1): 1, ('john', 1): 16, ('main', 1): 4, ('bandaid', 0): 1, ('difficult', 0): 9, ('upkeep', 0): 1, ('jordi', 1): 1, ('donni', 1): 3, ('eastend', 1): 1, ('sthemi', 1): 1, ('dooddiie', 0): 1, ('odd', 1): 4, ('paradis', 1): 2, ('margerita', 1): 1, ('tila', 1): 1, ('sweetpea', 0): 1, ('complex', 0): 2, ('lonesom', 0): 1, ('kk', 1): 3, ('ack', 0): 2, ('timelin', 0): 1, ('settl', 1): 3, ('porter', 1): 1, ('cabl', 1): 3, ('drill', 1): 1, ('led', 1): 1, ('trigger', 1): 1, ('smack', 0): 4, ('bangg', 0): 1, ('chauffeur', 1): 1, ('needl', 0): 2, ('gori', 0): 1, ('drug', 0): 8, ('scar', 0): 4, ('bite', 1): 2, ('flover', 1): 1, ('mucki', 1): 1, ('darn', 0): 14, ('themo', 1): 3, ('soror', 1): 1, ('oscc', 1): 1, ('layout', 1): 2, ('bash', 1): 1, ('halari', 1): 1, ('chick', 0): 5, ('alryt', 0): 1, ('tmoro', 0): 1, ('sud', 0): 1, ('sumin', 0): 1, ('aen', 0): 1, ('neva', 0): 2, ('oot', 0): 1, ('goo', 0): 2, ('fool', 1): 2, ('choc', 1): 3, ('servic', 1): 8, ('distract', 1): 6, ('harri', 1): 2, ('cassi', 1): 1, ('grill', 0): 4, ('up', 0): 4, ('web', 0): 7, ('suppli', 0): 4, ('hostag', 0): 3, ('deliveri', 0): 4, ('bother', 1): 9, ('omfg', 0): 4, ('favourit', 0): 4, ('jerk', 0): 4, ('cook', 1): 20, ('veggi', 1): 3, ('preggo', 1): 1, ('onto', 1): 2, ('trolley', 1): 1, ('mckinney', 1): 1, ('actial', 1): 1, ('canberra', 0): 1, ('sydney', 0): 1, ('trekk', 0): 1, ('roar', 1): 1, ('buckl', 1): 1, ('relief', 1): 4, ('inan', 1): 2, ('toni', 0): 2, ('hawk', 0): 1, ('motion', 0): 1, ('rtheminisc', 1): 2, ('everytim', 1): 1, ('crawl', 1): 3, ('penguin', 1): 1, ('longer', 1): 4, ('nkotb', 1): 3, ('selfridg', 0): 1, ('quarantin', 0): 1, ('everywher', 0): 8, ('pinkey', 0): 1, ('noon', 0): 7, ('normal', 1): 7, ('familiar', 1): 3, ('cougar', 1): 1, ('ow', 1): 2, ('pregnant', 0): 2, ('smokingg', 0): 1, ('irrespons', 0): 2, ('selfish', 0): 4, ('saad', 0): 2, ('ultim', 0): 2, ('imovi', 0): 1, ('twitterworld', 0): 2, ('stomp', 0): 1, ('cokeu', 0): 1, ('throb', 0): 2, ('kno', 1): 6, ('known', 1): 4, ('goodnight', 0): 5, ('flop', 0): 2, ('seattl', 0): 3, ('hve', 0): 1, ('pinki', 0): 2, ('nd', 0): 8, ('dvr', 1): 2, ('antm', 1): 1, ('lab', 1): 2, ('alpha', 1): 1, ('hint', 1): 1, ('lym', 1): 1, ('henc', 1): 1, ('forum', 1): 4, ('signatur', 1): 1, ('arnold', 1): 1, ('california', 1): 6, ('aka', 1): 4, ('happymothersday', 1): 1, ('kidney', 0): 3, ('cici', 0): 1, ('jet', 0): 1, ('flight', 0): 11, ('backup', 0): 3, ('yvonn', 1): 1, ('ffrecommend', 1): 1, ('seat', 1): 4, ('hall', 1): 1, ('flow', 1): 1, ('whee', 1): 2, ('mess', 1): 2, ('makin', 1): 5, ('aim', 0): 3, ('lolsz', 1): 1, ('cream', 0): 10, ('cute', 0): 3, ('outfit', 0): 2, ('mpg', 0): 1, ('toilet', 0): 3, ('meat', 1): 3, ('rehydr', 1): 1, ('coursework', 0): 2, ('rest', 0): 18, ('boulevard', 1): 1, ('hinder', 1): 2, ('lip', 1): 2, ('angel', 1): 4, ('howi', 1): 1, ('collid', 1): 1, ('postpon', 1): 1, ('invit', 1): 10, ('pathet', 0): 5, ('brat', 1): 1, ('zbrush', 1): 1, ('possibl', 1): 9, ('cost', 1): 4, ('relationship', 1): 2, ('lifebal', 0): 1, ('vienna', 0): 1, ('wiggiti', 1): 1, ('whack', 1): 2, ('wakin', 1): 1, ('prthematur', 1): 1, ('preciat', 1): 1, ('salon', 1): 2, ('nokia', 1): 1, ('perspect', 1): 2, ('sarah', 1): 5, ('yyoouu', 1): 1, ('stomachac', 0): 1, ('snicker', 1): 1, ('thx', 0): 2, ('nyquil', 0): 1, ('realiz', 1): 10, ('bulletin', 1): 1, ('board', 1): 7, ('repeat', 1): 3, ('crack', 1): 7, ('chariti', 1): 4, ('extra', 1): 6, ('douche', 0): 1, ('bate', 1): 1, ('flip', 1): 1, ('sydney', 1): 7, ('asthma', 0): 4, ('ventolin', 0): 1, ('hillsong', 1): 2, ('bruv', 1): 1, ('timet', 1): 1, ('oral', 1): 1, ('erm', 1): 2, ('digest', 1): 3, ('piano', 0): 3, ('bugger', 0): 6, ('inform', 0): 3, ('marco', 0): 2, ('nation', 0): 2, ('toni', 1): 2, ('heey', 1): 3, ('ep', 1): 3, ('omgg', 1): 1, ('hawaii', 1): 2, ('advert', 1): 4, ('feed', 1): 7, ('frustrat', 1): 1, ('record', 1): 13, ('radar', 1): 1, ('exxciite', 1): 1, ('grow', 1): 7, ('bitch', 1): 2, ('diploma', 0): 1, ('jj', 1): 1, ('pet', 1): 6, ('arou', 1): 1, ('alaska', 0): 1, ('prob', 0): 9, ('natur', 0): 4, ('envi', 0): 2, ('waldi', 1): 1, ('keyword', 1): 1, ('dope', 1): 2, ('caffein', 1): 1, ('affair', 1): 1, ('compliment', 1): 5, ('taken', 1): 4, ('key', 1): 7, ('squeege', 1): 1, ('dora', 1): 3, ('noggin', 1): 1, ('hub', 1): 3, ('pc', 1): 10, ('epic', 0): 6, ('ocd', 0): 1, ('themm', 1): 2, ('gee', 1): 3, ('souvlaki', 1): 1, ('bird', 0): 7, ('snap', 1): 2, ('reaon', 0): 1, ('matt', 0): 2, ('flat', 1): 5, ('sparkl', 1): 2, ('tube', 0): 6, ('journey', 0): 1, ('thursdayi', 0): 1, ('boreedd', 0): 1, ('spooki', 0): 1, ('babe', 0): 9, ('lifetim', 0): 2, ('pt', 0): 1, ('ciggarett', 1): 1, ('jare', 1): 1, ('pillow', 0): 3, ('suffoc', 0): 1, ('east', 0): 5, ('coast', 0): 6, ('hii', 0): 3, ('eal', 0): 1, ('picnic', 0): 1, ('xp', 1): 2, ('blob', 1): 1, ('tentacl', 1): 1, ('mixer', 0): 1, ('comput', 1): 12, ('specialist', 1): 1, ('teh', 1): 1, ('owwi', 1): 1, ('awayz', 1): 1, ('calib', 1): 1, ('symphonycm', 1): 1, ('unfollow', 0): 7, ('purpos', 0): 4, ('fishi', 0): 4, ('deck', 0): 7, ('stripey', 0): 1, ('subtl', 0): 1, ('floral', 0): 1, ('print', 0): 5, ('articl', 1): 7, ('respons', 0): 7, ('woken', 0): 4, ('floor', 0): 9, ('flood', 0): 2, ('furnitur', 0): 4, ('curtain', 0): 1, ('rug', 0): 1, ('ruin', 0): 17, ('kellz', 1): 1, ('tn', 1): 1, ('bri', 0): 1, ('sinus', 0): 7, ('chin', 0): 1, ('overdu', 1): 1, ('misplac', 0): 2, ('gb', 0): 2, ('mhmm', 1): 1, ('idk', 1): 4, ('freak', 1): 6, ('vn', 1): 1, ('giggl', 1): 3, ('dunk', 1): 1, ('dampier', 1): 1, ('massiv', 1): 4, ('up', 1): 1, ('kickin', 0): 3, ('leadership', 0): 3, ('bjs', 0): 1, ('role', 1): 6, ('cheif', 1): 1, ('sport', 1): 5, ('rugbi', 1): 2, ('spilt', 1): 1, ('thirti', 0): 1, ('oop', 0): 13, ('english', 1): 9, ('sad', 1): 6, ('wthembley', 1): 1, ('homesskool', 0): 1, ('rabbit', 1): 1, ('cage', 1): 2, ('doabl', 1): 2, ('lift', 1): 5, ('unbeliev', 0): 1, ('martin', 0): 2, ('streek', 0): 1, ('rude', 0): 5, ('isaac', 0): 2, ('manner', 0): 2, ('lewd', 0): 1, ('idkk', 0): 1, ('boss', 1): 4, ('savv', 1): 1, ('recommend', 0): 5, ('there', 1): 3, ('six', 1): 2, ('touchin', 1): 1, ('ashley', 1): 4, ('lit', 1): 2, ('mozart', 1): 2, ('ein', 1): 3, ('klein', 1): 1, ('nashtmusik', 1): 1, ('themarosa', 0): 1, ('shiit', 0): 3, ('scion', 1): 1, ('charger', 0): 3, ('arthur', 1): 1, ('forgot', 1): 18, ('flag', 1): 1, ('display', 1): 4, ('bedroom', 1): 2, ('door', 1): 4, ('pill', 0): 4, ('oold', 1): 1, ('merlin', 1): 2, ('chick', 1): 4, ('whoa', 1): 4, ('waah', 0): 3, ('asshat', 0): 1, ('cvs', 0): 2, ('shortchang', 0): 1, ('rip', 1): 3, ('lure', 1): 2, ('foot', 1): 3, ('nose', 1): 1, ('mattress', 0): 1, ('armada', 0): 1, ('milow', 1): 1, ('ayo', 1): 2, ('overwhelm', 1): 1, ('strawberri', 1): 2, ('lthemonad', 1): 3, ('foster', 1): 1, ('seed', 0): 2, ('larger', 0): 1, ('avalina', 0): 1, ('dud', 0): 1, ('pat', 0): 2, ('mwah', 0): 1, ('lift', 0): 2, ('drum', 0): 1, ('hardwar', 0): 1, ('downer', 0): 1, ('stalk', 1): 3, ('bitbett', 1): 1, ('whohoo', 1): 1, ('ottawa', 1): 2, ('nurs', 1): 4, ('algonquin', 1): 1, ('pthembrok', 1): 2, ('haappi', 1): 1, ('aah', 1): 3, ('shoot', 1): 8, ('dg', 0): 1, ('gamm', 0): 1, ('brian', 0): 1, ('fill', 1): 5, ('charli', 1): 2, ('bueno', 1): 2, ('dia', 1): 3, ('roo', 0): 1, ('slap', 0): 5, ('boohoo', 0): 3, ('mcr', 1): 4, ('yaa', 1): 2, ('ashotn', 1): 1, ('newlyw', 1): 1, ('glow', 1): 1, ('bt', 1): 5, ('gamer', 1): 1, ('atthempt', 1): 6, ('extent', 1): 1, ('countri', 1): 5, ('closer', 1): 6, ('elmo', 1): 1, ('potti', 1): 1, ('strict', 0): 2, ('shanni', 0): 1, ('canva', 0): 1, ('stitch', 0): 2, ('oover', 0): 2, ('contract', 0): 3, ('provid', 0): 2, ('tool', 1): 8, ('across', 1): 3, ('steroid', 1): 1, ('oi', 1): 1, ('manag', 1): 4, ('combin', 1): 4, ('sleepless', 0): 2, ('acquir', 1): 1, ('loong', 1): 3, ('sub', 1): 2, ('automat', 1): 1, ('url', 1): 2, ('verifi', 1): 1, ('njoy', 1): 2, ('plce', 1): 1, ('abt', 1): 3, ('joomla', 1): 1, ('bannish', 0): 1, ('wimpi', 0): 1, ('ecolog', 1): 2, ('carrier', 1): 1, ('cheap', 1): 4, ('eco', 1): 1, ('unev', 1): 1, ('joey', 1): 4, ('bedtim', 1): 2, ('src', 1): 1, ('zombi', 1): 3, ('expert', 1): 1, ('dang', 1): 3, ('wknd', 0): 3, ('txting', 0): 1, ('mommiess', 1): 1, ('misfit', 1): 1, ('certain', 0): 6, ('circumst', 0): 2, ('horrif', 0): 1, ('mish', 1): 1, ('metaphor', 1): 1, ('dthemocrat', 1): 1, ('process', 1): 2, ('serv', 1): 2, ('transpar', 1): 1, ('opaqu', 1): 1, ('privat', 1): 3, ('humid', 1): 1, ('munchin', 1): 2, ('butti', 1): 1, ('tobe', 1): 1, ('profession', 1): 3, ('bni', 1): 1, ('seafood', 0): 2, ('lobster', 0): 1, ('chow', 0): 1, ('hall', 0): 2, ('nooww', 0): 2, ('crossfit', 0): 1, ('pyr', 0): 1, ('doorknob', 0): 1, ('jaw', 0): 1, ('lauren', 0): 4, ('conrad', 0): 1, ('podcast', 1): 2, ('chi', 1): 2, ('alpin', 1): 2, ('yur', 1): 2, ('wateva', 1): 1, ('exit', 1): 5, ('newt', 0): 1, ('freezer', 0): 2, ('mrskutcher', 1): 1, ('aplusk', 1): 1, ('hauntingxealot', 0): 1, ('goulburn', 0): 1, ('trail', 1): 2, ('climb', 1): 5, ('statthement', 0): 1, ('hound', 0): 1, ('dodg', 0): 2, ('van', 1): 3, ('moni', 0): 2, ('kmf', 1): 1, ('smooth', 1): 6, ('chequ', 1): 1, ('limit', 1): 5, ('pmg', 0): 1, ('relasi', 0): 1, ('hugh', 0): 5, ('lauri', 0): 2, ('wasnt', 1): 2, ('taboo', 1): 1, ('ali', 1): 4, ('whoop', 0): 5, ('viral', 1): 1, ('script', 1): 3, ('amaaz', 1): 2, ('halo', 1): 4, ('skeptic', 1): 1, ('circumst', 1): 1, ('given', 0): 8, ('cuut', 1): 3, ('newborn', 1): 1, ('rieger', 1): 1, ('begonia', 1): 1, ('basket', 1): 1, ('speedbump', 0): 1, ('people', 1): 1, ('xbox', 1): 4, ('tie', 1): 1, ('skatepark', 0): 1, ('sayid', 0): 1, ('talkin', 1): 5, ('kate', 1): 4, ('nash', 1): 1, ('dell', 1): 2, ('inspiron', 1): 1, ('hdd', 1): 1, ('inch', 1): 1, ('lovelytrinket', 1): 1, ('rocki', 1): 2, ('pastor', 1): 2, ('luca', 1): 4, ('thirsti', 0): 1, ('downstair', 0): 3, ('string', 0): 1, ('wire', 0): 2, ('housewif', 1): 1, ('mornin', 0): 2, ('crave', 0): 8, ('broccoli', 0): 2, ('soup', 0): 7, ('hunger', 0): 1, ('brought', 0): 5, ('scarc', 0): 1, ('msn', 0): 4, ('xox', 0): 2, ('sean', 0): 1, ('thousand', 0): 3, ('corp', 0): 1, ('frown', 0): 1, ('alcohol', 0): 7, ('leaf', 0): 1, ('woulda', 0): 1, ('welsh', 1): 2, ('flatmat', 1): 1, ('correct', 1): 3, ('unhealthi', 0): 2, ('burrito', 0): 3, ('chipotl', 0): 1, ('qdoba', 0): 1, ('act', 1): 10, ('krystal', 1): 1, ('squirrel', 1): 1, ('senior', 1): 7, ('imag', 1): 2, ('convo', 1): 2, ('ryan', 0): 4, ('adam', 0): 4, ('buddi', 0): 2, ('exampl', 1): 1, ('archuleta', 1): 1, ('familia', 1): 2, ('tomarrow', 1): 1, ('frick', 1): 1, ('elisha', 1): 1, ('sold', 1): 1, ('philosophi', 1): 1, ('sci', 1): 1, ('fi', 1): 1, ('hawain', 0): 1, ('breakfast', 0): 5, ('north', 1): 5, ('whahahah', 1): 1, ('outing', 0): 1, ('sph', 0): 1, ('frenz', 0): 1, ('nvr', 0): 1, ('dissappoint', 0): 2, ('haiz', 0): 1, ('vancouv', 0): 1, ('canuck', 0): 3, ('polit', 0): 2, ('raspberri', 1): 1, ('rippl', 1): 1, ('icecream', 1): 1, ('gage', 0): 1, ('mfs', 0): 1, ('heheh', 1): 9, ('coast', 1): 5, ('hurley', 1): 1, ('holli', 1): 5, ('sympahti', 1): 1, ('aidan', 1): 1, ('davi', 1): 2, ('abp', 1): 1, ('agh', 0): 3, ('arriv', 1): 10, ('itexa', 1): 1, ('heh', 0): 5, ('dthem', 0): 3, ('jen', 0): 2, ('killen', 0): 1, ('da', 0): 14, ('libray', 0): 1, ('ultra', 0): 1, ('trillin', 1): 1, ('fest', 1): 2, ('guest', 1): 3, ('hobnob', 1): 1, ('alyso', 1): 1, ('stoner', 1): 1, ('benton', 1): 1, ('messa', 1): 1, ('coment', 1): 1, ('josh', 0): 5, ('tour', 1): 17, ('loiusa', 1): 1, ('kangaroo', 1): 1, ('cthemetari', 1): 1, ('batman', 0): 3, ('arkham', 0): 1, ('asylum', 0): 2, ('joker', 0): 1, ('exclus', 0): 1, ('lookout', 1): 2, ('wer', 0): 1, ('neaarr', 0): 1, ('stressd', 0): 1, ('guna', 0): 2, ('bak', 0): 1, ('mooney', 1): 1, ('spirit', 0): 3, ('eight', 0): 3, ('gratz', 0): 1, ('tix', 0): 9, ('pj', 0): 3, ('harvey', 0): 1, ('debat', 0): 3, ('sober', 0): 6, ('ochh', 0): 1, ('supos', 0): 2, ('yas', 0): 1, ('thaught', 0): 1, ('bouquet', 1): 2, ('arrang', 1): 1, ('belat', 1): 4, ('tita', 1): 1, ('prize', 1): 3, ('samantha', 0): 1, ('nineteenth', 0): 1, ('impati', 0): 3, ('wes', 0): 1, ('carr', 0): 1, ('howev', 0): 2, ('humpthestump', 0): 1, ('physic', 1): 1, ('cherri', 1): 3, ('italian', 1): 5, ('daili', 1): 3, ('flavor', 1): 2, ('rant', 0): 3, ('tumblr', 0): 4, ('cabinet', 1): 1, ('charley', 0): 1, ('hors', 0): 3, ('amazn', 1): 1, ('actress', 1): 5, ('slovenia', 1): 1, ('biggest', 0): 4, ('creep', 0): 3, ('woohoo', 0): 1, ('plese', 1): 1, ('thriller', 1): 1, ('diggin', 1): 2, ('spartacus', 1): 1, ('tip', 0): 3, ('dri', 1): 3, ('macadamia', 1): 1, ('shampoo', 1): 1, ('sis', 1): 11, ('agus', 1): 1, ('fyi', 0): 4, ('turkish', 0): 1, ('walmart', 0): 3, ('aj', 1): 1, ('twinz', 1): 2, ('godda', 1): 1, ('explos', 0): 1, ('eighti', 0): 1, ('migrat', 0): 2, ('wind', 0): 2, ('tshirt', 1): 2, ('johno', 1): 1, ('canada', 1): 6, ('ruler', 0): 1, ('websit', 0): 12, ('america', 0): 4, ('languish', 0): 1, ('curl', 1): 1, ('broke', 1): 6, ('spit', 1): 1, ('paranoid', 1): 4, ('stanley', 0): 3, ('icki', 0): 3, ('encorag', 0): 1, ('behavior', 0): 1, ('imax', 1): 2, ('ugghh', 0): 1, ('formul', 0): 1, ('illog', 0): 1, ('handsom', 1): 2, ('myfriend', 1): 1, ('match', 1): 11, ('refer', 1): 1, ('lh', 1): 1, ('fopp', 1): 1, ('med', 0): 3, ('geezz', 1): 1, ('siargao', 1): 1, ('nlng', 1): 1, ('pla', 1): 1, ('whose', 1): 1, ('url', 0): 3, ('catchup', 1): 1, ('mode', 1): 3, ('pow', 1): 1, ('peak', 0): 1, ('notic', 1): 13, ('papa', 1): 1, ('squiggi', 1): 1, ('lavern', 1): 1, ('snd', 1): 1, ('shirley', 1): 1, ('basic', 0): 6, ('drawer', 0): 3, ('lui', 1): 1, ('prof', 1): 2, ('third', 0): 5, ('chapter', 0): 3, ('funnyy', 1): 1, ('luc', 0): 1, ('bourdon', 0): 1, ('hoot', 1): 2, ('jimmi', 1): 3, ('fallon', 1): 2, ('teach', 0): 4, ('sublimin', 1): 1, ('sheet', 1): 3, ('endulg', 1): 1, ('blanket', 1): 2, ('parc', 0): 1, ('wd', 0): 1, ('cruis', 0): 4, ('york', 0): 4, ('treat', 0): 5, ('shrimp', 0): 1, ('scampi', 0): 1, ('vermouth', 0): 1, ('iusedtobescaredof', 0): 1, ('oreo', 0): 1, ('milkskak', 0): 1, ('plurk', 0): 2, ('ozzi', 0): 1, ('osbourn', 0): 1, ('threw', 0): 3, ('lizzi', 0): 3, ('flashlight', 1): 1, ('tag', 1): 3, ('slave', 0): 5, ('byee', 1): 1, ('knoww', 1): 5, ('newcastl', 1): 4, ('charm', 1): 6, ('fthemal', 1): 5, ('hawaiian', 1): 1, ('outfit', 1): 4, ('reus', 1): 1, ('wood', 1): 2, ('ranch', 1): 1, ('dian', 1): 2, ('deng', 1): 1, ('pao', 1): 2, ('nobodi', 1): 2, ('geneva', 1): 1, ('civilizati', 1): 1, ('feelinq', 0): 1, ('huqe', 0): 1, ('pimpl', 0): 1, ('doom', 0): 3, ('riqht', 0): 1, ('hurghada', 0): 1, ('prioriti', 0): 1, ('pin', 0): 2, ('ehh', 1): 1, ('tall', 1): 2, ('mud', 1): 3, ('st', 1): 4, ('blown', 1): 1, ('tenni', 0): 2, ('venus', 0): 4, ('exit', 0): 3, ('prove', 1): 4, ('brittney', 0): 1, ('becki', 0): 1, ('brit', 0): 1, ('schindler', 0): 1, ('toronto', 0): 3, ('twittin', 0): 1, ('drag', 1): 3, ('freakin', 1): 7, ('scari', 1): 2, ('termin', 1): 2, ('spell', 1): 5, ('melo', 1): 1, ('e', 1): 4, ('cynic', 1): 3, ('breakin', 0): 1, ('lightn', 1): 3, ('hook', 1): 5, ('rian', 1): 1, ('staden', 1): 1, ('concret', 1): 1, ('wath', 0): 1, ('humor', 1): 6, ('aaggess', 0): 1, ('suzaku', 1): 1, ('sucker', 1): 1, ('urban', 0): 2, ('chai', 0): 1, ('latt', 0): 1, ('rubik', 1): 1, ('uga', 1): 1, ('bubbl', 1): 2, ('hallmark', 1): 1, ('mkting', 1): 1, ('clue', 0): 4, ('tabl', 0): 8, ('free', 0): 19, ('edg', 0): 5, ('foul', 0): 1, ('gangsterr', 0): 2, ('wash', 0): 11, ('rhode', 1): 1, ('euruko', 1): 2, ('buzz', 1): 2, ('bastard', 1): 1, ('clumsi', 0): 2, ('hazin', 0): 1, ('omedetou', 1): 1, ('decis', 1): 4, ('bellevill', 1): 1, ('orillia', 1): 1, ('mall', 1): 5, ('hashtag', 1): 1, ('mitch', 1): 1, ('gona', 0): 4, ('decthemberist', 0): 1, ('raleigh', 0): 1, ('bolshoi', 0): 1, ('dalla', 0): 1, ('hover', 1): 1, ('button', 1): 3, ('tiff', 1): 2, ('wouldnt', 0): 3, ('flirt', 0): 1, ('colleagu', 0): 4, ('moan', 0): 4, ('dave', 0): 6, ('leyrock', 0): 1, ('piti', 0): 7, ('coloursfest', 0): 1, ('ahoy', 0): 1, ('xo', 0): 1, ('katey', 0): 1, ('yah', 0): 2, ('resort', 1): 1, ('jacket', 0): 1, ('disturb', 0): 5, ('thailand', 0): 1, ('exot', 0): 1, ('greedi', 0): 1, ('bastard', 0): 3, ('kiddo', 1): 1, ('shade', 1): 2, ('lexus', 1): 2, ('twitpic', 1): 4, ('hopw', 1): 1, ('develop', 1): 3, ('content', 1): 6, ('provid', 1): 5, ('ventur', 1): 2, ('amyy', 1): 1, ('mthemor', 1): 1, ('julius', 1): 1, ('caesar', 1): 1, ('freakin', 0): 10, ('substanc', 0): 1, ('mam', 1): 1, ('bay', 1): 3, ('mingin', 1): 1, ('kitchen', 1): 3, ('doona', 0): 1, ('patio', 0): 1, ('kirkland', 0): 1, ('ist', 0): 1, ('workin', 1): 1, ('felton', 1): 1, ('bridg', 1): 1, ('heartbreak', 0): 4, ('murphi', 0): 1, ('cooper', 0): 1, ('angi', 0): 1, ('kevin', 0): 2, ('toughi', 0): 1, ('pete', 1): 1, ('yuup', 1): 1, ('ani', 0): 1, ('youu', 0): 5, ('aass', 0): 2, ('shanghai', 1): 1, ('skyscrap', 1): 1, ('galor', 1): 2, ('sh', 1): 1, ('bj', 1): 1, ('feelin', 1): 6, ('bacardi', 1): 2, ('gthem', 0): 1, ('repierc', 0): 1, ('talent', 1): 15, ('photograph', 1): 4, ('journalist', 1): 1, ('freaak', 1): 1, ('usher', 1): 1, ('prep', 1): 1, ('subway', 1): 5, ('glass', 1): 8, ('aaww', 0): 2, ('wah', 0): 4, ('hrs', 0): 5, ('tager', 1): 1, ('request', 0): 6, ('hilli', 0): 2, ('txt', 0): 3, ('betta', 0): 1, ('nest', 0): 4, ('despit', 0): 6, ('picci', 1): 1, ('studyin', 0): 1, ('cruiser', 0): 1, ('lmfao', 0): 3, ('sicck', 0): 1, ('jimbbo', 0): 1, ('reli', 0): 2, ('recept', 0): 3, ('micro', 0): 2, ('liter', 0): 6, ('nymph', 0): 1, ('add', 0): 5, ('overpow', 0): 1, ('anyday', 0): 2, ('wnt', 0): 2, ('truth', 0): 2, ('teatre', 1): 1, ('aboard', 1): 2, ('mustang', 0): 2, ('rli', 1): 2, ('carnt', 1): 1, ('nd', 1): 2, ('skittl', 0): 1, ('sweeti', 0): 4, ('unpleas', 0): 1, ('hallelujah', 1): 1, ('career', 1): 1, ('assign', 1): 7, ('task', 1): 3, ('ofici', 1): 2, ('systthem', 1): 10, ('devil', 0): 4, ('prada', 0): 2, ('laughtner', 1): 1, ('selena', 1): 3, ('gomez', 1): 1, ('cutest', 1): 5, ('mag', 1): 1, ('moustachio', 1): 1, ('daddio', 1): 1, ('surpris', 0): 6, ('announc', 0): 2, ('bom', 1): 1, ('frioo', 1): 1, ('que', 1): 1, ('ju', 1): 1, ('pitman', 0): 1, ('prayer', 1): 4, ('ga', 1): 3, ('coke', 1): 2, ('healthi', 1): 9, ('everyday', 0): 7, ('pussi', 0): 2, ('bless', 0): 3, ('clingi', 0): 1, ('phillip', 1): 2, ('xo', 1): 5, ('hawk', 1): 1, ('church', 0): 2, ('sumtim', 0): 1, ('nt', 0): 5, ('knowng', 0): 1, ('sung', 0): 1, ('erbdi', 0): 1, ('bulgaria', 1): 1, ('sthemi', 0): 1, ('uugh', 0): 2, ('oohh', 0): 1, ('oxteach', 0): 1, ('twittervill', 1): 3, ('perez', 1): 1, ('outstand', 1): 2, ('jeez', 0): 2, ('lele', 1): 1, ('leather', 0): 2, ('woo', 0): 2, ('core', 0): 3, ('duo', 0): 1, ('thoughh', 1): 1, ('ty', 0): 1, ('uncl', 0): 8, ('kirst', 1): 1, ('homthemad', 0): 1, ('flour', 0): 2, ('tortilla', 0): 1, ('potenti', 0): 4, ('po', 0): 1, ('braclet', 1): 1, ('tierd', 0): 4, ('cruel', 0): 4, ('ucla', 1): 1, ('convinc', 1): 5, ('univers', 1): 2, ('bookstor', 1): 2, ('dmv', 0): 2, ('dc', 1): 3, ('fil', 1): 1, ('prohibit', 0): 1, ('restaraunt', 0): 1, ('garfield', 0): 1, ('nowher', 0): 6, ('sequel', 1): 2, ('introduc', 1): 3, ('franklin', 1): 1, ('richard', 1): 3, ('termin', 0): 6, ('salvat', 0): 1, ('cathay', 0): 1, ('action', 0): 7, ('marcus', 0): 1, ('jlo', 0): 1, ('brb', 0): 2, ('eastcoast', 0): 1, ('spongebob', 1): 3, ('ethan', 1): 2, ('bullshit', 0): 4, ('reach', 0): 5, ('vincent', 0): 1, ('baad', 0): 1, ('fall', 1): 13, ('duper', 1): 3, ('pour', 1): 3, ('simpl', 0): 4, ('touch', 1): 7, ('tickett', 0): 1, ('gah', 0): 5, ('elliott', 0): 2, ('tucson', 0): 1, ('sour', 0): 1, ('pie', 0): 2, ('fondu', 0): 1, ('separ', 0): 2, ('skype', 1): 5, ('conflict', 0): 4, ('denver', 0): 2, ('brad', 1): 4, ('bittercreek', 1): 1, ('hopnoxi', 1): 1, ('sweetgrass', 1): 1, ('spray', 0): 1, ('tan', 0): 7, ('grandpar', 1): 3, ('posh', 1): 1, ('sheeitt', 0): 1, ('bwaahh', 0): 1, ('rollerblad', 0): 1, ('shorelin', 0): 1, ('chili', 0): 2, ('messi', 0): 2, ('eater', 0): 1, ('kmv', 0): 1, ('exict', 1): 1, ('verey', 0): 1, ('madri', 0): 1, ('chasawi', 0): 1, ('pong', 1): 4, ('poorest', 0): 1, ('lender', 0): 1, ('shower', 0): 16, ('workk', 1): 2, ('potato', 1): 1, ('golden', 1): 3, ('spam', 1): 3, ('redirect', 1): 1, ('ritualist', 0): 1, ('natali', 1): 3, ('taught', 1): 1, ('jameson', 1): 1, ('crate', 0): 1, ('bella', 0): 2, ('dolc', 0): 1, ('tto', 0): 1, ('richmond', 0): 1, ('requirth', 1): 1, ('winter', 1): 6, ('compass', 0): 1, ('anim', 0): 9, ('human', 0): 2, ('yo', 1): 7, ('duke', 1): 1, ('behav', 1): 2, ('delight', 1): 3, ('desrib', 1): 1, ('rhubarb', 1): 2, ('moleskin', 0): 1, ('notebook', 0): 6, ('organis', 1): 2, ('luxuri', 1): 2, ('manchest', 0): 2, ('door', 0): 9, ('obsess', 0): 3, ('whoever', 0): 1, ('collect', 1): 3, ('oakland', 1): 1, ('bonni', 1): 1, ('clyde', 1): 1, ('uncool', 0): 2, ('midwest', 1): 2, ('resourc', 1): 2, ('cargo', 0): 1, ('postpon', 0): 1, ('brof', 0): 1, ('sell', 1): 7, ('logo', 1): 2, ('wordart', 1): 1, ('restrict', 0): 3, ('annapoli', 0): 1, ('marathon', 0): 2, ('register', 0): 1, ('deadlin', 0): 4, ('ibiza', 0): 1, ('kean', 1): 1, ('cipriano', 1): 1, ('max', 0): 4, ('gaha', 1): 1, ('offend', 1): 3, ('pseudo', 1): 1, ('stepmom', 1): 1, ('ocracok', 0): 1, ('thunderstorm', 0): 2, ('bearer', 0): 1, ('hook', 0): 4, ('evil', 0): 7, ('toothach', 0): 3, ('mango', 0): 1, ('where', 0): 3, ('pocket', 0): 1, ('queri', 0): 2, ('beg', 1): 2, ('add', 1): 11, ('dublin', 1): 2, ('octob', 1): 3, ('pleeasse', 1): 1, ('yourock', 1): 1, ('er', 0): 6, ('curdl', 0): 1, ('power', 0): 9, ('disk', 0): 2, ('repriev', 1): 1, ('click', 1): 2, ('shut', 1): 1, ('minim', 1): 1, ('australian', 1): 2, ('citizen', 1): 2, ('lexington', 0): 2, ('homeless', 0): 3, ('pray', 0): 6, ('wut', 0): 1, ('cha', 0): 2, ('tabz', 1): 1, ('joss', 1): 1, ('fed', 1): 3, ('lainey', 0): 1, ('comic', 1): 4, ('twitpeep', 0): 1, ('ahthem', 0): 1, ('shld', 0): 1, ('wld', 0): 2, ('opportun', 0): 2, ('noess', 1): 1, ('tickl', 1): 1, ('floor', 1): 4, ('sandwhich', 1): 1, ('horrid', 0): 4, ('nightt', 1): 1, ('amazin', 1): 2, ('tutus', 1): 1, ('kirsti', 0): 1, ('discov', 1): 3, ('hog', 0): 2, ('shitter', 0): 1, ('mo', 1): 3, ('hasnt', 1): 1, ('saddest', 0): 5, ('earphon', 0): 3, ('waz', 0): 1, ('incomplet', 0): 1, ('gf', 1): 2, ('priceless', 1): 3, ('marley', 0): 3, ('abuelo', 0): 1, ('aguadilla', 0): 1, ('context', 0): 1, ('ontario', 1): 1, ('tradewind', 1): 1, ('odyssey', 1): 1, ('forest', 1): 3, ('retreat', 1): 1, ('appoint', 0): 5, ('eleg', 0): 1, ('c', 0): 11, ('nu', 0): 1, ('va', 0): 2, ('mai', 0): 1, ('avea', 0): 1, ('alt', 0): 1, ('themisiun', 0): 1, ('sau', 0): 1, ('ceva', 0): 1, ('york', 1): 3, ('doin', 0): 4, ('soul', 0): 4, ('appear', 0): 8, ('awestruck', 1): 1, ('katherin', 1): 1, ('steel', 1): 4, ('dreambear', 1): 2, ('hahahahaha', 1): 7, ('nappi', 1): 2, ('ilov', 1): 1, ('braid', 1): 2, ('igot', 1): 1, ('homi', 1): 3, ('wind', 1): 5, ('midterm', 0): 1, ('newest', 0): 2, ('version', 0): 6, ('glade', 0): 1, ('debian', 0): 1, ('delhi', 1): 3, ('summari', 1): 1, ('confsu', 0): 1, ('chrome', 1): 2, ('steam', 0): 4, ('punlk', 0): 1, ('fashion', 0): 3, ('torcon', 0): 1, ('decaf', 1): 1, ('id', 1): 9, ('sketch', 1): 2, ('samberg', 1): 2, ('overcast', 0): 2, ('twitterbug', 1): 1, ('whitney', 1): 1, ('labor', 1): 1, ('josi', 1): 1, ('nico', 0): 1, ('twitterrif', 1): 1, ('lonestar', 0): 1, ('pitcher', 0): 1, ('recov', 0): 5, ('gluten', 0): 1, ('consumpt', 0): 1, ('crumpin', 1): 1, ('dub', 1): 1, ('snuck', 1): 1, ('tataindicom', 1): 1, ('tataski', 1): 1, ('airtel', 1): 1, ('broadband', 1): 1, ('nin', 1): 1, ('access', 1): 4, ('loneli', 0): 1, ('layout', 0): 1, ('hyperlink', 0): 1, ('indent', 0): 1, ('blowin', 1): 2, ('rb', 1): 1, ('ladypn', 1): 1, ('dig', 1): 4, ('themof', 1): 1, ('trak', 1): 1, ('note', 1): 12, ('okayi', 0): 1, ('thikn', 0): 1, ('forc', 1): 6, ('grandma', 1): 4, ('generat', 1): 2, ('themot', 1): 4, ('fuuck', 0): 1, ('andi', 0): 3, ('period', 1): 1, ('until', 1): 2, ('ducki', 0): 1, ('layin', 0): 2, ('greenvill', 0): 1, ('basebal', 0): 4, ('clown', 0): 2, ('penjii', 1): 1, ('mcbabi', 1): 1, ('sweetest', 1): 4, ('errbodi', 1): 1, ('dessert', 1): 3, ('enhanc', 1): 1, ('angl', 1): 2, ('generalis', 0): 1, ('mizz', 1): 1, ('jone', 1): 2, ('dms', 1): 1, ('concern', 1): 3, ('pirouett', 1): 1, ('ballerina', 1): 1, ('brudder', 1): 1, ('whilst', 0): 2, ('hold', 1): 7, ('tube', 1): 2, ('stick', 1): 3, ('stomach', 1): 6, ('sophmor', 0): 1, ('geez', 0): 4, ('fifteen', 0): 2, ('graf', 1): 1, ('equip', 0): 1, ('collect', 0): 8, ('analog', 0): 1, ('condol', 0): 3, ('beast', 0): 2, ('swamp', 0): 1, ('charad', 0): 1, ('grumpi', 1): 2, ('wipe', 0): 4, ('repent', 0): 1, ('pam', 0): 2, ('rosco', 0): 2, ('yestarday', 0): 1, ('squirrel', 0): 5, ('foggi', 0): 1, ('shaun', 1): 2, ('grtsat', 1): 1, ('bggete', 1): 1, ('honey', 0): 5, ('missin', 0): 3, ('wolverin', 0): 2, ('noon', 1): 3, ('import', 1): 12, ('warmer', 0): 1, ('negat', 0): 4, ('stumpi', 0): 1, ('migran', 0): 3, ('yey', 0): 1, ('ib', 0): 1, ('authent', 0): 1, ('cinnamon', 1): 2, ('barakitten', 1): 1, ('yayayyayayay', 1): 1, ('airport', 1): 1, ('rofl', 0): 2, ('tree', 0): 5, ('nba', 1): 4, ('nugget', 1): 2, ('bud', 0): 3, ('lung', 0): 4, ('boredd', 0): 3, ('tthemperatur', 1): 1, ('routin', 1): 1, ('keith', 0): 3, ('mate', 0): 5, ('sd', 1): 2, ('dens', 1): 1, ('treatment', 1): 2, ('cps', 1): 1, ('base', 1): 6, ('interpret', 1): 1, ('sicp', 1): 1, ('copi', 1): 7, ('mel', 1): 1, ('crazier', 1): 2, ('underground', 1): 1, ('convinc', 0): 4, ('moder', 0): 1, ('abid', 0): 2, ('ciroc', 0): 1, ('creativ', 1): 5, ('depth', 1): 1, ('courthous', 0): 2, ('lack', 1): 2, ('fcs', 1): 1, ('placthement', 1): 2, ('papa', 0): 4, ('kneel', 0): 1, ('poison', 0): 2, ('pellet', 0): 1, ('mol', 0): 1, ('map', 0): 2, ('sheet', 0): 1, ('section', 0): 2, ('accela', 0): 1, ('unit', 0): 6, ('whn', 0): 2, ('wild', 0): 5, ('bull', 0): 1, ('dayss', 1): 3, ('jls', 1): 1, ('oprah', 0): 1, ('ms', 0): 4, ('tilli', 1): 1, ('recit', 1): 1, ('spectacular', 1): 1, ('spellingi', 0): 1, ('twiiter', 0): 2, ('sicken', 0): 2, ('shannon', 0): 1, ('stud', 0): 1, ('amsterdam', 0): 2, ('hayley', 1): 3, ('william', 1): 3, ('sprinkl', 1): 1, ('worm', 1): 1, ('wormi', 1): 1, ('scram', 0): 1, ('nib', 0): 1, ('eastgarden', 1): 1, ('pal', 1): 2, ('self', 1): 5, ('beard', 1): 1, ('asylm', 1): 1, ('poster', 0): 2, ('civic', 0): 1, ('anywher', 1): 4, ('chergo', 1): 1, ('desir', 0): 1, ('imag', 0): 1, ('twitterberri', 0): 3, ('cleanin', 0): 1, ('confit', 1): 1, ('cancer', 0): 7, ('careless', 0): 4, ('bsc', 1): 1, ('rail', 1): 2, ('hiss', 0): 1, ('tee', 0): 1, ('shuld', 0): 1, ('ghetto', 0): 1, ('wid', 0): 1, ('style', 0): 4, ('tmrw', 1): 4, ('tiz', 1): 1, ('raid', 0): 1, ('killer', 0): 6, ('jonathan', 0): 2, ('ross', 0): 3, ('sexi', 0): 2, ('heavyweight', 1): 1, ('battl', 1): 2, ('sum', 0): 2, ('ahaha', 0): 2, ('involv', 0): 3, ('minor', 0): 1, ('immedi', 0): 4, ('dns', 0): 2, ('utorr', 0): 1, ('destroytwitt', 0): 1, ('waayi', 0): 1, ('bff', 1): 4, ('someday', 1): 4, ('orthadontist', 0): 1, ('lightn', 0): 2, ('britain', 1): 8, ('vanilla', 0): 3, ('frosti', 0): 1, ('yeeh', 1): 1, ('drummer', 1): 4, ('instrument', 1): 2, ('martini', 0): 2, ('loung', 0): 3, ('myspac', 0): 5, ('planet', 1): 3, ('angsti', 0): 1, ('hayfev', 0): 4, ('arthriti', 0): 2, ('squat', 0): 2, ('bicycl', 0): 3, ('deceiv', 0): 1, ('tonit', 1): 4, ('fuel', 1): 2, ('donat', 0): 2, ('toward', 0): 1, ('fund', 0): 4, ('vile', 0): 1, ('rthemov', 0): 4, ('valu', 0): 1, ('nephew', 0): 3, ('sniffl', 1): 2, ('cuzzo', 0): 1, ('vivi', 0): 1, ('homeless', 1): 3, ('benadryl', 0): 2, ('tester', 1): 3, ('synolog', 1): 1, ('diskstat', 1): 1, ('projector', 0): 1, ('windoz', 0): 2, ('afterward', 0): 4, ('dedic', 0): 1, ('advanc', 0): 4, ('chapman', 0): 1, ('muthath', 1): 1, ('salut', 1): 4, ('sundress', 1): 1, ('awkward', 1): 1, ('shakalohana', 0): 1, ('wavez', 0): 1, ('surfin', 0): 1, ('mike', 0): 2, ('darrin', 0): 1, ('sebastian', 0): 1, ('findin', 0): 1, ('groceri', 0): 2, ('tend', 1): 2, ('totoro', 1): 1, ('color', 1): 3, ('atmospher', 1): 2, ('ebay', 1): 3, ('replacth', 1): 2, ('nekkid', 0): 1, ('burrito', 1): 1, ('jason', 1): 3, ('electr', 1): 2, ('crisi', 1): 1, ('avert', 1): 1, ('phew', 1): 3, ('hahahahahahahahahahahaha', 1): 1, ('crave', 1): 1, ('shipwreck', 1): 1, ('goodtim', 1): 1, ('thempti', 1): 2, ('yearbook', 1): 1, ('account', 1): 14, ('chrissi', 1): 2, ('deer', 1): 1, ('snowi', 1): 1, ('omigood', 1): 1, ('popsicl', 1): 1, ('justin', 0): 7, ('blanket', 0): 1, ('lint', 0): 2, ('skirt', 0): 2, ('noctweetup', 0): 1, ('vat', 1): 1, ('giveaway', 1): 2, ('sooner', 1): 3, ('unclaim', 1): 1, ('plug', 0): 3, ('stretch', 0): 1, ('assist', 0): 3, ('rel', 0): 1, ('soc', 0): 1, ('eddi', 1): 3, ('izzard', 1): 2, ('glorious', 1): 7, ('shud', 1): 2, ('hav', 1): 4, ('thou', 1): 2, ('heartburn', 0): 3, ('backach', 0): 2, ('driver', 0): 9, ('blurgh', 0): 1, ('lambert', 1): 1, ('idol', 1): 3, ('insult', 0): 5, ('chiro', 0): 1, ('wharra', 0): 1, ('naiveti', 1): 1, ('cathi', 1): 1, ('ordinarili', 1): 1, ('chase', 1): 3, ('safe', 0): 3, ('coldplay', 0): 1, ('polar', 1): 1, ('bear', 1): 5, ('drunken', 1): 1, ('practition', 1): 1, ('devot', 1): 1, ('field', 1): 3, ('monkey', 0): 3, ('smudg', 0): 1, ('malici', 0): 1, ('afterschool', 1): 1, ('likin', 1): 1, ('laid', 1): 1, ('propel', 0): 1, ('passion', 0): 2, ('loold', 1): 1, ('grandaught', 1): 1, ('grandkid', 1): 1, ('trampolin', 0): 1, ('calendar', 1): 2, ('colland', 1): 1, ('straight', 1): 2, ('viet', 1): 1, ('nam', 1): 1, ('williamsburg', 0): 2, ('physic', 0): 2, ('ntn', 0): 1, ('bbf', 0): 1, ('juga', 0): 1, ('hihi', 0): 1, ('sukanya', 0): 1, ('jun', 0): 1, ('pyo', 0): 1, ('ebay', 0): 5, ('royal', 0): 2, ('refund', 0): 1, ('compof', 0): 1, ('twimul', 0): 1, ('kunal', 0): 1, ('khthemu', 0): 1, ('starrer', 0): 1, ('v', 0): 4, ('lanc', 0): 1, ('telli', 0): 1, ('yorkshir', 0): 1, ('user', 0): 1, ('helaa', 1): 1, ('en', 1): 1, ('ironi', 0): 3, ('inventor', 0): 1, ('ford', 0): 4, ('via', 0): 3, ('carpark', 0): 1, ('puzzl', 0): 2, ('pinpoint', 0): 1, ('club', 1): 14, ('headach', 1): 3, ('carnivalsofpari', 0): 1, ('bl', 0): 1, ('confus', 1): 4, ('steph', 1): 2, ('paramor', 1): 7, ('farro', 1): 2, ('zac', 1): 2, ('jerthemi', 1): 2, ('mash', 1): 1, ('futur', 0): 7, ('slope', 1): 1, ('brooklyn', 1): 2, ('bust', 1): 2, ('photoshoot', 1): 3, ('tonsil', 1): 2, ('size', 1): 4, ('golfbal', 1): 1, ('delusion', 0): 1, ('torta', 1): 1, ('hotdog', 1): 1, ('itlog', 1): 1, ('hurrah', 1): 3, ('dismal', 0): 1, ('potluck', 0): 1, ('daniell', 0): 1, ('veggi', 0): 1, ('jenna', 1): 3, ('teehe', 1): 2, ('ye', 1): 1, ('relat', 0): 3, ('wp', 0): 1, ('whore', 0): 5, ('honest', 1): 7, ('ihav', 1): 1, ('gurl', 1): 2, ('eyebrow', 0): 1, ('wax', 0): 1, ('suprthemist', 0): 1, ('abhor', 0): 1, ('racist', 0): 2, ('brunt', 0): 1, ('doubl', 1): 2, ('rainbow', 1): 1, ('organ', 1): 4, ('groceri', 1): 2, ('tab', 1): 1, ('allegra', 0): 1, ('flonas', 0): 1, ('inhal', 0): 1, ('monarchi', 0): 1, ('dri', 0): 8, ('pig', 0): 7, ('recon', 0): 1, ('reciev', 0): 1, ('stoopid', 0): 3, ('ahahahahahahahaha', 1): 1, ('nike', 1): 1, ('renounc', 1): 1, ('root', 1): 4, ('strung', 0): 1, ('fruiti', 1): 1, ('permit', 1): 1, ('seagul', 0): 1, ('hahaah', 0): 1, ('crys', 0): 1, ('fuse', 0): 3, ('typic', 0): 1, ('carlton', 0): 1, ('extra', 0): 6, ('somepleas', 0): 1, ('ninja', 0): 1, ('warrier', 0): 1, ('coo', 1): 1, ('accord', 0): 2, ('laineygossip', 0): 1, ('taylena', 0): 1, ('fame', 0): 1, ('bel', 1): 1, ('alabang', 1): 1, ('describ', 0): 1, ('thunder', 1): 3, ('bmore', 0): 1, ('samberg', 0): 1, ('trailor', 0): 1, ('cabl', 0): 4, ('pleasant', 1): 5, ('rare', 1): 5, ('workout', 1): 6, ('jillian', 1): 1, ('program', 1): 2, ('pole', 1): 2, ('throw', 1): 5, ('furnitur', 1): 1, ('apt', 0): 1, ('l', 0): 4, ('australia', 0): 2, ('libbi', 0): 1, ('fussi', 0): 1, ('farewel', 0): 3, ('kimmi', 0): 1, ('pleb', 0): 1, ('truee', 1): 1, ('backstag', 1): 1, ('mountain', 0): 3, ('station', 0): 6, ('paso', 0): 1, ('sweetheart', 1): 3, ('xoxoxo', 1): 1, ('custom', 0): 4, ('wrote', 1): 4, ('bill', 1): 6, ('strep', 1): 2, ('angelina', 1): 1, ('belgian', 1): 1, ('prop', 1): 2, ('auction', 1): 2, ('baseship', 1): 1, ('passiv', 0): 1, ('agress', 0): 1, ('owner', 0): 4, ('accidentali', 0): 1, ('trunk', 0): 1, ('canberra', 1): 1, ('raddest', 1): 1, ('de', 1): 3, ('attent', 0): 6, ('youth', 1): 1, ('afford', 1): 4, ('vol', 1): 1, ('luci', 1): 1, ('liu', 1): 1, ('crab', 0): 2, ('euh', 0): 1, ('ldap', 0): 1, ('schthema', 0): 1, ('coldston', 1): 2, ('ancient', 1): 1, ('bankrupt', 0): 1, ('ate', 1): 9, ('stupid', 1): 7, ('sumon', 1): 1, ('yrs', 0): 4, ('feb', 1): 1, ('miami', 0): 6, ('ouchi', 0): 3, ('cocktail', 1): 6, ('wench', 1): 1, ('cranberri', 1): 2, ('quad', 1): 2, ('easier', 0): 2, ('heloo', 1): 1, ('wos', 1): 1, ('certain', 1): 5, ('individu', 1): 2, ('withstand', 0): 1, ('bois', 0): 1, ('yip', 0): 1, ('dodgi', 0): 1, ('eish', 0): 1, ('boet', 0): 1, ('gun', 1): 1, ('hopin', 1): 2, ('compiment', 1): 1, ('imna', 0): 1, ('menu', 1): 1, ('gor', 0): 1, ('fyi', 1): 3, ('thurstag', 1): 1, ('hee', 1): 7, ('gong', 1): 1, ('weekebd', 1): 1, ('yipe', 1): 2, ('airborn', 0): 1, ('toxic', 0): 1, ('escap', 0): 3, ('replacth', 0): 1, ('sol', 1): 1, ('nic', 0): 1, ('jerthemi', 0): 2, ('carri', 0): 5, ('pluck', 1): 2, ('fingernail', 1): 2, ('lohang', 1): 1, ('librefm', 1): 1, ('audaci', 1): 1, ('neurosurgeon', 0): 1, ('okc', 0): 1, ('anita', 1): 1, ('nativ', 0): 1, ('pleeas', 0): 3, ('allison', 0): 1, ('iraheta', 0): 1, ('paypal', 0): 1, ('verifi', 0): 3, ('brokt', 0): 1, ('chillaxin', 0): 1, ('ball', 1): 8, ('fone', 0): 2, ('garbo', 0): 1, ('sweetdream', 1): 1, ('ano', 0): 1, ('pa', 0): 5, ('aasahan', 0): 1, ('ko', 0): 2, ('iyo', 0): 1, ('beav', 0): 1, ('aquatard', 0): 1, ('cnn', 0): 1, ('tinytwitt', 0): 1, ('gold', 1): 2, ('starwar', 0): 2, ('colour', 0): 1, ('doe', 1): 1, ('moho', 1): 1, ('ia', 1): 2, ('equip', 1): 2, ('backlin', 1): 1, ('ehheheh', 1): 1, ('hord', 0): 1, ('guild', 0): 3, ('subway', 0): 3, ('calvin', 1): 1, ('shuffl', 1): 2, ('dogtown', 1): 1, ('chillax', 1): 1, ('hyde', 1): 2, ('fashion', 1): 3, ('utah', 1): 1, ('binari', 1): 1, ('zirconcod', 1): 1, ('tmrw', 0): 2, ('permit', 0): 2, ('gna', 0): 1, ('prefer', 1): 4, ('observ', 1): 1, ('gasp', 1): 2, ('tim', 1): 2, ('experienc', 0): 4, ('slowdown', 0): 1, ('fresh', 0): 2, ('bacon', 0): 3, ('pinkpop', 0): 1, ('bruce', 0): 1, ('springsteen', 0): 1, ('wweekkeenndd', 0): 1, ('teas', 1): 4, ('droop', 0): 1, ('grader', 0): 2, ('vidjagam', 1): 1, ('japa', 1): 1, ('custom', 1): 4, ('speech', 1): 3, ('type', 1): 6, ('written', 1): 2, ('cub', 1): 1, ('bttf', 1): 1, ('ii', 1): 2, ('sympathi', 0): 1, ('bebeisi', 1): 1, ('chanv', 1): 1, ('elisabeth', 1): 1, ('ticker', 1): 1, ('suupper', 1): 1, ('period', 0): 5, ('clone', 1): 1, ('gray', 0): 3, ('neglect', 0): 4, ('aha', 1): 6, ('arthritus', 0): 1, ('ftw', 1): 4, ('ubertwitt', 0): 1, ('cach', 0): 1, ('bowi', 0): 1, ('esp', 0): 1, ('alyanna', 0): 1, ('bondoc', 0): 1, ('cesar', 0): 1, ('sosa', 0): 1, ('hordi', 0): 1, ('bride', 0): 1, ('desk', 0): 5, ('someday', 0): 3, ('ofbrian', 0): 1, ('hugh', 1): 5, ('jackman', 1): 2, ('maddi', 0): 2, ('suicid', 0): 1, ('sympathis', 0): 1, ('spirit', 1): 3, ('grand', 1): 6, ('ere', 1): 2, ('springsteen', 1): 2, ('momentum', 0): 1, ('jeff', 0): 1, ('yvonn', 0): 1, ('appli', 0): 4, ('shadow', 1): 2, ('tree', 1): 4, ('spaghetti', 1): 1, ('cooker', 0): 2, ('poss', 0): 2, ('longest', 1): 1, ('francisco', 1): 1, ('napa', 1): 2, ('elsinor', 1): 1, ('dirti', 0): 7, ('fubumvc', 0): 1, ('cock', 1): 1, ('clock', 1): 2, ('oat', 1): 1, ('pinot', 1): 1, ('grigio', 1): 1, ('drizzl', 1): 2, ('coldplay', 1): 2, ('cds', 1): 2, ('consider', 1): 1, ('ricki', 0): 1, ('kyneton', 1): 1, ('noic', 1): 1, ('autumn', 1): 1, ('melb', 1): 1, ('daylesford', 1): 1, ('ththeme', 1): 3, ('roommat', 1): 4, ('aye', 0): 1, ('investig', 0): 3, ('plane', 1): 4, ('everywher', 1): 6, ('europ', 1): 2, ('announc', 1): 2, ('mack', 1): 2, ('mo', 0): 3, ('pie', 1): 3, ('coach', 1): 2, ('cancer', 1): 3, ('happilett', 1): 1, ('xbox', 0): 2, ('detail', 0): 2, ('sara', 0): 2, ('jayn', 0): 1, ('bac', 0): 1, ('ay', 0): 1, ('upsidedown', 0): 1, ('tomato', 0): 2, ('dlukasrossi', 1): 1, ('lock', 1): 3, ('protect', 1): 2, ('sahm', 0): 1, ('esp', 1): 3, ('evi', 1): 1, ('combo', 0): 2, ('mirror', 0): 3, ('thermal', 0): 1, ('gpu', 0): 2, ('particular', 1): 3, ('pier', 0): 1, ('shannan', 1): 1, ('lade', 1): 1, ('lanet', 1): 1, ('hopeful', 1): 1, ('swarm', 0): 1, ('mini', 0): 2, ('veranda', 0): 1, ('fij', 1): 1, ('bead', 0): 1, ('crumb', 0): 1, ('navig', 0): 1, ('traumat', 0): 4, ('ging', 1): 1, ('pp', 1): 1, ('defin', 0): 2, ('wrkd', 0): 1, ('nativ', 1): 3, ('wildflow', 1): 1, ('spellcheck', 0): 1, ('settl', 0): 2, ('unhelp', 0): 1, ('abus', 0): 3, ('lame', 1): 1, ('raleigh', 1): 1, ('nb', 1): 1, ('scalper', 1): 1, ('moron', 1): 1, ('awesomeupdat', 1): 1, ('twitterfail', 0): 1, ('ot', 1): 1, ('flashcad', 1): 1, ('towel', 0): 3, ('coke', 0): 2, ('sacrif', 0): 1, ('tori', 1): 1, ('jb', 1): 3, ('deborah', 0): 1, ('isnt', 1): 5, ('itch', 1): 1, ('upstair', 0): 1, ('hardest', 1): 1, ('toilet', 1): 1, ('lott', 0): 1, ('idgaf', 0): 1, ('wade', 0): 1, ('uhh', 0): 3, ('tattoo', 1): 6, ('manicur', 1): 1, ('pedicur', 1): 2, ('blender', 0): 2, ('grey', 0): 7, ('layer', 0): 2, ('neighborhood', 0): 1, ('rainforest', 0): 1, ('spa', 0): 1, ('meow', 0): 1, ('hop', 0): 2, ('ghost', 0): 2, ('lolz', 0): 2, ('sowwi', 0): 6, ('friggin', 0): 5, ('scrap', 0): 1, ('nth', 0): 1, ('preacheri', 1): 1, ('issu', 1): 3, ('firmwar', 1): 1, ('wink', 1): 2, ('g', 0): 4, ('ami', 1): 5, ('tmh', 1): 1, ('bounci', 1): 3, ('stuffi', 0): 2, ('sudaf', 0): 1, ('vw', 1): 1, ('scout', 1): 2, ('central', 0): 1, ('parasit', 0): 2, ('expand', 0): 1, ('destroy', 0): 5, ('popul', 0): 1, ('stefan', 0): 1, ('molyneux', 0): 1, ('hairstyp', 1): 1, ('evar', 1): 1, ('awnser', 1): 1, ('easier', 1): 9, ('az', 1): 2, ('swipe', 0): 1, ('snack', 0): 2, ('ncaa', 0): 1, ('omaha', 0): 1, ('carolina', 0): 3, ('homerun', 0): 1, ('dagger', 0): 1, ('mason', 0): 1, ('havin', 1): 4, ('overr', 1): 1, ('laura', 0): 2, ('ell', 0): 2, ('fou', 0): 1, ('ledg', 1): 2, ('appropri', 1): 2, ('hungov', 0): 2, ('kitti', 0): 4, ('bobbi', 1): 1, ('lewi', 1): 1, ('bl', 1): 1, ('web', 1): 5, ('liep', 1): 1, ('zojuist', 1): 1, ('paint', 1): 8, ('glove', 1): 1, ('uninhabit', 0): 1, ('swept', 0): 1, ('mop', 0): 3, ('repair', 0): 5, ('replac', 0): 4, ('cheerlead', 1): 2, ('rthemix', 1): 1, ('ohrwurm', 1): 1, ('colorblind', 1): 1, ('ouuchh', 0): 2, ('barca', 0): 1, ('spank', 0): 1, ('accdentt', 0): 1, ('pshh', 0): 1, ('shotgun', 0): 1, ('energi', 0): 6, ('gum', 1): 2, ('ol', 1): 3, ('hung', 0): 3, ('compaq', 0): 1, ('portabl', 0): 2, ('toodl', 0): 1, ('pip', 0): 1, ('sheboygan', 1): 1, ('teekay', 1): 1, ('angus', 1): 1, ('uni', 0): 5, ('earliest', 0): 1, ('heehe', 1): 1, ('soph', 1): 1, ('death', 1): 5, ('cab', 1): 3, ('cuti', 1): 4, ('slouchi', 1): 1, ('baret', 1): 1, ('referenc', 0): 1, ('assthembl', 0): 2, ('fnh', 0): 1, ('castl', 0): 1, ('caliburn', 0): 1, ('dynamicproxi', 0): 1, ('nh', 0): 1, ('belt', 0): 1, ('bracelet', 1): 1, ('aprreci', 1): 1, ('larg', 0): 5, ('entiti', 0): 1, ('catalogu', 0): 1, ('rda', 0): 1, ('letitia', 0): 1, ('digit', 0): 2, ('wari', 1): 1, ('marshmallow', 1): 1, ('tumor', 0): 2, ('jefferi', 0): 1, ('uh', 1): 2, ('damag', 1): 2, ('singer', 0): 2, ('theater', 0): 3, ('act', 0): 10, ('exercis', 0): 2, ('onstag', 0): 2, ('cowboy', 1): 2, ('britney', 0): 3, ('thou', 0): 2, ('scaredededed', 0): 1, ('hahahahahahahahahahahahaha', 1): 1, ('binocular', 0): 1, ('meh', 0): 6, ('crew', 0): 2, ('niko', 1): 2, ('vermont', 1): 1, ('hollywood', 1): 3, ('outzen', 0): 1, ('phootoboothingisfunforbunni', 1): 1, ('volumen', 1): 1, ('press', 0): 3, ('riot', 0): 1, ('blockbust', 1): 1, ('reunit', 1): 2, ('hunni', 1): 2, ('bunni', 1): 5, ('twit', 0): 6, ('awh', 0): 2, ('gon', 0): 1, ('trust', 0): 4, ('butno', 0): 1, ('kev', 0): 2, ('westgat', 0): 1, ('bale', 0): 1, ('scrub', 1): 4, ('gaasp', 0): 1, ('triplet', 1): 1, ('morgan', 1): 2, ('scotti', 1): 1, ('ili', 1): 10, ('dr', 0): 2, ('twomey', 0): 1, ('ceo', 0): 1, ('icann', 0): 1, ('kelvin', 1): 1, ('function', 1): 1, ('jump', 0): 8, ('cholla', 0): 1, ('mixin', 0): 1, ('pik', 1): 1, ('relaxx', 1): 1, ('rant', 1): 2, ('genghi', 1): 1, ('grill', 1): 3, ('colorado', 1): 1, ('rog', 0): 1, ('esti', 0): 1, ('acum', 0): 1, ('recov', 1): 8, ('diy', 1): 1, ('bob', 1): 3, ('todayi', 1): 3, ('older', 1): 1, ('ennio', 1): 1, ('wive', 0): 3, ('vp', 0): 2, ('shunt', 0): 1, ('chew', 0): 2, ('gift', 0): 2, ('christma', 0): 2, ('geograhi', 0): 1, ('influx', 1): 1, ('fic', 1): 1, ('hp', 1): 4, ('txt', 1): 1, ('sayin', 1): 3, ('gross', 1): 4, ('stapl', 0): 1, ('fucktard', 0): 2, ('product', 0): 9, ('hover', 0): 1, ('pissi', 0): 1, ('amma', 1): 1, ('dood', 0): 1, ('vodafon', 0): 2, ('gprs', 0): 1, ('secur', 1): 2, ('kelsen', 1): 1, ('breez', 1): 1, ('unwind', 1): 1, ('cranki', 0): 1, ('tuition', 1): 1, ('nxt', 1): 2, ('jan', 1): 1, ('txtin', 0): 1, ('wishin', 0): 1, ('ferber', 0): 1, ('rohan', 0): 1, ('oddof', 0): 1, ('grandfath', 0): 1, ('missd', 0): 1, ('otha', 0): 1, ('bela', 1): 1, ('lugosi', 1): 1, ('apear', 1): 1, ('outer', 1): 1, ('beast', 1): 2, ('te', 1): 5, ('funniest', 1): 3, ('paranoif', 1): 1, ('aesthet', 1): 1, ('danger', 1): 2, ('lego', 1): 2, ('dozen', 1): 2, ('stormtroop', 1): 1, ('gd', 1): 2, ('manni', 1): 1, ('pacman', 1): 1, ('filipino', 1): 2, ('cari', 0): 2, ('milk', 0): 5, ('kraussey', 1): 1, ('strawberri', 0): 2, ('itsur', 1): 1, ('yest', 1): 2, ('tres', 0): 1, ('acsvxdcbgfn', 0): 1, ('soccer', 0): 3, ('phoeb', 0): 1, ('nnoo', 0): 1, ('frost', 0): 2, ('gran', 1): 3, ('torino', 1): 1, ('bolt', 1): 2, ('longhaul', 1): 1, ('fuccin', 0): 1, ('bacc', 0): 2, ('blocc', 0): 1, ('wood', 0): 4, ('corner', 0): 3, ('averag', 0): 4, ('reconnect', 0): 1, ('inter', 0): 1, ('steve', 0): 2, ('aoki', 0): 1, ('nxt', 0): 1, ('ppt', 0): 1, ('explicit', 0): 1, ('splendid', 1): 2, ('flyer', 0): 2, ('poser', 0): 1, ('pierr', 1): 1, ('bouvier', 1): 1, ('chart', 1): 2, ('chill', 0): 4, ('burnsid', 1): 1, ('import', 0): 3, ('mildura', 0): 1, ('byee', 0): 1, ('brekki', 0): 1, ('yourbiggestfan', 1): 1, ('coloss', 1): 2, ('loveli', 1): 2, ('spelt', 1): 1, ('quilt', 0): 4, ('pollster', 0): 1, ('data', 0): 4, ('identif', 0): 1, ('dthemocrat', 0): 1, ('independ', 0): 2, ('republican', 0): 1, ('bbc', 0): 1, ('malaria', 0): 2, ('resist', 0): 1, ('damm', 0): 2, ('travi', 0): 3, ('garland', 0): 1, ('bsnl', 0): 1, ('velvet', 1): 1, ('frost', 1): 1, ('disconnect', 0): 3, ('uber', 0): 3, ('srri', 0): 4, ('kris', 0): 3, ('panda', 0): 3, ('smite', 0): 1, ('cuti', 0): 1, ('fifth', 0): 2, ('generat', 0): 3, ('mere', 1): 1, ('graviti', 1): 1, ('garageband', 0): 1, ('overkil', 0): 1, ('sooth', 1): 2, ('fininsh', 1): 1, ('nerdprom', 1): 1, ('chop', 1): 3, ('spin', 0): 4, ('laundri', 0): 6, ('lancast', 0): 2, ('baltimor', 0): 1, ('unrel', 0): 1, ('fallout', 0): 2, ('review', 0): 3, ('forgotten', 0): 1, ('recogn', 0): 2, ('adwancrd', 1): 1, ('methodolog', 1): 1, ('comeback', 1): 1, ('swelter', 0): 2, ('wellwood', 1): 1, ('teeth', 1): 6, ('prompt', 0): 1, ('reinstal', 0): 2, ('spray', 1): 1, ('allsort', 1): 1, ('communiti', 1): 4, ('stack', 1): 3, ('courtesi', 1): 2, ('bisquick', 1): 1, ('minnesota', 1): 1, ('hon', 1): 3, ('bra', 1): 1, ('strike', 1): 2, ('belofsouthi', 1): 1, ('disturb', 1): 1, ('passeng', 1): 1, ('shuffl', 0): 1, ('dreadzon', 0): 1, ('newjabbakidz', 1): 5, ('acct', 1): 1, ('felt', 1): 9, ('notif', 1): 1, ('holla', 1): 1, ('knowledg', 0): 4, ('syke', 1): 2, ('gain', 1): 2, ('frank', 1): 2, ('rightard', 1): 1, ('alredi', 1): 1, ('imposs', 1): 2, ('resist', 1): 1, ('merrier', 1): 1, ('guilti', 0): 2, ('winter', 0): 2, ('equal', 1): 4, ('sim', 1): 2, ('dw', 1): 1, ('songd', 1): 1, ('relient', 1): 1, ('lesli', 1): 1, ('scotland', 0): 2, ('hosp', 0): 1, ('gallston', 0): 1, ('reupload', 0): 1, ('inclin', 0): 1, ('antoinett', 0): 1, ('hairdo', 0): 1, ('fab', 0): 4, ('macaron', 0): 1, ('cheer', 0): 8, ('yardsal', 0): 1, ('mccoy', 0): 1, ('initi', 0): 1, ('musli', 1): 1, ('saab', 0): 1, ('coverag', 0): 3, ('tania', 1): 1, ('clutch', 1): 2, ('lust', 1): 1, ('yellow', 1): 1, ('fitzcarraldo', 0): 1, ('diffus', 0): 1, ('irrit', 0): 2, ('f', 0): 6, ('th', 0): 1, ('defin', 1): 4, ('luch', 1): 1, ('hoe', 1): 1, ('dee', 1): 3, ('spec', 1): 1, ('pitchfork', 0): 1, ('shutup', 0): 1, ('primavera', 0): 2, ('spain', 0): 2, ('rec', 0): 1, ('breakingg', 0): 1, ('nvidia', 1): 1, ('lenovo', 1): 1, ('ideapad', 1): 1, ('fn', 1): 1, ('ctrl', 1): 1, ('testfest', 1): 1, ('weer', 1): 2, ('een', 1): 2, ('groot', 1): 1, ('succ', 1): 1, ('downfal', 0): 1, ('manual', 0): 2, ('labor', 0): 2, ('fold', 0): 2, ('shown', 1): 1, ('interest', 0): 7, ('ssnore', 0): 1, ('frm', 0): 3, ('makeup', 1): 3, ('whittheman', 0): 1, ('stil', 0): 1, ('helloo', 0): 1, ('lthemm', 1): 2, ('salman', 1): 1, ('munir', 1): 1, ('novi', 1): 1, ('voodoo', 1): 1, ('rogu', 1): 1, ('trader', 1): 2, ('nipiss', 1): 1, ('pita', 1): 2, ('euphoria', 1): 1, ('barri', 1): 1, ('glasgow', 1): 2, ('septthemb', 1): 2, ('agess', 1): 1, ('clanci', 0): 1, ('clap', 0): 1, ('grab', 0): 2, ('shark', 0): 1, ('dble', 0): 1, ('glyder', 1): 1, ('muse', 1): 3, ('gratitud', 1): 1, ('magnific', 1): 2, ('ala', 1): 1, ('luigi', 1): 1, ('blinki', 0): 1, ('batteri', 0): 6, ('reducul', 0): 1, ('freedom', 0): 2, ('xam', 0): 1, ('humour', 1): 2, ('venki', 1): 1, ('pachad', 1): 1, ('shrunk', 0): 1, ('cardigan', 0): 1, ('loll', 0): 4, ('recours', 0): 1, ('atti', 0): 1, ('neil', 0): 2, ('tailight', 0): 1, ('heartless', 0): 2, ('law', 1): 7, ('palominof', 0): 1, ('jbeauti', 1): 1, ('enuh', 1): 1, ('avin', 1): 1, ('appli', 1): 4, ('cecilia', 0): 1, ('reunion', 1): 4, ('iwond', 1): 4, ('howd', 1): 4, ('iget', 1): 4, ('noisi', 0): 2, ('runni', 0): 2, ('helloo', 1): 1, ('wen', 1): 2, ('cnaterburi', 1): 1, ('stock', 1): 3, ('port', 1): 1, ('market', 1): 3, ('unabl', 1): 1, ('ticon', 1): 1, ('armi', 0): 5, ('janell', 1): 1, ('innoc', 1): 1, ('yoko', 1): 1, ('ono', 1): 1, ('harddriv', 0): 1, ('guud', 1): 1, ('pantien', 1): 1, ('outlet', 0): 2, ('headlin', 0): 2, ('tum', 0): 3, ('terrifi', 0): 1, ('court', 1): 2, ('crossfit', 1): 1, ('bibl', 1): 1, ('lighten', 1): 3, ('bush', 1): 1, ('industri', 0): 2, ('tommorow', 0): 2, ('bunch', 0): 4, ('stream', 1): 3, ('wireless', 1): 1, ('router', 1): 1, ('dongl', 1): 1, ('techi', 1): 2, ('simplic', 1): 1, ('baad', 1): 1, ('lovato', 1): 1, ('fixrepli', 0): 2, ('anatomi', 0): 1, ('prac', 0): 1, ('tmw', 0): 2, ('structr', 0): 1, ('lwr', 0): 1, ('limb', 0): 2, ('sumth', 0): 1, ('excruci', 0): 2, ('congratu', 1): 1, ('payingitforward', 1): 1, ('rli', 0): 5, ('whoott', 1): 1, ('uniqu', 1): 2, ('accordion', 1): 1, ('thief', 1): 1, ('buff', 1): 1, ('giddi', 0): 1, ('assfuck', 0): 1, ('model', 1): 8, ('homski', 1): 1, ('legend', 1): 4, ('regist', 0): 4, ('browser', 0): 3, ('firefox', 0): 2, ('chrome', 0): 2, ('ie', 0): 1, ('safari', 0): 2, ('porsch', 0): 1, ('tthemporari', 0): 2, ('trackbal', 0): 1, ('rsi', 0): 1, ('wrist', 0): 6, ('despit', 1): 3, ('loom', 1): 1, ('departur', 1): 1, ('studyin', 1): 2, ('slowli', 1): 4, ('colder', 1): 1, ('paraguay', 1): 1, ('heston', 1): 1, ('bleumenth', 1): 1, ('propos', 1): 1, ('enzian', 1): 1, ('orlando', 1): 1, ('viviann', 1): 1, ('yumm', 1): 3, ('egg', 1): 13, ('tart', 1): 1, ('pud', 1): 1, ('japan', 1): 1, ('squirt', 0): 1, ('heyheyheyi', 1): 1, ('watcha', 1): 1, ('gay', 0): 3, ('jobe', 0): 1, ('woulda', 1): 2, ('surgeri', 1): 5, ('mot', 0): 1, ('tissu', 0): 2, ('swineflu', 0): 1, ('bowl', 1): 4, ('gross', 0): 5, ('cotton', 0): 1, ('oral', 0): 1, ('aerosmith', 1): 1, ('reaction', 1): 1, ('upland', 1): 1, ('funn', 1): 5, ('shudnt', 0): 1, ('mowg', 0): 1, ('hulk', 1): 3, ('torontof', 1): 1, ('submit', 1): 2, ('wooww', 1): 1, ('dublin', 0): 1, ('whaat', 0): 3, ('dayum', 0): 1, ('plz', 0): 3, ('gut', 1): 4, ('heahh', 1): 1, ('um', 1): 4, ('yyuck', 0): 1, ('dasit', 1): 1, ('contthempl', 0): 1, ('xmas', 1): 1, ('sudoku', 1): 1, ('chapter', 1): 2, ('mayer', 1): 3, ('sweati', 1): 1, ('gd', 0): 2, ('sake', 0): 1, ('thatv', 1): 1, ('chowder', 0): 1, ('okc', 1): 1, ('geeki', 1): 1, ('unsur', 0): 1, ('aswel', 0): 2, ('blogsit', 1): 1, ('yahoo', 1): 6, ('peni', 0): 1, ('enlargth', 0): 1, ('oper', 1): 3, ('anchorag', 1): 1, ('unfair', 1): 3, ('advantag', 1): 3, ('stealth', 1): 1, ('gauss', 1): 1, ('rifl', 1): 1, ('sixx', 0): 1, ('korean', 0): 4, ('badd', 0): 1, ('drthem', 1): 1, ('ugg', 0): 4, ('batti', 0): 1, ('defrag', 0): 1, ('sex', 0): 2, ('leave', 0): 2, ('gurante', 0): 1, ('yen', 0): 1, ('vid', 0): 4, ('mimmiz', 1): 1, ('abil', 1): 2, ('moth', 0): 1, ('wasp', 0): 1, ('insect', 0): 1, ('general', 0): 4, ('desktop', 1): 2, ('region', 1): 1, ('bart', 0): 1, ('groundhog', 0): 1, ('virginia', 0): 1, ('thembarrass', 0): 4, ('internship', 1): 1, ('gray', 1): 4, ('flush', 0): 2, ('quarter', 0): 6, ('clog', 0): 2, ('plenti', 0): 1, ('lick', 1): 2, ('bbqs', 1): 1, ('rove', 1): 2, ('tfarp', 1): 1, ('translat', 1): 2, ('smoothi', 0): 1, ('berri', 0): 3, ('delici', 0): 2, ('maylen', 0): 1, ('lick', 0): 1, ('depart', 1): 1, ('congrat', 0): 1, ('invisalign', 0): 1, ('refit', 0): 1, ('puffi', 0): 2, ('titanium', 0): 1, ('helicopt', 0): 2, ('luxuri', 0): 1, ('model', 0): 3, ('seam', 1): 1, ('alien', 1): 2, ('baah', 0): 1, ('mega', 0): 1, ('cockroach', 0): 1, ('heelp', 0): 1, ('retard', 0): 4, ('neverend', 1): 1, ('babbi', 1): 1, ('clock', 0): 4, ('northview', 0): 1, ('checkin', 0): 1, ('sunscreen', 0): 2, ('cevich', 1): 1, ('bellini', 1): 1, ('veroniqu', 0): 1, ('branquinho', 0): 1, ('entri', 1): 2, ('kinokuniya', 0): 1, ('discount', 0): 1, ('splurg', 0): 1, ('overwhelm', 0): 1, ('uniti', 0): 1, ('bebo', 0): 3, ('stalk', 0): 1, ('upp', 0): 2, ('agustin', 1): 1, ('shooeess', 1): 1, ('grreeaat', 1): 1, ('mayor', 1): 1, ('brainard', 1): 1, ('adium', 1): 2, ('nina', 1): 1, ('global', 1): 1, ('wih', 1): 1, ('dot', 1): 2, ('curv', 1): 2, ('ure', 0): 1, ('nomatt', 0): 2, ('kunguma', 1): 1, ('poovum', 1): 1, ('konjuma', 1): 1, ('puravum', 1): 1, ('cinthematographi', 1): 1, ('player', 1): 5, ('ssbb', 1): 1, ('elthement', 1): 1, ('funnier', 1): 2, ('banana', 0): 3, ('engin', 1): 1, ('victori', 1): 1, ('leavingg', 1): 1, ('las', 1): 1, ('myy', 1): 1, ('boyfrienndd', 1): 1, ('namerebecca', 0): 1, ('sudi', 1): 1, ('schoolmat', 0): 2, ('highschool', 0): 1, ('cheesey', 1): 1, ('orign', 1): 1, ('prthemier', 1): 7, ('footag', 1): 1, ('diari', 0): 1, ('butlin', 0): 1, ('filthi', 0): 3, ('deathstar', 0): 1, ('starship', 0): 2, ('enterpric', 0): 1, ('startrek', 0): 1, ('singtel', 0): 1, ('plug', 1): 3, ('funfunfun', 1): 1, ('dor', 1): 1, ('utv', 1): 1, ('pjs', 1): 1, ('flew', 0): 3, ('quantum', 0): 1, ('leap', 0): 1, ('largest', 0): 1, ('oww', 1): 1, ('kimmi', 1): 1, ('skimchamp', 1): 1, ('taxi', 1): 2, ('allergi', 1): 1, ('nasti', 1): 1, ('lad', 1): 3, ('cds', 0): 1, ('hmv', 0): 1, ('overpr', 0): 1, ('skippin', 1): 1, ('addi', 1): 1, ('smoother', 1): 1, ('mid', 1): 1, ('loan', 0): 1, ('aerobar', 0): 1, ('texa', 0): 3, ('alkek', 0): 1, ('nttn', 0): 1, ('juss', 0): 3, ('effect', 1): 6, ('trekki', 1): 2, ('heel', 1): 2, ('stun', 1): 4, ('begin', 0): 6, ('blcok', 0): 1, ('haox', 0): 1, ('stare', 0): 2, ('area', 1): 4, ('hip', 1): 1, ('trendi', 1): 1, ('heheheh', 1): 1, ('purat', 1): 1, ('gover', 0): 1, ('apart', 1): 7, ('corpor', 1): 1, ('ripley', 0): 1, ('keychain', 0): 1, ('default', 1): 3, ('meow', 1): 1, ('shaki', 0): 1, ('affirm', 1): 1, ('geodefens', 0): 1, ('onward', 0): 1, ('explor', 0): 1, ('manchest', 1): 3, ('orchestra', 1): 1, ('sigur', 1): 1, ('dick', 0): 3, ('riversid', 0): 1, ('commentari', 1): 2, ('bing', 1): 1, ('crosbi', 1): 1, ('epicfail', 0): 1, ('joseph', 0): 1, ('liao', 0): 1, ('yearr', 0): 1, ('stayin', 0): 2, ('usual', 0): 16, ('eggo', 1): 1, ('synthet', 1): 1, ('sustitut', 1): 1, ('nah', 1): 3, ('alter', 1): 1, ('twiin', 1): 1, ('situat', 1): 4, ('bipolar', 0): 3, ('cristal', 1): 1, ('undernourish', 1): 1, ('sank', 1): 1, ('whimper', 1): 1, ('simon', 1): 2, ('worn', 0): 2, ('sped', 0): 1, ('desper', 0): 5, ('hat', 0): 5, ('nippl', 0): 2, ('flick', 1): 5, ('microsoft', 0): 3, ('probbi', 0): 1, ('minibus', 0): 1, ('pattern', 1): 3, ('skip', 0): 3, ('sci', 0): 2, ('pratic', 0): 2, ('beco', 0): 2, ('skola', 0): 2, ('impt', 0): 2, ('drunken', 0): 1, ('stupor', 0): 1, ('wich', 1): 1, ('fucker', 0): 1, ('oo', 0): 4, ('godd', 0): 3, ('network', 0): 5, ('maxin', 1): 1, ('replay', 1): 2, ('sti', 1): 1, ('kit', 1): 2, ('stroke', 1): 1, ('sacramento', 1): 1, ('rivkah', 1): 1, ('sass', 1): 1, ('omaha', 1): 1, ('pout', 1): 2, ('jude', 1): 1, ('judg', 0): 2, ('bt', 0): 3, ('spymast', 0): 2, ('loan', 1): 1, ('defer', 1): 1, ('fur', 1): 1, ('wassup', 1): 1, ('cali', 1): 3, ('digg', 1): 1, ('chilliin', 1): 1, ('obvious', 1): 5, ('msgs', 1): 1, ('india', 1): 2, ('poppi', 1): 1, ('sunbath', 1): 2, ('ado', 1): 1, ('trooper', 0): 2, ('facepalm', 1): 1, ('nome', 0): 1, ('kik', 1): 1, ('nfg', 1): 2, ('hv', 1): 1, ('react', 0): 2, ('guidanc', 0): 1, ('counsellor', 0): 1, ('bowl', 0): 8, ('baha', 0): 1, ('pleeas', 1): 2, ('tennill', 1): 1, ('larg', 1): 2, ('vocabulari', 1): 1, ('hollywood', 0): 1, ('pole', 0): 1, ('hopeless', 0): 5, ('cone', 0): 1, ('spread', 0): 4, ('zz', 1): 1, ('shall', 1): 6, ('unlucki', 0): 4, ('ia', 0): 1, ('amanda', 1): 2, ('peet', 1): 1, ('appart', 0): 2, ('norton', 1): 1, ('bahahaha', 1): 1, ('gabriel', 1): 1, ('smug', 1): 1, ('oneself', 1): 2, ('jeebus', 0): 1, ('thai', 1): 2, ('talent', 0): 9, ('lineup', 0): 2, ('estrella', 0): 1, ('network', 1): 5, ('disneyland', 0): 2, ('tend', 0): 2, ('fern', 1): 1, ('petal', 1): 1, ('jona', 0): 5, ('experienc', 1): 1, ('winnipeg', 1): 1, ('pace', 1): 1, ('scariest', 0): 1, ('zombi', 0): 4, ('britain', 0): 9, ('tortur', 0): 5, ('edelcri', 0): 1, ('crush', 1): 6, ('hearti', 1): 1, ('adequ', 0): 1, ('johnni', 0): 2, ('carson', 0): 1, ('bottl', 0): 5, ('cocktail', 0): 2, ('preview', 1): 1, ('hobof', 0): 1, ('tacof', 0): 1, ('factori', 0): 2, ('ng', 0): 3, ('elmer', 0): 1, ('hihihi', 0): 1, ('corni', 0): 1, ('baka', 0): 1, ('si', 0): 3, ('alam', 0): 1, ('spotifi', 1): 3, ('passport', 0): 1, ('btwn', 0): 1, ('sd', 0): 2, ('lv', 0): 1, ('guniea', 0): 1, ('soul', 1): 6, ('guin', 1): 1, ('gloom', 0): 1, ('dire', 1): 1, ('nightlif', 1): 2, ('bereft', 0): 1, ('initi', 1): 1, ('withdraw', 0): 4, ('syndrom', 0): 2, ('elena', 0): 1, ('nine', 0): 1, ('liquor', 0): 1, ('blown', 0): 2, ('zombiepix', 1): 1, ('cholesterol', 0): 1, ('burfday', 0): 1, ('evan', 0): 1, ('childlin', 0): 1, ('shelv', 0): 2, ('preseason', 0): 1, ('footbal', 0): 2, ('drawl', 0): 1, ('daniel', 0): 1, ('wat', 1): 3, ('denver', 1): 3, ('greenvill', 1): 1, ('sidekick', 1): 1, ('imm', 0): 1, ('hearin', 0): 1, ('convo', 0): 1, ('wanaa', 0): 1, ('himm', 0): 1, ('absoulutley', 1): 1, ('cms', 1): 1, ('jealousi', 0): 2, ('beta', 1): 2, ('pox', 1): 1, ('handbag', 1): 1, ('lab', 0): 2, ('mont', 1): 1, ('cristo', 1): 1, ('krautrock', 1): 1, ('soup', 1): 7, ('satan', 0): 1, ('disord', 0): 2, ('suuk', 0): 1, ('ec', 0): 1, ('munchkin', 0): 2, ('yard', 0): 3, ('ukpub', 1): 1, ('skinni', 1): 1, ('jean', 1): 1, ('spin', 1): 3, ('bbc', 1): 2, ('manila', 0): 1, ('probli', 0): 2, ('bprohibit', 0): 1, ('ollmann', 1): 1, ('biketo', 1): 1, ('step', 0): 4, ('parallel', 1): 2, ('recit', 0): 2, ('login', 1): 2, ('admin', 1): 1, ('pure', 0): 2, ('njoy', 0): 1, ('lovein', 1): 2, ('fieri', 1): 1, ('anger', 1): 1, ('presenc', 1): 2, ('skate', 0): 3, ('het', 0): 2, ('pond', 0): 1, ('wrinkl', 0): 2, ('catcher', 0): 2, ('dork', 0): 1, ('awhh', 1): 2, ('infact', 1): 2, ('motto', 1): 1, ('owner', 1): 2, ('arvo', 0): 1, ('selalu', 1): 1, ('ada', 1): 1, ('ruang', 1): 1, ('untuk', 1): 1, ('sahabat', 1): 1, ('saran', 1): 1, ('wrap', 1): 5, ('march', 1): 1, ('regard', 1): 2, ('ap', 0): 2, ('audio', 1): 2, ('strip', 0): 1, ('cider', 0): 3, ('index', 0): 3, ('whatnot', 1): 1, ('acut', 0): 1, ('mump', 0): 1, ('ov', 0): 1, ('supernatur', 0): 1, ('jljf', 1): 1, ('wzzup', 1): 1, ('derrek', 1): 1, ('jayk', 1): 1, ('skylar', 1): 1, ('todayisaprosper', 1): 1, ('thankujesus', 1): 1, ('beyebless', 1): 1, ('birdi', 1): 2, ('cabin', 0): 1, ('chuckl', 1): 1, ('problthemo', 1): 1, ('beani', 1): 1, ('pit', 0): 1, ('mask', 1): 2, ('med', 1): 1, ('calcul', 0): 2, ('allmost', 0): 1, ('skeleton', 0): 1, ('wallpap', 1): 2, ('tiniest', 0): 1, ('juz', 0): 1, ('sia', 0): 2, ('cooler', 1): 3, ('wx', 0): 1, ('bwi', 0): 1, ('ako', 1): 3, ('tut', 0): 1, ('se', 0): 2, ('asia', 0): 1, ('jackson', 0): 1, ('rumour', 0): 1, ('cue', 0): 1, ('rig', 0): 1, ('pro', 0): 5, ('asham', 0): 3, ('drowsi', 0): 1, ('piriton', 0): 1, ('purifi', 0): 1, ('hagg', 0): 1, ('lake', 0): 3, ('bomb', 0): 4, ('sauc', 0): 3, ('term', 1): 2, ('chao', 0): 1, ('began', 0): 1, ('stereosound', 1): 1, ('headphon', 1): 1, ('lovecraftian', 0): 1, ('fukkn', 0): 1, ('chelsea', 1): 5, ('abbi', 1): 1, ('luh', 1): 1, ('waitin', 0): 2, ('unfollow', 1): 2, ('alarm', 1): 3, ('becam', 1): 4, ('java', 0): 1, ('sensat', 1): 3, ('portug', 1): 2, ('adoreii', 1): 2, ('sigjean', 1): 1, ('piec', 1): 3, ('softwar', 1): 1, ('ensur', 1): 2, ('deliveri', 1): 4, ('productnamingrulez', 1): 1, ('nigth', 1): 1, ('neither', 1): 3, ('vanessa', 0): 1, ('septthemb', 0): 2, ('worthi', 0): 1, ('lincolnshir', 1): 1, ('snoop', 1): 1, ('coolest', 1): 5, ('dancer', 1): 2, ('usael', 0): 1, ('notmuch', 0): 1, ('helden', 1): 1, ('birmingham', 1): 2, ('mp', 0): 1, ('touch', 0): 9, ('salari', 0): 1, ('discrimin', 1): 1, ('momi', 1): 1, ('ikr', 1): 2, ('tis', 1): 4, ('visitor', 1): 1, ('poughkeepsi', 1): 1, ('fireflight', 1): 1, ('factor', 0): 2, ('han', 1): 1, ('yey', 1): 2, ('unit', 1): 2, ('plethora', 0): 1, ('ammoxx', 1): 1, ('disappear', 1): 2, ('murray', 1): 2, ('owe', 1): 6, ('enchilado', 0): 1, ('effort', 0): 3, ('couch', 0): 1, ('plate', 0): 1, ('toast', 0): 3, ('eaten', 0): 4, ('venu', 0): 2, ('yinz', 1): 1, ('anwher', 0): 1, ('bedroom', 0): 2, ('sayin', 0): 1, ('caf', 0): 1, ('longboard', 0): 1, ('thee', 1): 2, ('euro', 0): 1, ('fork', 0): 2, ('amount', 0): 2, ('srsli', 0): 3, ('tomorah', 0): 1, ('inoo', 0): 2, ('arent', 0): 4, ('kyle', 0): 3, ('winc', 1): 1, ('flatland', 1): 1, ('margarita', 1): 2, ('amsterdam', 1): 3, ('bmth', 1): 1, ('disneyland', 1): 2, ('arrangth', 1): 2, ('milwauke', 0): 1, ('michell', 1): 4, ('detail', 1): 6, ('aboutto', 0): 1, ('oven', 1): 1, ('dip', 1): 2, ('sakata', 1): 1, ('tide', 1): 1, ('ron', 1): 2, ('torey', 1): 1, ('ratatat', 1): 1, ('lovelovelov', 1): 1, ('overtur', 1): 1, ('underscor', 1): 1, ('loon', 0): 1, ('raf', 0): 1, ('boulmer', 0): 1, ('koxper', 0): 1, ('kindergarten', 0): 1, ('blahh', 0): 1, ('upsid', 0): 1, ('backstreet', 0): 1, ('rafa', 0): 1, ('lovey', 1): 1, ('john', 0): 5, ('buffi', 0): 1, ('kane', 0): 1, ('milkshak', 0): 2, ('energ', 1): 2, ('refresh', 0): 2, ('exclud', 0): 1, ('skinni', 0): 2, ('dip', 0): 2, ('resco', 0): 1, ('mobileform', 0): 1, ('toolkit', 0): 1, ('trial', 0): 2, ('yeahh', 1): 7, ('snuggl', 1): 3, ('heav', 0): 1, ('accadent', 0): 1, ('sanit', 1): 1, ('thee', 0): 1, ('augh', 0): 1, ('weho', 0): 1, ('boytoy', 0): 1, ('plagu', 0): 3, ('dishwash', 1): 1, ('except', 1): 5, ('viz', 1): 1, ('griffin', 1): 1, ('stapl', 1): 1, ('rthemov', 1): 4, ('paul', 1): 1, ('rejoic', 1): 1, ('listenin', 0): 2, ('readin', 0): 2, ('given', 1): 2, ('wast', 1): 3, ('hannah', 0): 4, ('montana', 0): 3, ('dryer', 0): 5, ('puke', 0): 4, ('motiv', 1): 11, ('belov', 1): 2, ('hail', 0): 1, ('juic', 0): 4, ('portrait', 1): 1, ('fx', 1): 1, ('vista', 1): 4, ('reborn', 1): 1, ('ew', 1): 1, ('suicid', 1): 1, ('soda', 1): 1, ('gw', 1): 1, ('dutch', 1): 1, ('tokyo', 0): 1, ('serial', 0): 3, ('fraudster', 0): 1, ('rate', 0): 3, ('teari', 0): 1, ('crimin', 0): 2, ('yike', 0): 1, ('horrifi', 0): 1, ('competit', 0): 3, ('skillz', 1): 2, ('marjori', 1): 1, ('jthemimah', 1): 1, ('alik', 1): 2, ('youu', 1): 5, ('santino', 1): 1, ('thirteen', 1): 1, ('owl', 0): 1, ('workk', 0): 2, ('captur', 1): 1, ('socksi', 0): 1, ('plucki', 0): 1, ('caspar', 0): 1, ('seek', 0): 2, ('blogger', 0): 1, ('frank', 0): 2, ('england', 1): 5, ('mumzi', 1): 1, ('earthlink', 0): 1, ('modthem', 0): 3, ('geographi', 0): 4, ('niley', 1): 1, ('jthemi', 1): 1, ('ground', 1): 2, ('marque', 0): 1, ('dane', 0): 2, ('upgrad', 1): 5, ('reset', 1): 1, ('playcount', 1): 1, ('zero', 1): 4, ('hasta', 1): 1, ('sithempr', 1): 1, ('gtfo', 1): 1, ('everryth', 1): 1, ('breadtalk', 1): 1, ('guild', 1): 2, ('menageri', 1): 1, ('ranger', 1): 1, ('stinkin', 0): 1, ('firewir', 0): 2, ('backward', 0): 1, ('compat', 0): 1, ('dmed', 1): 1, ('salvat', 1): 1, ('hiyaa', 0): 1, ('doll', 0): 3, ('twitternut', 1): 1, ('squash', 1): 1, ('backstreet', 1): 1, ('freshner', 0): 1, ('horriblel', 0): 1, ('scent', 0): 1, ('castiel', 1): 2, ('stack', 0): 3, ('tweeti', 0): 2, ('landlin', 1): 2, ('kiss', 0): 6, ('feeder', 0): 1, ('tit', 0): 2, ('bulli', 0): 4, ('endometriosi', 0): 1, ('blunt', 1): 1, ('buch', 1): 1, ('arghh', 1): 1, ('liam', 1): 1, ('aloud', 1): 2, ('waitt', 1): 1, ('cheryl', 1): 1, ('perth', 0): 1, ('fire', 1): 3, ('z', 1): 2, ('speak', 0): 7, ('hape', 1): 1, ('rex', 1): 1, ('preach', 0): 1, ('convert', 0): 1, ('resign', 0): 1, ('cricinfo', 0): 2, ('fuunn', 1): 1, ('leapord', 0): 1, ('pump', 0): 3, ('glori', 0): 1, ('abund', 0): 1, ('rewatch', 1): 1, ('bleargh', 0): 1, ('sink', 0): 2, ('cadburi', 0): 1, ('smaller', 0): 2, ('diagram', 1): 1, ('mainstream', 1): 1, ('jojo', 1): 1, ('synn', 1): 1, ('unni', 1): 2, ('dahy', 1): 1, ('fuckk', 0): 1, ('childhood', 0): 1, ('massacr', 0): 1, ('gun', 0): 3, ('denmark', 0): 1, ('tthemp', 1): 3, ('fuckyoumonday', 0): 1, ('lof', 1): 1, ('imac', 1): 3, ('trump', 1): 2, ('fatigu', 1): 2, ('captain', 0): 1, ('spike', 0): 1, ('ivi', 0): 1, ('infest', 0): 2, ('puffyn', 0): 1, ('northland', 1): 2, ('newscent', 1): 1, ('getaway', 1): 2, ('cici', 1): 1, ('neighbour', 0): 1, ('bee', 1): 1, ('nielsenpowermom', 1): 1, ('borrow', 0): 2, ('lenovo', 0): 1, ('trackpad', 0): 1, ('accessori', 0): 1, ('livescrib', 0): 1, ('smartpen', 0): 1, ('sourc', 0): 1, ('germani', 0): 4, ('own', 1): 2, ('pork', 0): 1, ('sc', 1): 1, ('joshua', 0): 1, ('speed', 0): 1, ('until', 0): 2, ('documentari', 0): 1, ('standard', 1): 5, ('stadium', 0): 2, ('kat', 1): 2, ('stewart', 1): 1, ('underbelli', 1): 1, ('karaok', 1): 2, ('printer', 1): 1, ('marbl', 1): 1, ('distanc', 1): 1, ('cottag', 1): 1, ('mysteri', 1): 1, ('jet', 1): 4, ('ida', 1): 1, ('maria', 1): 2, ('wos', 0): 1, ('sword', 1): 2, ('harold', 1): 1, ('reactiv', 1): 1, ('showroom', 1): 1, ('chk', 1): 1, ('flesh', 1): 2, ('lamp', 1): 1, ('chevr', 1): 2, ('bestbuy', 1): 1, ('brodi', 0): 1, ('dare', 0): 2, ('zach', 1): 2, ('courag', 1): 1, ('nogard', 0): 1, ('thunderstorm', 1): 1, ('python', 0): 2, ('secur', 0): 2, ('tool', 0): 3, ('edinburgh', 1): 2, ('yir', 1): 1, ('cameron', 0): 1, ('revolution', 0): 1, ('jas', 1): 1, ('fritter', 1): 2, ('farolito', 1): 1, ('nike', 0): 1, ('gp', 1): 1, ('special', 0): 5, ('popcorn', 0): 1, ('stale', 0): 1, ('strep', 0): 2, ('adapt', 1): 2, ('interior', 1): 1, ('favour', 1): 1, ('moni', 1): 1, ('pubul', 1): 1, ('guid', 1): 3, ('marta', 1): 2, ('bldg', 0): 1, ('miamiadc', 1): 1, ('tap', 0): 1, ('gocincinnati', 1): 1, ('kaohsiung', 0): 1, ('killer', 1): 3, ('harley', 0): 1, ('sherraton', 1): 1, ('bbqd', 1): 1, ('funki', 1): 1, ('garth', 1): 1, ('brook', 1): 1, ('nri', 0): 1, ('karan', 0): 1, ('johar', 0): 1, ('sthemest', 0): 2, ('gang', 1): 2, ('bs', 0): 1, ('down', 1): 2, ('lo', 1): 2, ('quark', 0): 1, ('huhuhu', 0): 1, ('partner', 0): 2, ('greg', 0): 4, ('bestfriend', 0): 1, ('fl', 0): 2, ('ga', 0): 3, ('loadsa', 0): 1, ('shizz', 0): 2, ('happend', 0): 1, ('matthew', 1): 2, ('mraz', 1): 1, ('mixtur', 1): 1, ('lennon', 1): 2, ('hynd', 1): 1, ('joplin', 1): 1, ('trap', 0): 2, ('ntah', 1): 1, ('toll', 0): 1, ('doggi', 0): 4, ('trooper', 1): 1, ('aila', 0): 1, ('cyclon', 0): 1, ('calcutta', 0): 1, ('sunshad', 0): 1, ('branch', 0): 1, ('vt', 0): 1, ('blackberryless', 0): 1, ('assum', 0): 2, ('invert', 0): 1, ('beaut', 1): 2, ('sophi', 1): 1, ('razz', 1): 1, ('skateboard', 1): 1, ('yrs', 1): 3, ('char', 1): 3, ('alreay', 1): 1, ('psycholog', 0): 3, ('mon', 1): 2, ('foreverr', 1): 1, ('liter', 1): 2, ('oik', 1): 1, ('obama', 1): 4, ('thumbnail', 0): 1, ('iknoww', 1): 1, ('nightmar', 0): 6, ('theyr', 1): 1, ('flower', 0): 3, ('fornic', 0): 1, ('yeay', 1): 1, ('jiah', 1): 1, ('sparkler', 1): 1, ('friiday', 1): 1, ('whoop', 1): 1, ('teenag', 1): 3, ('peski', 1): 1, ('registr', 1): 1, ('creek', 1): 2, ('motorcycl', 1): 1, ('thembassi', 1): 1, ('kitten', 0): 1, ('stinki', 0): 1, ('kati', 1): 3, ('perri', 1): 1, ('coki', 1): 1, ('arnt', 1): 1, ('imaginari', 1): 1, ('upper', 1): 1, ('steppin', 0): 1, ('broth', 0): 1, ('tiredd', 0): 2, ('noida', 0): 1, ('ponder', 0): 1, ('shane', 0): 1, ('whine', 0): 1, ('dis', 1): 1, ('weed', 0): 4, ('leann', 1): 1, ('kadi', 1): 1, ('grandpa', 0): 5, ('caa', 0): 1, ('wahh', 0): 1, ('nitin', 1): 1, ('fcuk', 0): 1, ('ayoko', 0): 1, ('na', 0): 7, ('tagalog', 0): 1, ('artist', 1): 3, ('mosquito', 0): 2, ('thinker', 1): 1, ('newark', 0): 1, ('firework', 0): 1, ('wrk', 0): 3, ('vmail', 0): 1, ('grasp', 0): 1, ('tink', 1): 1, ('jkuk', 1): 1, ('coti', 1): 1, ('nnc', 1): 1, ('pritchard', 0): 2, ('rob', 0): 2, ('ii', 0): 4, ('dam', 0): 6, ('crunch', 0): 1, ('sourc', 1): 1, ('specif', 1): 1, ('eddi', 0): 3, ('latharg', 0): 1, ('mental', 0): 3, ('haat', 0): 2, ('violin', 0): 1, ('lovebank', 1): 1, ('omgosh', 0): 3, ('waltzer', 0): 1, ('mook', 0): 1, ('comfi', 0): 1, ('pen', 0): 2, ('cuddl', 0): 4, ('chip', 1): 6, ('blur', 1): 1, ('streetview', 1): 1, ('cellstorm', 1): 1, ('whoever', 1): 2, ('stole', 1): 2, ('purs', 1): 1, ('gahh', 1): 1, ('fort', 1): 3, ('funti', 1): 1, ('tweedl', 1): 1, ('weeknd', 1): 1, ('boat', 1): 4, ('centr', 1): 1, ('egyptian', 1): 1, ('hollyoak', 1): 2, ('bench', 1): 1, ('psychiatr', 1): 1, ('brawn', 1): 1, ('mclaren', 1): 1, ('sharp', 1): 1, ('legless', 0): 1, ('stillborn', 0): 1, ('spaniel', 0): 1, ('beardburk', 1): 1, ('optimist', 1): 1, ('succes', 1): 3, ('cancertown', 1): 1, ('qood', 1): 1, ('understood', 1): 1, ('audioboo', 0): 1, ('distort', 0): 1, ('volum', 0): 1, ('ob', 0): 2, ('dio', 0): 1, ('acaban', 0): 1, ('tocar', 0): 1, ('en', 0): 1, ('arg', 0): 2, ('exil', 0): 1, ('dreari', 0): 3, ('eh', 0): 7, ('atleast', 1): 3, ('barley', 0): 1, ('tuff', 0): 1, ('damali', 1): 1, ('will', 1): 2, ('daniel', 1): 4, ('nintendo', 1): 2, ('potenti', 1): 2, ('lotchecktest', 1): 1, ('hoffentlich', 1): 1, ('wird', 1): 1, ('mit', 1): 1, ('der', 1): 2, ('stell', 1): 1, ('rica', 0): 1, ('playstat', 0): 1, ('kingdom', 0): 3, ('hbu', 0): 1, ('telecom', 0): 2, ('upssuck', 0): 1, ('upto', 1): 1, ('xoxox', 1): 3, ('effici', 1): 1, ('elus', 0): 1, ('tricki', 0): 1, ('motion', 1): 2, ('concept', 1): 2, ('outlin', 1): 1, ('format', 1): 2, ('deliv', 1): 5, ('relat', 1): 3, ('priscilla', 1): 3, ('net', 1): 5, ('capit', 1): 1, ('transact', 1): 1, ('monkey', 1): 2, ('nicley', 1): 1, ('unprepar', 0): 1, ('warz', 0): 1, ('amen', 1): 1, ('vitamin', 1): 1, ('snappi', 1): 1, ('vigor', 0): 1, ('prune', 0): 1, ('cucumb', 0): 3, ('siggh', 0): 1, ('playoff', 0): 3, ('hockey', 0): 4, ('diamond', 1): 1, ('juz', 1): 2, ('donat', 1): 1, ('heavi', 1): 1, ('oz', 1): 3, ('parcel', 1): 1, ('mozconcept', 1): 1, ('walaikum', 1): 1, ('assalam', 1): 1, ('alhamdulillah', 1): 2, ('dua', 1): 1, ('chu', 1): 2, ('ch', 1): 2, ('hik', 1): 1, ('ki', 1): 1, ('wire', 1): 2, ('weak', 1): 3, ('compar', 1): 2, ('barn', 1): 3, ('nobl', 1): 2, ('sg', 1): 1, ('flyer', 1): 1, ('reopen', 0): 2, ('zumba', 0): 1, ('closur', 0): 1, ('spoil', 0): 5, ('bid', 0): 1, ('bcit', 0): 1, ('gum', 0): 3, ('errand', 0): 3, ('assort', 0): 1, ('ffaf', 0): 1, ('distraact', 0): 1, ('lizard', 1): 1, ('creat', 0): 6, ('iweb', 0): 1, ('css', 0): 2, ('optim', 0): 1, ('milkshak', 1): 4, ('areo', 1): 1, ('blend', 1): 1, ('lumpi', 1): 1, ('chatter', 1): 1, ('bec', 1): 2, ('gout', 0): 1, ('elliot', 1): 1, ('janey', 1): 1, ('panason', 0): 1, ('urgh', 1): 1, ('stage', 1): 2, ('jamaica', 1): 1, ('lve', 1): 1, ('hidden', 1): 1, ('pamper', 0): 1, ('oz', 0): 1, ('wrestler', 0): 1, ('tna', 0): 1, ('vinc', 0): 1, ('ban', 1): 1, ('efron', 1): 1, ('sonni', 1): 3, ('nkotb', 0): 2, ('spit', 0): 2, ('tuh', 1): 2, ('sum', 1): 5, ('wher', 1): 1, ('cinthema', 1): 4, ('bloomington', 0): 1, ('launch', 0): 3, ('ththemat', 1): 1, ('enthusiam', 1): 1, ('complain', 1): 3, ('phlegmili', 1): 1, ('eeww', 1): 2, ('invis', 0): 1, ('shard', 0): 1, ('pokey', 0): 1, ('contain', 0): 1, ('lath', 0): 1, ('gnite', 0): 1, ('luckiest', 1): 1, ('stanki', 0): 1, ('meter', 0): 1, ('bueno', 0): 1, ('tue', 0): 2, ('an', 0): 1, ('freesat', 0): 1, ('taho', 0): 1, ('pill', 1): 3, ('mshs', 0): 1, ('mri', 1): 1, ('retain', 1): 1, ('poverti', 0): 2, ('spider', 0): 5, ('metr', 0): 2, ('stile', 1): 1, ('burst', 1): 1, ('bryan', 1): 1, ('sugaar', 1): 1, ('ra', 1): 1, ('skrg', 1): 1, ('sthempit', 1): 1, ('sih', 1): 2, ('waktunya', 1): 1, ('turkey', 0): 1, ('rabbit', 0): 5, ('nelli', 1): 1, ('rake', 0): 1, ('dev', 0): 2, ('lang', 0): 1, ('agil', 0): 1, ('ccnet', 0): 1, ('wore', 1): 4, ('fatass', 0): 1, ('europ', 0): 1, ('heavi', 0): 5, ('aladdin', 0): 1, ('sidekick', 0): 3, ('stroke', 0): 1, ('everytim', 0): 7, ('tought', 1): 1, ('footbal', 1): 7, ('dolor', 1): 1, ('basebal', 1): 4, ('whoo', 1): 5, ('banquet', 1): 2, ('hyhtt', 1): 1, ('pismo', 0): 1, ('canon', 0): 1, ('powershot', 0): 1, ('billi', 0): 1, ('jumper', 1): 1, ('uber', 1): 2, ('nerd', 1): 1, ('amazecor', 1): 1, ('genuin', 1): 1, ('selfish', 1): 1, ('pain', 1): 3, ('mesmer', 1): 1, ('friendster', 0): 2, ('laddi', 0): 1, ('sooth', 0): 1, ('anoh', 0): 1, ('cloudi', 0): 5, ('likey', 0): 2, ('whooa', 1): 1, ('ganda', 1): 1, ('dito', 1): 1, ('nacho', 0): 1, ('folkeston', 0): 1, ('agaaiin', 0): 1, ('maam', 0): 1, ('shoplift', 0): 1, ('aghh', 0): 1, ('mann', 0): 3, ('wowp', 0): 1, ('madd', 0): 2, ('tulip', 1): 1, ('princess', 1): 4, ('toddler', 0): 1, ('dispos', 0): 2, ('rash', 0): 2, ('ointment', 0): 1, ('fucken', 0): 1, ('deff', 0): 1, ('chutzpah', 1): 1, ('rescu', 1): 1, ('beggin', 0): 1, ('juri', 0): 1, ('duti', 0): 2, ('address', 0): 5, ('logan', 0): 1, ('pup', 1): 4, ('raven', 1): 1, ('rio', 1): 1, ('thor', 1): 1, ('wonderfur', 1): 1, ('muah', 1): 4, ('dawg', 1): 1, ('hungryy', 1): 1, ('indian', 1): 1, ('pakistani', 1): 1, ('woowoo', 1): 1, ('histor', 0): 1, ('hearsay', 0): 1, ('knock', 1): 3, ('godamn', 1): 1, ('tupac', 1): 1, ('woop', 0): 2, ('cld', 0): 1, ('graph', 0): 1, ('adsens', 1): 1, ('payment', 1): 1, ('dollar', 1): 1, ('surguri', 0): 1, ('fusedgam', 0): 1, ('forum', 0): 7, ('et', 0): 2, ('momma', 0): 2, ('chase', 0): 2, ('wamu', 0): 1, ('tommi', 1): 1, ('thembarrassd', 0): 1, ('obsess', 1): 6, ('naptim', 1): 1, ('dawn', 0): 2, ('gambl', 0): 1, ('hayley', 0): 1, ('smut', 1): 5, ('koh', 1): 1, ('tao', 1): 1, ('turtl', 1): 1, ('south', 1): 5, ('sea', 1): 2, ('talaga', 0): 1, ('tao', 0): 1, ('fourth', 0): 1, ('decreas', 0): 1, ('whing', 0): 1, ('francesc', 1): 1, ('fabrega', 1): 1, ('fabr', 1): 1, ('rail', 0): 1, ('joe', 0): 5, ('insomniac', 1): 1, ('ireland', 1): 3, ('stranger', 1): 1, ('step', 1): 2, ('fantabul', 1): 1, ('divis', 1): 1, ('porridg', 0): 1, ('cba', 0): 2, ('brandon', 0): 2, ('sadsho', 0): 1, ('wbc', 0): 1, ('counterprotest', 0): 1, ('waterfir', 0): 1, ('queue', 0): 2, ('unpack', 1): 1, ('tc', 1): 2, ('sooner', 0): 2, ('bambi', 0): 1, ('tighten', 0): 1, ('bolt', 0): 1, ('homthemad', 1): 1, ('alimoni', 0): 1, ('gossip', 1): 3, ('angrri', 0): 1, ('pothem', 0): 2, ('written', 0): 1, ('eight', 1): 1, ('granul', 0): 1, ('schoolwork', 1): 1, ('ru', 1): 1, ('brows', 0): 1, ('blockhead', 1): 2, ('downstair', 1): 2, ('socialis', 1): 1, ('wive', 1): 2, ('booth', 1): 1, ('hallucin', 1): 2, ('epi', 1): 1, ('bone', 1): 4, ('forth', 1): 4, ('mariel', 1): 1, ('viva', 0): 1, ('buri', 0): 4, ('advil', 0): 1, ('rrtheatr', 0): 1, ('stair', 0): 3, ('standstil', 0): 1, ('twttrg', 0): 1, ('gaug', 0): 2, ('lookin', 0): 4, ('fuckn', 1): 1, ('cord', 0): 4, ('form', 1): 2, ('februari', 0): 1, ('sadfac', 0): 2, ('aah', 0): 1, ('toaa', 0): 1, ('outt', 0): 1, ('brown', 0): 3, ('throwbi', 1): 1, ('publish', 1): 3, ('attic', 1): 1, ('eden', 1): 1, ('madina', 1): 1, ('killin', 0): 2, ('headless', 0): 1, ('wher', 0): 1, ('bhabhi', 1): 1, ('babysit', 1): 3, ('commencth', 1): 1, ('protest', 1): 1, ('backk', 1): 2, ('berkeleyi', 1): 1, ('madd', 1): 1, ('whassqoodd', 1): 1, ('foreign', 1): 2, ('languag', 1): 2, ('sh', 0): 1, ('japanes', 0): 1, ('twpp', 1): 1, ('silent', 1): 2, ('metro', 0): 1, ('wk', 0): 2, ('mahjong', 0): 1, ('mag', 0): 1, ('weisheng', 0): 1, ('krys', 1): 1, ('priorit', 0): 1, ('stage', 0): 2, ('guinea', 0): 4, ('sher', 0): 1, ('motherfuck', 0): 2, ('qw', 0): 1, ('bff', 0): 5, ('groundedd', 0): 1, ('freckl', 0): 2, ('confess', 0): 1, ('stubborn', 0): 2, ('grouch', 0): 1, ('goosebump', 1): 1, ('christin', 1): 1, ('friggin', 1): 1, ('shopahol', 1): 1, ('ohno', 0): 1, ('realize', 0): 2, ('unanticip', 0): 1, ('quash', 0): 1, ('camp', 0): 3, ('sunk', 0): 1, ('span', 0): 1, ('oxford', 0): 2, ('institut', 0): 2, ('programm', 0): 4, ('brisban', 0): 2, ('badu', 0): 1, ('coupon', 1): 2, ('dell', 0): 2, ('warrenti', 0): 1, ('hectic', 0): 3, ('tgc', 1): 1, ('inlov', 0): 1, ('fool', 0): 3, ('oppos', 0): 2, ('hardest', 0): 2, ('eva', 0): 1, ('benihana', 1): 1, ('tokyo', 1): 2, ('waikiki', 1): 1, ('woodland', 1): 1, ('gna', 1): 1, ('adventur', 1): 1, ('dramafest', 0): 1, ('errg', 0): 1, ('fil', 0): 1, ('sb', 1): 1, ('victim', 0): 3, ('teddi', 0): 1, ('chuck', 0): 3, ('dye', 1): 2, ('frown', 1): 1, ('cricket', 1): 1, ('tablet', 1): 1, ('bmfing', 1): 1, ('webcam', 1): 2, ('nephew', 1): 1, ('spesh', 1): 1, ('nonetheless', 1): 1, ('twitterlandz', 1): 1, ('grrl', 1): 1, ('betti', 1): 1, ('woodburn', 1): 1, ('ex', 0): 2, ('function', 0): 4, ('philippin', 0): 4, ('grandmoth', 1): 3, ('furbabi', 1): 1, ('etc', 1): 3, ('nhl', 0): 1, ('exspeci', 1): 1, ('technic', 1): 3, ('respect', 1): 6, ('granni', 1): 2, ('linda', 1): 1, ('alex', 0): 4, ('boringg', 0): 1, ('dodd', 0): 1, ('alic', 1): 3, ('haunt', 1): 1, ('bakeri', 1): 1, ('ralphi', 1): 1, ('formula', 1): 2, ('gleneagl', 0): 1, ('champagn', 0): 1, ('housework', 0): 1, ('vwller', 1): 1, ('ning', 1): 1, ('reach', 1): 2, ('pol', 0): 1, ('udd', 0): 1, ('blank', 1): 2, ('funniset', 1): 1, ('awkward', 0): 2, ('flash', 0): 6, ('ditch', 1): 1, ('dump', 1): 2, ('thump', 0): 1, ('leah', 1): 1, ('cn', 1): 3, ('frm', 1): 3, ('hva', 1): 1, ('shw', 1): 1, ('korea', 0): 2, ('jewellri', 0): 1, ('softwar', 0): 1, ('nirvana', 0): 1, ('heck', 1): 2, ('tgif', 1): 3, ('melbourn', 1): 3, ('jz', 0): 1, ('titl', 0): 2, ('everon', 1): 2, ('tuck', 1): 1, ('lovess', 1): 1, ('docker', 1): 1, ('leicest', 1): 2, ('rusti', 0): 1, ('duet', 0): 2, ('wahahaha', 1): 1, ('hammi', 0): 1, ('turtl', 0): 1, ('maryland', 1): 1, ('camden', 1): 1, ('buyer', 1): 1, ('cast', 0): 4, ('nottingham', 0): 2, ('watchin', 0): 5, ('trauma', 0): 1, ('unagi', 1): 1, ('agh', 1): 2, ('pavthement', 0): 2, ('limp', 0): 2, ('pug', 1): 2, ('stellar', 1): 1, ('stubborn', 1): 1, ('novthemb', 1): 6, ('beatl', 0): 1, ('wingstop', 1): 1, ('alley', 1): 1, ('prima', 1): 1, ('lololol', 1): 1, ('kenan', 1): 1, ('kel', 1): 1, ('jr', 0): 3, ('repeat', 0): 2, ('vacay', 0): 2, ('natalya', 0): 1, ('atx', 0): 1, ('pub', 1): 3, ('hunrgi', 0): 1, ('heel', 0): 2, ('rthemodel', 0): 1, ('anouth', 0): 1, ('statist', 0): 1, ('goto', 0): 1, ('ta', 0): 3, ('lupita', 0): 1, ('vfc', 0): 1, ('waitn', 0): 1, ('giv', 0): 1, ('rappn', 0): 1, ('gav', 0): 1, ('mudweight', 0): 1, ('haul', 0): 2, ('freezer', 1): 1, ('htc', 1): 1, ('roundtabl', 1): 1, ('magazin', 1): 1, ('comanch', 1): 1, ('creep', 1): 1, ('lar', 1): 1, ('failur', 0): 2, ('compli', 0): 1, ('abang', 0): 1, ('broccolli', 1): 1, ('eet', 1): 1, ('doubleclick', 0): 1, ('doop', 0): 1, ('bmw', 0): 1, ('steve', 1): 3, ('actor', 1): 4, ('condol', 1): 1, ('palm', 1): 3, ('proverb', 1): 1, ('gotten', 0): 4, ('icof', 0): 1, ('umtil', 0): 1, ('freebi', 0): 1, ('jbnoy', 0): 1, ('thread', 0): 1, ('chaper', 0): 1, ('leakycon', 1): 1, ('declin', 0): 1, ('columbus', 0): 2, ('anew', 0): 1, ('none', 1): 4, ('nan', 1): 5, ('less', 1): 7, ('tryna', 1): 2, ('weekeend', 1): 1, ('relief', 0): 1, ('cod', 0): 1, ('ginorm', 1): 1, ('colbert', 0): 1, ('imissu', 0): 1, ('honey', 1): 8, ('plis', 1): 1, ('swede', 1): 1, ('bev', 1): 1, ('batteri', 1): 4, ('hooker', 0): 2, ('ean', 1): 1, ('gah', 1): 2, ('allah', 1): 2, ('hasd', 1): 1, ('maverick', 1): 1, ('aloha', 1): 1, ('ud', 1): 1, ('alic', 0): 1, ('likabl', 1): 1, ('hahahahahahaha', 1): 1, ('snicker', 0): 1, ('paycheck', 1): 1, ('presten', 1): 2, ('pee', 1): 1, ('diamond', 0): 2, ('earring', 0): 2, ('maxi', 1): 1, ('sittin', 1): 1, ('watchin', 1): 2, ('monster', 1): 3, ('waitin', 1): 4, ('wi', 0): 2, ('minus', 0): 1, ('recharg', 1): 2, ('housework', 1): 1, ('ruddi', 0): 1, ('manageress', 0): 1, ('rout', 1): 2, ('evict', 0): 1, ('rental', 0): 1, ('joy', 0): 3, ('lonni', 1): 1, ('slammer', 1): 1, ('moldovan', 1): 2, ('isay', 1): 1, ('kamusta', 1): 1, ('bulacan', 1): 1, ('histor', 1): 1, ('gimmick', 1): 1, ('gilmor', 1): 1, ('keygen', 1): 1, ('databas', 0): 2, ('pff', 0): 3, ('msft', 0): 1, ('mufasa', 1): 1, ('warrior', 1): 1, ('booya', 1): 1, ('sup', 1): 1, ('infam', 1): 1, ('snot', 0): 1, ('midget', 1): 1, ('bang', 1): 4, ('theori', 1): 3, ('pharmaci', 0): 1, ('sighh', 0): 1, ('quebec', 1): 1, ('wegman', 0): 2, ('alenka', 1): 1, ('chicki', 1): 1, ('mummyy', 1): 1, ('grade', 1): 3, ('retir', 1): 2, ('rethink', 0): 1, ('unbear', 0): 1, ('meltingaway', 0): 1, ('jobof', 0): 1, ('il', 0): 2, ('divo', 0): 1, ('cola', 1): 2, ('diner', 1): 1, ('whittier', 1): 1, ('overtim', 0): 2, ('prosper', 1): 4, ('bravi', 1): 1, ('pilot', 1): 1, ('itali', 1): 2, ('vinegar', 0): 1, ('crisp', 0): 2, ('england', 0): 3, ('flavorus', 0): 1, ('weekday', 1): 1, ('dote', 1): 1, ('brace', 1): 1, ('irish', 0): 1, ('confisc', 0): 1, ('rawr', 0): 2, ('whatnot', 0): 1, ('godaw', 0): 1, ('progress', 0): 2, ('everyher', 0): 1, ('sweeney', 0): 1, ('todd', 0): 1, ('cinco', 0): 1, ('mayo', 0): 1, ('ballist', 1): 1, ('autist', 1): 1, ('aime', 1): 1, ('trough', 1): 1, ('neww', 0): 1, ('funki', 0): 1, ('reel', 0): 1, ('most', 0): 3, ('expo', 0): 2, ('javitz', 0): 1, ('hoilday', 1): 1, ('dum', 0): 1, ('diggin', 0): 1, ('rap', 1): 1, ('hellpp', 1): 1, ('fianc', 0): 1, ('weirdo', 0): 1, ('broodi', 1): 1, ('amorsot', 1): 1, ('malo', 0): 1, ('norwich', 0): 1, ('releg', 0): 1, ('mr', 0): 3, ('rival', 0): 1, ('lean', 0): 1, ('overact', 0): 1, ('nj', 1): 1, ('sync', 0): 4, ('prog', 0): 1, ('pasta', 0): 1, ('wallet', 1): 2, ('respond', 1): 2, ('shope', 1): 1, ('collerbon', 1): 1, ('livin', 1): 1, ('locat', 1): 2, ('bargain', 1): 2, ('cheaper', 1): 2, ('round', 0): 5, ('swat', 0): 1, ('buddhist', 0): 1, ('magazin', 0): 2, ('padawan', 1): 1, ('jedi', 1): 2, ('iight', 0): 1, ('harper', 1): 1, ('knoow', 1): 1, ('lacklust', 0): 1, ('shortstop', 0): 1, ('field', 0): 4, ('mendoza', 0): 1, ('overr', 0): 1, ('joyful', 1): 1, ('fallin', 0): 1, ('contagi', 0): 1, ('hotti', 1): 3, ('pooh', 1): 1, ('sounda', 1): 1, ('hh', 1): 1, ('rthemthembrd', 1): 1, ('buffet', 1): 1, ('vair', 1): 1, ('watc', 1): 1, ('courto', 1): 1, ('isa', 1): 1, ('icurv', 0): 1, ('burden', 0): 1, ('abit', 0): 2, ('cola', 0): 1, ('realtor', 1): 1, ('sulk', 0): 1, ('strategi', 0): 1, ('robart', 0): 1, ('refer', 0): 2, ('cauz', 1): 1, ('oxoxoteambreezi', 1): 1, ('dd', 1): 1, ('jd', 1): 1, ('nekkid', 1): 1, ('cactus', 1): 1, ('islip', 0): 1, ('killm', 0): 1, ('stereo', 1): 1, ('redesign', 0): 1, ('amount', 1): 2, ('basket', 0): 1, ('jake', 0): 1, ('trina', 1): 1, ('robot', 0): 2, ('bffls', 0): 1, ('ryann', 1): 1, ('useless', 1): 1, ('switzerland', 1): 2, ('muahaz', 0): 1, ('gabba', 0): 2, ('niec', 0): 3, ('derbyshir', 1): 1, ('buxton', 1): 1, ('opera', 1): 2, ('dalla', 1): 2, ('mushroom', 1): 1, ('mushi', 1): 1, ('sweat', 1): 2, ('jetway', 0): 1, ('seventh', 0): 1, ('evn', 0): 1, ('shoulda', 0): 3, ('miseri', 1): 1, ('buttermilk', 0): 1, ('drew', 1): 1, ('intent', 1): 1, ('vibe', 1): 3, ('faster', 1): 1, ('chel', 1): 1, ('nest', 1): 1, ('santa', 0): 1, ('clara', 0): 1, ('wussup', 1): 1, ('wut', 1): 1, ('analog', 1): 1, ('ab', 0): 1, ('wardrob', 0): 1, ('tallcre', 0): 1, ('rez', 0): 2, ('crampin', 0): 1, ('sprinkler', 0): 1, ('surround', 0): 1, ('ironclad', 1): 1, ('determin', 1): 3, ('sunehr', 1): 1, ('gir', 0): 2, ('roomi', 0): 3, ('whofd', 0): 1, ('wallac', 0): 1, ('gromit', 0): 1, ('combin', 0): 1, ('disastr', 0): 1, ('lincoln', 0): 1, ('fiddler', 1): 3, ('topol', 1): 1, ('anni', 1): 1, ('row', 1): 2, ('oepn', 0): 1, ('wound', 0): 1, ('kentucki', 0): 1, ('manner', 1): 1, ('billion', 1): 1, ('gentl', 1): 1, ('lip', 0): 6, ('gloss', 0): 1, ('babysitt', 0): 3, ('ysc', 1): 1, ('runthrough', 1): 1, ('tragic', 0): 2, ('glau', 0): 1, ('tscc', 0): 1, ('envis', 0): 1, ('edmontonian', 0): 1, ('tut', 1): 2, ('pre', 1): 2, ('platform', 1): 1, ('nifti', 1): 1, ('headsup', 1): 1, ('palac', 1): 1, ('pelham', 0): 1, ('taco', 1): 4, ('happili', 1): 1, ('jerri', 0): 2, ('redethem', 0): 2, ('coupon', 0): 2, ('unfortunet', 0): 1, ('yr', 0): 2, ('approv', 1): 2, ('applic', 1): 4, ('twa', 1): 1, ('threat', 0): 1, ('jerm', 0): 1, ('psp', 0): 1, ('bberri', 0): 1, ('lite', 0): 1, ('darren', 0): 1, ('talkin', 0): 2, ('wacki', 0): 1, ('whof', 0): 2, ('snotti', 0): 1, ('twittix', 0): 1, ('avg', 1): 1, ('arent', 1): 1, ('famous', 1): 6, ('disc', 1): 3, ('koozi', 1): 1, ('cycl', 0): 5, ('giutar', 0): 1, ('aint', 1): 5, ('froma', 0): 1, ('coupla', 0): 1, ('gamer', 0): 1, ('themili', 0): 2, ('sacramento', 0): 1, ('prison', 0): 2, ('calgari', 1): 1, ('corona', 1): 1, ('fuze', 1): 1, ('cape', 1): 1, ('komen', 1): 1, ('atroci', 1): 1, ('arab', 0): 1, ('jami', 1): 1, ('xxloser', 1): 1, ('nott', 0): 2, ('lotta', 1): 1, ('precip', 1): 1, ('shush', 0): 1, ('multipl', 0): 1, ('ulcer', 0): 1, ('ttfn', 0): 1, ('stuttgart', 1): 1, ('previous', 1): 2, ('sexxi', 1): 1, ('silli', 1): 2, ('wheel', 0): 2, ('fortun', 0): 1, ('adiel', 1): 1, ('sabbi', 1): 1, ('judgthement', 0): 2, ('vouch', 0): 1, ('macadamia', 0): 1, ('quilt', 1): 1, ('goal', 1): 2, ('crystal', 0): 1, ('bia', 0): 1, ('sade', 0): 1, ('cricket', 0): 1, ('apprentic', 0): 1, ('haley', 1): 1, ('adaptor', 1): 1, ('aliv', 1): 4, ('invent', 1): 2, ('sheffield', 1): 1, ('jt', 0): 1, ('cameo', 0): 1, ('award', 0): 3, ('goddess', 1): 1, ('skool', 1): 1, ('pendant', 1): 2, ('muffin', 1): 2, ('offend', 0): 2, ('various', 0): 1, ('karen', 0): 1, ('dock', 0): 1, ('andrea', 0): 1, ('android', 0): 1, ('roger', 0): 1, ('wiff', 0): 1, ('pazik', 0): 1, ('fart', 0): 1, ('status', 0): 3, ('js', 1): 2, ('duckrac', 0): 1, ('duck', 0): 3, ('polar', 0): 1, ('seal', 0): 1, ('whale', 0): 1, ('papabear', 1): 1, ('crissi', 0): 1, ('doinn', 0): 1, ('possess', 0): 1, ('honk', 0): 1, ('basment', 1): 1, ('jaxx', 1): 1, ('raindrop', 1): 1, ('fuji', 1): 1, ('eoi', 0): 1, ('sunda', 1): 1, ('psh', 0): 1, ('dota', 0): 2, ('twiit', 0): 1, ('charm', 0): 1, ('jb', 0): 2, ('thingi', 1): 4, ('noe', 1): 1, ('zune', 1): 1, ('mister', 1): 1, ('ver', 1): 1, ('twitterland', 1): 4, ('illi', 1): 1, ('espresso', 1): 1, ('thinkin', 1): 2, ('gfs', 1): 2, ('ilook', 1): 1, ('frighten', 0): 2, ('brilliant', 0): 1, ('atmo', 0): 1, ('icon', 1): 1, ('feedicon', 1): 1, ('databas', 1): 1, ('laser', 1): 1, ('chirp', 0): 1, ('gaytim', 1): 1, ('botox', 0): 1, ('angelina', 0): 1, ('joli', 0): 1, ('thempir', 1): 1, ('richi', 0): 1, ('beneath', 0): 1, ('cornerston', 0): 1, ('goign', 0): 1, ('nu', 1): 1, ('selfupd', 0): 1, ('triniti', 0): 1, ('dunner', 0): 1, ('raggi', 0): 1, ('raing', 1): 1, ('length', 1): 1, ('pantri', 0): 1, ('calori', 0): 1, ('hon', 0): 2, ('bojan', 1): 1, ('shaanxi', 1): 2, ('boast', 1): 1, ('incas', 0): 1, ('selv', 0): 1, ('doind', 0): 1, ('classmat', 0): 1, ('denise', 1): 1, ('cheat', 1): 1, ('dew', 1): 1, ('interwebnet', 1): 1, ('perez', 0): 1, ('hilton', 0): 2, ('abalon', 1): 1, ('sashimi', 1): 1, ('sake', 1): 2, ('poltergeist', 0): 1, ('kirsten', 1): 1, ('stalker', 0): 2, ('shuut', 1): 1, ('blve', 0): 1, ('papaya', 0): 1, ('lobbyist', 0): 1, ('mangosteen', 0): 1, ('durian', 0): 1, ('cybersecur', 0): 1, ('gifford', 1): 1, ('case', 1): 7, ('benjamin', 1): 1, ('soonn', 0): 1, ('endang', 0): 2, ('speci', 0): 1, ('firepit', 1): 1, ('andrew', 1): 4, ('princeton', 1): 1, ('mucho', 0): 1, ('speech', 0): 4, ('grip', 1): 1, ('firm', 1): 1, ('throat', 1): 2, ('consider', 0): 2, ('virus', 0): 5, ('xp', 0): 1, ('massacr', 1): 1, ('ar', 0): 1, ('sike', 0): 2, ('truce', 0): 1, ('wakeboard', 1): 1, ('lush', 1): 2, ('overload', 1): 1, ('thur', 0): 1, ('bridg', 0): 3, ('root', 0): 1, ('canal', 0): 1, ('stracchino', 1): 1, ('interupt', 0): 1, ('univers', 0): 2, ('intil', 0): 1, ('thougth', 0): 1, ('brussel', 1): 1, ('sprout', 1): 1, ('ohio', 0): 1, ('leavingg', 0): 1, ('craigslist', 0): 1, ('yuk', 0): 1, ('retch', 0): 1, ('rainin', 0): 1, ('miz', 1): 1, ('lanc', 1): 1, ('mwaha', 1): 1, ('bahh', 0): 1, ('racin', 1): 1, ('gap', 1): 1, ('oj', 1): 1, ('pedro', 1): 1, ('soberana', 1): 1, ('smiley', 1): 1, ('nita', 1): 1, ('garlic', 1): 1, ('burp', 0): 1, ('nausea', 0): 1, ('diggnat', 1): 1, ('georgia', 1): 1, ('godown', 0): 1, ('fungus', 0): 1, ('badluck', 0): 1, ('lushh', 1): 1, ('wernt', 1): 1, ('squirel', 0): 2, ('jesska', 0): 1, ('jazz', 0): 1, ('mia', 1): 1, ('twoloer', 0): 1, ('candlelight', 0): 1, ('tini', 0): 1, ('cardio', 0): 2, ('walkin', 0): 1, ('stevi', 1): 1, ('unassum', 1): 1, ('unpretenti', 1): 1, ('endear', 1): 2, ('refus', 1): 1, ('diaper', 1): 1, ('amaz', 0): 3, ('leavin', 1): 2, ('tha', 1): 2, ('turnout', 1): 1, ('toeat', 0): 1, ('kahuna', 0): 1, ('sandwich', 0): 2, ('ranger', 0): 1, ('jessi', 0): 3, ('bestt', 1): 1, ('incredili', 1): 1, ('tru', 1): 2, ('vacant', 0): 1, ('dynam', 0): 1, ('rotton', 0): 1, ('crown', 0): 3, ('mikey', 0): 1, ('wonderland', 1): 1, ('don', 0): 1, ('neil', 1): 1, ('septa', 0): 1, ('spcn', 1): 1, ('paradic', 0): 1, ('drace', 0): 1, ('bk', 1): 3, ('sens', 0): 4, ('besti', 0): 2, ('rhiniti', 0): 1, ('judi', 1): 2, ('yal', 1): 1, ('northern', 0): 1, ('clthemenc', 0): 1, ('descript', 0): 2, ('blacket', 0): 1, ('def', 1): 5, ('frist', 1): 1, ('beto', 0): 1, ('honour', 1): 2, ('retort', 1): 1, ('golf', 1): 2, ('brunch', 1): 3, ('ava', 1): 1, ('reealli', 1): 1, ('fender', 1): 1, ('tol', 1): 1, ('freeagentapp', 0): 1, ('subscrib', 0): 1, ('abbi', 0): 1, ('carol', 0): 2, ('throwback', 1): 2, ('sprinkler', 1): 1, ('jont', 1): 1, ('phaoloo', 1): 1, ('keiron', 1): 1, ('nameless', 0): 1, ('retail', 0): 1, ('dor', 0): 1, ('kickoff', 1): 1, ('highest', 1): 1, ('custodian', 0): 1, ('levi', 0): 1, ('vstudio', 1): 1, ('shortcut', 1): 1, ('bwahaha', 1): 1, ('pav', 1): 1, ('bhaaji', 1): 1, ('dash', 1): 1, ('mild', 0): 1, ('pouch', 0): 1, ('alzheim', 0): 1, ('commerc', 0): 1, ('futil', 0): 1, ('alexand', 1): 2, ('gaskarth', 1): 2, ('godd', 1): 1, ('eweryon', 1): 1, ('reel', 1): 2, ('dint', 0): 1, ('dump', 0): 2, ('relationship', 0): 4, ('twpp', 0): 2, ('ohay', 1): 1, ('jmichell', 0): 1, ('inconveni', 0): 1, ('tini', 1): 6, ('wango', 1): 3, ('tango', 1): 3, ('tila', 0): 1, ('tequila', 0): 1, ('ct', 0): 1, ('gerbino', 1): 1, ('mockup', 1): 1, ('ja', 1): 1, ('deze', 1): 1, ('interessant', 1): 1, ('tokio', 1): 1, ('fost', 1): 1, ('tiberiu', 1): 1, ('noi', 1): 1, ('aflat', 1): 1, ('ca', 1): 1, ('sunt', 1): 1, ('imbecili', 1): 1, ('pest', 1): 1, ('tot', 1): 1, ('traffick', 1): 1, ('dali', 1): 1, ('brandwkshop', 0): 1, ('scott', 0): 1, ('bedburi', 0): 1, ('hahhaa', 0): 1, ('umm', 0): 4, ('planss', 0): 1, ('marvel', 1): 1, ('myspace', 1): 2, ('wayi', 1): 1, ('gaahh', 0): 1, ('stream', 0): 4, ('vacuum', 0): 3, ('reword', 1): 1, ('therapi', 1): 2, ('nicol', 1): 1, ('dgree', 0): 1, ('ensconc', 0): 1, ('barb', 1): 1, ('tweetin', 1): 1, ('cell', 1): 3, ('per', 1): 3, ('stringer', 0): 1, ('bu', 1): 1, ('whisper', 1): 1, ('lov', 0): 1, ('moomi', 0): 1, ('yayi', 0): 1, ('statu', 0): 2, ('sainthood', 0): 1, ('hass', 1): 1, ('disappoint', 1): 2, ('fro', 0): 1, ('blair', 0): 1, ('garley', 1): 1, ('spanish', 0): 1, ('endur', 0): 1, ('winner', 0): 2, ('cubicl', 0): 1, ('thiss', 0): 2, ('longeerr', 0): 1, ('booski', 1): 1, ('reassur', 1): 1, ('infam', 0): 1, ('argh', 1): 1, ('chop', 0): 2, ('fring', 0): 1, ('argentina', 1): 1, ('mitchel', 1): 1, ('lone', 1): 2, ('traci', 0): 1, ('berwick', 0): 1, ('breaki', 0): 1, ('split', 0): 1, ('hallway', 0): 2, ('yday', 1): 1, ('bumper', 1): 1, ('sticker', 1): 4, ('troop', 1): 1, ('militari', 1): 1, ('restaur', 1): 2, ('nathan', 1): 1, ('brenden', 1): 1, ('edc', 0): 1, ('api', 0): 1, ('susan', 1): 3, ('elizabeth', 1): 1, ('philip', 1): 1, ('ashleigh', 1): 1, ('pillow', 1): 3, ('fulfil', 1): 1, ('asian', 1): 1, ('violent', 1): 2, ('fightclub', 1): 1, ('heavili', 1): 1, ('there', 0): 4, ('ss', 0): 2, ('cnn', 1): 1, ('volum', 1): 2, ('h', 0): 2, ('sitter', 0): 2, ('mileston', 1): 1, ('spelt', 0): 1, ('gxx', 0): 1, ('low', 1): 7, ('fuster', 0): 1, ('starwarswithaddedp', 0): 1, ('blaze', 0): 2, ('fark', 0): 1, ('rape', 1): 1, ('unsurpris', 0): 1, ('annalisa', 0): 1, ('opposit', 0): 1, ('mellow', 0): 1, ('piti', 1): 2, ('twice', 1): 2, ('iva', 0): 1, ('oki', 0): 1, ('japsican', 1): 1, ('breed', 1): 1, ('hometown', 0): 1, ('thame', 0): 2, ('river', 0): 3, ('sport', 0): 2, ('grandrapid', 0): 1, ('section', 1): 1, ('honeypot', 0): 1, ('genet', 0): 2, ('offspr', 0): 1, ('likelyy', 1): 1, ('zach', 0): 2, ('aarrgghh', 0): 4, ('hose', 0): 1, ('leak', 0): 4, ('float', 0): 1, ('slice', 1): 3, ('nom', 1): 3, ('parad', 0): 1, ('ahahha', 0): 1, ('pln', 1): 1, ('earthday', 1): 1, ('neck', 1): 2, ('vip', 1): 3, ('het', 1): 1, ('si', 1): 1, ('raar', 1): 1, ('gelopen', 1): 1, ('chao', 1): 1, ('slower', 0): 2, ('indiana', 0): 1, ('gs', 0): 1, ('occur', 0): 1, ('cheri', 0): 1, ('habit', 0): 1, ('coming', 0): 1, ('general', 1): 2, ('oceanup', 1): 1, ('gaston', 1): 1, ('reckon', 1): 1, ('celeb', 0): 3, ('ghh', 0): 1, ('prthematur', 0): 2, ('ffs', 1): 1, ('sophia', 0): 1, ('bordom', 0): 1, ('canon', 1): 1, ('rage', 0): 1, ('lanka', 1): 1, ('spiritu', 1): 1, ('practis', 1): 1, ('piano', 1): 2, ('desappoint', 0): 1, ('reco', 1): 1, ('downhil', 0): 1, ('novel', 1): 1, ('friendship', 0): 1, ('mthemo', 1): 1, ('comp', 1): 2, ('mental', 1): 1, ('samuel', 1): 1, ('center', 1): 1, ('appt', 1): 2, ('galveston', 1): 1, ('gawd', 0): 2, ('pregger', 0): 1, ('hoisin', 1): 1, ('salt', 1): 2, ('pepper', 1): 2, ('gelato', 1): 1, ('edmund', 1): 1, ('jade', 1): 3, ('allerg', 0): 4, ('tweetbeak', 0): 1, ('argument', 1): 2, ('whether', 1): 1, ('procrastin', 0): 2, ('sendin', 1): 1, ('isint', 0): 1, ('blink', 1): 1, ('bluff', 0): 1, ('mascara', 1): 1, ('input', 1): 1, ('omgosh', 1): 1, ('bon', 1): 1, ('voyag', 1): 2, ('mccarran', 1): 1, ('cyah', 1): 1, ('aba', 0): 1, ('asd', 0): 1, ('autism', 0): 1, ('other', 0): 3, ('interven', 0): 1, ('turkey', 1): 1, ('herniat', 0): 1, ('disc', 0): 2, ('sweater', 1): 1, ('brr', 1): 1, ('nat', 0): 1, ('plead', 0): 1, ('metric', 0): 1, ('centuri', 0): 1, ('microeconom', 0): 1, ('ihat', 0): 2, ('ilet', 0): 1, ('vorderman', 0): 1, ('interivew', 0): 1, ('folder', 0): 1, ('tm', 0): 1, ('viral', 0): 1, ('nyappi', 1): 1, ('merci', 1): 2, ('author', 1): 2, ('await', 1): 3, ('recent', 0): 4, ('indian', 0): 3, ('climb', 0): 2, ('glad', 0): 5, ('stomatch', 0): 1, ('superman', 1): 3, ('candid', 1): 1, ('terabyt', 1): 1, ('harddisk', 1): 1, ('erni', 0): 2, ('rey', 0): 1, ('gettn', 0): 1, ('jersey', 0): 1, ('esta', 1): 1, ('perdonada', 1): 1, ('porqu', 1): 1, ('sigu', 1): 1, ('conrad', 1): 1, ('stalker', 1): 2, ('creepi', 1): 1, ('paparazzi', 1): 2, ('whatshappen', 1): 1, ('renam', 1): 1, ('altern', 0): 4, ('hoop', 1): 1, ('taco', 0): 1, ('bung', 1): 1, ('lillysan', 1): 1, ('li', 1): 2, ('commerci', 1): 5, ('viabl', 1): 1, ('misanthrop', 1): 1, ('bball', 1): 1, ('gridiron', 1): 1, ('popul', 1): 1, ('wa', 0): 1, ('diegoo', 0): 1, ('dustin', 0): 1, ('elton', 1): 1, ('tw', 1): 1, ('lj', 1): 2, ('thght', 1): 1, ('workd', 1): 1, ('closer', 0): 3, ('yuu', 0): 1, ('capit', 0): 1, ('wiki', 1): 1, ('ski', 1): 2, ('gadget', 1): 2, ('ps', 0): 2, ('rove', 0): 1, ('swag', 1): 1, ('disco', 1): 1, ('prodigi', 1): 2, ('nighter', 1): 1, ('nsti', 0): 1, ('shoud', 0): 1, ('hint', 0): 2, ('tweetbud', 1): 1, ('flwrs', 1): 1, ('tweepl', 0): 2, ('detent', 0): 1, ('snuggl', 0): 2, ('amo', 1): 2, ('veo', 1): 1, ('ahasta', 1): 1, ('lune', 1): 1, ('folow', 1): 1, ('tran', 1): 1, ('natur', 1): 3, ('instant', 1): 1, ('gratif', 1): 1, ('absoulut', 1): 1, ('coat', 0): 2, ('sheep', 0): 1, ('cdcave', 1): 1, ('ahah', 0): 1, ('cardboard', 0): 2, ('vomit', 0): 1, ('dale', 1): 1, ('desert', 1): 2, ('meatbal', 1): 2, ('yaayi', 1): 3, ('horsesho', 1): 1, ('dragon', 1): 2, ('mexican', 0): 4, ('lego', 0): 1, ('superpow', 1): 1, ('explan', 1): 3, ('keepin', 1): 1, ('missinmydgbigtym', 1): 1, ('reallyr', 0): 1, ('action', 1): 4, ('interwebz', 1): 1, ('uktv', 0): 1, ('tomro', 0): 1, ('phil', 0): 2, ('marriag', 0): 3, ('denmark', 1): 2, ('finland', 1): 2, ('netherland', 1): 1, ('founder', 0): 1, ('expans', 0): 2, ('fourteen', 0): 1, ('engagth', 0): 1, ('anywho', 1): 1, ('serio', 1): 1, ('barroca', 1): 1, ('paraben', 1): 1, ('poop', 1): 1, ('about', 1): 1, ('phoenix', 0): 1, ('rollersk', 0): 1, ('petey', 0): 1, ('tink', 0): 2, ('tiesto', 1): 1, ('vicki', 1): 2, ('ronni', 1): 1, ('blink', 0): 2, ('humor', 0): 1, ('cwpm', 1): 1, ('lord', 0): 2, ('mighti', 0): 1, ('oracl', 0): 1, ('ing', 0): 1, ('unixodbc', 0): 1, ('extens', 0): 1, ('fewer', 0): 3, ('blip', 0): 1, ('immun', 0): 1, ('newborn', 0): 2, ('hereditari', 1): 1, ('burr', 1): 1, ('core', 1): 2, ('alexa', 1): 1, ('regrettin', 0): 1, ('crowd', 1): 3, ('endodontist', 1): 1, ('ceram', 1): 1, ('crown', 1): 1, ('travolta', 1): 1, ('basslin', 1): 1, ('cus', 0): 2, ('lingeri', 1): 1, ('surlytween', 1): 1, ('inflam', 0): 2, ('heineken', 0): 1, ('toss', 0): 2, ('outz', 1): 1, ('han', 0): 1, ('treiz', 1): 1, ('rise', 1): 5, ('chica', 1): 2, ('ayaw', 0): 1, ('bumuka', 0): 1, ('approx', 1): 1, ('trivia', 1): 1, ('wikihow', 1): 1, ('rebond', 0): 1, ('huggabl', 1): 1, ('immens', 1): 1, ('agreeabl', 1): 1, ('boor', 0): 2, ('dr', 1): 3, ('shoould', 0): 1, ('spaniel', 1): 1, ('becuas', 1): 1, ('mohawk', 1): 1, ('kidd', 1): 1, ('submit', 0): 1, ('weinfest', 0): 1, ('mock', 0): 3, ('slowdown', 1): 1, ('stope', 0): 1, ('blogtv', 0): 1, ('thassa', 1): 1, ('brit', 1): 3, ('pigeon', 0): 1, ('feather', 0): 1, ('rear', 0): 1, ('alphonso', 1): 1, ('lassi', 1): 1, ('nimbupaani', 1): 1, ('earl', 0): 2, ('lthemon', 0): 2, ('whb', 0): 1, ('younger', 0): 4, ('reconnect', 1): 1, ('aweoms', 0): 1, ('julia', 0): 1, ('chattin', 1): 1, ('naww', 1): 1, ('dull', 0): 3, ('dohh', 0): 1, ('aau', 1): 1, ('gi', 1): 1, ('forgivthem', 1): 1, ('funzen', 1): 1, ('granda', 0): 1, ('jp', 1): 1, ('coolidg', 1): 1, ('corner', 1): 1, ('abandon', 1): 1, ('fabric', 1): 1, ('cheshir', 1): 1, ('cartoon', 1): 2, ('ssug', 0): 1, ('penanc', 0): 1, ('thundershow', 1): 1, ('cafeteria', 0): 2, ('unthemploy', 0): 4, ('imnot', 1): 1, ('awesomeili', 1): 1, ('gosshh', 1): 1, ('password', 0): 2, ('sharapova', 0): 1, ('grouchi', 0): 1, ('scienc', 1): 3, ('confer', 1): 5, ('jolla', 1): 1, ('ouuhh', 0): 1, ('texa', 1): 1, ('mush', 1): 1, ('thus', 0): 1, ('wierd', 0): 2, ('intern', 0): 2, ('enuff', 0): 1, ('stroll', 1): 2, ('discov', 0): 1, ('greater', 1): 2, ('snack', 1): 4, ('feen', 0): 1, ('cig', 0): 2, ('imac', 0): 2, ('file', 1): 1, ('sort', 1): 12, ('sociolog', 1): 2, ('bluetooth', 0): 1, ('headset', 0): 1, ('gg', 0): 2, ('moto', 0): 1, ('wacom', 0): 1, ('pad', 0): 2, ('spiderwoman', 1): 1, ('mentor', 1): 2, ('exchang', 1): 1, ('ze', 1): 1, ('themay', 1): 1, ('loop', 1): 3, ('hru', 0): 1, ('hampton', 1): 1, ('underwood', 0): 1, ('dalek', 0): 1, ('dw', 0): 1, ('exhibit', 0): 1, ('cardiff', 0): 1, ('horror', 1): 1, ('rthemain', 1): 2, ('captiv', 1): 1, ('aleesha', 0): 1, ('piggi', 0): 2, ('soarin', 0): 1, ('rose', 0): 2, ('eric', 0): 1, ('spur', 1): 1, ('director', 1): 2, ('hifi', 0): 1, ('upon', 1): 3, ('header', 1): 1, ('graphic', 1): 1, ('escap', 1): 2, ('tomoro', 0): 2, ('az', 0): 1, ('brook', 0): 1, ('nz', 1): 3, ('hanami', 1): 1, ('weirdest', 0): 1, ('owi', 0): 1, ('credo', 0): 1, ('brighi', 0): 1, ('ahmaz', 1): 1, ('sausag', 1): 1, ('gus', 0): 2, ('formal', 0): 1, ('ugliest', 0): 1, ('brian', 1): 2, ('luckili', 1): 3, ('chiclit', 0): 1, ('promot', 0): 1, ('zapato', 1): 1, ('trashcan', 1): 1, ('nacho', 1): 1, ('simfing', 0): 1, ('irap', 0): 1, ('parodi', 0): 2, ('glacier', 0): 1, ('ditchin', 0): 1, ('barfin', 0): 1, ('esotsm', 0): 1, ('mindless', 1): 1, ('walwal', 1): 1, ('powermac', 0): 1, ('commenc', 0): 1, ('foolish', 0): 3, ('gio', 1): 1, ('brazilian', 1): 2, ('affect', 1): 1, ('regina', 0): 1, ('les', 0): 2, ('deux', 0): 1, ('mc', 0): 1, ('pinch', 0): 2, ('rthemak', 0): 1, ('okai', 1): 1, ('playmat', 0): 1, ('visitor', 0): 1, ('sadifi', 0): 1, ('heartpart', 0): 1, ('luat', 1): 1, ('examenul', 1): 1, ('spss', 1): 1, ('crappi', 1): 1, ('everbodi', 1): 1, ('aquino', 1): 1, ('needa', 0): 1, ('hyperventil', 0): 1, ('pamela', 0): 1, ('anderson', 0): 1, ('esqu', 0): 1, ('smtime', 1): 1, ('solitud', 1): 1, ('lk', 1): 1, ('brokun', 0): 1, ('humun', 0): 1, ('maybe', 0): 1, ('agin', 0): 1, ('wun', 0): 1, ('possess', 1): 1, ('certainti', 1): 1, ('eaat', 1): 1, ('twibe', 1): 1, ('spinner', 1): 2, ('nascar', 0): 1, ('redneck', 0): 1, ('bg', 1): 1, ('rout', 0): 1, ('texi', 1): 1, ('befriend', 1): 1, ('melika', 1): 1, ('microwav', 0): 1, ('patsi', 0): 1, ('gmail', 0): 1, ('storag', 0): 1, ('ceil', 0): 2, ('oist', 0): 1, ('di', 0): 1, ('sakit', 0): 1, ('siya', 0): 3, ('nab', 0): 1, ('youngster', 0): 1, ('sweetiepi', 0): 1, ('slipper', 0): 1, ('pcd', 0): 1, ('certian', 0): 1, ('heyahh', 1): 1, ('wer', 1): 1, ('cumin', 1): 1, ('taylorr', 1): 1, ('uniten', 0): 1, ('cc', 0): 1, ('tadpol', 0): 1, ('chauffeur', 0): 1, ('pugsli', 0): 1, ('otrip', 0): 1, ('smooch', 1): 1, ('matey', 0): 1, ('suzi', 0): 1, ('scab', 0): 1, ('headin', 1): 2, ('boi', 1): 2, ('whore', 1): 3, ('kknow', 0): 1, ('dodger', 1): 1, ('giant', 1): 3, ('doctor', 1): 5, ('ty', 1): 5, ('nicc', 0): 1, ('nien', 1): 1, ('smart', 1): 6, ('whts', 1): 1, ('gurli', 1): 1, ('sharon', 1): 2, ('rro', 0): 1, ('staff', 0): 1, ('anywayz', 0): 1, ('thempir', 0): 2, ('baaha', 1): 1, ('inconsider', 0): 1, ('trueli', 0): 1, ('equal', 0): 1, ('prejudic', 0): 2, ('swolen', 0): 1, ('hoo', 0): 3, ('mlia', 1): 1, ('fml', 1): 2, ('pointless', 1): 1, ('woow', 1): 3, ('uncontrol', 0): 1, ('lcd', 1): 1, ('cleaner', 1): 4, ('boe', 0): 1, ('themploye', 0): 4, ('huntington', 0): 1, ('chennai', 0): 1, ('assur', 0): 1, ('org', 0): 1, ('pre', 0): 1, ('rinc', 0): 1, ('bloomington', 1): 1, ('groundbreak', 0): 1, ('haayi', 0): 1, ('hahahahahahahaa', 1): 1, ('acid', 0): 2, ('reflux', 0): 1, ('jay', 1): 3, ('lenof', 1): 1, ('encourag', 1): 1, ('conan', 1): 1, ('photoshop', 0): 2, ('haa', 0): 1, ('rum', 0): 1, ('legal', 0): 4, ('polaroid', 0): 1, ('cloudi', 1): 3, ('lina', 1): 1, ('birthdaypres', 1): 1, ('hahahah', 1): 3, ('carn', 1): 1, ('asada', 1): 1, ('sesh', 1): 1, ('rang', 1): 1, ('tailbon', 0): 1, ('gummi', 0): 1, ('gqmf', 1): 1, ('woefulli', 1): 1, ('doug', 1): 2, ('tove', 1): 1, ('valid', 1): 1, ('danica', 1): 1, ('tx', 1): 2, ('iigghhtt', 0): 1, ('fur', 0): 3, ('geet', 0): 1, ('idc', 0): 1, ('immboredd', 0): 1, ('fuckitt', 0): 1, ('abit', 1): 1, ('marisa', 0): 1, ('mauro', 0): 1, ('dildo', 0): 1, ('arsehol', 0): 1, ('bannerbomb', 1): 1, ('homebrew', 1): 1, ('yessir', 1): 2, ('chamber', 0): 1, ('oge', 0): 1, ('montreal', 0): 1, ('xoxox', 0): 1, ('guapisimo', 1): 1, ('chico', 1): 1, ('hungov', 1): 1, ('absurd', 0): 1, ('orlean', 1): 1, ('ungod', 1): 2, ('gee', 0): 2, ('hatin', 0): 1, ('duh', 0): 1, ('philadelphia', 0): 1, ('nkorea', 0): 1, ('daili', 0): 4, ('tulan', 0): 1, ('uniqu', 0): 1, ('cubicl', 1): 1, ('yippi', 1): 1, ('rich', 1): 2, ('shatner', 0): 1, ('philosoph', 0): 1, ('vegetarian', 1): 1, ('vegan', 1): 2, ('intens', 1): 1, ('geeta', 0): 1, ('garbag', 1): 1, ('truck', 1): 1, ('whistl', 1): 1, ('desper', 1): 1, ('roast', 0): 2, ('fcking', 0): 1, ('thnks', 0): 1, ('sorbet', 1): 1, ('ahhahah', 0): 1, ('urghh', 1): 1, ('valuabl', 1): 1, ('advanc', 1): 3, ('boredom', 1): 2, ('greec', 1): 2, ('dolli', 1): 1, ('blatant', 1): 2, ('kenni', 1): 3, ('omgsh', 1): 1, ('finsh', 0): 1, ('eleven', 0): 1, ('allowd', 0): 1, ('cauz', 0): 1, ('dehydr', 0): 1, ('irlanda', 1): 1, ('unlik', 0): 1, ('pos', 0): 1, ('oakland', 0): 1, ('naw', 1): 1, ('min', 1): 5, ('spawn', 1): 1, ('honeymoon', 0): 1, ('dokomi', 0): 1, ('ave', 1): 1, ('orderd', 1): 1, ('ta', 1): 3, ('quak', 1): 1, ('chest', 1): 2, ('ne', 1): 1, ('somethng', 1): 1, ('mountain', 1): 1, ('woolseri', 1): 1, ('molton', 1): 1, ('clinch', 1): 1, ('devon', 1): 1, ('leagu', 1): 1, ('titl', 1): 3, ('stuvk', 0): 1, ('stpid', 0): 1, ('bloow', 0): 1, ('tacki', 0): 1, ('sword', 0): 1, ('freud', 0): 1, ('implic', 0): 1, ('gba', 1): 1, ('bhb', 1): 1, ('cornwal', 0): 1, ('loos', 1): 1, ('rick', 0): 1, ('themerg', 1): 3, ('andr', 1): 1, ('jerk', 1): 2, ('tranlsat', 0): 1, ('whoolle', 0): 1, ('fluffodil', 0): 1, ('latest', 0): 2, ('teg', 0): 1, ('lou', 0): 1, ('tess', 0): 1, ('frey', 0): 1, ('gender', 0): 1, ('proof', 1): 1, ('thorn', 0): 1, ('mouthi', 0): 1, ('kwl', 1): 1, ('nm', 1): 1, ('hanna', 1): 1, ('hte', 1): 1, ('mayday', 1): 1, ('recomend', 1): 1, ('aall', 1): 1, ('matrix', 0): 1, ('yarn', 0): 1, ('shipment', 0): 1, ('corrupt', 0): 1, ('greenlak', 1): 1, ('glen', 1): 1, ('ud', 0): 1, ('instal', 0): 4, ('electro', 1): 1, ('fish', 1): 3, ('focus', 1): 2, ('pin', 1): 1, ('debit', 1): 1, ('sever', 1): 5, ('wheew', 1): 1, ('un', 1): 1, ('goo', 1): 2, ('bhaha', 0): 1, ('nightclub', 0): 1, ('eras', 1): 1, ('hawthorn', 1): 1, ('sardon', 0): 1, ('maternalhealth', 1): 1, ('mthember', 0): 2, ('administr', 0): 1, ('firew', 0): 1, ('prefer', 0): 2, ('whywhywhi', 0): 1, ('appeal', 1): 1, ('mandarin', 1): 1, ('singapor', 1): 2, ('ohmygosh', 1): 1, ('wohoo', 1): 1, ('panera', 0): 1, ('metavers', 0): 1, ('irvin', 0): 1, ('liz', 0): 1, ('rtheminisc', 0): 2, ('lice', 1): 1, ('socialscop', 0): 1, ('erniehalt', 1): 1, ('domina', 1): 1, ('epsilon', 0): 1, ('greater', 0): 1, ('zero', 0): 1, ('honesti', 0): 1, ('discontinu', 0): 1, ('aplikac', 0): 1, ('hovno', 0): 1, ('pollut', 0): 1, ('glassez', 0): 1, ('kiddo', 0): 1, ('timmi', 1): 1, ('myer', 1): 1, ('lydia', 1): 2, ('ni', 1): 1, ('werecount', 0): 1, ('raffl', 0): 1, ('deposit', 0): 3, ('monster', 0): 2, ('whistl', 0): 1, ('fanni', 0): 1, ('lmfaaoo', 1): 1, ('yopu', 1): 1, ('iraq', 1): 1, ('grind', 0): 1, ('skyguard', 0): 1, ('anticip', 0): 2, ('tabard', 0): 1, ('thabk', 1): 1, ('honourari', 1): 1, ('fluffett', 1): 1, ('storytel', 1): 1, ('furbi', 0): 1, ('slut', 0): 1, ('kde', 0): 1, ('ver', 0): 1, ('ughh', 1): 1, ('badg', 0): 1, ('mute', 0): 1, ('sig', 0): 1, ('extern', 0): 1, ('client', 1): 1, ('lousi', 0): 1, ('mofo', 0): 1, ('landlord', 0): 1, ('nevermind', 0): 2, ('meeaann', 0): 1, ('manta', 1): 1, ('kraken', 1): 1, ('awesomest', 1): 1, ('thang', 1): 2, ('passion', 1): 1, ('opi', 1): 1, ('unconditon', 1): 1, ('materialist', 1): 1, ('mthemeb', 1): 1, ('bronco', 0): 1, ('vs', 0): 2, ('chief', 0): 1, ('elway', 0): 1, ('nfl', 0): 1, ('fu', 0): 1, ('kc', 0): 1, ('twiligghhtt', 0): 1, ('sukk', 0): 1, ('redbubbl', 1): 1, ('gerardo', 0): 1, ('givin', 0): 1, ('hobart', 1): 1, ('courtney', 1): 1, ('frame', 0): 2, ('planet', 0): 1, ('van', 0): 2, ('wyck', 0): 1, ('hood', 0): 1, ('within', 0): 4, ('dough', 1): 1, ('calm', 1): 3, ('delicaci', 1): 1, ('alton', 1): 1, ('tower', 1): 1, ('shark', 1): 1, ('nt', 1): 1, ('barakat', 1): 1, ('ssoo', 1): 1, ('address', 1): 1, ('icecream', 0): 1, ('venic', 1): 2, ('fred', 1): 1, ('excitth', 1): 1, ('nana', 1): 1, ('wan', 1): 1, ('iri', 1): 2, ('arrghh', 0): 1, ('eczthema', 0): 1, ('tvs', 0): 1, ('vhit', 0): 1, ('havta', 1): 1, ('fllwing', 1): 1, ('kobe', 1): 1, ('hgtv', 0): 1, ('infomerci', 0): 1, ('worship', 1): 1, ('tessi', 1): 1, ('rescu', 0): 1, ('sweatshirt', 0): 1, ('bullshit', 1): 1, ('bep', 0): 1, ('leighton', 0): 2, ('meester', 0): 2, ('wave', 0): 1, ('antiboyl', 0): 1, ('basketbal', 1): 3, ('tsu', 1): 1, ('yogurtland', 1): 1, ('sab', 0): 1, ('comm', 0): 2, ('esta', 0): 1, ('arthroscopi', 0): 1, ('inch', 0): 2, ('shorter', 0): 1, ('connoisseur', 0): 1, ('dreambear', 0): 2, ('vinyl', 1): 2, ('brush', 1): 1, ('toothbrush', 1): 2, ('gatorad', 0): 1, ('yumyum', 0): 1, ('shatter', 0): 3, ('aris', 0): 1, ('ant', 1): 1, ('dec', 1): 1, ('cowel', 1): 1, ('lappi', 0): 2, ('ning', 0): 1, ('onther', 1): 1, ('carl', 1): 1, ('jr', 1): 1, ('setup', 1): 1, ('uninstal', 1): 1, ('oxymoron', 1): 1, ('disney', 1): 5, ('insulin', 0): 1, ('junior', 0): 2, ('tina', 1): 1, ('fey', 1): 1, ('aahaha', 1): 1, ('thanku', 1): 2, ('sneezi', 0): 1, ('dsi', 1): 1, ('ds', 1): 1, ('built', 1): 1, ('stereotyp', 0): 1, ('teen', 0): 1, ('glenelg', 1): 1, ('poetri', 1): 1, ('wifi', 1): 1, ('av', 0): 1, ('apathi', 0): 1, ('thempathi', 0): 1, ('toler', 0): 1, ('gnna', 0): 1, ('blare', 0): 1, ('mis', 0): 1, ('tranc', 1): 1, ('shock', 1): 1, ('whos', 1): 1, ('rethem', 1): 1, ('wednesdayi', 1): 1, ('kirsti', 1): 1, ('lloovve', 1): 1, ('icar', 1): 3, ('utd', 0): 1, ('rollin', 1): 1, ('nun', 1): 1, ('broadway', 1): 1, ('belong', 1): 3, ('keanu', 0): 1, ('scuba', 1): 1, ('dive', 1): 1, ('ngayon', 0): 1, ('nagrerehab', 0): 1, ('amend', 1): 1, ('pimpin', 1): 1, ('thrd', 1): 1, ('tivo', 1): 2, ('vod', 1): 1, ('yess', 0): 2, ('fridayfirehazzard', 1): 1, ('muahahahhahaha', 1): 1, ('stayn', 0): 1, ('tedtalk', 0): 1, ('payrol', 1): 1, ('distribut', 1): 1, ('duti', 1): 2, ('stripper', 1): 1, ('bull', 1): 2, ('lli', 0): 1, ('celebret', 1): 1, ('pothem', 1): 1, ('sar', 0): 1, ('socal', 0): 1, ('menu', 0): 2, ('bubbl', 0): 1, ('implthement', 1): 2, ('unittest', 1): 1, ('loader', 1): 1, ('lyk', 1): 2, ('othaa', 1): 1, ('gurrl', 1): 2, ('maikof', 1): 1, ('ccri', 0): 1, ('jai', 1): 1, ('honeyi', 0): 1, ('arnold', 0): 2, ('thornberri', 0): 1, ('ohmygod', 0): 1, ('iloveyouu', 1): 1, ('knotti', 1): 1, ('gotten', 1): 5, ('foil', 1): 1, ('profound', 1): 1, ('wk', 1): 2, ('drs', 1): 1, ('forgo', 0): 1, ('yoou', 0): 2, ('poia', 0): 2, ('mahn', 0): 1, ('iloveitwhen', 1): 1, ('carcassonn', 1): 1, ('tomb', 1): 1, ('raider', 1): 1, ('sumtim', 1): 1, ('uggh', 0): 3, ('pw', 0): 2, ('gaiman', 0): 1, ('bea', 0): 1, ('vcr', 0): 1, ('twitt', 0): 1, ('mode', 0): 1, ('slumdog', 1): 1, ('millionair', 1): 1, ('bollywood', 1): 1, ('border', 1): 1, ('renown', 1): 1, ('shape', 1): 2, ('imprint', 1): 1, ('givein', 1): 1, ('arun', 1): 1, ('ultrasound', 1): 1, ('precaut', 1): 1, ('cherish', 1): 2, ('num', 0): 1, ('recepi', 1): 1, ('complain', 0): 4, ('babysit', 0): 4, ('reno', 0): 1, ('somehow', 0): 3, ('accomplish', 0): 2, ('sway', 1): 5, ('zommgg', 1): 1, ('screamo', 1): 1, ('noob', 0): 1, ('rsmv', 0): 2, ('jagex', 0): 1, ('sentenc', 0): 2, ('teca', 0): 1, ('whaat', 1): 1, ('imput', 0): 2, ('danstorc', 1): 1, ('overnight', 1): 3, ('laff', 0): 1, ('nvr', 1): 1, ('revers', 0): 1, ('overdraft', 0): 1, ('fee', 0): 2, ('cincinnati', 1): 1, ('smoke', 1): 4, ('visibl', 0): 2, ('mela', 0): 1, ('cept', 0): 1, ('alan', 1): 1, ('partridg', 1): 1, ('fran', 1): 1, ('darian', 0): 1, ('bam', 0): 1, ('enthus', 1): 1, ('manic', 1): 1, ('phrase', 1): 1, ('familiar', 0): 2, ('lindi', 1): 1, ('olympiou', 1): 1, ('diamanti', 1): 1, ('thessaloniki', 1): 1, ('kayi', 1): 1, ('fasho', 1): 1, ('melt', 0): 4, ('thoma', 1): 2, ('thembark', 1): 1, ('poison', 1): 1, ('atlant', 1): 1, ('master', 0): 2, ('nutin', 0): 1, ('baabi', 0): 1, ('hurtin', 0): 3, ('pretend', 1): 2, ('sweatshirt', 1): 2, ('beatl', 1): 2, ('scouser', 1): 1, ('haircut', 1): 2, ('split', 1): 2, ('malta', 0): 1, ('spongebob', 0): 1, ('distraught', 0): 1, ('knoww', 0): 1, ('yur', 0): 1, ('spi', 1): 1, ('josey', 0): 1, ('cring', 0): 1, ('paus', 0): 1, ('cobra', 0): 1, ('atonth', 0): 1, ('unlock', 0): 1, ('decad', 0): 2, ('uve', 1): 1, ('hada', 1): 1, ('zack', 0): 1, ('stu', 0): 2, ('dam', 1): 1, ('prison', 1): 2, ('positivli', 0): 1, ('sunglass', 0): 1, ('pleasant', 0): 1, ('waay', 0): 3, ('richardson', 0): 1, ('raain', 0): 1, ('cheeck', 0): 1, ('muhaha', 1): 1, ('martha', 1): 1, ('uu', 1): 2, ('mnth', 1): 1, ('coal', 0): 1, ('harbour', 0): 1, ('brent', 1): 1, ('yt', 1): 3, ('hide', 1): 2, ('dataloung', 1): 1, ('horsi', 1): 1, ('chose', 0): 2, ('career', 0): 2, ('opinion', 1): 1, ('dwts', 1): 1, ('istor', 0): 1, ('whatchu', 0): 1, ('sucka', 0): 2, ('addit', 1): 1, ('purrti', 1): 1, ('appet', 0): 1, ('coome', 1): 1, ('burton', 0): 1, ('sod', 0): 1, ('hmmp', 1): 1, ('sammi', 1): 2, ('rovin', 1): 1, ('trader', 0): 1, ('gawwdd', 0): 1, ('headshotss', 0): 1, ('inna', 0): 1, ('fyaahh', 0): 1, ('copenhagen', 0): 1, ('glimps', 0): 1, ('peg', 1): 2, ('tote', 1): 1, ('dillah', 0): 1, ('girrll', 0): 1, ('escentu', 0): 1, ('berlin', 1): 1, ('hahhaa', 1): 1, ('okaay', 1): 1, ('ladder', 0): 1, ('collaps', 0): 2, ('rn', 1): 2, ('photof', 1): 1, ('catwalk', 1): 1, ('hahahah', 0): 1, ('display', 0): 1, ('igloo', 0): 1, ('dweller', 0): 1, ('kinduhh', 1): 1, ('johnson', 1): 3, ('alli', 0): 1, ('court', 0): 1, ('dma', 0): 1, ('zongzi', 0): 1, ('denis', 1): 1, ('subhana', 0): 1, ('allah', 0): 1, ('goos', 1): 1, ('tonic', 1): 1, ('intel', 1): 1, ('impact', 1): 1, ('dual', 1): 1, ('vs', 1): 2, ('latter', 1): 1, ('sumptuous', 1): 1, ('rub', 0): 3, ('enna', 0): 1, ('kodumai', 0): 1, ('sir', 0): 1, ('idhu', 0): 1, ('virgin', 1): 2, ('deni', 0): 3, ('lnd', 0): 1, ('feud', 1): 1, ('kardashian', 1): 3, ('overstress', 0): 1, ('have', 1): 1, ('rs', 1): 2, ('yesterdayi', 1): 1, ('quotess', 1): 1, ('tisdal', 1): 1, ('oberhausen', 1): 1, ('shelv', 1): 1, ('deaf', 0): 1, ('eas', 1): 1, ('alyson', 1): 1, ('batch', 0): 1, ('ermm', 1): 1, ('mamabear', 1): 1, ('nurburgr', 1): 1, ('irat', 0): 1, ('caller', 0): 1, ('sisa', 1): 1, ('booziest', 1): 1, ('constraint', 1): 1, ('meadow', 1): 1, ('littrel', 1): 1, ('rigth', 1): 1, ('loev', 1): 1, ('cano', 0): 1, ('sleepnow', 0): 1, ('mistak', 1): 1, ('yummiest', 0): 1, ('pan', 0): 1, ('ipoh', 0): 1, ('leon', 0): 1, ('dryer', 1): 1, ('slipper', 1): 1, ('lala', 1): 1, ('deland', 0): 1, ('ayanna', 1): 1, ('elev', 1): 1, ('moommi', 1): 1, ('somn', 1): 1, ('zealand', 0): 1, ('alreadt', 0): 1, ('ze', 0): 1, ('franz', 0): 1, ('sommat', 0): 1, ('siitter', 0): 1, ('val', 0): 1, ('cornbread', 0): 1, ('ecxept', 1): 1, ('decthembberr', 1): 1, ('congratss', 1): 2, ('midnit', 1): 1, ('dangg', 1): 1, ('jumpi', 1): 1, ('locker', 0): 2, ('usf', 0): 1, ('koret', 0): 1, ('nostalgia', 0): 1, ('tushar', 0): 1, ('twitpic', 0): 4, ('lula', 0): 1, ('vienna', 1): 1, ('austria', 1): 1, ('calmer', 1): 1, ('gaga', 0): 1, ('blackout', 0): 1, ('iv', 0): 2, ('sicker', 0): 3, ('envious', 0): 1, ('mushi', 0): 2, ('dug', 0): 1, ('backyard', 0): 2, ('iwa', 0): 2, ('closin', 0): 1, ('ephraim', 0): 1, ('zenh', 0): 1, ('repres', 0): 1, ('boom', 1): 2, ('cairn', 1): 1, ('clan', 1): 1, ('jae', 1): 1, ('potus', 1): 1, ('folo', 1): 1, ('nomin', 1): 1, ('pos', 1): 2, ('warmfuzzi', 1): 1, ('medal', 0): 1, ('onn', 1): 1, ('aswer', 1): 1, ('mcast', 0): 1, ('form', 0): 2, ('oatmeal', 0): 1, ('moral', 1): 1, ('certhemoni', 1): 1, ('west', 1): 3, ('twittererer', 1): 1, ('arcel', 1): 1, ('yuum', 1): 1, ('ucsd', 1): 1, ('ref', 1): 1, ('middl', 1): 4, ('spork', 1): 1, ('playground', 0): 1, ('textil', 0): 1, ('elimin', 0): 2, ('bludger', 0): 1, ('beater', 0): 1, ('tackl', 0): 1, ('danger', 0): 2, ('quidditch', 0): 1, ('airsoft', 0): 1, ('registr', 0): 1, ('booti', 1): 1, ('whys', 0): 1, ('gourmet', 0): 1, ('greasi', 0): 1, ('prepar', 0): 2, ('marshal', 0): 2, ('arabell', 0): 1, ('boofi', 1): 1, ('extens', 1): 1, ('bg', 0): 2, ('malaysia', 1): 1, ('lmfaoo', 1): 2, ('showw', 1): 1, ('ehh', 0): 1, ('carnt', 0): 1, ('bif', 1): 1, ('bulid', 1): 1, ('commit', 0): 3, ('damp', 1): 1, ('personifi', 1): 1, ('lynn', 1): 1, ('sitar', 1): 1, ('grumbl', 0): 2, ('pound', 1): 2, ('kennedi', 0): 1, ('tech', 0): 3, ('thanki', 1): 1, ('satde', 1): 1, ('denial', 1): 1, ('neutral', 1): 1, ('menac', 1): 1, ('missi', 1): 2, ('cello', 1): 1, ('bass', 1): 2, ('oll', 1): 1, ('applebe', 1): 1, ('groupchat', 1): 1, ('ymous', 1): 1, ('contrast', 1): 1, ('pushit', 0): 1, ('isi', 0): 1, ('vodafon', 1): 1, ('picturis', 1): 1, ('offlin', 0): 1, ('neic', 0): 1, ('es', 0): 1, ('impos', 0): 1, ('amar', 0): 1, ('british', 1): 1, ('anchovi', 0): 1, ('methink', 1): 3, ('mower', 0): 1, ('mediocr', 1): 1, ('four', 1): 3, ('million', 1): 1, ('contain', 1): 1, ('apprais', 0): 1, ('peer', 0): 1, ('compos', 0): 1, ('proppa', 0): 1, ('cubbi', 0): 1, ('candl', 0): 1, ('recap', 1): 2, ('sensor', 0): 1, ('warren', 0): 1, ('seriousslyy', 0): 1, ('tragidi', 0): 1, ('smartcar', 1): 1, ('nobobi', 1): 1, ('bass', 0): 1, ('palac', 0): 1, ('tripl', 1): 1, ('intermin', 0): 1, ('shuld', 1): 1, ('yu', 1): 1, ('tomoro', 1): 1, ('lara', 1): 2, ('nthemecek', 1): 1, ('keed', 1): 1, ('norm', 1): 2, ('april', 1): 1, ('cach', 1): 1, ('mart', 1): 1, ('revolut', 1): 1, ('nako', 1): 1, ('umuulan', 1): 1, ('naman', 1): 1, ('grandmoth', 0): 3, ('locket', 0): 1, ('hiya', 0): 2, ('chares', 1): 1, ('pervert', 0): 1, ('fhnixon', 1): 1, ('blend', 0): 3, ('harm', 0): 3, ('chapel', 1): 1, ('carolina', 1): 2, ('sy', 1): 1, ('per', 0): 2, ('fieldnot', 0): 2, ('stephen', 1): 1, ('palm', 0): 2, ('spring', 0): 2, ('ca', 0): 2, ('channel', 1): 2, ('glu', 1): 1, ('swedish', 1): 2, ('beasti', 1): 1, ('phaser', 1): 1, ('jakki', 1): 1, ('walmart', 1): 1, ('amritsar', 1): 1, ('wholesal', 1): 1, ('yuupp', 1): 1, ('ryanseacrest', 0): 1, ('goal', 0): 2, ('gila', 0): 1, ('milan', 0): 1, ('dillthemat', 0): 1, ('handwrap', 0): 1, ('wrap', 0): 3, ('stronger', 0): 1, ('defo', 0): 2, ('sod', 1): 1, ('revel', 0): 1, ('rockstar', 1): 2, ('unhook', 1): 1, ('pt', 1): 1, ('boohoohoo', 0): 1, ('krystl', 1): 1, ('poo', 1): 1, ('kakabalik', 1): 1, ('tarlac', 1): 1, ('afti', 1): 1, ('fals', 0): 1, ('confid', 1): 1, ('trait', 1): 1, ('applaud', 1): 2, ('holland', 1): 3, ('shoppin', 1): 2, ('mare', 1): 1, ('lurve', 1): 1, ('apologis', 0): 2, ('decci', 0): 1, ('twitterena', 1): 1, ('pitcher', 1): 1, ('catcher', 1): 1, ('racoon', 0): 3, ('omd', 1): 1, ('januari', 0): 2, ('sfo', 0): 1, ('cheaper', 0): 1, ('biz', 0): 1, ('boobag', 0): 1, ('sherri', 1): 1, ('tatter', 0): 1, ('photobucket', 0): 1, ('disprov', 0): 1, ('notori', 1): 1, ('parallel', 0): 1, ('plurk', 1): 1, ('circus', 0): 2, ('dap', 1): 1, ('barbecu', 1): 1, ('conduc', 1): 1, ('frame', 1): 2, ('cole', 0): 1, ('thees', 0): 1, ('jockey', 1): 1, ('clydesdal', 1): 1, ('romanc', 0): 1, ('bahah', 0): 1, ('vol', 0): 1, ('desert', 0): 1, ('absolutley', 1): 1, ('trian', 1): 1, ('seven', 1): 1, ('thirti', 1): 1, ('wink', 0): 1, ('lancey', 1): 1, ('challeng', 0): 2, ('dougi', 0): 2, ('superglu', 0): 1, ('travesti', 0): 1, ('shawti', 1): 1, ('ooww', 1): 1, ('iz', 0): 1, ('immatur', 0): 1, ('widescreen', 1): 1, ('rotat', 1): 1, ('nutella', 1): 1, ('quesadilla', 1): 1, ('quesadiaa', 1): 1, ('bombb', 1): 1, ('belov', 0): 1, ('sox', 0): 1, ('mktg', 0): 1, ('wondefl', 1): 1, ('wkend', 1): 1, ('kat', 0): 2, ('gm', 1): 2, ('cent', 1): 1, ('pjs', 0): 2, ('pmsl', 0): 1, ('lmfaoo', 0): 1, ('valk', 1): 1, ('troll', 0): 1, ('tcot', 0): 2, ('schtheme', 0): 1, ('acadthem', 0): 2, ('itthem', 1): 2, ('tax', 1): 2, ('blogher', 1): 1, ('zoo', 1): 2, ('romant', 1): 3, ('privaci', 1): 1, ('potus', 0): 1, ('saddo', 0): 2, ('harri', 0): 1, ('potter', 0): 1, ('gryffindor', 0): 1, ('straggler', 0): 1, ('mpp', 0): 1, ('teetotal', 0): 1, ('waupoo', 0): 1, ('hyd', 0): 1, ('theka', 0): 1, ('firework', 1): 1, ('laughter', 1): 3, ('westend', 1): 1, ('throwback', 0): 1, ('pepsi', 0): 1, ('dew', 0): 1, ('tthempt', 1): 2, ('nvm', 1): 2, ('klutz', 1): 1, ('fare', 1): 1, ('twenti', 1): 2, ('muslim', 1): 1, ('marriag', 1): 1, ('briyani', 1): 1, ('placebo', 0): 1, ('tori', 0): 1, ('amo', 0): 1, ('distribut', 0): 1, ('justa', 1): 1, ('realiti', 1): 5, ('gosforth', 1): 1, ('antoni', 1): 1, ('victor', 0): 1, ('lik', 1): 1, ('throughout', 1): 1, ('watt', 1): 2, ('chingo', 1): 1, ('bling', 1): 1, ('chile', 1): 1, ('bgeezi', 1): 1, ('cheesi', 0): 2, ('disco', 0): 1, ('nowher', 1): 2, ('knacker', 1): 1, ('chris', 1): 4, ('blind', 0): 4, ('faith', 0): 2, ('knit', 0): 1, ('lopez', 1): 1, ('eachoth', 0): 1, ('flywithmeobsess', 0): 1, ('breed', 0): 1, ('opportinist', 0): 1, ('bevvi', 1): 1, ('hundreth', 1): 1, ('fuss', 1): 1, ('bionomi', 0): 1, ('mattew', 1): 1, ('mcconaughey', 1): 1, ('smexi', 1): 1, ('cap', 1): 2, ('envi', 1): 1, ('fr', 1): 1, ('congratulatori', 1): 1, ('gweetin', 1): 1, ('murk', 1): 1, ('scanner', 0): 1, ('html', 1): 2, ('wordpress', 1): 1, ('celebxxvidsyh', 1): 1, ('aybygw', 1): 1, ('cantt', 0): 2, ('amongst', 0): 1, ('lovesick', 0): 1, ('fume', 0): 1, ('purchas', 0): 1, ('weightless', 1): 1, ('prettifid', 1): 1, ('clair', 0): 1, ('king', 0): 1, ('bounti', 0): 1, ('vampyr', 0): 1, ('comix', 0): 1, ('donload', 0): 1, ('liber', 0): 1, ('misconstru', 0): 1, ('bibl', 0): 2, ('crucifict', 0): 1, ('abstract', 0): 1, ('luff', 1): 4, ('yoo', 1): 1, ('plm', 0): 1, ('maan', 1): 1, ('infront', 0): 1, ('yearbook', 0): 3, ('hre', 1): 1, ('wht', 1): 2, ('butch', 1): 1, ('tdi', 1): 1, ('etown', 1): 1, ('fieldwork', 0): 1, ('databook', 0): 1, ('sloanster', 0): 1, ('manhattan', 0): 1, ('mikesh', 1): 1, ('oi', 0): 1, ('kc', 1): 1, ('seaworld', 0): 1, ('tommrow', 0): 1, ('artwork', 0): 1, ('shin', 0): 2, ('ae', 0): 1, ('funnili', 1): 1, ('roland', 1): 1, ('coursework', 1): 1, ('ftl', 0): 1, ('appetit', 0): 1, ('hindi', 0): 1, ('buffet', 0): 1, ('gluttoni', 0): 1, ('propos', 0): 1, ('comic', 0): 2, ('longest', 0): 1, ('triangl', 0): 1, ('outag', 0): 1, ('prop', 0): 2, ('slippi', 0): 1, ('phat', 0): 2, ('applebottom', 0): 1, ('fubu', 0): 1, ('fuschia', 1): 1, ('sheath', 1): 1, ('tres', 1): 1, ('chic', 1): 1, ('sweden', 0): 1, ('cred', 1): 1, ('sinfest', 1): 1, ('mcfli', 0): 1, ('masson', 1): 1, ('handi', 1): 3, ('algebra', 0): 1, ('quaterfin', 1): 1, ('penalti', 1): 1, ('thorw', 1): 1, ('varsiti', 1): 1, ('fanclub', 1): 1, ('va', 1): 1, ('odour', 0): 1, ('rwhat', 0): 1, ('sytycd', 0): 1, ('reaction', 0): 1, ('chosen', 1): 2, ('dodg', 1): 1, ('nutella', 0): 1, ('evangel', 1): 1, ('likewis', 0): 2, ('gtalk', 0): 1, ('moomi', 1): 1, ('pandora', 1): 1, ('medicin', 0): 3, ('goer', 0): 1, ('speakeasi', 0): 1, ('ical', 0): 1, ('biligu', 0): 1, ('sweatshop', 0): 1, ('novi', 0): 1, ('portland', 0): 1, ('distanc', 0): 1, ('burbank', 0): 1, ('headahc', 0): 1, ('babylov', 1): 1, ('homenagthem', 1): 1, ('ao', 1): 1, ('doughnut', 1): 1, ('nnaa', 0): 1, ('playah', 0): 1, ('shawti', 0): 1, ('nun', 0): 1, ('niec', 1): 2, ('corey', 1): 1, ('jc', 0): 1, ('obess', 1): 1, ('evp', 1): 1, ('sherbert', 1): 1, ('nutriti', 1): 1, ('estonia', 1): 1, ('trainer', 1): 1, ('olymp', 1): 1, ('underdog', 1): 1, ('crap', 1): 2, ('runner', 1): 2, ('fizz', 0): 1, ('zip', 0): 1, ('courney', 0): 1, ('cox', 0): 1, ('tomo', 1): 2, ('tavar', 1): 1, ('hve', 1): 1, ('bark', 0): 1, ('avatar', 0): 2, ('opt', 0): 1, ('assault', 0): 1, ('hide', 0): 1, ('nadia', 1): 1, ('caramel', 1): 2, ('aapko', 1): 1, ('sehat', 1): 1, ('particip', 0): 1, ('carless', 0): 1, ('spi', 0): 1, ('princess', 0): 1, ('ann', 0): 1, ('listent', 0): 1, ('heell', 0): 1, ('sorti', 0): 1, ('effect', 0): 2, ('coincid', 0): 1, ('blu', 1): 1, ('titti', 1): 1, ('disloc', 0): 2, ('minna', 0): 1, ('wallet', 0): 4, ('breakout', 1): 1, ('regga', 1): 2, ('octo', 0): 1, ('hive', 0): 1, ('tame', 0): 1, ('rex', 0): 1, ('nanna', 0): 1, ('caww', 1): 1, ('lifesav', 1): 2, ('scale', 0): 1, ('crop', 0): 2, ('sarci', 0): 1, ('jerri', 1): 1, ('inventori', 1): 1, ('highschool', 1): 1, ('grub', 0): 1, ('lmaaoo', 0): 1, ('donni', 0): 1, ('tone', 1): 1, ('dealz', 1): 1, ('pirat', 0): 2, ('shermk', 0): 1, ('skit', 1): 2, ('qik', 1): 1, ('newsroom', 1): 1, ('redskin', 1): 1, ('jansen', 1): 1, ('bruis', 1): 1, ('fiinaallyy', 1): 1, ('speed', 1): 3, ('torenti', 1): 1, ('tue', 1): 2, ('niighht', 1): 1, ('amazz', 1): 1, ('worddss', 1): 1, ('jog', 1): 2, ('daisi', 0): 2, ('gunna', 1): 2, ('gl', 1): 1, ('veoh', 0): 1, ('pearlyn', 1): 1, ('svc', 1): 1, ('michell', 0): 1, ('creatur', 1): 1, ('rochest', 1): 1, ('hog', 1): 1, ('kany', 0): 1, ('west', 0): 2, ('jor', 1): 1, ('hairr', 0): 1, ('seduct', 0): 1, ('sprawl', 0): 1, ('bloke', 0): 1, ('bonnet', 0): 1, ('shocker', 0): 1, ('april', 0): 1, ('auto', 0): 3, ('taser', 0): 1, ('penalti', 0): 1, ('kubuntu', 0): 1, ('yukki', 0): 1, ('tidi', 0): 1, ('surfac', 0): 1, ('underneath', 0): 1, ('beaver', 0): 1, ('pelt', 0): 1, ('awesoom', 1): 1, ('wreck', 1): 1, ('dentent', 0): 1, ('cassidi', 0): 1, ('linkedin', 1): 1, ('ybwm', 1): 1, ('over', 0): 1, ('mi', 0): 3, ('casa', 0): 1, ('pipe', 1): 1, ('reliabl', 1): 1, ('hardcor', 0): 1, ('askin', 0): 1, ('titof', 1): 1, ('polic', 1): 2, ('sweeni', 1): 2, ('todd', 1): 4, ('deadset', 1): 1, ('snuggi', 1): 1, ('scruffi', 1): 1, ('nerfherd', 1): 1, ('leak', 1): 1, ('appartth', 1): 1, ('snail', 0): 1, ('forbidden', 0): 1, ('munch', 0): 1, ('fukin', 0): 1, ('applic', 0): 1, ('tent', 1): 1, ('wingman', 1): 1, ('mayfield', 0): 1, ('unknown', 0): 1, ('yacht', 1): 1, ('convent', 1): 1, ('upset', 1): 1, ('julio', 0): 1, ('youstinkatrespondingtotext', 0): 1, ('advert', 0): 1, ('kobold', 0): 1, ('caroo', 1): 1, ('ama', 1): 2, ('buena', 1): 1, ('judd', 1): 1, ('frog', 0): 2, ('disect', 0): 1, ('riley', 1): 2, ('alphabet', 1): 1, ('unseed', 0): 1, ('trap', 1): 1, ('tamlyn', 1): 1, ('chiangmai', 1): 1, ('loy', 1): 1, ('krathong', 1): 1, ('ova', 1): 1, ('weclom', 1): 1, ('canadamigo', 1): 1, ('peaki', 0): 1, ('candl', 1): 1, ('wax', 1): 1, ('woul', 0): 1, ('hale', 1): 1, ('grieco', 1): 1, ('dart', 1): 1, ('tweetz', 1): 1, ('pressur', 0): 2, ('carniv', 0): 1, ('audi', 1): 1, ('joburg', 1): 1, ('lanki', 1): 1, ('budden', 1): 1, ('treek', 1): 1, ('dahl', 1): 1, ('minus', 1): 1, ('garlic', 0): 1, ('void', 0): 2, ('union', 0): 2, ('trend', 0): 2, ('primatech', 0): 1, ('whaattaatt', 1): 1, ('sierra', 1): 1, ('grr', 1): 3, ('naplan', 1): 1, ('commerc', 1): 1, ('geo', 1): 1, ('hallmark', 0): 1, ('nyeh', 0): 1, ('wattch', 0): 1, ('rubbishh', 0): 1, ('sheesh', 0): 2, ('indonesia', 1): 1, ('pitt', 0): 1, ('bitter', 0): 1, ('roni', 0): 1, ('djing', 0): 1, ('genr', 1): 1, ('essay', 1): 1, ('measur', 1): 1, ('refund', 1): 2, ('tthemptat', 0): 1, ('mysefl', 0): 1, ('stumbl', 0): 1, ('deathfic', 0): 1, ('oldest', 1): 1, ('spencer', 1): 1, ('rabi', 1): 1, ('getcha', 0): 1, ('dunham', 0): 1, ('flatten', 1): 1, ('injuri', 1): 1, ('louis', 1): 1, ('ballet', 1): 1, ('quitsmokingdiari', 1): 1, ('reloc', 0): 1, ('boardi', 1): 1, ('acoust', 1): 1, ('phenomen', 1): 2, ('masculin', 1): 3, ('outa', 0): 1, ('queer', 0): 1, ('partyy', 0): 1, ('keypad', 0): 1, ('duud', 1): 1, ('cakin', 0): 1, ('goodgirl', 1): 1, ('rainini', 0): 1, ('lier', 0): 1, ('moorre', 1): 1, ('buut', 1): 1, ('yhaw', 1): 1, ('profession', 0): 1, ('centr', 0): 3, ('bellshil', 0): 1, ('bothwel', 0): 1, ('tunnock', 0): 1, ('yeeww', 1): 1, ('pug', 0): 1, ('chequ', 0): 1, ('redesign', 1): 2, ('bris', 0): 1, ('typic', 1): 3, ('fragranc', 1): 1, ('chamomil', 1): 1, ('adjust', 0): 1, ('sunner', 0): 1, ('convert', 1): 3, ('armin', 1): 1, ('puff', 1): 2, ('structur', 1): 1, ('springfield', 1): 1, ('expens', 1): 2, ('marki', 1): 1, ('juno', 1): 1, ('belinda', 1): 1, ('jensen', 1): 1, ('florida', 1): 1, ('trial', 1): 2, ('screech', 1): 1, ('halt', 1): 1, ('trebl', 1): 1, ('cone', 1): 1, ('stronger', 1): 2, ('rocket', 1): 2, ('uninterest', 0): 1, ('axkit', 0): 1, ('ubuntu', 0): 1, ('explod', 0): 2, ('portugues', 0): 2, ('loopi', 0): 1, ('nola', 1): 1, ('beignet', 1): 1, ('jailbroken', 0): 1, ('brick', 0): 1, ('thick', 0): 1, ('chik', 0): 1, ('hawt', 1): 1, ('rees', 1): 2, ('melt', 1): 3, ('leeuwarden', 0): 1, ('amadou', 1): 1, ('miriam', 1): 1, ('valu', 1): 3, ('whisper', 0): 2, ('moneyi', 0): 1, ('polish', 0): 1, ('dampen', 1): 2, ('hoodi', 0): 1, ('downsid', 1): 2, ('tdl', 1): 1, ('hte', 0): 1, ('aggress', 0): 2, ('behaviour', 0): 1, ('clubber', 0): 1, ('uup', 0): 1, ('differnt', 0): 1, ('husker', 0): 1, ('glitch', 1): 1, ('bh', 1): 1, ('menfolk', 1): 1, ('wrath', 1): 1, ('con', 1): 2, ('ri', 0): 1, ('peter', 1): 2, ('pan', 1): 1, ('wendi', 1): 1, ('vermont', 0): 1, ('skye', 1): 1, ('dailybooth', 0): 1, ('canadian', 1): 1, ('trilog', 0): 2, ('tthempt', 0): 1, ('kraut', 0): 1, ('author', 0): 2, ('tuck', 0): 2, ('bob', 0): 1, ('lanci', 0): 1, ('leonard', 0): 1, ('nimoy', 0): 1, ('toldd', 0): 1, ('newbi', 1): 1, ('lumpia', 1): 1, ('pancit', 1): 1, ('fridg', 1): 2, ('likewis', 1): 1, ('glamor', 1): 1, ('sleev', 0): 1, ('roflmao', 1): 2, ('bonfir', 1): 1, ('ftsk', 1): 1, ('merced', 1): 1, ('sthemest', 1): 1, ('divorc', 0): 1, ('sender', 0): 1, ('facebeek', 0): 1, ('ami', 0): 1, ('goddam', 0): 1, ('arizona', 0): 3, ('redwood', 0): 1, ('farewel', 1): 1, ('mann', 1): 1, ('skyrocket', 1): 1, ('aafternoon', 1): 1, ('harlow', 1): 1, ('offens', 0): 1, ('tin', 0): 1, ('alison', 1): 1, ('barack', 1): 1, ('speach', 1): 1, ('fulli', 1): 2, ('defeat', 1): 1, ('flue', 1): 1, ('swineflu', 1): 1, ('browni', 0): 2, ('closest', 0): 1, ('throo', 0): 1, ('restaur', 0): 2, ('jp', 0): 1, ('canuck', 1): 2, ('vanciti', 1): 1, ('hockey', 1): 1, ('birth', 1): 2, ('airbrush', 1): 1, ('overkil', 1): 1, ('loser', 1): 2, ('chav', 0): 2, ('bigfanfriday', 0): 1, ('stood', 0): 2, ('spineless', 0): 1, ('thngs', 0): 1, ('blogrol', 1): 1, ('terribl', 1): 1, ('redo', 1): 1, ('mii', 0): 2, ('yogg', 0): 1, ('kirin', 1): 1, ('metamorph', 1): 1, ('unsubscrib', 1): 1, ('rthemeb', 1): 1, ('allyson', 1): 1, ('lnger', 1): 1, ('fxxmylif', 0): 1, ('karaok', 0): 2, ('lawn', 1): 2, ('moor', 1): 1, ('angela', 1): 1, ('pleasur', 0): 1, ('zoe', 1): 2, ('vampir', 1): 1, ('someplac', 0): 2, ('tropic', 0): 1, ('align', 1): 1, ('sensit', 1): 2, ('busiest', 1): 1, ('kwanghock', 0): 1, ('hao', 0): 1, ('za', 0): 1, ('ji', 0): 1, ('fucckingg', 0): 1, ('cakss', 0): 1, ('ideal', 0): 1, ('wing', 1): 1, ('hust', 1): 1, ('funtim', 1): 1, ('unfortuantley', 0): 1, ('hank', 0): 1, ('aiaahh', 0): 1, ('gloomi', 1): 1, ('ronaldo', 1): 1, ('derbi', 1): 1, ('averag', 1): 1, ('swift', 0): 1, ('stripe', 0): 1, ('compromis', 1): 2, ('sail', 1): 1, ('ccof', 1): 1, ('newli', 1): 1, ('plural', 1): 1, ('enthusiasm', 0): 1, ('tanghal', 1): 1, ('tapat', 1): 1, ('altho', 0): 1, ('ofc', 0): 1, ('genuin', 0): 1, ('nuthin', 0): 1, ('fo', 0): 1, ('shizzl', 0): 1, ('pisay', 0): 1, ('wellz', 0): 1, ('blame', 1): 1, ('magix', 1): 1, ('rhythm', 1): 1, ('firday', 0): 1, ('houstatlantavega', 1): 1, ('novemb', 1): 1, ('heavenn', 1): 1, ('pastim', 1): 1, ('drep', 1): 1, ('twitterr', 0): 1, ('chan', 1): 1, ('gue', 1): 1, ('kmrn', 1): 1, ('bawa', 1): 1, ('kosong', 1): 1, ('realz', 1): 1, ('doll', 1): 2, ('boredboot', 0): 1, ('ish', 0): 1, ('ahol', 0): 1, ('overturn', 0): 1, ('tot', 0): 1, ('drain', 1): 1, ('mash', 0): 1, ('buffalo', 0): 2, ('silly', 0): 1, ('tys', 1): 1, ('uncontrol', 1): 1, ('unair', 1): 1, ('chatroom', 0): 1, ('legaci', 1): 1, ('combo', 1): 1, ('sicko', 0): 1, ('digust', 0): 1, ('beshi', 0): 1, ('bball', 0): 1, ('newcastl', 0): 1, ('nontweetinggirlfriend', 0): 1, ('sue', 0): 1, ('retir', 0): 1, ('multipl', 1): 2, ('smelt', 0): 1, ('impal', 1): 1, ('ewan', 1): 1, ('mcgregor', 1): 1, ('vent', 0): 1, ('yeaa', 1): 1, ('smartier', 1): 1, ('dork', 1): 2, ('unfortunatley', 0): 1, ('novel', 0): 1, ('moonlight', 0): 1, ('jaunti', 0): 1, ('eprocurth', 0): 1, ('blacklist', 0): 1, ('whitelist', 0): 1, ('kuantan', 1): 1, ('hong', 1): 1, ('kong', 1): 1, ('chewbacca', 1): 1, ('leung', 1): 1, ('skylight', 0): 1, ('eventho', 1): 1, ('winchest', 0): 1, ('flirt', 1): 1, ('underworld', 1): 1, ('jolt', 0): 1, ('whitsun', 0): 1, ('deeseart', 0): 1, ('nitenit', 1): 1, ('uhh', 1): 2, ('liverpoold', 1): 1, ('museum', 1): 1, ('entranc', 1): 1, ('zipcod', 1): 1, ('atom', 0): 2, ('flavor', 0): 1, ('jamba', 1): 1, ('explod', 1): 1, ('whataday', 0): 1, ('yeeah', 1): 1, ('espesh', 1): 1, ('toothpast', 1): 1, ('kapsel', 0): 1, ('dy', 0): 2, ('nuli', 0): 1, ('spertinya', 0): 1, ('gw', 0): 1, ('ditag', 0): 1, ('ada', 0): 1, ('notificationnya', 0): 1, ('huhu', 0): 1, ('lmk', 1): 1, ('loonngg', 0): 1, ('basketbal', 0): 1, ('zz', 0): 1, ('bucher', 0): 1, ('tragedi', 1): 1, ('influenc', 1): 1, ('platform', 0): 1, ('yezzir', 1): 1, ('kool', 1): 1, ('inform', 1): 1, ('trump', 0): 1, ('wh', 1): 1, ('correspond', 1): 2, ('wanda', 1): 2, ('thermomet', 0): 1, ('keshia', 1): 2, ('bo', 1): 1, ('beshia', 1): 1, ('hairstyl', 1): 1, ('buttfuck', 0): 1, ('deanna', 1): 1, ('yale', 0): 1, ('label', 0): 2, ('needi', 0): 1, ('aunti', 1): 1, ('denomin', 0): 1, ('squirrellist', 0): 1, ('sliver', 0): 1, ('yeayi', 1): 2, ('watermelon', 0): 1, ('stamina', 1): 1, ('ninja', 1): 1, ('cramp', 1): 1, ('iplay', 1): 2, ('belgium', 0): 1, ('lg', 0): 1, ('touchscreen', 0): 1, ('shite', 0): 2, ('egh', 0): 1, ('thanxx', 1): 2, ('flippin', 1): 1, ('sme', 0): 1, ('anoy', 0): 1, ('leftov', 1): 1, ('pedicur', 0): 1, ('airlin', 0): 1, ('wrestlefest', 1): 1, ('brooklyn', 0): 1, ('friendss', 1): 1, ('winwood', 1): 1, ('eric', 1): 1, ('clapton', 1): 1, ('journal', 0): 1, ('zit', 0): 1, ('herp', 0): 1, ('putt', 0): 1, ('stretch', 1): 1, ('liquid', 0): 1, ('greeat', 1): 2, ('surpis', 0): 1, ('popular', 0): 2, ('option', 0): 2, ('diner', 0): 1, ('platinum', 1): 1, ('earpiec', 0): 1, ('maven', 1): 1, ('matine', 0): 2, ('boiler', 0): 1, ('knighti', 1): 1, ('knight', 1): 1, ('ezin', 1): 1, ('evan', 1): 1, ('pierc', 0): 2, ('bottom', 0): 2, ('whuurr', 0): 1, ('stuffier', 0): 2, ('inspit', 1): 1, ('twittergadget', 1): 1, ('nat', 1): 1, ('wth', 0): 1, ('mvp', 1): 1, ('coffeeclub', 0): 1, ('zotz', 0): 1, ('stevi', 0): 1, ('steviewond', 0): 1, ('dre', 1): 1, ('bailey', 1): 2, ('plumber', 1): 1, ('calgon', 1): 1, ('maitu', 1): 1, ('tablespot', 1): 1, ('truetru', 1): 1, ('tripl', 0): 1, ('clutter', 0): 1, ('twitterspher', 0): 1, ('deari', 1): 1, ('dome', 1): 1, ('err', 0): 1, ('rearri', 0): 1, ('youd', 0): 1, ('barcelona', 1): 1, ('muahh', 1): 1, ('humbug', 0): 1, ('prissi', 1): 1, ('shant', 1): 1, ('smith', 1): 2, ('suitcas', 0): 1, ('indecic', 0): 1, ('fack', 0): 2, ('teletubbi', 0): 1, ('log', 1): 1, ('breakdown', 0): 1, ('lammi', 1): 1, ('sherman', 1): 1, ('slowest', 0): 1, ('ahahahaha', 1): 1, ('liee', 1): 1, ('pattinson', 1): 1, ('unfortunatelli', 0): 1, ('norway', 0): 1, ('therefor', 0): 1, ('wahey', 1): 1, ('adapt', 0): 2, ('cage', 0): 1, ('sank', 0): 1, ('separ', 1): 1, ('coincid', 1): 1, ('barnsley', 1): 1, ('sabrina', 1): 1, ('witch', 1): 1, ('accord', 1): 3, ('stat', 1): 1, ('mickeyd', 1): 1, ('eggmcmuffin', 1): 1, ('mcyum', 1): 1, ('hadnt', 0): 2, ('dez', 1): 1, ('moin', 1): 1, ('tdwp', 1): 1, ('tacoma', 0): 1, ('kgw', 0): 1, ('washer', 0): 1, ('electr', 0): 2, ('gril', 1): 1, ('hitrecord', 1): 1, ('vivid', 1): 1, ('rawk', 1): 1, ('cheeseburg', 0): 1, ('shallow', 0): 1, ('airi', 0): 1, ('elora', 0): 1, ('danan', 0): 1, ('nsw', 0): 1, ('melb', 0): 1, ('mankind', 1): 1, ('flashi', 1): 1, ('cheeto', 1): 1, ('wider', 0): 1, ('robinson', 0): 1, ('tyler', 0): 1, ('wfm', 0): 1, ('lex', 0): 1, ('colton', 1): 1, ('hacker', 1): 1, ('kenni', 0): 2, ('todat', 0): 1, ('cooloorss', 1): 1, ('composit', 1): 1, ('scribkin', 1): 1, ('mumborg', 1): 1, ('direct', 1): 5, ('ceas', 1): 1, ('sleeper', 1): 1, ('valeri', 1): 1, ('yehey', 1): 1, ('exciteedd', 1): 1, ('balm', 1): 1, ('stake', 1): 1, ('refil', 0): 1, ('resto', 0): 1, ('dayuumm', 0): 1, ('everton', 1): 2, ('liverpool', 1): 1, ('nepal', 1): 1, ('declar', 1): 1, ('resign', 1): 3, ('champ', 0): 1, ('otherinbox', 1): 1, ('outlook', 1): 2, ('lalaland', 1): 1, ('coca', 1): 1, ('fructos', 1): 1, ('cause', 0): 2, ('hairdress', 1): 1, ('stylish', 1): 1, ('luncheon', 1): 1, ('sami', 0): 1, ('dnd', 0): 1, ('maintain', 1): 1, ('cork', 1): 1, ('cheeseburglar', 0): 1, ('kella', 0): 1, ('echo', 1): 1, ('gorilla', 1): 1, ('lahor', 0): 1, ('tikka', 0): 1, ('goodknight', 1): 1, ('blip', 1): 2, ('isp', 1): 2, ('gather', 1): 1, ('arosh', 1): 1, ('haair', 1): 1, ('defianc', 1): 1, ('anxious', 1): 1, ('grench', 0): 1, ('thatss', 0): 1, ('therebi', 1): 1, ('joshi', 1): 1, ('tafe', 1): 1, ('isla', 1): 1, ('glove', 0): 1, ('angela', 0): 1, ('fuji', 0): 1, ('kwento', 0): 1, ('skoo', 0): 1, ('wacom', 1): 1, ('sampl', 1): 1, ('cupcakey', 1): 1, ('candi', 0): 1, ('ed', 0): 2, ('cabo', 1): 1, ('goonight', 1): 1, ('pistol', 1): 1, ('agent', 1): 2, ('aaron', 1): 1, ('darn', 1): 1, ('neighborhood', 1): 2, ('bumf', 1): 1, ('foam', 1): 1, ('co', 0): 1, ('overcast', 1): 1, ('critic', 0): 2, ('constitut', 0): 1, ('leonard', 1): 2, ('cohen', 1): 1, ('xfactor', 1): 1, ('nag', 1): 1, ('lm', 1): 1, ('thrill', 0): 2, ('noseble', 0): 1, ('overjoy', 0): 1, ('georg', 0): 1, ('carlin', 0): 1, ('mutitask', 1): 1, ('elthement', 0): 1, ('cigg', 0): 1, ('buis', 0): 1, ('beddi', 0): 1, ('ilycecili', 1): 1, ('melodi', 1): 2, ('vit', 1): 1, ('musashi', 1): 1, ('kitaro', 1): 1, ('admit', 0): 2, ('exploit', 0): 1, ('vocab', 0): 1, ('pku', 0): 2, ('pkuer', 0): 1, ('leukthemia', 0): 1, ('graphic', 0): 1, ('freelanc', 0): 1, ('stud', 1): 1, ('deodor', 0): 1, ('funk', 0): 1, ('percentag', 1): 1, ('pressur', 1): 1, ('sista', 0): 1, ('deb', 0): 2, ('wendi', 0): 1, ('sunda', 0): 2, ('materi', 0): 1, ('chef', 1): 1, ('chez', 1): 1, ('afterjun', 0): 1, ('overs', 1): 1, ('inc', 1): 1, ('skomer', 1): 1, ('conni', 0): 1, ('carla', 0): 1, ('jip', 1): 1, ('scam', 0): 1, ('pot', 0): 2, ('peanut', 0): 2, ('galleri', 0): 1, ('sal', 1): 1, ('whooaa', 1): 1, ('overwheolm', 1): 1, ('itus', 1): 1, ('firewal', 1): 1, ('config', 1): 2, ('snowbear', 1): 1, ('che', 1): 1, ('warren', 1): 1, ('lott', 1): 2, ('softbal', 1): 1, ('mv', 1): 1, ('lisa', 0): 1, ('jah', 1): 1, ('sack', 0): 2, ('receipt', 0): 1, ('bitten', 0): 2, ('smoothstream', 0): 1, ('linux', 0): 1, ('kilometr', 0): 1, ('wereld', 1): 1, ('prego', 1): 1, ('tht', 0): 1, ('bitchi', 0): 1, ('ninth', 0): 1, ('blerrgh', 0): 1, ('lthemsip', 0): 1, ('horni', 0): 1, ('chester', 1): 1, ('bennington', 1): 1, ('bradd', 0): 1, ('terrif', 0): 1, ('font', 0): 1, ('solut', 0): 1, ('badmicrosoft', 0): 1, ('beastypop', 0): 1, ('haywir', 0): 1, ('debussi', 1): 1, ('explor', 1): 4, ('becuz', 0): 1, ('srtart', 0): 1, ('conf', 0): 2, ('habbo', 0): 1, ('ban', 0): 2, ('coolio', 1): 1, ('mortgag', 0): 1, ('spinach', 1): 1, ('megan', 1): 1, ('grant', 0): 1, ('tritonlink', 0): 1, ('minist', 1): 1, ('thempathi', 1): 1, ('judg', 1): 1, ('blogtv', 1): 2, ('dia', 0): 2, ('eu', 0): 1, ('tenho', 0): 1, ('curso', 0): 1, ('drc', 0): 1, ('kayak', 1): 1, ('perv', 0): 1, ('shifter', 0): 1, ('debbi', 0): 1, ('calm', 0): 2, ('thumb', 1): 2, ('argu', 1): 1, ('eventhough', 1): 1, ('absent', 1): 2, ('ooc', 0): 2, ('warp', 1): 1, ('ankit', 1): 1, ('parlour', 1): 1, ('hokeypokeybandra', 1): 1, ('norwood', 1): 1, ('haa', 1): 1, ('underag', 0): 1, ('gin', 0): 1, ('leandro', 1): 1, ('marina', 1): 1, ('bradi', 0): 2, ('gf', 0): 2, ('uft', 1): 1, ('tutor', 1): 1, ('eighth', 1): 1, ('grader', 1): 1, ('jonathan', 1): 1, ('ahn', 1): 2, ('raphael', 1): 1, ('saadiq', 1): 1, ('jool', 1): 1, ('mummi', 1): 4, ('dte', 1): 1, ('michigan', 1): 2, ('jacket', 1): 2, ('grizzli', 1): 1, ('hellerr', 1): 1, ('followerss', 1): 1, ('tricina', 1): 1, ('uhhm', 1): 1, ('torn', 0): 2, ('ace', 0): 1, ('hunchback', 0): 1, ('bindz', 0): 1, ('schooler', 1): 1, ('gradual', 1): 1, ('ptfe', 1): 1, ('tape', 1): 1, ('moveout', 1): 1, ('vt', 1): 2, ('disast', 0): 1, ('gutwrench', 0): 1, ('portfolio', 0): 2, ('shade', 0): 4, ('rotat', 0): 1, ('somethin', 1): 1, ('chock', 1): 1, ('teddi', 1): 1, ('piper', 1): 1, ('trampolin', 1): 1, ('leeloo', 1): 1, ('somerset', 1): 1, ('joan', 1): 1, ('apprentic', 1): 1, ('rehab', 1): 1, ('tmobil', 1): 1, ('angel', 0): 1, ('flouresc', 0): 1, ('hideous', 0): 1, ('lipstick', 0): 1, ('revamp', 1): 1, ('outboard', 1): 1, ('mustach', 0): 2, ('watchingn', 0): 1, ('alia', 0): 1, ('kos', 0): 1, ('jule', 0): 1, ('steal', 0): 2, ('receipt', 1): 1, ('nonsens', 1): 1, ('honza', 0): 1, ('czech', 0): 1, ('republ', 0): 1, ('slight', 1): 2, ('tub', 1): 1, ('dancin', 1): 1, ('travelin', 1): 1, ('whuahahhaha', 1): 1, ('bram', 1): 1, ('sql', 1): 2, ('queri', 1): 1, ('ozbargain', 1): 1, ('optimis', 1): 1, ('drupal', 1): 1, ('nerdi', 1): 1, ('hump', 1): 1, ('stuffit', 1): 1, ('decod', 1): 1, ('tedx', 0): 1, ('compil', 1): 1, ('thrust', 1): 1, ('errand', 1): 1, ('kroger', 1): 1, ('robbi', 1): 1, ('shweet', 1): 1, ('willi', 0): 2, ('pout', 0): 1, ('psa', 0): 1, ('usu', 0): 1, ('bamboozl', 1): 1, ('apictur', 1): 1, ('stu', 1): 1, ('deezi', 1): 1, ('xxoxo', 1): 1, ('jobro', 1): 1, ('examin', 1): 1, ('rachmaninoff', 1): 1, ('plop', 0): 1, ('transatlant', 0): 1, ('carbon', 0): 1, ('footprint', 0): 1, ('sniff', 0): 1, ('boob', 0): 1, ('silent', 0): 1, ('method', 0): 1, ('feckin', 0): 1, ('publish', 0): 1, ('technic', 0): 1, ('encod', 0): 1, ('peak', 1): 1, ('hotspot', 1): 1, ('ludi', 1): 1, ('rug', 1): 1, ('vintag', 1): 2, ('approv', 0): 1, ('summit', 0): 1, ('tayla', 1): 1, ('refriger', 1): 1, ('egan', 1): 1, ('awsum', 1): 1, ('modesti', 1): 1, ('gal', 1): 1, ('wac', 1): 1, ('stacey', 1): 1, ('cankl', 0): 1, ('cartoon', 0): 1, ('sher', 1): 1, ('void', 1): 1, ('fiddl', 1): 1, ('pile', 1): 2, ('loogi', 1): 1, ('soak', 1): 1, ('revel', 1): 1, ('urg', 0): 1, ('feat', 1): 1, ('leighton', 1): 1, ('meester', 1): 1, ('yoouu', 0): 1, ('pepsi', 1): 1, ('smarmi', 0): 1, ('pringl', 0): 1, ('detali', 0): 1, ('gruesom', 0): 1, ('unto', 0): 1, ('gigant', 1): 1, ('dummi', 1): 1, ('milwauke', 1): 1, ('burgundi', 0): 1, ('scion', 0): 1, ('xb', 0): 1, ('minivan', 0): 1, ('shawdow', 0): 1, ('curv', 0): 1, ('agfest', 1): 1, ('pastur', 1): 1, ('lutheran', 1): 1, ('techno', 1): 1, ('gnite', 1): 1, ('harrump', 0): 1, ('gag', 0): 1, ('haiku', 1): 1, ('yuen', 1): 1, ('postur', 1): 1, ('dvr', 0): 1, ('pappadeux', 1): 1, ('nevah', 1): 1, ('bandag', 1): 1, ('csi', 1): 2, ('longg', 1): 1, ('humma', 1): 2, ('booth', 0): 1, ('vhs', 1): 2, ('span', 1): 1, ('pose', 0): 1, ('imit', 0): 1, ('nothin', 1): 1, ('ridin', 1): 1, ('cb', 1): 1, ('screamin', 1): 1, ('barbi', 0): 1, ('ken', 0): 1, ('mojito', 0): 1, ('greaatt', 1): 1, ('dubiln', 1): 1, ('intellig', 1): 1, ('refactor', 1): 1, ('rewrit', 1): 1, ('starwarsday', 1): 2, ('kitkat', 1): 1, ('thorp', 1): 1, ('commiser', 0): 1, ('nyquil', 1): 1, ('map', 1): 1, ('bak', 1): 1, ('neeww', 1): 1, ('zack', 1): 2, ('miri', 1): 1, ('porno', 1): 1, ('tennant', 0): 1, ('particular', 0): 2, ('spreadsheet', 0): 1, ('bahama', 1): 1, ('clever', 0): 1, ('tmnt', 1): 1, ('mmpr', 1): 1, ('belvoir', 1): 1, ('pentagon', 1): 1, ('togetherr', 0): 1, ('bawlingg', 0): 1, ('spite', 1): 1, ('unforgett', 1): 1, ('machin', 1): 2, ('daze', 1): 1, ('ffa', 0): 1, ('breweri', 0): 1, ('haciendo', 1): 1, ('primer', 1): 1, ('thin', 1): 1, ('rack', 1): 1, ('brazillian', 0): 1, ('thof', 0): 1, ('cure', 0): 1, ('mcskillet', 0): 1, ('postcard', 0): 1, ('heaven', 0): 1, ('handbag', 0): 1, ('acceler', 0): 1, ('hd', 0): 2, ('fullscreen', 0): 1, ('plex', 0): 1, ('bent', 0): 2, ('strand', 1): 1, ('microwav', 1): 1, ('sharpi', 0): 1, ('ink', 0): 1, ('cooraper', 0): 1, ('twing', 0): 1, ('timberfak', 1): 1, ('insist', 0): 1, ('amus', 0): 1, ('bryce', 1): 1, ('elthementari', 1): 1, ('woodstock', 0): 1, ('anniversari', 0): 2, ('interraci', 1): 1, ('gangbang', 1): 1, ('mel', 0): 2, ('hur', 0): 1, ('mucho', 1): 2, ('mina', 1): 1, ('tirith', 1): 1, ('straw', 1): 2, ('pit', 1): 1, ('edgefesst', 1): 1, ('sacrileg', 0): 1, ('rolthemodel', 1): 1, ('asylm', 0): 1, ('restless', 0): 1, ('freddi', 0): 1, ('cotch', 0): 1, ('ladyhawk', 0): 1, ('bajan', 0): 1, ('announcth', 0): 2, ('reeaalli', 0): 1, ('mofo', 1): 1, ('sidewalk', 0): 2, ('harvard', 0): 1, ('cobbleston', 0): 1, ('smoki', 1): 1, ('sshh', 0): 1, ('wack', 1): 1, ('calgari', 0): 1, ('youhh', 0): 1, ('ci', 0): 1, ('japenes', 0): 1, ('sumthinn', 0): 1, ('missess', 0): 1, ('supa', 0): 1, ('flashpoint', 0): 1, ('shoutout', 0): 1, ('segment', 0): 1, ('chevron', 0): 1, ('havnt', 1): 1, ('socialmediatv', 1): 1, ('viewabl', 1): 1, ('croissant', 1): 1, ('snowdayss', 0): 1, ('ucki', 0): 1, ('defens', 0): 1, ('vitamin', 0): 1, ('more', 0): 1, ('jenni', 1): 2, ('jelz', 0): 1, ('envolop', 0): 1, ('happyy', 1): 1, ('mothersdayi', 1): 1, ('reinstal', 1): 1, ('insanedefault', 1): 1, ('gmn', 1): 1, ('punya', 1): 1, ('lookbook', 1): 1, ('sana', 1): 1, ('matanggap', 1): 1, ('bathroom', 1): 1, ('lvoe', 1): 1, ('creppi', 0): 1, ('tenni', 1): 1, ('nar', 1): 1, ('yuppi', 1): 1, ('associ', 0): 1, ('seafood', 1): 3, ('durian', 1): 1, ('macaron', 1): 1, ('gas', 1): 1, ('htown', 1): 1, ('devel', 1): 1, ('tiim', 1): 1, ('chool', 1): 1, ('in', 0): 2, ('therapuet', 1): 1, ('isafailur', 1): 1, ('communic', 1): 1, ('zyrtec', 0): 1, ('slim', 1): 1, ('buggin', 0): 1, ('bakeri', 0): 1, ('infinit', 0): 1, ('boutiqu', 0): 1, ('scone', 0): 1, ('gale', 1): 1, ('wel', 0): 1, ('thanx', 0): 1, ('twenti', 0): 1, ('marzipan', 0): 1, ('letdown', 0): 1, ('powershel', 1): 1, ('lest', 0): 1, ('vital', 0): 1, ('auction', 0): 1, ('gotcha', 1): 1, ('fotc', 1): 1, ('sapinsidetrack', 0): 1, ('palo', 0): 1, ('alto', 0): 1, ('debug', 0): 1, ('unmut', 0): 1, ('gentlthemen', 1): 1, ('eunic', 1): 1, ('kyna', 1): 1, ('putet', 0): 1, ('menlo', 0): 1, ('foto', 1): 1, ('valentino', 1): 1, ('rossi', 1): 1, ('boot', 1): 2, ('craft', 1): 1, ('kiddshow', 1): 1, ('dislik', 0): 2, ('plate', 1): 2, ('funer', 1): 1, ('ken', 1): 1, ('wilber', 1): 1, ('realist', 1): 2, ('costco', 0): 1, ('ohww', 1): 1, ('thingsmummysaid', 1): 1, ('spotti', 0): 1, ('spot', 0): 3, ('tye', 0): 1, ('counterpart', 0): 1, ('wisconsin', 0): 1, ('corral', 0): 1, ('malamut', 1): 1, ('weight', 1): 3, ('overdo', 0): 1, ('df', 0): 1, ('convent', 0): 1, ('omegl', 1): 1, ('flame', 0): 1, ('reealli', 0): 1, ('jodi', 0): 1, ('ryme', 0): 1, ('cu', 0): 1, ('netsexor', 1): 1, ('lobster', 1): 1, ('twiggi', 1): 1, ('lane', 0): 1, ('wwork', 0): 1, ('miinnesota', 0): 1, ('hackney', 0): 1, ('blockk', 0): 1, ('oucch', 0): 1, ('headaach', 0): 1, ('litter', 0): 1, ('causin', 1): 1, ('macarena', 1): 2, ('aaiiee', 1): 1, ('squeak', 1): 1, ('exclam', 1): 1, ('ik', 0): 1, ('zthemot', 0): 1, ('domain', 0): 1, ('guest', 0): 1, ('eirtaku', 0): 1, ('itsuck', 0): 1, ('richell', 1): 1, ('mead', 1): 1, ('succubus', 1): 1, ('carrer', 1): 1, ('crazyb', 1): 1, ('medic', 1): 2, ('trish', 1): 1, ('boopboopboop', 1): 1, ('brittani', 1): 1, ('adopt', 0): 1, ('faill', 0): 1, ('trash', 1): 2, ('dh', 0): 2, ('fila', 0): 1, ('moe', 0): 1, ('spici', 0): 1, ('pero', 0): 1, ('parec', 0): 1, ('persona', 0): 1, ('estan', 0): 1, ('acuerdo', 0): 1, ('grungi', 1): 1, ('trainer', 0): 1, ('musicar', 1): 1, ('ammaz', 1): 1, ('chairman', 1): 1, ('sideway', 0): 1, ('elmwood', 0): 1, ('jks', 1): 1, ('habit', 1): 1, ('lifelock', 1): 1, ('experian', 1): 1, ('theft', 1): 1, ('oppos', 1): 1, ('sl', 1): 1, ('goodnit', 1): 2, ('twigga', 1): 2, ('ldbf', 0): 1, ('directv', 0): 1, ('ondthemand', 0): 1, ('imiss', 0): 1, ('sidebar', 1): 1, ('oowwe', 1): 1, ('wuz', 1): 1, ('poppin', 1): 1, ('lipstic', 1): 1, ('bell', 1): 2, ('tramp', 1): 1, ('warner', 1): 1, ('hailey', 0): 1, ('qmbol', 0): 1, ('seper', 1): 1, ('dryclean', 0): 1, ('snob', 1): 1, ('barton', 1): 1, ('oasi', 1): 1, ('austin', 1): 1, ('iowa', 1): 1, ('necessari', 0): 1, ('pajama', 1): 1, ('allmoth', 1): 1, ('managth', 1): 2, ('mywireless', 1): 1, ('witcha', 1): 1, ('spamspamspam', 0): 1, ('motorbik', 0): 1, ('frikken', 0): 1, ('baackk', 0): 1, ('econ', 0): 1, ('hatch', 1): 1, ('ram', 1): 1, ('payn', 1): 1, ('perv', 1): 1, ('teen', 1): 1, ('obscur', 1): 1, ('trio', 1): 2, ('belt', 1): 1, ('bbl', 0): 2, ('bof', 1): 1, ('cieg', 0): 1, ('cagalawan', 0): 1, ('rey', 1): 1, ('mysterio', 1): 1, ('grubbi', 1): 2, ('snaap', 0): 1, ('jimmaayi', 0): 1, ('hookup', 0): 1, ('phd', 1): 1, ('sf', 0): 2, ('preform', 0): 1, ('steadi', 1): 1, ('tmobil', 0): 1, ('den', 0): 1, ('wrng', 0): 1, ('acct', 0): 1, ('allen', 0): 1, ('nimoy', 1): 1, ('dick', 1): 1, ('loudquietloud', 1): 1, ('documentari', 1): 1, ('santiago', 1): 1, ('ugboot', 1): 1, ('topgear', 1): 1, ('lv', 1): 1, ('dobro', 1): 1, ('ngobrolin', 1): 1, ('cii', 1): 1, ('kesian', 1): 1, ('kamu', 1): 1, ('speakernya', 1): 1, ('rusak', 1): 1, ('benerin', 1): 1, ('ci', 1): 1, ('fountain', 0): 1, ('oouchh', 0): 1, ('folkkz', 0): 1, ('scurri', 0): 1, ('yearl', 0): 1, ('greenish', 0): 1, ('darl', 0): 1, ('toom', 0): 1, ('gj', 1): 1, ('parrent', 0): 1, ('stash', 0): 1, ('hernandez', 1): 1, ('caitlin', 1): 1, ('hormon', 0): 1, ('misbehav', 0): 1, ('compon', 1): 1, ('fes', 1): 1, ('oot', 1): 1, ('alfr', 1): 1, ('wallac', 1): 1, ('cindi', 1): 2, ('googledoc', 1): 1, ('folder', 1): 1, ('label', 1): 3, ('bode', 0): 1, ('gastronom', 0): 1, ('genious', 1): 1, ('troi', 0): 1, ('thembrac', 1): 1, ('defend', 1): 1, ('whatchu', 1): 1, ('risk', 1): 2, ('jess', 1): 1, ('disgrac', 0): 1, ('perfectionist', 0): 1, ('luckk', 0): 1, ('confer', 0): 2, ('hp', 0): 1, ('invalid', 0): 1, ('youll', 0): 1, ('knockout', 0): 1, ('nanowrimo', 1): 1, ('rumor', 0): 1, ('cyndi', 0): 1, ('twitterif', 0): 1, ('ftr', 0): 1, ('zq', 1): 1, ('mumm', 1): 1, ('hopefuli', 1): 1, ('dustbin', 1): 1, ('awoogahh', 1): 1, ('gda', 1): 1, ('sk', 1): 1, ('shown', 0): 1, ('notif', 0): 1, ('accent', 0): 1, ('yujm', 1): 1, ('munderday', 1): 1, ('grrh', 0): 1, ('ohoh', 0): 1, ('frnd', 1): 1, ('kissa', 1): 1, ('enchilada', 1): 1, ('suiza', 1): 1, ('oliv', 0): 1, ('alfi', 0): 1, ('josi', 0): 1, ('unabl', 0): 2, ('procreat', 0): 1, ('foh', 0): 1, ('xoxoxo', 0): 1, ('soreadi', 0): 1, ('snood', 0): 1, ('foxford', 1): 1, ('mayo', 1): 1, ('pontoon', 1): 1, ('inth', 1): 1, ('knockout', 1): 1, ('pros', 1): 1, ('satisfi', 0): 1, ('twitterberri', 1): 1, ('bold', 1): 1, ('smr', 1): 1, ('educ', 0): 1, ('shirtless', 1): 1, ('pathet', 1): 1, ('everythingg', 1): 1, ('lovev', 1): 1, ('anna', 0): 1, ('thempitom', 0): 1, ('cloud', 0): 2, ('theyv', 0): 1, ('waterfal', 0): 1, ('instrumentalist', 0): 1, ('vocalist', 0): 1, ('freshmen', 0): 1, ('theatr', 0): 2, ('pentecost', 0): 1, ('morgan', 0): 1, ('liberti', 0): 1, ('timer', 0): 1, ('perk', 1): 1, ('rosi', 1): 1, ('frisbe', 1): 1, ('sprain', 1): 1, ('ligament', 1): 2, ('cookoutofthecenturi', 0): 1, ('exsaust', 0): 1, ('chalki', 0): 1, ('fukn', 0): 1, ('durin', 0): 1, ('unsettl', 1): 1, ('intrigu', 1): 1, ('kaya', 1): 1, ('baka', 1): 1, ('maaddict', 1): 1, ('flypsid', 1): 1, ('alexx', 0): 1, ('delish', 1): 2, ('overtak', 1): 1, ('malaysian', 1): 1, ('reali', 1): 2, ('willdo', 1): 1, ('anythig', 1): 1, ('ibm', 1): 2, ('inventor', 1): 1, ('yao', 0): 1, ('drat', 0): 1, ('butter', 0): 1, ('beard', 0): 2, ('axe', 0): 1, ('crummi', 0): 1, ('niterzz', 0): 1, ('twitterbugz', 0): 1, ('elk', 1): 1, ('jose', 1): 1, ('brochur', 1): 1, ('cliimb', 0): 1, ('mt', 0): 1, ('discoveri', 0): 1, ('maxium', 0): 1, ('shabu', 1): 1, ('alrighti', 1): 1, ('whittl', 1): 1, ('saint', 1): 1, ('yeh', 0): 1, ('rof', 1): 1, ('thus', 1): 1, ('oow', 0): 1, ('greeaatt', 1): 1, ('dthemilynnmus', 1): 1, ('horizon', 0): 1, ('spine', 0): 1, ('decler', 0): 1, ('dthemon', 1): 1, ('provenc', 1): 1, ('rot', 1): 1, ('yl', 1): 1, ('rik', 0): 1, ('doodl', 0): 1, ('dawn', 1): 1, ('replic', 1): 1, ('bkk', 0): 1, ('hollowbabesher', 0): 1, ('adult', 0): 4, ('dwell', 0): 1, ('dere', 0): 1, ('coulda', 0): 1, ('whr', 0): 1, ('nyt', 0): 1, ('someone', 0): 1, ('fianc', 1): 2, ('belat', 0): 1, ('birfdayi', 0): 1, ('smirker', 1): 1, ('jak', 1): 1, ('inher', 1): 2, ('humil', 1): 1, ('lactos', 1): 2, ('utter', 1): 1, ('tripoli', 0): 1, ('gwt', 0): 1, ('calpol', 0): 1, ('scarey', 0): 1, ('pdate', 0): 1, ('aggreg', 1): 1, ('mornig', 1): 1, ('volleybal', 1): 1, ('hike', 1): 1, ('jurass', 1): 1, ('mastermind', 1): 1, ('statesboro', 1): 1, ('wiki', 0): 1, ('entri', 0): 1, ('homepag', 0): 1, ('mcfonald', 0): 1, ('roulett', 0): 1, ('mygril', 0): 1, ('where', 1): 1, ('theyv', 1): 1, ('shortag', 0): 1, ('shell', 0): 1, ('comber', 0): 1, ('ap', 1): 3, ('govern', 1): 1, ('krista', 1): 1, ('hunk', 0): 2, ('blurry', 0): 1, ('pave', 1): 1, ('brandon', 1): 1, ('lexington', 1): 1, ('kinf', 1): 1, ('euch', 1): 1, ('patron', 1): 1, ('omega', 1): 1, ('engag', 0): 1, ('therapi', 0): 1, ('dk', 0): 1, ('cereal', 0): 1, ('vancouv', 1): 2, ('classi', 1): 2, ('thempress', 1): 1, ('belay', 0): 1, ('swimsuit', 0): 1, ('unproduct', 1): 1, ('drea', 1): 1, ('boubous', 1): 1, ('cowgirl', 1): 1, ('crunk', 1): 1, ('mothr', 1): 1, ('thaa', 1): 1, ('outt', 1): 1, ('diana', 1): 2, ('wealthi', 1): 1, ('brr', 0): 1, ('pelzer', 0): 1, ('ido', 1): 1, ('notknowwhatdamnbrandcoffeethisi', 1): 1, ('ultim', 1): 1, ('meteor', 0): 1, ('rob', 1): 3, ('mommah', 1): 1, ('heheheheh', 0): 1, ('dupe', 0): 1, ('veryy', 0): 1, ('hacienda', 0): 1, ('noriega', 1): 1, ('stickam', 1): 1, ('collab', 1): 1, ('alynn', 1): 1, ('carter', 1): 1, ('lasertag', 0): 1, ('shitload', 1): 1, ('reg', 0): 1, ('slarm', 1): 1, ('liar', 0): 2, ('inner', 1): 1, ('elvi', 1): 1, ('imperson', 1): 1, ('ryland', 1): 1, ('suarez', 1): 1, ('woken', 1): 2, ('commando', 1): 1, ('chant', 1): 1, ('inx', 1): 1, ('excti', 1): 1, ('lorrain', 1): 1, ('stich', 0): 1, ('bread', 1): 1, ('pinch', 1): 1, ('lettuc', 1): 2, ('banburi', 0): 1, ('twiddl', 0): 1, ('folio', 0): 1, ('niick', 0): 1, ('asasgdygyasdgi', 0): 1, ('tht', 1): 1, ('wid', 1): 1, ('thts', 1): 1, ('helpin', 1): 1, ('postin', 1): 1, ('wmiad', 1): 1, ('ashley', 0): 2, ('tisdal', 0): 1, ('berlin', 0): 1, ('cryin', 0): 1, ('cyprus', 1): 1, ('ts', 0): 1, ('blighti', 1): 1, ('jewish', 1): 1, ('iop', 0): 1, ('hpt', 0): 1, ('adaptec', 0): 1, ('humm', 1): 1, ('meh', 1): 1, ('ard', 0): 1, ('dissapear', 0): 1, ('shrimp', 1): 1, ('freddi', 1): 1, ('guiliti', 0): 1, ('ignor', 1): 1, ('okaii', 1): 1, ('guna', 1): 1, ('endors', 1): 1, ('endorsth', 1): 1, ('mortifi', 0): 1, ('teeshirt', 1): 1, ('faar', 1): 1, ('doubli', 1): 1, ('jool', 0): 1, ('sob', 0): 4, ('spender', 0): 1, ('workshop', 1): 1, ('noor', 1): 1, ('lindsay', 1): 1, ('spanish', 1): 2, ('fansit', 1): 1, ('netflix', 1): 1, ('toronto', 1): 1, ('exist', 1): 2, ('becas', 0): 1, ('gavin', 1): 1, ('honesti', 1): 1, ('aidan', 0): 1, ('telephon', 0): 1, ('darius', 0): 1, ('neight', 0): 1, ('backround', 0): 1, ('speaker', 1): 2, ('solder', 1): 1, ('cosmic', 0): 1, ('furri', 0): 1, ('pari', 0): 1, ('sleepp', 0): 2, ('kansa', 1): 1, ('parker', 1): 1, ('gh', 0): 2, ('user', 1): 1, ('eassi', 0): 1, ('alltop', 0): 1, ('gaww', 0): 1, ('subconsci', 0): 1, ('smooth', 0): 1, ('sailin', 0): 1, ('rap', 0): 1, ('btches', 1): 2, ('shouldnt', 1): 1, ('slip', 0): 2, ('socket', 0): 1, ('gtgs', 1): 1, ('procrastin', 1): 1, ('oder', 1): 1, ('qld', 0): 1, ('zone', 1): 1, ('eftel', 1): 1, ('anwb', 1): 1, ('giggl', 0): 1, ('arena', 1): 1, ('stethem', 0): 1, ('bellss', 1): 1, ('ringin', 1): 1, ('adieu', 1): 1, ('podunktown', 0): 1, ('beati', 1): 1, ('cop', 0): 1, ('robban', 1): 1, ('sluttin', 1): 1, ('waahh', 1): 1, ('malibu', 1): 1, ('precious', 1): 2, ('belgian', 0): 1, ('diagnos', 1): 1, ('mcm', 1): 1, ('letterman', 0): 1, ('keyhol', 0): 1, ('technolog', 0): 1, ('earthquak', 0): 1, ('tourney', 0): 1, ('fk', 0): 1, ('flock', 1): 1, ('disown', 0): 1, ('sowey', 0): 1, ('parad', 1): 1, ('sweeney', 1): 1, ('tisha', 0): 1, ('preacher', 1): 1, ('dine', 1): 1, ('beliv', 1): 1, ('richmond', 1): 1, ('se', 1): 1, ('shawn', 1): 1, ('linger', 0): 1, ('dill', 0): 2, ('poorpoor', 0): 1, ('gizmo', 1): 1, ('growl', 1): 1, ('prupl', 1): 1, ('scar', 1): 1, ('fingi', 1): 1, ('sed', 0): 1, ('ino', 0): 1, ('cellgroup', 0): 1, ('leader', 0): 1, ('kyle', 1): 2, ('fwiend', 1): 1, ('rawrr', 1): 1, ('koon', 1): 1, ('proli', 1): 1, ('sweep', 1): 1, ('trthemend', 1): 1, ('holder', 1): 1, ('nesquik', 1): 1, ('formula', 0): 1, ('devo', 1): 1, ('dozen', 0): 1, ('overnight', 0): 2, ('recipi', 0): 1, ('leader', 1): 1, ('rode', 1): 1, ('jeep', 1): 1, ('fineart', 1): 1, ('surf', 1): 1, ('jenni', 0): 2, ('playin', 0): 1, ('advic', 0): 1, ('pros', 0): 1, ('eg', 0): 1, ('suv', 0): 1, ('wnat', 0): 1, ('hilda', 1): 1, ('gallar', 1): 1, ('kindr', 1): 1, ('kaul', 1): 1, ('gbi', 1): 1, ('coffeeshop', 0): 1, ('newsfir', 1): 1, ('donna', 0): 1, ('region', 0): 1, ('prank', 1): 1, ('sorcha', 1): 1, ('ahahah', 1): 1, ('reimer', 0): 1, ('maid', 1): 1, ('speakerphon', 1): 1, ('sweepstak', 0): 1, ('basshunt', 0): 1, ('metroplex', 0): 1, ('regardless', 1): 1, ('underbelli', 0): 1, ('supperinn', 1): 1, ('favourti', 1): 1, ('tow', 1): 1, ('thomson', 0): 1, ('mexico', 0): 1, ('dairi', 0): 1, ('fristi', 0): 1, ('buck', 0): 1, ('reactionari', 0): 1, ('roughnight', 0): 1, ('tweepsland', 1): 1, ('momsen', 1): 1, ('rtheminis', 1): 1, ('sesam', 1): 1, ('jar', 0): 1, ('curri', 0): 1, ('hthemorrhoid', 0): 1, ('slideshow', 1): 1, ('confusin', 0): 1, ('vector', 0): 1, ('rcb', 0): 1, ('mumbai', 0): 2, ('wuv', 0): 1, ('slice', 0): 1, ('westcott', 0): 1, ('apollo', 0): 1, ('mamagra', 0): 1, ('theyr', 0): 1, ('rabi', 0): 1, ('bacterin', 0): 1, ('snoopi', 1): 1, ('pansi', 0): 1, ('codeh', 0): 1, ('jeuno', 0): 1, ('litl', 0): 1, ('hyperbirdi', 0): 1, ('terror', 0): 1, ('rah', 0): 2, ('momm', 1): 1, ('darlin', 0): 1, ('wikid', 1): 1, ('myne', 1): 1, ('ned', 1): 1, ('brekki', 1): 1, ('dudd', 1): 1, ('downsid', 0): 2, ('migrain', 1): 1, ('ththemselv', 1): 1, ('mime', 1): 1, ('rub', 1): 2, ('flickr', 1): 1, ('pennsylvania', 0): 1, ('arni', 0): 1, ('choir', 1): 1, ('outa', 1): 1, ('bonjour', 1): 1, ('verg', 0): 1, ('photographi', 1): 1, ('notthebest', 0): 1, ('hypnotyst', 0): 1, ('bewar', 0): 1, ('boc', 0): 1, ('int', 1): 1, ('dunn', 1): 1, ('offiaci', 0): 1, ('rd', 0): 1, ('oper', 0): 2, ('whoor', 1): 1, ('cologn', 1): 1, ('totali', 0): 1, ('tec', 1): 1, ('somewhat', 1): 1, ('nichola', 1): 1, ('braun', 1): 1, ('cameron', 1): 1, ('dubstep', 1): 1, ('bedtim', 0): 1, ('zacci', 1): 1, ('mommyy', 1): 1, ('helmet', 1): 1, ('unintent', 0): 2, ('horni', 1): 1, ('holdin', 0): 1, ('kale', 0): 1, ('forehead', 0): 1, ('klutz', 0): 1, ('transmitt', 0): 1, ('phantom', 1): 1, ('junt', 1): 1, ('stabl', 1): 1, ('sunbath', 0): 1, ('thimk', 1): 1, ('muscl', 1): 1, ('detox', 1): 1, ('amber', 1): 1, ('evil', 1): 1, ('garbag', 0): 2, ('kerbear', 0): 1, ('paintbal', 0): 1, ('unavail', 0): 1, ('stone', 1): 1, ('keegan', 1): 1, ('eek', 1): 1, ('nethemah', 1): 1, ('izzi', 1): 1, ('intel', 0): 1, ('gfx', 0): 1, ('kernel', 0): 1, ('git', 0): 1, ('mthem', 0): 1, ('playlist', 0): 1, ('llike', 0): 1, ('dylan', 0): 1, ('bizarr', 1): 1, ('jain', 0): 1, ('mammyy', 1): 1, ('wth', 1): 2, ('polici', 1): 1, ('niqhti', 1): 1, ('niqht', 1): 2, ('toqeth', 1): 1, ('certhemoni', 0): 2, ('msi', 0): 1, ('rthemark', 0): 2, ('racquet', 0): 2, ('fkin', 0): 1, ('doh', 0): 1, ('puma', 0): 1, ('missi', 0): 1, ('elliot', 0): 1, ('prthemium', 1): 2, ('exceed', 1): 1, ('threshold', 1): 1, ('experiment', 0): 1, ('iter', 0): 1, ('reactor', 0): 1, ('wentworth', 0): 1, ('rsvping', 1): 1, ('steak', 0): 2, ('complianc', 1): 1, ('nervi', 0): 1, ('pg', 0): 1, ('kimberle', 0): 1, ('hatch', 0): 1, ('bubl', 1): 1, ('skool', 0): 2, ('ariella', 1): 1, ('gonzalez', 1): 1, ('cheerio', 1): 1, ('scone', 1): 1, ('tthempl', 0): 1, ('youngest', 0): 1, ('sniffl', 0): 2, ('peacock', 1): 1, ('oceanograph', 1): 1, ('rebel', 0): 1, ('zeb', 1): 1, ('dinno', 1): 1, ('nasal', 0): 1, ('drip', 0): 1, ('lunchbreak', 1): 1, ('puddl', 1): 1, ('shld', 1): 1, ('ungrat', 0): 1, ('fleetwood', 0): 1, ('grandbabi', 1): 1, ('infant', 1): 1, ('decoupl', 0): 1, ('mid', 0): 2, ('propellerhead', 1): 1, ('harddriv', 1): 1, ('repo', 1): 1, ('nostalg', 1): 1, ('walah', 0): 1, ('crampss', 0): 1, ('loom', 0): 1, ('rim', 1): 1, ('middleschool', 0): 1, ('defeat', 0): 1, ('polo', 0): 1, ('christina', 0): 1, ('garrit', 0): 1, ('holyday', 1): 1, ('dcd', 0): 1, ('yayay', 1): 1, ('reissu', 1): 1, ('heartwarm', 1): 1, ('av', 1): 1, ('wiv', 1): 1, ('connolli', 1): 1, ('gate', 1): 1, ('kirbi', 1): 1, ('brighton', 1): 1, ('fukin', 1): 1, ('sunburnt', 1): 1, ('luk', 1): 1, ('driver', 1): 1, ('exchang', 0): 2, ('carpet', 1): 1, ('amaiz', 1): 1, ('tbqh', 1): 1, ('inthebattl', 1): 1, ('erm', 0): 1, ('sway', 0): 1, ('bracelet', 0): 1, ('medit', 1): 1, ('syring', 0): 1, ('nagio', 1): 1, ('configur', 1): 1, ('labour', 1): 1, ('smiley', 0): 1, ('hol', 0): 2, ('chomp', 0): 2, ('healthyliv', 1): 1, ('tsar', 0): 1, ('insuran', 0): 1, ('insur', 0): 1, ('polici', 0): 1, ('meanw', 0): 1, ('architect', 1): 1, ('promenad', 1): 1, ('braggin', 1): 1, ('moncton', 0): 1, ('puppyy', 1): 1, ('boog', 1): 1, ('selv', 1): 1, ('hom', 0): 1, ('fr', 0): 1, ('tda', 0): 1, ('laavli', 1): 1, ('alley', 0): 1, ('maad', 0): 1, ('scheur', 0): 1, ('jer', 1): 1, ('shelter', 1): 1, ('inet', 1): 1, ('needa', 1): 1, ('eleg', 1): 1, ('termineda', 0): 1, ('nba', 0): 1, ('wbu', 1): 1, ('upcom', 0): 1, ('reaalli', 0): 1, ('backup', 1): 2, ('murder', 1): 1, ('rampag', 1): 1, ('ttyl', 1): 1, ('eventu', 1): 1, ('drank', 0): 1, ('januari', 1): 1, ('februari', 1): 1, ('royal', 1): 1, ('superstar', 0): 1, ('pixel', 0): 1, ('toyota', 0): 1, ('brisban', 1): 1, ('curs', 1): 1, ('tumblr', 1): 1, ('pitti', 1): 1, ('jagk', 1): 1, ('metsi', 1): 1, ('hthemp', 0): 1, ('marvel', 0): 1, ('rakethem', 1): 1, ('stefan', 1): 1, ('mtfbwi', 1): 1, ('tae', 0): 1, ('hoorah', 1): 1, ('snub', 0): 1, ('occasion', 1): 1, ('apperici', 1): 1, ('suffic', 0): 1, ('sack', 1): 1, ('housthem', 1): 1, ('render', 1): 1, ('nofair', 0): 1, ('uhura', 0): 1, ('nero', 0): 1, ('sock', 0): 1, ('sittn', 0): 1, ('von', 0): 1, ('presid', 0): 1, ('dadt', 0): 1, ('fade', 0): 1, ('licens', 1): 1, ('mane', 0): 1, ('inn', 0): 1, ('descript', 1): 1, ('feliz', 1): 1, ('dela', 1): 1, ('skull', 0): 1, ('discret', 1): 1, ('pdf', 1): 1, ('tweetin', 0): 1, ('jade', 0): 1, ('antioch', 0): 1, ('amtrak', 0): 1, ('bulk', 1): 1, ('sms', 1): 2, ('perman', 1): 1, ('fcuk', 1): 1, ('sugarland', 1): 1, ('gknight', 1): 1, ('cockney', 0): 1, ('smelli', 0): 1, ('frickin', 1): 1, ('snow', 0): 2, ('thankyoou', 1): 1, ('photovia', 1): 1, ('herebi', 1): 1, ('themploy', 1): 1, ('dthemis', 0): 1, ('woolworth', 0): 1, ('comedian', 1): 1, ('listenen', 1): 1, ('jill', 1): 1, ('pdx', 1): 1, ('farmer', 1): 1, ('mkt', 1): 1, ('chimp', 1): 1, ('repetit', 0): 1, ('injuri', 0): 1, ('hick', 0): 2, ('optimist', 0): 2, ('rachel', 0): 1, ('chelsey', 0): 1, ('symptom', 0): 1, ('balmain', 0): 1, ('knockoff', 0): 1, ('cheapi', 0): 2, ('amen', 0): 1, ('lock', 0): 2, ('soy', 1): 1, ('summaa', 1): 1, ('turnon', 0): 1, ('tesla', 0): 1, ('pickkshaa', 1): 1, ('milki', 1): 1, ('journo', 1): 1, ('rat', 1): 1, ('flowi', 1): 1, ('oystser', 1): 1, ('platter', 1): 1, ('borri', 0): 1, ('wale', 0): 1, ('onigiri', 1): 1, ('oic', 1): 1, ('dreamweav', 1): 1, ('donbt', 0): 1, ('prawn', 0): 1, ('messga', 0): 1, ('saver', 0): 1, ('mango', 1): 3, ('medley', 1): 1, ('twain', 1): 1, ('bugger', 1): 1, ('crime', 1): 1, ('hardwood', 1): 1, ('dandi', 1): 1, ('uqh', 0): 1, ('cuzz', 0): 1, ('wakk', 0): 1, ('earlyy', 0): 1, ('omq', 0): 1, ('tomorroww', 0): 1, ('iss', 0): 1, ('kickin', 1): 1, ('musician', 1): 1, ('harpmanhatt', 1): 1, ('hacker', 0): 1, ('rthemain', 0): 2, ('port', 0): 1, ('worldwid', 1): 1, ('male', 0): 1, ('stripper', 0): 1, ('poet', 1): 4, ('consti', 0): 1, ('kh', 0): 1, ('weeaboo', 0): 1, ('redo', 0): 1, ('hairdy', 0): 1, ('patch', 0): 1, ('smear', 0): 1, ('duvet', 0): 1, ('quizz', 1): 1, ('spose', 1): 1, ('dj', 0): 1, ('opus', 0): 1, ('butmi', 0): 1, ('iccvb', 1): 1, ('dunkin', 1): 1, ('donut', 1): 1, ('casino', 0): 2, ('juggler', 0): 1, ('hooki', 1): 2, ('levi', 1): 1, ('clark', 0): 2, ('notch', 0): 1, ('voraci', 1): 1, ('stubbl', 1): 1, ('raw', 1): 1, ('chin', 1): 1, ('heya', 1): 2, ('dono', 1): 1, ('paisley', 1): 1, ('rc', 0): 1, ('mainten', 0): 1, ('dsds', 1): 1, ('incestu', 1): 1, ('gerald', 0): 1, ('hmz', 0): 1, ('government', 0): 1, ('pressi', 0): 1, ('ommg', 0): 1, ('gurll', 0): 1, ('hilariouss', 1): 1, ('lupof', 1): 1, ('comedi', 1): 2, ('prescript', 0): 1, ('samson', 1): 1, ('delilah', 1): 1, ('reluct', 0): 1, ('conserv', 0): 1, ('twitteriff', 1): 1, ('habitat', 1): 1, ('progress', 1): 3, ('underwir', 0): 1, ('armpit', 0): 1, ('winningg', 1): 1, ('afarid', 0): 1, ('weekeknd', 0): 1, ('wonderfuli', 1): 1, ('hel', 0): 1, ('lyke', 0): 1, ('weelcom', 0): 1, ('wonderland', 0): 1, ('exhiler', 1): 1, ('kingdom', 1): 1, ('kristin', 1): 1, ('bushidokan', 0): 1, ('karat', 0): 1, ('leonardo', 1): 1, ('foreign', 0): 2, ('pilot', 0): 1, ('burnin', 0): 1, ('roxi', 1): 1, ('palmad', 1): 1, ('bwahahahahahahaha', 1): 1, ('simpson', 1): 1, ('bart', 1): 1, ('fantasi', 0): 1, ('frog', 1): 1, ('ashli', 1): 1, ('samsung', 1): 1, ('omnia', 1): 1, ('tti', 1): 1, ('hannahisdead', 0): 1, ('pride', 0): 1, ('fuckyeah', 0): 1, ('mod', 0): 1, ('manga', 0): 1, ('sunset', 1): 1, ('tribut', 0): 1, ('fuk', 0): 1, ('canal', 1): 1, ('triumph', 0): 1, ('ramen', 0): 1, ('crucial', 1): 1, ('mojokin', 0): 1, ('chant', 0): 1, ('asbesto', 0): 1, ('seasid', 0): 1, ('izzard', 0): 1, ('dismiss', 1): 1, ('mackenzi', 1): 1, ('harrass', 0): 1, ('afterparti', 1): 1, ('beth', 1): 1, ('tweak', 1): 1, ('knee', 1): 1, ('dindin', 1): 1, ('bingley', 1): 1, ('homesick', 0): 2, ('campp', 0): 1, ('annpyimg', 1): 1, ('whenev', 1): 1, ('mic', 1): 2, ('grant', 1): 1, ('vehicl', 1): 1, ('governor', 1): 1, ('furlough', 1): 1, ('woah', 1): 2, ('disgruntl', 0): 1, ('investor', 0): 1, ('hoe', 0): 1, ('pois', 0): 1, ('presh', 1): 1, ('zd', 1): 1, ('powerbal', 1): 1, ('jackpot', 1): 1, ('impos', 1): 1, ('formid', 1): 1, ('prez', 1): 1, ('wifey', 1): 2, ('spree', 1): 1, ('stray', 1): 1, ('can', 1): 1, ('tuna', 1): 1, ('yw', 1): 1, ('fighter', 1): 1, ('christina', 1): 3, ('aguilera', 1): 2, ('widow', 0): 1, ('haz', 1): 1, ('smal', 1): 1, ('pleess', 1): 1, ('msla', 0): 1, ('unhook', 0): 1, ('croni', 0): 1, ('sprinkl', 0): 1, ('eyelid', 1): 1, ('hafta', 1): 1, ('heartbeat', 0): 1, ('fiction', 0): 1, ('disapoint', 0): 1, ('ciber', 0): 1, ('sabip', 0): 1, ('cosmet', 0): 1, ('itv', 0): 1, ('jeje', 1): 2, ('trouser', 0): 1, ('weetabix', 1): 1, ('choco', 1): 1, ('aaw', 0): 1, ('onesi', 1): 1, ('mei', 0): 1, ('scala', 0): 1, ('venezuela', 0): 1, ('browni', 1): 1, ('phish', 0): 1, ('twitterr', 1): 1, ('awayi', 0): 1, ('blackhawk', 0): 1, ('timet', 0): 1, ('augusten', 0): 1, ('burrough', 0): 1, ('sowwi', 1): 1, ('tournament', 0): 1, ('scrapbook', 1): 1, ('mattmccoy', 1): 1, ('camel', 1): 1, ('plankton', 1): 1, ('automobil', 1): 1, ('juan', 1): 1, ('pelota', 1): 1, ('persepoli', 1): 1, ('yoghurt', 0): 1, ('carrot', 0): 1, ('jere', 0): 1, ('cyrus', 0): 1, ('roy', 0): 1, ('william', 0): 1, ('dissect', 0): 1, ('henri', 1): 2, ('pms', 1): 1, ('neighboor', 1): 1, ('goodbye', 0): 1, ('kayla', 1): 1, ('hahhaha', 1): 1, ('tight', 1): 1, ('ous', 0): 1, ('wombat', 1): 1, ('tamara', 1): 1, ('lif', 0): 1, ('spinelli', 0): 1, ('pimp', 1): 1, ('pwns', 1): 1, ('giver', 0): 2, ('reward', 0): 1, ('valid', 0): 2, ('communiti', 0): 1, ('gfail', 0): 1, ('html', 0): 1, ('nos', 0): 1, ('delic', 0): 1, ('weezi', 0): 1, ('knott', 0): 1, ('dishwash', 0): 1, ('despis', 0): 1, ('netplay', 1): 1, ('build', 1): 1, ('pennywis', 0): 1, ('sunscreen', 1): 1, ('sourish', 0): 1, ('welsh', 0): 1, ('deathcab', 1): 1, ('goodmor', 1): 1, ('yat', 1): 1, ('quicker', 1): 1, ('cottag', 0): 1, ('height', 0): 1, ('bumbpi', 0): 1, ('sicke', 0): 1, ('edinburgh', 0): 1, ('meredith', 1): 1, ('dsl', 1): 1, ('oommgg', 0): 1, ('arghh', 0): 2, ('ddub', 1): 1, ('nooth', 0): 1, ('hoomme', 0): 1, ('shannii', 1): 1, ('eastern', 1): 1, ('unbeliev', 1): 1, ('eesh', 0): 1, ('michigan', 0): 1, ('torment', 1): 1, ('desperat', 1): 1, ('vanessa', 1): 1, ('tired', 0): 1, ('dunker', 1): 1, ('bleach', 0): 1, ('xt', 1): 1, ('telecom', 1): 1, ('ne', 0): 1, ('scoreless', 0): 1, ('mrs', 1): 1, ('mcnugget', 1): 1, ('obnoxi', 0): 1, ('mpls', 0): 1, ('celtic', 1): 1, ('alissa', 1): 1, ('obli', 0): 1, ('aumff', 0): 1, ('datin', 0): 1, ('stayin', 1): 1, ('z', 0): 1, ('shrug', 1): 1, ('darnitt', 0): 1, ('lore', 1): 1, ('alyssa', 1): 1, ('weig', 0): 1, ('tale', 0): 1, ('septemb', 0): 1, ('superb', 1): 1, ('jungl', 1): 1, ('adob', 1): 1, ('nicer', 1): 1, ('zone', 0): 1, ('sharffenberg', 1): 1, ('pril', 1): 1, ('physio', 0): 1, ('earring', 1): 2, ('chain', 1): 1, ('weebo', 0): 1, ('michel', 0): 1, ('wtach', 0): 1, ('recruit', 0): 1, ('baybe', 1): 1, ('urggh', 0): 1, ('footwear', 0): 1, ('runnin', 1): 1, ('tonigh', 1): 1, ('wierd', 1): 1, ('cozi', 1): 1, ('overexcit', 0): 1, ('mope', 0): 1, ('restuar', 0): 1, ('javascript', 0): 1, ('ism', 1): 1, ('ahahaha', 1): 2, ('jihoon', 1): 1, ('pineappl', 1): 1, ('elanc', 1): 1, ('plaid', 0): 1, ('wifflebal', 0): 1, ('nvrmind', 0): 1, ('ducki', 1): 1, ('daxx', 1): 1, ('hilaari', 1): 1, ('verna', 1): 1, ('damp', 0): 1, ('nois', 1): 1, ('midst', 0): 1, ('fitzsimmon', 1): 1, ('daughtri', 1): 1, ('ack', 1): 1, ('crazili', 0): 1, ('toe', 1): 1, ('kodiak', 1): 1, ('terra', 1): 1, ('camb', 1): 1, ('lousier', 0): 1, ('twitterland', 0): 1, ('retweet', 0): 1, ('sadsvill', 0): 1, ('beedd', 0): 1, ('bronco', 1): 1, ('survey', 0): 1, ('chilli', 1): 1, ('lonley', 1): 1, ('livingroom', 1): 1, ('sowi', 0): 1, ('shorti', 0): 1, ('outti', 0): 1, ('damjust', 1): 1, ('sacrific', 0): 1, ('volleybal', 0): 2, ('deni', 1): 1, ('vaccuum', 0): 1, ('loveliest', 1): 1, ('frankfurt', 1): 1, ('smoki', 0): 1, ('kmart', 0): 1, ('aamaz', 1): 1, ('adoarbl', 1): 1, ('frozen', 1): 1, ('marnier', 1): 1, ('souffl', 1): 1, ('fame', 1): 1, ('mba', 0): 1, ('crime', 0): 1, ('morrison', 0): 1, ('scotland', 1): 1, ('supervillian', 0): 1, ('warfield', 0): 1, ('eather', 0): 1, ('eekk', 1): 2, ('osap', 0): 1, ('owe', 0): 1, ('crech', 0): 1, ('exhaaust', 0): 1, ('abnorm', 0): 1, ('fellow', 0): 1, ('busti', 0): 1, ('maven', 0): 1, ('belong', 0): 1, ('ding', 0): 1, ('dong', 0): 1, ('singstar', 0): 1, ('fave', 0): 1, ('duetter', 0): 1, ('shir', 1): 1, ('commiss', 1): 1, ('certif', 1): 1, ('chamber', 1): 1, ('callback', 1): 1, ('consum', 0): 1, ('portal', 1): 1, ('indiana', 1): 1, ('aracheologist', 1): 1, ('tc', 0): 1, ('melli', 1): 1, ('ascari', 1): 1, ('javaon', 0): 1, ('woodstock', 1): 1, ('frine', 1): 1, ('poetiz', 1): 1, ('derek', 0): 1, ('bhb', 0): 1, ('grove', 0): 1, ('gather', 0): 1, ('repair', 1): 1, ('quil', 0): 1, ('wrangler', 1): 1, ('wahahahaha', 1): 1, ('naa', 1): 1, ('na', 1): 1, ('narn', 1): 1, ('igloo', 1): 1, ('novo', 0): 1, ('nati', 0): 2, ('axe', 1): 1, ('durrin', 1): 1, ('pune', 1): 2, ('occupi', 0): 1, ('braxton', 0): 1, ('estat', 1): 1, ('ebm', 1): 1, ('awwh', 1): 1, ('wyatt', 1): 1, ('jennif', 1): 1, ('garner', 1): 1, ('gina', 1): 1, ('seck', 0): 1, ('hahahhah', 1): 1, ('boi', 0): 1, ('stolen', 1): 1, ('dashboard', 1): 1, ('confession', 1): 1, ('kapag', 1): 1, ('magkakasama', 1): 1, ('tayo', 1): 1, ('nila', 1): 1, ('mapet', 1): 1, ('deflat', 0): 1, ('dione', 0): 1, ('calculus', 0): 1, ('slackin', 0): 1, ('thingsmummysaid', 0): 1, ('condom', 0): 1, ('browsin', 0): 1, ('multipli', 0): 1, ('sang', 0): 1, ('wherev', 0): 1, ('cameraphon', 0): 1, ('ek', 0): 1, ('curious', 0): 1, ('vlogcandi', 0): 1, ('assault', 1): 1, ('slot', 1): 1, ('ww', 1): 1, ('cong', 0): 1, ('govt', 0): 1, ('karnataka', 0): 1, ('cauveri', 0): 1, ('politician', 0): 1, ('integr', 0): 1, ('sling', 1): 1, ('profess', 0): 1, ('dtn', 0): 1, ('napervill', 0): 1, ('balli', 0): 1, ('phase', 0): 1, ('tank', 0): 1, ('mutha', 1): 1, ('tweeter', 0): 1, ('cf', 0): 1, ('dslr', 0): 1, ('icon', 0): 1, ('eff', 0): 2, ('grite', 1): 1, ('larri', 1): 1, ('glitch', 0): 1, ('backord', 0): 1, ('ic', 1): 1, ('playin', 1): 2, ('villain', 1): 1, ('princ', 1): 1, ('circa', 0): 1, ('exampl', 0): 1, ('yoou', 1): 1, ('twittertakeov', 1): 1, ('unpack', 0): 1, ('kilo', 1): 1, ('ummnn', 1): 2, ('hoepfner', 0): 1, ('burgfest', 0): 1, ('karlsruh', 0): 1, ('reload', 0): 1, ('chari', 1): 1, ('pipe', 0): 1, ('blur', 0): 1, ('unf', 0): 2, ('midst', 1): 1, ('mayhthem', 1): 1, ('older', 0): 2, ('satisfi', 1): 1, ('fran', 0): 1, ('sfof', 0): 1, ('loservill', 1): 1, ('factor', 1): 1, ('leo', 1): 1, ('nomint', 1): 1, ('defunctlesi', 0): 1, ('whre', 0): 1, ('heartach', 0): 1, ('confess', 1): 1, ('danci', 1): 1, ('accent', 1): 1, ('standbi', 1): 1, ('theview', 1): 1, ('screamin', 0): 1, ('nefuew', 0): 1, ('wifey', 0): 1, ('carb', 1): 1, ('ad', 0): 2, ('achiev', 1): 1, ('maddi', 1): 1, ('maui', 1): 1, ('ouch', 1): 1, ('everythin', 0): 1, ('theolog', 1): 1, ('psycholog', 1): 1, ('unfinish', 0): 1, ('dorki', 0): 1, ('bulmer', 1): 1, ('magner', 1): 1, ('pear', 1): 1, ('slush', 1): 1, ('hurryup', 1): 1, ('omgimpati', 1): 1, ('nonfunctionalproduct', 0): 1, ('aye', 1): 1, ('div', 1): 1, ('meself', 0): 1, ('mocha', 0): 1, ('espresso', 0): 1, ('blah', 1): 3, ('stthem', 1): 1, ('nokia', 0): 1, ('dumb', 1): 1, ('lotr', 0): 2, ('chillen', 0): 1, ('gmas', 0): 1, ('absout', 1): 1, ('rummag', 1): 1, ('jami', 0): 1, ('stewart', 0): 1, ('audienc', 0): 1, ('ilovthemymommi', 1): 1, ('catt', 1): 1, ('retri', 1): 1, ('thoe', 0): 1, ('bridezilla', 0): 1, ('groom', 0): 1, ('tortilla', 1): 1, ('heir', 0): 1, ('mussel', 1): 1, ('octopus', 1): 1, ('lifeestyl', 1): 1, ('diet', 1): 1, ('pralin', 0): 1, ('mascot', 1): 1, ('carpent', 1): 1, ('kareok', 1): 1, ('sped', 1): 1, ('tongu', 1): 1, ('waitress', 0): 1, ('crampl', 0): 1, ('glastonburi', 1): 1, ('organis', 0): 1, ('malaysian', 0): 1, ('liesgirlstel', 0): 1, ('spare', 1): 1, ('ranga', 1): 1, ('malwar', 0): 1, ('dept', 0): 1, ('shia', 1): 1, ('yippie', 1): 1, ('mandi', 0): 1, ('hami', 1): 1, ('macaroon', 1): 1, ('campin', 1): 1, ('refusn', 0): 1, ('wisconsin', 1): 1, ('shepard', 0): 1, ('mirag', 1): 1, ('bookbag', 0): 1, ('hyster', 1): 1, ('jaiden', 0): 1, ('lexi', 1): 1, ('chiro', 1): 1, ('uhm', 1): 1, ('compat', 1): 1, ('concur', 1): 1, ('prioriti', 1): 1, ('swin', 1): 1, ('font', 1): 1, ('flew', 1): 1, ('maker', 0): 1, ('makerfair', 0): 1, ('pointless', 0): 1, ('powerpoint', 0): 1, ('abroad', 0): 1, ('mgmt', 0): 1, ('travelin', 0): 1, ('magnet', 0): 2, ('pepo', 0): 1, ('cuteset', 1): 1, ('bounc', 1): 1, ('becam', 0): 1, ('worthless', 0): 1, ('unapp', 0): 1, ('chevrolet', 1): 1, ('doom', 1): 1, ('themma', 0): 1, ('luckyy', 1): 1, ('yuotub', 0): 1, ('housewarm', 0): 1, ('reggi', 1): 1, ('perrin', 1): 1, ('vegetarian', 0): 1, ('hernia', 0): 1, ('ramen', 1): 1, ('subscript', 1): 1, ('paramor', 0): 1, ('deed', 0): 1, ('flyleaf', 0): 1, ('inflat', 0): 1, ('sn', 0): 1, ('palahniuk', 0): 1, ('pygmi', 0): 1, ('ghostwhisper', 0): 1, ('alki', 0): 1, ('wkds', 0): 1, ('deathmatch', 0): 1, ('bham', 0): 1, ('dpress', 0): 1, ('invest', 1): 1, ('router', 0): 1, ('properti', 0): 1, ('kindergarten', 1): 2, ('collinson', 1): 1, ('cont', 0): 1, ('clech', 0): 1, ('sarcasm', 0): 1, ('bcreativ', 0): 1, ('harrd', 0): 1, ('depriv', 0): 1, ('magnolia', 1): 1, ('groul', 1): 1, ('behav', 0): 1, ('compens', 0): 1, ('almond', 0): 1, ('banknorth', 0): 1, ('thof', 1): 1, ('contradict', 1): 1, ('pancak', 0): 1, ('soggi', 0): 1, ('stub', 0): 1, ('cabinet', 0): 1, ('miranda', 1): 1, ('contest', 0): 1, ('lurgi', 0): 1, ('kurt', 1): 1, ('muhahaha', 1): 1, ('twitch', 1): 1, ('getcha', 1): 1, ('jello', 0): 1, ('deliri', 0): 1, ('jumbo', 1): 1, ('timberlak', 0): 1, ('orch', 1): 1, ('jazz', 1): 1, ('yh', 1): 1, ('supermarket', 0): 1, ('denial', 0): 1, ('brendon', 1): 1, ('loretta', 1): 1, ('raffl', 1): 1, ('ajax', 0): 1, ('php', 0): 1, ('concept', 0): 1, ('autorefresh', 0): 1, ('catalog', 1): 1, ('ochoa', 1): 1, ('washington', 1): 1, ('counti', 1): 2, ('centigrad', 0): 2, ('hotter', 0): 1, ('creatur', 0): 1, ('offlin', 1): 1, ('pedro', 0): 1, ('erin', 0): 1, ('cowboy', 0): 1, ('upto', 0): 1, ('ysj', 1): 1, ('conjunct', 0): 1, ('camper', 0): 1, ('ththeme', 0): 1, ('olymp', 0): 1, ('achiev', 0): 1, ('lunchtim', 0): 1, ('bruno', 0): 1, ('heltershelt', 0): 1, ('ishi', 1): 1, ('outsiden', 0): 1, ('butterfli', 0): 1, ('bleech', 0): 1, ('incas', 1): 1, ('poopi', 0): 1, ('eli', 0): 1, ('prick', 0): 1, ('endeavor', 1): 1, ('ummph', 1): 1, ('tts', 1): 1, ('romo', 1): 1, ('depechthemod', 0): 1, ('gahan', 0): 1, ('proctor', 1): 1, ('witch', 0): 1, ('upstat', 0): 1, ('counti', 0): 1, ('ethnic', 0): 1, ('decrib', 0): 1, ('sibl', 0): 1, ('kari', 1): 1, ('ohnoyoudidnt', 0): 1, ('beatwittyparti', 0): 2, ('microsoft', 1): 1, ('webconcept', 1): 1, ('foreword', 1): 1, ('smore', 1): 1, ('jacuzzi', 1): 1, ('framework', 0): 2, ('hasnt', 0): 1, ('boge', 0): 1, ('robert', 0): 1, ('succumb', 0): 1, ('youth', 0): 1, ('tampa', 1): 1, ('jbobsess', 0): 1, ('bookfac', 0): 1, ('cram', 0): 1, ('kanji', 0): 1, ('schooler', 0): 1, ('nonetheless', 0): 2, ('broughti', 1): 1, ('ferri', 1): 1, ('showin', 1): 1, ('injustic', 0): 1, ('marin', 1): 1, ('santa', 1): 1, ('barbara', 1): 1, ('hahha', 1): 1, ('squeez', 0): 1, ('sundayi', 0): 1, ('engag', 1): 1, ('kp', 0): 1, ('strap', 1): 1, ('racism', 1): 1, ('vhthemt', 0): 1, ('sequenc', 1): 1, ('overlap', 1): 1, ('cellphon', 1): 1, ('lg', 1): 1, ('prep', 0): 1, ('prism', 0): 1, ('lifestori', 0): 1, ('tryin', 1): 1, ('stephen', 0): 1, ('smush', 0): 1, ('volunt', 1): 1, ('bossman', 0): 1, ('common', 0): 1, ('answear', 0): 1, ('mx', 0): 1, ('sheriff', 1): 1, ('scanner', 1): 1, ('outdoor', 1): 1, ('weirton', 0): 1, ('tippi', 0): 1, ('wv', 0): 1, ('fuzz', 0): 1, ('lovi', 1): 1, ('sammich', 1): 1, ('bongi', 1): 1, ('dthemolish', 1): 1, ('akl', 1): 1, ('hyper', 1): 1, ('swam', 1): 1, ('ej', 0): 1, ('rave', 1): 1, ('gooseberri', 1): 1, ('wishh', 1): 1, ('overgrown', 0): 1, ('shmolan', 1): 1, ('ovechkin', 1): 1, ('nhl', 1): 1, ('urself', 1): 1, ('gin', 1): 1, ('whichev', 1): 1, ('nungguin', 1): 1, ('sista', 1): 1, ('lahiran', 1): 2, ('di', 1): 1, ('ini', 1): 1, ('goodi', 0): 1, ('instant', 0): 1, ('reread', 0): 1, ('musicmonday', 0): 1, ('plaster', 1): 1, ('panahra', 0): 1, ('wavv', 0): 1, ('paw', 1): 1, ('pdgg', 0): 1, ('hehaheahaa', 0): 1, ('wossi', 0): 1, ('hustlabal', 0): 1, ('prowler', 0): 1, ('unfortunat', 1): 1, ('nicci', 1): 1, ('abueltia', 1): 1, ('jitteri', 0): 1, ('tina', 0): 1, ('speedi', 1): 1, ('recoveri', 1): 1, ('cg', 1): 1, ('harleton', 0): 1, ('seein', 1): 1, ('baguio', 0): 1, ('nearest', 0): 1, ('suuck', 0): 1, ('vacin', 0): 1, ('geometri', 0): 1, ('sweeter', 1): 1, ('jayden', 1): 1, ('feria', 1): 1, ('urbana', 1): 1, ('enthusiast', 1): 1, ('slither', 0): 1, ('snake', 0): 1, ('creek', 0): 1, ('bioshock', 1): 2, ('victoria', 0): 1, ('bryan', 0): 1, ('amongst', 1): 1, ('flea', 1): 1, ('overreact', 0): 1, ('bangin', 1): 1, ('vibrant', 1): 1, ('cpeven', 1): 1, ('maricar', 1): 1, ('jst', 0): 1, ('excitth', 0): 1, ('pinhol', 1): 1, ('mar', 0): 1, ('stupidstupid', 0): 1, ('cha', 1): 1, ('sexin', 1): 1, ('hazi', 0): 1, ('pagin', 0): 1, ('listview', 0): 1, ('yourz', 1): 1, ('wacht', 0): 1, ('conced', 0): 1, ('explain', 1): 1, ('alkalin', 1): 1, ('buse', 1): 1, ('autograph', 1): 1, ('mononok', 1): 1, ('invest', 0): 1, ('ellipt', 0): 1, ('splint', 0): 1, ('lamin', 1): 1}\n"
          ]
        }
      ]
    },
    {
      "cell_type": "markdown",
      "source": [
        "#### Model fitting for TF-IDF"
      ],
      "metadata": {
        "id": "NxEgfhATPb3S"
      }
    },
    {
      "cell_type": "code",
      "source": [
        "tf = fit_tfidf(X_train)\n",
        "X_train_tf = tf.transform(X_train)\n",
        "X_test_tf = tf.transform(X_test)\n",
        "\n",
        "# Fit the Logistic Regression model on training data by using the fit_lr function\n",
        "model_lr_tf = fit_lr(X_train_tf, y_train)"
      ],
      "metadata": {
        "colab": {
          "base_uri": "https://localhost:8080/"
        },
        "id": "B7kmhx3EPVf7",
        "outputId": "e936e433-2452-4560-e7e3-28c19ef41bce"
      },
      "execution_count": null,
      "outputs": [
        {
          "output_type": "stream",
          "name": "stderr",
          "text": [
            "/usr/local/lib/python3.7/dist-packages/sklearn/feature_extraction/text.py:517: UserWarning: The parameter 'token_pattern' will not be used since 'tokenizer' is not None'\n",
            "  \"The parameter 'token_pattern' will not be used\"\n"
          ]
        }
      ]
    },
    {
      "cell_type": "markdown",
      "source": [
        "<img src='https://drive.google.com/uc?export=view&id=1GYj-wj-so8jQ9-VDz1ayehgVh39Jmd4H' width=650px>\n",
        "\n",
        "# `Section 4` Performance Metrics\n"
      ],
      "metadata": {
        "id": "92U7_xiKTwxc"
      }
    },
    {
      "cell_type": "code",
      "source": [
        "from sklearn.metrics import accuracy_score\n",
        "from sklearn.metrics import confusion_matrix"
      ],
      "metadata": {
        "id": "4lCEoGXoT6fu"
      },
      "execution_count": null,
      "outputs": []
    },
    {
      "cell_type": "markdown",
      "source": [
        "#### Predict count vectorizer(BoW)"
      ],
      "metadata": {
        "id": "uR6yYt0PT2zb"
      }
    },
    {
      "cell_type": "code",
      "source": [
        "y_pred_lr_cv = model_lr_cv.predict(X_test_cv)"
      ],
      "metadata": {
        "id": "YOMqOI8vTxP2"
      },
      "execution_count": null,
      "outputs": []
    },
    {
      "cell_type": "code",
      "source": [
        "print(\"LR Model Accuracy count vectorizer: {:.2%}\".format(accuracy_score(y_test, y_pred_lr_cv)))\n",
        "accuracy_lr_cv = accuracy_score(y_test, y_pred_lr_cv)"
      ],
      "metadata": {
        "colab": {
          "base_uri": "https://localhost:8080/"
        },
        "id": "Fr-kfU1BUOSS",
        "outputId": "10cf2dbd-8d34-4146-ef62-7a75da7af70d"
      },
      "execution_count": null,
      "outputs": [
        {
          "output_type": "stream",
          "name": "stdout",
          "text": [
            "LR Model Accuracy count vectorizer: 88.63%\n"
          ]
        }
      ]
    },
    {
      "cell_type": "code",
      "source": [
        "plot_confusion(confusion_matrix(y_test, y_pred_lr_cv))"
      ],
      "metadata": {
        "colab": {
          "base_uri": "https://localhost:8080/",
          "height": 367
        },
        "id": "6rVlt0QJWbGv",
        "outputId": "34294b75-17d4-4e46-eb1f-16ad8206e6ee"
      },
      "execution_count": null,
      "outputs": [
        {
          "output_type": "execute_result",
          "data": {
            "text/plain": [
              "<module 'seaborn' from '/usr/local/lib/python3.7/dist-packages/seaborn/__init__.py'>"
            ]
          },
          "metadata": {},
          "execution_count": 31
        },
        {
          "output_type": "display_data",
          "data": {
            "text/plain": [
              "<Figure size 360x360 with 2 Axes>"
            ],
            "image/png": "[encoded data removed]"
          },
          "metadata": {
            "needs_background": "light"
          }
        }
      ]
    },
    {
      "cell_type": "markdown",
      "source": [
        "#### predict POS/Neg frequencies"
      ],
      "metadata": {
        "id": "wkZ9Nbje7HuP"
      }
    },
    {
      "cell_type": "code",
      "source": [
        "y_pred_lr_pn = model_lr_pn.predict(X_test_pn)\n",
        "\n",
        "print(\"LR Model Accuracy Pos/Neg freq: {:.2%}\".format(accuracy_score(y_test, y_pred_lr_pn)))"
      ],
      "metadata": {
        "colab": {
          "base_uri": "https://localhost:8080/"
        },
        "id": "YtYiKSE07SuV",
        "outputId": "f6d4ee4e-d90d-4a3a-e6a8-3802475de118"
      },
      "execution_count": null,
      "outputs": [
        {
          "output_type": "stream",
          "name": "stdout",
          "text": [
            "LR Model Accuracy Pos/Neg freq: 78.32%\n"
          ]
        }
      ]
    },
    {
      "cell_type": "code",
      "source": [
        "plot_confusion(confusion_matrix(y_test, y_pred_lr_pn))"
      ],
      "metadata": {
        "colab": {
          "base_uri": "https://localhost:8080/",
          "height": 367
        },
        "id": "7SxvzBqW7e4k",
        "outputId": "145a62c7-9f24-44b7-a615-f03c3aef3f90"
      },
      "execution_count": null,
      "outputs": [
        {
          "output_type": "execute_result",
          "data": {
            "text/plain": [
              "<module 'seaborn' from '/usr/local/lib/python3.7/dist-packages/seaborn/__init__.py'>"
            ]
          },
          "metadata": {},
          "execution_count": 33
        },
        {
          "output_type": "display_data",
          "data": {
            "text/plain": [
              "<Figure size 360x360 with 2 Axes>"
            ],
            "image/png": "[encoded data removed]"
          },
          "metadata": {
            "needs_background": "light"
          }
        }
      ]
    },
    {
      "cell_type": "markdown",
      "source": [
        "#### predict TF-IDF"
      ],
      "metadata": {
        "id": "CGdtDIDCWhID"
      }
    },
    {
      "cell_type": "code",
      "source": [
        "# Use the fitted model_lr_tf (TF-IDF) to predict X_test\n",
        "y_pred_lr_tf = model_lr_tf.predict(X_test_tf)"
      ],
      "metadata": {
        "id": "dcxk8MvqWbg0"
      },
      "execution_count": null,
      "outputs": []
    },
    {
      "cell_type": "code",
      "source": [
        "print(\"LR Model Accuracy TF-IDF: {:.2%}\".format(accuracy_score(y_test, y_pred_lr_tf)))\n",
        "accuracy_lr_tf = accuracy_score(y_test, y_pred_lr_tf)"
      ],
      "metadata": {
        "colab": {
          "base_uri": "https://localhost:8080/"
        },
        "id": "4TFVtKPnWpEk",
        "outputId": "1bd0abf9-6715-4373-a9cd-8f9cf8bf93b2"
      },
      "execution_count": null,
      "outputs": [
        {
          "output_type": "stream",
          "name": "stdout",
          "text": [
            "LR Model Accuracy TF-IDF: 88.57%\n"
          ]
        }
      ]
    },
    {
      "cell_type": "code",
      "source": [
        "plot_confusion(confusion_matrix(y_test, y_pred_lr_tf))"
      ],
      "metadata": {
        "colab": {
          "base_uri": "https://localhost:8080/",
          "height": 367
        },
        "id": "eetrL1DQWum2",
        "outputId": "87afdbd9-0997-4c5c-a8e4-07d30f8d624f"
      },
      "execution_count": null,
      "outputs": [
        {
          "output_type": "execute_result",
          "data": {
            "text/plain": [
              "<module 'seaborn' from '/usr/local/lib/python3.7/dist-packages/seaborn/__init__.py'>"
            ]
          },
          "metadata": {},
          "execution_count": 36
        },
        {
          "output_type": "display_data",
          "data": {
            "text/plain": [
              "<Figure size 360x360 with 2 Axes>"
            ],
            "image/png": "[encoded data removed]"
          },
          "metadata": {
            "needs_background": "light"
          }
        }
      ]
    },
    {
      "cell_type": "markdown",
      "source": [
        "<img src='https://drive.google.com/uc?export=view&id=1GYj-wj-so8jQ9-VDz1ayehgVh39Jmd4H' width=250px>\n",
        "\n",
        "## Pipeline"
      ],
      "metadata": {
        "id": "9ABe92J0XQsE"
      }
    },
    {
      "cell_type": "code",
      "source": [
        "my_tweet = \"I feel great on a holiday\""
      ],
      "metadata": {
        "id": "WQXuKu6ZWxYw"
      },
      "execution_count": null,
      "outputs": []
    },
    {
      "cell_type": "code",
      "source": [
        "def predict_tweet(tweet):\n",
        "  processed_tweet = process_tweet(tweet)\n",
        "  transformed_tweet = tf.transform([processed_tweet])\n",
        "  prediction = model_lr_tf.predict(transformed_tweet)\n",
        "\n",
        "  if prediction == 1:\n",
        "    return \"Prediction is positive sentiment\"\n",
        "  else:\n",
        "    return \"Prediction is negative sentiment\""
      ],
      "metadata": {
        "id": "MO8agiIdXXSv"
      },
      "execution_count": null,
      "outputs": []
    },
    {
      "cell_type": "code",
      "source": [
        "predict_tweet(my_tweet)"
      ],
      "metadata": {
        "colab": {
          "base_uri": "https://localhost:8080/",
          "height": 35
        },
        "id": "IMACGofyXdJq",
        "outputId": "cf5ee259-47ff-47de-ed4d-77d80ef7a1c3"
      },
      "execution_count": null,
      "outputs": [
        {
          "output_type": "execute_result",
          "data": {
            "text/plain": [
              "'Prediction is positive sentiment'"
            ],
            "application/vnd.google.colaboratory.intrinsic+json": {
              "type": "string"
            }
          },
          "metadata": {},
          "execution_count": 39
        }
      ]
    },
    {
      "cell_type": "markdown",
      "source": [
        "<img src='https://drive.google.com/uc?export=view&id=1GYj-wj-so8jQ9-VDz1ayehgVh39Jmd4H' width=650px>\n",
        "\n",
        "# Misc"
      ],
      "metadata": {
        "id": "wK0bsgao9DlK"
      }
    },
    {
      "cell_type": "markdown",
      "source": [
        "#### Naive Bayes"
      ],
      "metadata": {
        "id": "RU2f4pQq9K7f"
      }
    },
    {
      "cell_type": "code",
      "source": [
        "from sklearn.naive_bayes import GaussianNB\n",
        "def fit_nb(X_train, y_train):\n",
        "  model = GaussianNB()\n",
        "  model.fit(X_train, y_train)\n",
        "  return model"
      ],
      "metadata": {
        "id": "wCnc6UIEwBoF"
      },
      "execution_count": null,
      "outputs": []
    },
    {
      "cell_type": "markdown",
      "source": [
        "Bag Of words - NB\n"
      ],
      "metadata": {
        "id": "SX8OFqo5E1kK"
      }
    },
    {
      "cell_type": "code",
      "source": [
        "cv = fit_cv(X_train)\n",
        "X_train_cv = cv.transform(X_train)\n",
        "X_test_cv = cv.transform(X_test)\n",
        "\n",
        "# Fit the Logistic Regression model on training data by using the fit_nb function\n",
        "model_nb_cv = fit_nb(X_train_cv.toarray(), y_train)\n",
        "\n",
        "X_train_cv"
      ],
      "metadata": {
        "colab": {
          "base_uri": "https://localhost:8080/"
        },
        "id": "tceDO2DFxI7f",
        "outputId": "0fdd43cb-845e-4567-ecb7-e4a4b499c311"
      },
      "execution_count": null,
      "outputs": [
        {
          "output_type": "stream",
          "name": "stderr",
          "text": [
            "/usr/local/lib/python3.7/dist-packages/sklearn/feature_extraction/text.py:517: UserWarning: The parameter 'token_pattern' will not be used since 'tokenizer' is not None'\n",
            "  \"The parameter 'token_pattern' will not be used\"\n"
          ]
        },
        {
          "output_type": "execute_result",
          "data": {
            "text/plain": [
              "<14981x11823 sparse matrix of type '<class 'numpy.int64'>'\n",
              "\twith 104286 stored elements in Compressed Sparse Row format>"
            ]
          },
          "metadata": {},
          "execution_count": 41
        }
      ]
    },
    {
      "cell_type": "code",
      "source": [
        "y_pred_nb_cv = model_nb_cv.predict(X_test_cv.toarray())"
      ],
      "metadata": {
        "id": "p4HTQy2XxI_P"
      },
      "execution_count": null,
      "outputs": []
    },
    {
      "cell_type": "code",
      "source": [
        "print(\"NB Model Accuracy count vectorizer: {:.2%}\".format(accuracy_score(y_test, y_pred_nb_cv)))\n",
        "accuracy_nb_cv = accuracy_score(y_test, y_pred_nb_cv)"
      ],
      "metadata": {
        "colab": {
          "base_uri": "https://localhost:8080/"
        },
        "id": "wDicEiVExJDF",
        "outputId": "2da8d327-87a6-4f6f-d6aa-6bfc5c269e7a"
      },
      "execution_count": null,
      "outputs": [
        {
          "output_type": "stream",
          "name": "stdout",
          "text": [
            "NB Model Accuracy count vectorizer: 58.60%\n"
          ]
        }
      ]
    },
    {
      "cell_type": "markdown",
      "source": [
        "TF-IDF For Naive Bayes\n"
      ],
      "metadata": {
        "id": "QNeyOEHNEfKW"
      }
    },
    {
      "cell_type": "code",
      "source": [
        "tf = fit_tfidf(X_train)\n",
        "X_train_tf = tf.transform(X_train)\n",
        "X_test_tf = tf.transform(X_test)\n",
        "\n",
        "# Fit the Naive Bayes model on training data by using the fit_nb function\n",
        "model_nb_tf = fit_nb(X_train_tf.toarray(), y_train)"
      ],
      "metadata": {
        "colab": {
          "base_uri": "https://localhost:8080/"
        },
        "id": "pzsU8SfqC00q",
        "outputId": "15b04cbb-8d8d-47a8-e932-8440cb7c0ef3"
      },
      "execution_count": null,
      "outputs": [
        {
          "output_type": "stream",
          "name": "stderr",
          "text": [
            "/usr/local/lib/python3.7/dist-packages/sklearn/feature_extraction/text.py:517: UserWarning: The parameter 'token_pattern' will not be used since 'tokenizer' is not None'\n",
            "  \"The parameter 'token_pattern' will not be used\"\n"
          ]
        }
      ]
    },
    {
      "cell_type": "code",
      "source": [
        "y_pred_nb_tf = model_nb_tf.predict(X_test_tf.toarray())"
      ],
      "metadata": {
        "id": "pkkC1p4PDnJB"
      },
      "execution_count": null,
      "outputs": []
    },
    {
      "cell_type": "code",
      "source": [
        "print(\"NB Model Accuracy TF-IDF: {:.2%}\".format(accuracy_score(y_test, y_pred_nb_tf)))\n",
        "accuracy_nb_tf = accuracy_score(y_test, y_pred_nb_tf)"
      ],
      "metadata": {
        "colab": {
          "base_uri": "https://localhost:8080/"
        },
        "id": "QjMly6OYEA3t",
        "outputId": "29c4ea41-221d-4727-a278-d35fdfdb2f03"
      },
      "execution_count": null,
      "outputs": [
        {
          "output_type": "stream",
          "name": "stdout",
          "text": [
            "NB Model Accuracy TF-IDF: 60.97%\n"
          ]
        }
      ]
    },
    {
      "cell_type": "markdown",
      "source": [
        "#### Decision Tree"
      ],
      "metadata": {
        "id": "G49hmxDW-G6S"
      }
    },
    {
      "cell_type": "code",
      "source": [
        "from sklearn import tree\n",
        "\n",
        "def fit_dt(X_train, y_train):\n",
        "  model = tree.DecisionTreeClassifier()\n",
        "  model.fit(X_train, y_train)\n",
        "  return model"
      ],
      "metadata": {
        "id": "ZdHXFJ_--Frh"
      },
      "execution_count": null,
      "outputs": []
    },
    {
      "cell_type": "markdown",
      "source": [
        "BAg of words - dt"
      ],
      "metadata": {
        "id": "7DuAA0rzFRdU"
      }
    },
    {
      "cell_type": "code",
      "source": [
        "# Fit the Decision Tree model on training data by using the fit_dt function\n",
        "cv = fit_cv(X_train)\n",
        "X_train_dt = cv.transform(X_train)\n",
        "X_test_dt = cv.transform(X_test)\n",
        "\n",
        "# Fit the Decsion Tree model on training data by using the fit_dt function\n",
        "model_dt_cv = fit_dt(X_train_dt, y_train)\n",
        "\n"
      ],
      "metadata": {
        "colab": {
          "base_uri": "https://localhost:8080/"
        },
        "id": "PmpunOsF-h2z",
        "outputId": "1296efbd-52fa-4cea-9300-7a52bd3b3639"
      },
      "execution_count": null,
      "outputs": [
        {
          "output_type": "stream",
          "name": "stderr",
          "text": [
            "/usr/local/lib/python3.7/dist-packages/sklearn/feature_extraction/text.py:517: UserWarning: The parameter 'token_pattern' will not be used since 'tokenizer' is not None'\n",
            "  \"The parameter 'token_pattern' will not be used\"\n"
          ]
        }
      ]
    },
    {
      "cell_type": "code",
      "source": [
        "y_pred_dt_cv = model_dt_cv.predict(X_test_cv.toarray())"
      ],
      "metadata": {
        "id": "3ajY8BqTFsDc"
      },
      "execution_count": null,
      "outputs": []
    },
    {
      "cell_type": "code",
      "source": [
        "print(\"DT Model Accuracy count vectorizer: {:.2%}\".format(accuracy_score(y_test, y_pred_dt_cv)))\n",
        "accuracy_dt_cv = accuracy_score(y_test, y_pred_dt_cv)"
      ],
      "metadata": {
        "colab": {
          "base_uri": "https://localhost:8080/"
        },
        "outputId": "d94d60fd-03ae-45f9-9b2e-2a4a5a866e8d",
        "id": "XmUUGbObFzi6"
      },
      "execution_count": null,
      "outputs": [
        {
          "output_type": "stream",
          "name": "stdout",
          "text": [
            "DT Model Accuracy count vectorizer: 83.80%\n"
          ]
        }
      ]
    },
    {
      "cell_type": "markdown",
      "source": [
        "TF IDF - DT"
      ],
      "metadata": {
        "id": "bbkJOl4pF9ea"
      }
    },
    {
      "cell_type": "code",
      "source": [
        "tf = fit_tfidf(X_train)\n",
        "X_train_tf = tf.transform(X_train)\n",
        "X_test_tf = tf.transform(X_test)\n",
        "\n",
        "# Fit the decision Tree model on training data by using the fit_dt function\n",
        "model_dt_tf = fit_dt(X_train_tf.toarray(), y_train)"
      ],
      "metadata": {
        "colab": {
          "base_uri": "https://localhost:8080/"
        },
        "outputId": "1dd179ab-908a-4482-e0f2-dfcbdbaca41f",
        "id": "_bwjLnAEGDRW"
      },
      "execution_count": null,
      "outputs": [
        {
          "output_type": "stream",
          "name": "stderr",
          "text": [
            "/usr/local/lib/python3.7/dist-packages/sklearn/feature_extraction/text.py:517: UserWarning: The parameter 'token_pattern' will not be used since 'tokenizer' is not None'\n",
            "  \"The parameter 'token_pattern' will not be used\"\n"
          ]
        }
      ]
    },
    {
      "cell_type": "code",
      "source": [
        "y_pred_dt_tf = model_dt_tf.predict(X_test_tf.toarray())"
      ],
      "metadata": {
        "id": "_z_6BX1gGWC7"
      },
      "execution_count": null,
      "outputs": []
    },
    {
      "cell_type": "code",
      "source": [
        "print(\"DT Model Accuracy TF-IDF: {:.2%}\".format(accuracy_score(y_test, y_pred_dt_tf)))\n",
        "accuracy_dt_tf = accuracy_score(y_test, y_pred_dt_tf)"
      ],
      "metadata": {
        "colab": {
          "base_uri": "https://localhost:8080/"
        },
        "outputId": "d02bf417-1ada-46fe-ad0e-0f76a9f79df0",
        "id": "aKHgA-8VGeHs"
      },
      "execution_count": null,
      "outputs": [
        {
          "output_type": "stream",
          "name": "stdout",
          "text": [
            "DT Model Accuracy TF-IDF: 83.16%\n"
          ]
        }
      ]
    },
    {
      "cell_type": "markdown",
      "source": [
        "Random Forest"
      ],
      "metadata": {
        "id": "m0V3pADMKbo2"
      }
    },
    {
      "cell_type": "code",
      "source": [
        "from sklearn.ensemble import RandomForestClassifier\n",
        "def fit_rf(X_train, y_train):\n",
        "  model = tree.DecisionTreeClassifier()\n",
        "  model.fit(X_train, y_train)\n",
        "  return model"
      ],
      "metadata": {
        "id": "Hh6dIfV6Kdwa"
      },
      "execution_count": null,
      "outputs": []
    },
    {
      "cell_type": "markdown",
      "source": [
        "Bag of words - RF"
      ],
      "metadata": {
        "id": "d3edxgNxLIcf"
      }
    },
    {
      "cell_type": "code",
      "source": [
        "# Fit the Random Forest model on training data by using the fit_dt function\n",
        "cv = fit_cv(X_train)\n",
        "X_train_dt = cv.transform(X_train)\n",
        "X_test_dt = cv.transform(X_test)\n",
        "\n",
        "# Fit the Random Forest model on training data by using the fit_dt function\n",
        "model_rf_cv = fit_rf(X_train_dt, y_train)"
      ],
      "metadata": {
        "colab": {
          "base_uri": "https://localhost:8080/"
        },
        "id": "85QcRSaDK76c",
        "outputId": "b3681b8b-ea3e-43d4-9876-14472284035a"
      },
      "execution_count": null,
      "outputs": [
        {
          "output_type": "stream",
          "name": "stderr",
          "text": [
            "/usr/local/lib/python3.7/dist-packages/sklearn/feature_extraction/text.py:517: UserWarning: The parameter 'token_pattern' will not be used since 'tokenizer' is not None'\n",
            "  \"The parameter 'token_pattern' will not be used\"\n"
          ]
        }
      ]
    },
    {
      "cell_type": "code",
      "source": [
        "y_pred_rf_cv = model_rf_cv.predict(X_test_cv.toarray())"
      ],
      "metadata": {
        "id": "wKKw-CdyLLA2"
      },
      "execution_count": null,
      "outputs": []
    },
    {
      "cell_type": "code",
      "source": [
        "print(\"RF Model Accuracy count vectorizer: {:.2%}\".format(accuracy_score(y_test, y_pred_rf_cv)))\n",
        "accuracy_rf_cv = accuracy_score(y_test, y_pred_rf_cv)"
      ],
      "metadata": {
        "colab": {
          "base_uri": "https://localhost:8080/"
        },
        "id": "i9myLHdNLSP-",
        "outputId": "af32f4fe-e96d-4e9f-b597-aed359809b03"
      },
      "execution_count": null,
      "outputs": [
        {
          "output_type": "stream",
          "name": "stdout",
          "text": [
            "RF Model Accuracy count vectorizer: 83.77%\n"
          ]
        }
      ]
    },
    {
      "cell_type": "markdown",
      "source": [
        "TF-IDF - RF\n"
      ],
      "metadata": {
        "id": "ujvAKQeRLoAL"
      }
    },
    {
      "cell_type": "code",
      "source": [
        "tf = fit_tfidf(X_train)\n",
        "X_train_tf = tf.transform(X_train)\n",
        "X_test_tf = tf.transform(X_test)\n",
        "\n",
        "# Fit the Logistic Regression model on training data by using the fit_nb function\n",
        "model_rf_tf = fit_rf(X_train_tf.toarray(), y_train)"
      ],
      "metadata": {
        "colab": {
          "base_uri": "https://localhost:8080/"
        },
        "id": "SVgIMKhdLiiF",
        "outputId": "0903ba3f-de48-4ac5-9ed7-dc3ed28a90d6"
      },
      "execution_count": null,
      "outputs": [
        {
          "output_type": "stream",
          "name": "stderr",
          "text": [
            "/usr/local/lib/python3.7/dist-packages/sklearn/feature_extraction/text.py:517: UserWarning: The parameter 'token_pattern' will not be used since 'tokenizer' is not None'\n",
            "  \"The parameter 'token_pattern' will not be used\"\n"
          ]
        }
      ]
    },
    {
      "cell_type": "code",
      "source": [
        "y_pred_rf_tf = model_rf_tf.predict(X_test_tf.toarray())"
      ],
      "metadata": {
        "id": "q2S97uLSLwOi"
      },
      "execution_count": null,
      "outputs": []
    },
    {
      "cell_type": "code",
      "source": [
        "print(\"RF Model Accuracy TF-IDF: {:.2%}\".format(accuracy_score(y_test, y_pred_rf_tf)))\n",
        "accuracy_rf_tf = accuracy_score(y_test, y_pred_rf_tf)"
      ],
      "metadata": {
        "colab": {
          "base_uri": "https://localhost:8080/"
        },
        "id": "Jvn9JSUqL6lB",
        "outputId": "92134018-89b3-4d5e-bf33-6ac13db4079e"
      },
      "execution_count": null,
      "outputs": [
        {
          "output_type": "stream",
          "name": "stdout",
          "text": [
            "RF Model Accuracy TF-IDF: 82.30%\n"
          ]
        }
      ]
    },
    {
      "cell_type": "markdown",
      "source": [
        "Comparison of Tf-IDF of models"
      ],
      "metadata": {
        "id": "SEB9AjeOG4MK"
      }
    },
    {
      "cell_type": "code",
      "source": [
        "ax = plt.subplot(111)\n",
        "ax.set_title('TF-IDF Accuracy')\n",
        "plt.ylabel('Accuracy')\n",
        "models = ['Logistic Reg','Naive Bayes','Decision Tree','Random Forest']\n",
        "values = [accuracy_lr_tf,accuracy_nb_tf,accuracy_dt_tf,accuracy_rf_tf]\n",
        "model = np.arange(len(models))\n",
        "plt.bar(model,values,align='center',width=0.10,alpha=0.7,color='#2596be')\n",
        "plt.xticks (model,models)\n"
      ],
      "metadata": {
        "colab": {
          "base_uri": "https://localhost:8080/",
          "height": 420
        },
        "id": "0Xyp3ch6G6S5",
        "outputId": "c61a44c7-abd9-4389-96b2-7ab4cce9920d"
      },
      "execution_count": null,
      "outputs": [
        {
          "output_type": "execute_result",
          "data": {
            "text/plain": [
              "([<matplotlib.axis.XTick at 0x7f8871cf9790>,\n",
              "  <matplotlib.axis.XTick at 0x7f88717fc6d0>,\n",
              "  <matplotlib.axis.XTick at 0x7f88717fcf50>,\n",
              "  <matplotlib.axis.XTick at 0x7f8870f5db50>],\n",
              " [Text(0, 0, 'Logistic Reg'),\n",
              "  Text(0, 0, 'Naive Bayes'),\n",
              "  Text(0, 0, 'Decision Tree'),\n",
              "  Text(0, 0, 'Random Forest')])"
            ]
          },
          "metadata": {},
          "execution_count": 61
        },
        {
          "output_type": "display_data",
          "data": {
            "text/plain": [
              "<Figure size 432x288 with 1 Axes>"
            ],
            "image/png": "[encoded data removed]"
          },
          "metadata": {
            "needs_background": "light"
          }
        }
      ]
    },
    {
      "cell_type": "markdown",
      "source": [
        "Comparison of BOW"
      ],
      "metadata": {
        "id": "5cq-AED7Omb9"
      }
    },
    {
      "cell_type": "code",
      "source": [
        "ax = plt.subplot(111)\n",
        "ax.set_title('BoW Accuracy')\n",
        "models = ['Logistic Reg','Naive Bayes','Decision Tree','Random Forest']\n",
        "values = [accuracy_lr_cv,accuracy_nb_cv,accuracy_dt_cv,accuracy_rf_cv]\n",
        "plt.ylabel('Accuracy')\n",
        "model = np.arange(len(models))\n",
        "plt.bar(model,values,align='center',width=0.10,alpha=0.7,color='#e28743')\n",
        "plt.xticks (model,models)"
      ],
      "metadata": {
        "colab": {
          "base_uri": "https://localhost:8080/",
          "height": 420
        },
        "id": "ZaT2xznROoho",
        "outputId": "386d1c03-3d55-4478-8776-471cb364e67c"
      },
      "execution_count": null,
      "outputs": [
        {
          "output_type": "execute_result",
          "data": {
            "text/plain": [
              "([<matplotlib.axis.XTick at 0x7f8870f7ca90>,\n",
              "  <matplotlib.axis.XTick at 0x7f8870f7f110>,\n",
              "  <matplotlib.axis.XTick at 0x7f8870f7cc50>,\n",
              "  <matplotlib.axis.XTick at 0x7f8870f1f290>],\n",
              " [Text(0, 0, 'Logistic Reg'),\n",
              "  Text(0, 0, 'Naive Bayes'),\n",
              "  Text(0, 0, 'Decision Tree'),\n",
              "  Text(0, 0, 'Random Forest')])"
            ]
          },
          "metadata": {},
          "execution_count": 62
        },
        {
          "output_type": "display_data",
          "data": {
            "text/plain": [
              "<Figure size 432x288 with 1 Axes>"
            ],
            "image/png": "[encoded data removed]"
          },
          "metadata": {
            "needs_background": "light"
          }
        }
      ]
    }
  ]
}